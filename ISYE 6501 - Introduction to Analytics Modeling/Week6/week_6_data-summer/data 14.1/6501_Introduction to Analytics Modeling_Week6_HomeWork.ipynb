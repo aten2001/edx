{
 "cells": [
  {
   "cell_type": "markdown",
   "metadata": {},
   "source": [
    "# Homework 6 - Week 6"
   ]
  },
  {
   "cell_type": "markdown",
   "metadata": {},
   "source": [
    "#### Question 14.1\n",
    "\n",
    "\n",
    "The breast cancer data set breast-cancer-wisconsin.data.txt from http://archive.ics.uci.edu/ml/machine-learning-databases/breast-cancer-wisconsin/\n",
    "(description at http://archive.ics.uci.edu/ml/datasets/Breast+Cancer+Wisconsin+%28Original%29 ) has missing values.\n",
    "1. Use the mean/mode imputation method to impute values for the missing data.\n",
    "2. Use regression to impute values for the missing data.\n",
    "3. Use regression with perturbation to impute values for the missing data.\n",
    "4. (Optional) Compare the results and quality of classification models (e.g., SVM, KNN) build using\n",
    "    1. the data sets from questions 1,2,3;\n",
    "    2. the data that remains after data points with missing values are removed; and\n",
    "    3. the data set when a binary variable is introduced to indicate missing values."
   ]
  },
  {
   "cell_type": "markdown",
   "metadata": {},
   "source": [
    "**First I have used mean impuation method, then mode imputation, then using regression to impute missing data, and lastly with\n",
    "perturbation to impute the missing data. I have tried to check the accuracy of the imputed data by checking the model accuracy of a regression model created using the imputed data.**"
   ]
  },
  {
   "cell_type": "code",
   "execution_count": 1,
   "metadata": {},
   "outputs": [
    {
     "data": {
      "text/html": [
       "<table>\n",
       "<thead><tr><th scope=col>V1</th><th scope=col>V2</th><th scope=col>V3</th><th scope=col>V4</th><th scope=col>V5</th><th scope=col>V6</th><th scope=col>V7</th><th scope=col>V8</th><th scope=col>V9</th><th scope=col>V10</th><th scope=col>V11</th></tr></thead>\n",
       "<tbody>\n",
       "\t<tr><td>1000025</td><td>5      </td><td> 1     </td><td> 1     </td><td>1      </td><td>2      </td><td> 1     </td><td>3      </td><td>1      </td><td>1      </td><td>2      </td></tr>\n",
       "\t<tr><td>1002945</td><td>5      </td><td> 4     </td><td> 4     </td><td>5      </td><td>7      </td><td>10     </td><td>3      </td><td>2      </td><td>1      </td><td>2      </td></tr>\n",
       "\t<tr><td>1015425</td><td>3      </td><td> 1     </td><td> 1     </td><td>1      </td><td>2      </td><td> 2     </td><td>3      </td><td>1      </td><td>1      </td><td>2      </td></tr>\n",
       "\t<tr><td>1016277</td><td>6      </td><td> 8     </td><td> 8     </td><td>1      </td><td>3      </td><td> 4     </td><td>3      </td><td>7      </td><td>1      </td><td>2      </td></tr>\n",
       "\t<tr><td>1017023</td><td>4      </td><td> 1     </td><td> 1     </td><td>3      </td><td>2      </td><td> 1     </td><td>3      </td><td>1      </td><td>1      </td><td>2      </td></tr>\n",
       "\t<tr><td>1017122</td><td>8      </td><td>10     </td><td>10     </td><td>8      </td><td>7      </td><td>10     </td><td>9      </td><td>7      </td><td>1      </td><td>4      </td></tr>\n",
       "</tbody>\n",
       "</table>\n"
      ],
      "text/latex": [
       "\\begin{tabular}{r|lllllllllll}\n",
       " V1 & V2 & V3 & V4 & V5 & V6 & V7 & V8 & V9 & V10 & V11\\\\\n",
       "\\hline\n",
       "\t 1000025 & 5       &  1      &  1      & 1       & 2       &  1      & 3       & 1       & 1       & 2      \\\\\n",
       "\t 1002945 & 5       &  4      &  4      & 5       & 7       & 10      & 3       & 2       & 1       & 2      \\\\\n",
       "\t 1015425 & 3       &  1      &  1      & 1       & 2       &  2      & 3       & 1       & 1       & 2      \\\\\n",
       "\t 1016277 & 6       &  8      &  8      & 1       & 3       &  4      & 3       & 7       & 1       & 2      \\\\\n",
       "\t 1017023 & 4       &  1      &  1      & 3       & 2       &  1      & 3       & 1       & 1       & 2      \\\\\n",
       "\t 1017122 & 8       & 10      & 10      & 8       & 7       & 10      & 9       & 7       & 1       & 4      \\\\\n",
       "\\end{tabular}\n"
      ],
      "text/markdown": [
       "\n",
       "| V1 | V2 | V3 | V4 | V5 | V6 | V7 | V8 | V9 | V10 | V11 |\n",
       "|---|---|---|---|---|---|---|---|---|---|---|\n",
       "| 1000025 | 5       |  1      |  1      | 1       | 2       |  1      | 3       | 1       | 1       | 2       |\n",
       "| 1002945 | 5       |  4      |  4      | 5       | 7       | 10      | 3       | 2       | 1       | 2       |\n",
       "| 1015425 | 3       |  1      |  1      | 1       | 2       |  2      | 3       | 1       | 1       | 2       |\n",
       "| 1016277 | 6       |  8      |  8      | 1       | 3       |  4      | 3       | 7       | 1       | 2       |\n",
       "| 1017023 | 4       |  1      |  1      | 3       | 2       |  1      | 3       | 1       | 1       | 2       |\n",
       "| 1017122 | 8       | 10      | 10      | 8       | 7       | 10      | 9       | 7       | 1       | 4       |\n",
       "\n"
      ],
      "text/plain": [
       "  V1      V2 V3 V4 V5 V6 V7 V8 V9 V10 V11\n",
       "1 1000025 5   1  1 1  2   1 3  1  1   2  \n",
       "2 1002945 5   4  4 5  7  10 3  2  1   2  \n",
       "3 1015425 3   1  1 1  2   2 3  1  1   2  \n",
       "4 1016277 6   8  8 1  3   4 3  7  1   2  \n",
       "5 1017023 4   1  1 3  2   1 3  1  1   2  \n",
       "6 1017122 8  10 10 8  7  10 9  7  1   4  "
      ]
     },
     "metadata": {},
     "output_type": "display_data"
    }
   ],
   "source": [
    "cancer_data <- read.table(\"breast-cancer-wisconsin.data.txt\", sep = \",\",na = c('?'))\n",
    "head(cancer_data)"
   ]
  },
  {
   "cell_type": "code",
   "execution_count": 2,
   "metadata": {},
   "outputs": [],
   "source": [
    "cancer_data$V11[which(cancer_data$V11 == 2)] = \"Benign\"\n",
    "cancer_data$V11[which(cancer_data$V11 == 4)] = \"Malignant\""
   ]
  },
  {
   "cell_type": "code",
   "execution_count": 3,
   "metadata": {},
   "outputs": [
    {
     "data": {
      "text/plain": [
       "       V1                 V2               V3               V4        \n",
       " Min.   :   61634   Min.   : 1.000   Min.   : 1.000   Min.   : 1.000  \n",
       " 1st Qu.:  870688   1st Qu.: 2.000   1st Qu.: 1.000   1st Qu.: 1.000  \n",
       " Median : 1171710   Median : 4.000   Median : 1.000   Median : 1.000  \n",
       " Mean   : 1071704   Mean   : 4.418   Mean   : 3.134   Mean   : 3.207  \n",
       " 3rd Qu.: 1238298   3rd Qu.: 6.000   3rd Qu.: 5.000   3rd Qu.: 5.000  \n",
       " Max.   :13454352   Max.   :10.000   Max.   :10.000   Max.   :10.000  \n",
       "                                                                      \n",
       "       V5               V6               V7               V8        \n",
       " Min.   : 1.000   Min.   : 1.000   Min.   : 1.000   Min.   : 1.000  \n",
       " 1st Qu.: 1.000   1st Qu.: 2.000   1st Qu.: 1.000   1st Qu.: 2.000  \n",
       " Median : 1.000   Median : 2.000   Median : 1.000   Median : 3.000  \n",
       " Mean   : 2.807   Mean   : 3.216   Mean   : 3.545   Mean   : 3.438  \n",
       " 3rd Qu.: 4.000   3rd Qu.: 4.000   3rd Qu.: 6.000   3rd Qu.: 5.000  \n",
       " Max.   :10.000   Max.   :10.000   Max.   :10.000   Max.   :10.000  \n",
       "                                   NA's   :16                       \n",
       "       V9              V10             V11           \n",
       " Min.   : 1.000   Min.   : 1.000   Length:699        \n",
       " 1st Qu.: 1.000   1st Qu.: 1.000   Class :character  \n",
       " Median : 1.000   Median : 1.000   Mode  :character  \n",
       " Mean   : 2.867   Mean   : 1.589                     \n",
       " 3rd Qu.: 4.000   3rd Qu.: 1.000                     \n",
       " Max.   :10.000   Max.   :10.000                     \n",
       "                                                     "
      ]
     },
     "metadata": {},
     "output_type": "display_data"
    }
   ],
   "source": [
    "summary(cancer_data)"
   ]
  },
  {
   "cell_type": "markdown",
   "metadata": {},
   "source": [
    "**Apparently V7 has 16 missing values. Next, Lets calculate percent of missing data**"
   ]
  },
  {
   "cell_type": "code",
   "execution_count": 4,
   "metadata": {},
   "outputs": [
    {
     "data": {
      "text/html": [
       "<dl class=dl-horizontal>\n",
       "\t<dt>V1</dt>\n",
       "\t\t<dd>0</dd>\n",
       "\t<dt>V2</dt>\n",
       "\t\t<dd>0</dd>\n",
       "\t<dt>V3</dt>\n",
       "\t\t<dd>0</dd>\n",
       "\t<dt>V4</dt>\n",
       "\t\t<dd>0</dd>\n",
       "\t<dt>V5</dt>\n",
       "\t\t<dd>0</dd>\n",
       "\t<dt>V6</dt>\n",
       "\t\t<dd>0</dd>\n",
       "\t<dt>V7</dt>\n",
       "\t\t<dd>2.28898426323319</dd>\n",
       "\t<dt>V8</dt>\n",
       "\t\t<dd>0</dd>\n",
       "\t<dt>V9</dt>\n",
       "\t\t<dd>0</dd>\n",
       "\t<dt>V10</dt>\n",
       "\t\t<dd>0</dd>\n",
       "\t<dt>V11</dt>\n",
       "\t\t<dd>0</dd>\n",
       "</dl>\n"
      ],
      "text/latex": [
       "\\begin{description*}\n",
       "\\item[V1] 0\n",
       "\\item[V2] 0\n",
       "\\item[V3] 0\n",
       "\\item[V4] 0\n",
       "\\item[V5] 0\n",
       "\\item[V6] 0\n",
       "\\item[V7] 2.28898426323319\n",
       "\\item[V8] 0\n",
       "\\item[V9] 0\n",
       "\\item[V10] 0\n",
       "\\item[V11] 0\n",
       "\\end{description*}\n"
      ],
      "text/markdown": [
       "V1\n",
       ":   0V2\n",
       ":   0V3\n",
       ":   0V4\n",
       ":   0V5\n",
       ":   0V6\n",
       ":   0V7\n",
       ":   2.28898426323319V8\n",
       ":   0V9\n",
       ":   0V10\n",
       ":   0V11\n",
       ":   0\n",
       "\n"
      ],
      "text/plain": [
       "      V1       V2       V3       V4       V5       V6       V7       V8 \n",
       "0.000000 0.000000 0.000000 0.000000 0.000000 0.000000 2.288984 0.000000 \n",
       "      V9      V10      V11 \n",
       "0.000000 0.000000 0.000000 "
      ]
     },
     "metadata": {},
     "output_type": "display_data"
    }
   ],
   "source": [
    "percent_miss <- function(x){sum(is.na(x))/length(x)*100}\n",
    "apply(cancer_data, 2, percent_miss)"
   ]
  },
  {
   "cell_type": "markdown",
   "metadata": {},
   "source": [
    "**So thats about 2.29% of data that is missing**\n",
    "\n",
    "\n",
    "**Using library(mice) for looking at missing data pattern.**"
   ]
  },
  {
   "cell_type": "code",
   "execution_count": 6,
   "metadata": {},
   "outputs": [],
   "source": [
    "library(mice)"
   ]
  },
  {
   "cell_type": "code",
   "execution_count": 7,
   "metadata": {},
   "outputs": [
    {
     "data": {
      "text/html": [
       "<table>\n",
       "<thead><tr><th></th><th scope=col>V1</th><th scope=col>V2</th><th scope=col>V3</th><th scope=col>V4</th><th scope=col>V5</th><th scope=col>V6</th><th scope=col>V8</th><th scope=col>V9</th><th scope=col>V10</th><th scope=col>V11</th><th scope=col>V7</th><th scope=col></th></tr></thead>\n",
       "<tbody>\n",
       "\t<tr><th scope=row>683</th><td>1 </td><td>1 </td><td>1 </td><td>1 </td><td>1 </td><td>1 </td><td>1 </td><td>1 </td><td>1 </td><td>1 </td><td> 1</td><td> 0</td></tr>\n",
       "\t<tr><th scope=row>16</th><td>1 </td><td>1 </td><td>1 </td><td>1 </td><td>1 </td><td>1 </td><td>1 </td><td>1 </td><td>1 </td><td>1 </td><td> 0</td><td> 1</td></tr>\n",
       "\t<tr><th scope=row></th><td>0 </td><td>0 </td><td>0 </td><td>0 </td><td>0 </td><td>0 </td><td>0 </td><td>0 </td><td>0 </td><td>0 </td><td>16</td><td>16</td></tr>\n",
       "</tbody>\n",
       "</table>\n"
      ],
      "text/latex": [
       "\\begin{tabular}{r|llllllllllll}\n",
       "  & V1 & V2 & V3 & V4 & V5 & V6 & V8 & V9 & V10 & V11 & V7 & \\\\\n",
       "\\hline\n",
       "\t683 & 1  & 1  & 1  & 1  & 1  & 1  & 1  & 1  & 1  & 1  &  1 &  0\\\\\n",
       "\t16 & 1  & 1  & 1  & 1  & 1  & 1  & 1  & 1  & 1  & 1  &  0 &  1\\\\\n",
       "\t & 0  & 0  & 0  & 0  & 0  & 0  & 0  & 0  & 0  & 0  & 16 & 16\\\\\n",
       "\\end{tabular}\n"
      ],
      "text/markdown": [
       "\n",
       "| <!--/--> | V1 | V2 | V3 | V4 | V5 | V6 | V8 | V9 | V10 | V11 | V7 |  |\n",
       "|---|---|---|---|---|---|---|---|---|---|---|---|---|\n",
       "| 683 | 1  | 1  | 1  | 1  | 1  | 1  | 1  | 1  | 1  | 1  |  1 |  0 |\n",
       "| 16 | 1  | 1  | 1  | 1  | 1  | 1  | 1  | 1  | 1  | 1  |  0 |  1 |\n",
       "|  | 0  | 0  | 0  | 0  | 0  | 0  | 0  | 0  | 0  | 0  | 16 | 16 |\n",
       "\n"
      ],
      "text/plain": [
       "    V1 V2 V3 V4 V5 V6 V8 V9 V10 V11 V7   \n",
       "683 1  1  1  1  1  1  1  1  1   1    1  0\n",
       "16  1  1  1  1  1  1  1  1  1   1    0  1\n",
       "    0  0  0  0  0  0  0  0  0   0   16 16"
      ]
     },
     "metadata": {},
     "output_type": "display_data"
    },
    {
     "data": {
      "image/png": "[encoded data removed]",
      "text/plain": [
       "plot without title"
      ]
     },
     "metadata": {},
     "output_type": "display_data"
    }
   ],
   "source": [
    "md.pattern(cancer_data)"
   ]
  },
  {
   "cell_type": "markdown",
   "metadata": {},
   "source": [
    "**The output tells us that 683 samples are complete, 16 samples miss only in V7 (Bare Nuclei). Next, I am going to visualize this using the VIM package**"
   ]
  },
  {
   "cell_type": "code",
   "execution_count": 9,
   "metadata": {},
   "outputs": [],
   "source": [
    "# install.packages(\"VIM\", repos='http://cran.us.r-project.org')\n",
    "library(VIM)"
   ]
  },
  {
   "cell_type": "code",
   "execution_count": 10,
   "metadata": {},
   "outputs": [
    {
     "name": "stdout",
     "output_type": "stream",
     "text": [
      "\n",
      " Variables sorted by number of missings: \n",
      " Variable      Count\n",
      "       V7 0.02288984\n",
      "       V1 0.00000000\n",
      "       V2 0.00000000\n",
      "       V3 0.00000000\n",
      "       V4 0.00000000\n",
      "       V5 0.00000000\n",
      "       V6 0.00000000\n",
      "       V8 0.00000000\n",
      "       V9 0.00000000\n",
      "      V10 0.00000000\n",
      "      V11 0.00000000\n"
     ]
    },
    {
     "data": {
      "image/png": "[encoded data removed]",
      "text/plain": [
       "plot without title"
      ]
     },
     "metadata": {},
     "output_type": "display_data"
    }
   ],
   "source": [
    "aggr_plot <- aggr(cancer_data, col=c('navyblue','red'), numbers=TRUE, sortVars=TRUE,\n",
    "                  labels=names(cancer_data), cex.axis=.7, gap=3,\n",
    "                  ylab=c(\"Histogram of missing data\",\"Pattern\")\n",
    "                 )"
   ]
  },
  {
   "cell_type": "markdown",
   "metadata": {},
   "source": [
    "**The above histogram shows that almost 97.7% of dataset is not missing any data. 2.29% of missing values seem to be concentrated in V7.**"
   ]
  },
  {
   "cell_type": "markdown",
   "metadata": {},
   "source": [
    "**Now, I am going to use mean imputation technique**"
   ]
  },
  {
   "cell_type": "code",
   "execution_count": 11,
   "metadata": {},
   "outputs": [],
   "source": [
    "cancer_data_mean <- cancer_data"
   ]
  },
  {
   "cell_type": "code",
   "execution_count": 12,
   "metadata": {},
   "outputs": [
    {
     "data": {
      "text/html": [
       "<table>\n",
       "<thead><tr><th scope=col>V1</th><th scope=col>V2</th><th scope=col>V3</th><th scope=col>V4</th><th scope=col>V5</th><th scope=col>V6</th><th scope=col>V7</th><th scope=col>V8</th><th scope=col>V9</th><th scope=col>V10</th><th scope=col>V11</th></tr></thead>\n",
       "<tbody>\n",
       "\t<tr><td>1000025  </td><td>5        </td><td> 1       </td><td> 1       </td><td>1        </td><td>2        </td><td> 1       </td><td>3        </td><td>1        </td><td>1        </td><td>Benign   </td></tr>\n",
       "\t<tr><td>1002945  </td><td>5        </td><td> 4       </td><td> 4       </td><td>5        </td><td>7        </td><td>10       </td><td>3        </td><td>2        </td><td>1        </td><td>Benign   </td></tr>\n",
       "\t<tr><td>1015425  </td><td>3        </td><td> 1       </td><td> 1       </td><td>1        </td><td>2        </td><td> 2       </td><td>3        </td><td>1        </td><td>1        </td><td>Benign   </td></tr>\n",
       "\t<tr><td>1016277  </td><td>6        </td><td> 8       </td><td> 8       </td><td>1        </td><td>3        </td><td> 4       </td><td>3        </td><td>7        </td><td>1        </td><td>Benign   </td></tr>\n",
       "\t<tr><td>1017023  </td><td>4        </td><td> 1       </td><td> 1       </td><td>3        </td><td>2        </td><td> 1       </td><td>3        </td><td>1        </td><td>1        </td><td>Benign   </td></tr>\n",
       "\t<tr><td>1017122  </td><td>8        </td><td>10       </td><td>10       </td><td>8        </td><td>7        </td><td>10       </td><td>9        </td><td>7        </td><td>1        </td><td>Malignant</td></tr>\n",
       "</tbody>\n",
       "</table>\n"
      ],
      "text/latex": [
       "\\begin{tabular}{r|lllllllllll}\n",
       " V1 & V2 & V3 & V4 & V5 & V6 & V7 & V8 & V9 & V10 & V11\\\\\n",
       "\\hline\n",
       "\t 1000025   & 5         &  1        &  1        & 1         & 2         &  1        & 3         & 1         & 1         & Benign   \\\\\n",
       "\t 1002945   & 5         &  4        &  4        & 5         & 7         & 10        & 3         & 2         & 1         & Benign   \\\\\n",
       "\t 1015425   & 3         &  1        &  1        & 1         & 2         &  2        & 3         & 1         & 1         & Benign   \\\\\n",
       "\t 1016277   & 6         &  8        &  8        & 1         & 3         &  4        & 3         & 7         & 1         & Benign   \\\\\n",
       "\t 1017023   & 4         &  1        &  1        & 3         & 2         &  1        & 3         & 1         & 1         & Benign   \\\\\n",
       "\t 1017122   & 8         & 10        & 10        & 8         & 7         & 10        & 9         & 7         & 1         & Malignant\\\\\n",
       "\\end{tabular}\n"
      ],
      "text/markdown": [
       "\n",
       "| V1 | V2 | V3 | V4 | V5 | V6 | V7 | V8 | V9 | V10 | V11 |\n",
       "|---|---|---|---|---|---|---|---|---|---|---|\n",
       "| 1000025   | 5         |  1        |  1        | 1         | 2         |  1        | 3         | 1         | 1         | Benign    |\n",
       "| 1002945   | 5         |  4        |  4        | 5         | 7         | 10        | 3         | 2         | 1         | Benign    |\n",
       "| 1015425   | 3         |  1        |  1        | 1         | 2         |  2        | 3         | 1         | 1         | Benign    |\n",
       "| 1016277   | 6         |  8        |  8        | 1         | 3         |  4        | 3         | 7         | 1         | Benign    |\n",
       "| 1017023   | 4         |  1        |  1        | 3         | 2         |  1        | 3         | 1         | 1         | Benign    |\n",
       "| 1017122   | 8         | 10        | 10        | 8         | 7         | 10        | 9         | 7         | 1         | Malignant |\n",
       "\n"
      ],
      "text/plain": [
       "  V1      V2 V3 V4 V5 V6 V7 V8 V9 V10 V11      \n",
       "1 1000025 5   1  1 1  2   1 3  1  1   Benign   \n",
       "2 1002945 5   4  4 5  7  10 3  2  1   Benign   \n",
       "3 1015425 3   1  1 1  2   2 3  1  1   Benign   \n",
       "4 1016277 6   8  8 1  3   4 3  7  1   Benign   \n",
       "5 1017023 4   1  1 3  2   1 3  1  1   Benign   \n",
       "6 1017122 8  10 10 8  7  10 9  7  1   Malignant"
      ]
     },
     "metadata": {},
     "output_type": "display_data"
    }
   ],
   "source": [
    "head(cancer_data_mean)"
   ]
  },
  {
   "cell_type": "markdown",
   "metadata": {},
   "source": [
    "**The below is a way of showing missing data in a dataset. This shows that column V7 has 16 missing values.**"
   ]
  },
  {
   "cell_type": "code",
   "execution_count": 13,
   "metadata": {},
   "outputs": [
    {
     "data": {
      "text/html": [
       "<dl class=dl-horizontal>\n",
       "\t<dt>V1</dt>\n",
       "\t\t<dd>0</dd>\n",
       "\t<dt>V2</dt>\n",
       "\t\t<dd>0</dd>\n",
       "\t<dt>V3</dt>\n",
       "\t\t<dd>0</dd>\n",
       "\t<dt>V4</dt>\n",
       "\t\t<dd>0</dd>\n",
       "\t<dt>V5</dt>\n",
       "\t\t<dd>0</dd>\n",
       "\t<dt>V6</dt>\n",
       "\t\t<dd>0</dd>\n",
       "\t<dt>V7</dt>\n",
       "\t\t<dd>16</dd>\n",
       "\t<dt>V8</dt>\n",
       "\t\t<dd>0</dd>\n",
       "\t<dt>V9</dt>\n",
       "\t\t<dd>0</dd>\n",
       "\t<dt>V10</dt>\n",
       "\t\t<dd>0</dd>\n",
       "\t<dt>V11</dt>\n",
       "\t\t<dd>0</dd>\n",
       "</dl>\n"
      ],
      "text/latex": [
       "\\begin{description*}\n",
       "\\item[V1] 0\n",
       "\\item[V2] 0\n",
       "\\item[V3] 0\n",
       "\\item[V4] 0\n",
       "\\item[V5] 0\n",
       "\\item[V6] 0\n",
       "\\item[V7] 16\n",
       "\\item[V8] 0\n",
       "\\item[V9] 0\n",
       "\\item[V10] 0\n",
       "\\item[V11] 0\n",
       "\\end{description*}\n"
      ],
      "text/markdown": [
       "V1\n",
       ":   0V2\n",
       ":   0V3\n",
       ":   0V4\n",
       ":   0V5\n",
       ":   0V6\n",
       ":   0V7\n",
       ":   16V8\n",
       ":   0V9\n",
       ":   0V10\n",
       ":   0V11\n",
       ":   0\n",
       "\n"
      ],
      "text/plain": [
       " V1  V2  V3  V4  V5  V6  V7  V8  V9 V10 V11 \n",
       "  0   0   0   0   0   0  16   0   0   0   0 "
      ]
     },
     "metadata": {},
     "output_type": "display_data"
    }
   ],
   "source": [
    "sapply(cancer_data_mean, function(x) sum(is.na(x)))"
   ]
  },
  {
   "cell_type": "code",
   "execution_count": 14,
   "metadata": {},
   "outputs": [],
   "source": [
    "for(i in 1:ncol(cancer_data_mean[,-11])){\n",
    "    cancer_data_mean[is.na(cancer_data_mean[,i]), i] <- round(mean(cancer_data_mean[,i], na.rm = TRUE),0)\n",
    "}"
   ]
  },
  {
   "cell_type": "code",
   "execution_count": 15,
   "metadata": {},
   "outputs": [
    {
     "data": {
      "text/html": [
       "<dl class=dl-horizontal>\n",
       "\t<dt>V1</dt>\n",
       "\t\t<dd>0</dd>\n",
       "\t<dt>V2</dt>\n",
       "\t\t<dd>0</dd>\n",
       "\t<dt>V3</dt>\n",
       "\t\t<dd>0</dd>\n",
       "\t<dt>V4</dt>\n",
       "\t\t<dd>0</dd>\n",
       "\t<dt>V5</dt>\n",
       "\t\t<dd>0</dd>\n",
       "\t<dt>V6</dt>\n",
       "\t\t<dd>0</dd>\n",
       "\t<dt>V7</dt>\n",
       "\t\t<dd>0</dd>\n",
       "\t<dt>V8</dt>\n",
       "\t\t<dd>0</dd>\n",
       "\t<dt>V9</dt>\n",
       "\t\t<dd>0</dd>\n",
       "\t<dt>V10</dt>\n",
       "\t\t<dd>0</dd>\n",
       "\t<dt>V11</dt>\n",
       "\t\t<dd>0</dd>\n",
       "</dl>\n"
      ],
      "text/latex": [
       "\\begin{description*}\n",
       "\\item[V1] 0\n",
       "\\item[V2] 0\n",
       "\\item[V3] 0\n",
       "\\item[V4] 0\n",
       "\\item[V5] 0\n",
       "\\item[V6] 0\n",
       "\\item[V7] 0\n",
       "\\item[V8] 0\n",
       "\\item[V9] 0\n",
       "\\item[V10] 0\n",
       "\\item[V11] 0\n",
       "\\end{description*}\n"
      ],
      "text/markdown": [
       "V1\n",
       ":   0V2\n",
       ":   0V3\n",
       ":   0V4\n",
       ":   0V5\n",
       ":   0V6\n",
       ":   0V7\n",
       ":   0V8\n",
       ":   0V9\n",
       ":   0V10\n",
       ":   0V11\n",
       ":   0\n",
       "\n"
      ],
      "text/plain": [
       " V1  V2  V3  V4  V5  V6  V7  V8  V9 V10 V11 \n",
       "  0   0   0   0   0   0   0   0   0   0   0 "
      ]
     },
     "metadata": {},
     "output_type": "display_data"
    }
   ],
   "source": [
    "# Checking if any missing values in the imputed data set. Shows no missing values\n",
    "sapply(cancer_data_mean, function(x) sum(is.na(x)))"
   ]
  },
  {
   "cell_type": "markdown",
   "metadata": {},
   "source": [
    "**Next, I am going to use mode imputation technique. I got the Mode function from stackoverflow link:**\n",
    "\n",
    "https://stackoverflow.com/questions/2547402/is-there-a-built-in-function-for-finding-the-mode/8189441#8189441"
   ]
  },
  {
   "cell_type": "code",
   "execution_count": 16,
   "metadata": {},
   "outputs": [
    {
     "data": {
      "text/html": [
       "<dl class=dl-horizontal>\n",
       "\t<dt>V1</dt>\n",
       "\t\t<dd>0</dd>\n",
       "\t<dt>V2</dt>\n",
       "\t\t<dd>0</dd>\n",
       "\t<dt>V3</dt>\n",
       "\t\t<dd>0</dd>\n",
       "\t<dt>V4</dt>\n",
       "\t\t<dd>0</dd>\n",
       "\t<dt>V5</dt>\n",
       "\t\t<dd>0</dd>\n",
       "\t<dt>V6</dt>\n",
       "\t\t<dd>0</dd>\n",
       "\t<dt>V7</dt>\n",
       "\t\t<dd>16</dd>\n",
       "\t<dt>V8</dt>\n",
       "\t\t<dd>0</dd>\n",
       "\t<dt>V9</dt>\n",
       "\t\t<dd>0</dd>\n",
       "\t<dt>V10</dt>\n",
       "\t\t<dd>0</dd>\n",
       "\t<dt>V11</dt>\n",
       "\t\t<dd>0</dd>\n",
       "</dl>\n"
      ],
      "text/latex": [
       "\\begin{description*}\n",
       "\\item[V1] 0\n",
       "\\item[V2] 0\n",
       "\\item[V3] 0\n",
       "\\item[V4] 0\n",
       "\\item[V5] 0\n",
       "\\item[V6] 0\n",
       "\\item[V7] 16\n",
       "\\item[V8] 0\n",
       "\\item[V9] 0\n",
       "\\item[V10] 0\n",
       "\\item[V11] 0\n",
       "\\end{description*}\n"
      ],
      "text/markdown": [
       "V1\n",
       ":   0V2\n",
       ":   0V3\n",
       ":   0V4\n",
       ":   0V5\n",
       ":   0V6\n",
       ":   0V7\n",
       ":   16V8\n",
       ":   0V9\n",
       ":   0V10\n",
       ":   0V11\n",
       ":   0\n",
       "\n"
      ],
      "text/plain": [
       " V1  V2  V3  V4  V5  V6  V7  V8  V9 V10 V11 \n",
       "  0   0   0   0   0   0  16   0   0   0   0 "
      ]
     },
     "metadata": {},
     "output_type": "display_data"
    }
   ],
   "source": [
    "sapply(cancer_data, function(x) sum(is.na(x)))"
   ]
  },
  {
   "cell_type": "code",
   "execution_count": 17,
   "metadata": {},
   "outputs": [],
   "source": [
    "cancer_data_mode <- cancer_data"
   ]
  },
  {
   "cell_type": "code",
   "execution_count": 18,
   "metadata": {},
   "outputs": [],
   "source": [
    "val <- unique(cancer_data_mode[!is.na(cancer_data_mode)])"
   ]
  },
  {
   "cell_type": "code",
   "execution_count": 19,
   "metadata": {},
   "outputs": [],
   "source": [
    "val <- unique(cancer_data_mode[!is.na(cancer_data_mode)]) # Values in cancer_data_mode\n",
    "mode <- val[which.max(tabulate(match(cancer_data_mode, val)))] # Mode of cancer_data_mode"
   ]
  },
  {
   "cell_type": "code",
   "execution_count": 20,
   "metadata": {},
   "outputs": [
    {
     "data": {
      "text/html": [
       "' 1000025'"
      ],
      "text/latex": [
       "' 1000025'"
      ],
      "text/markdown": [
       "' 1000025'"
      ],
      "text/plain": [
       "[1] \" 1000025\""
      ]
     },
     "metadata": {},
     "output_type": "display_data"
    }
   ],
   "source": [
    "mode"
   ]
  },
  {
   "cell_type": "code",
   "execution_count": 21,
   "metadata": {},
   "outputs": [],
   "source": [
    "cancer_data_imp <- cancer_data_mode # Replicate vec_miss\n",
    "cancer_data_imp[is.na(cancer_data_imp)] <- mode # Impute by mode"
   ]
  },
  {
   "cell_type": "code",
   "execution_count": 22,
   "metadata": {},
   "outputs": [],
   "source": [
    "indices <- which(!is.na(cancer_data_mode$V7), arr.ind = T)"
   ]
  },
  {
   "cell_type": "code",
   "execution_count": 23,
   "metadata": {},
   "outputs": [],
   "source": [
    "Mode <- function(x) {\n",
    "    ux <- unique(x)\n",
    "    ux[which.max(tabulate(match(x, ux)))]\n",
    "}\n",
    "\n",
    "mode_value <- Mode(cancer_data_mode$V7[indices])\n",
    "cancer_data_mode$V7[-indices] <- mode_value"
   ]
  },
  {
   "cell_type": "code",
   "execution_count": 24,
   "metadata": {},
   "outputs": [
    {
     "data": {
      "text/html": [
       "<dl class=dl-horizontal>\n",
       "\t<dt>V1</dt>\n",
       "\t\t<dd>0</dd>\n",
       "\t<dt>V2</dt>\n",
       "\t\t<dd>0</dd>\n",
       "\t<dt>V3</dt>\n",
       "\t\t<dd>0</dd>\n",
       "\t<dt>V4</dt>\n",
       "\t\t<dd>0</dd>\n",
       "\t<dt>V5</dt>\n",
       "\t\t<dd>0</dd>\n",
       "\t<dt>V6</dt>\n",
       "\t\t<dd>0</dd>\n",
       "\t<dt>V7</dt>\n",
       "\t\t<dd>0</dd>\n",
       "\t<dt>V8</dt>\n",
       "\t\t<dd>0</dd>\n",
       "\t<dt>V9</dt>\n",
       "\t\t<dd>0</dd>\n",
       "\t<dt>V10</dt>\n",
       "\t\t<dd>0</dd>\n",
       "\t<dt>V11</dt>\n",
       "\t\t<dd>0</dd>\n",
       "</dl>\n"
      ],
      "text/latex": [
       "\\begin{description*}\n",
       "\\item[V1] 0\n",
       "\\item[V2] 0\n",
       "\\item[V3] 0\n",
       "\\item[V4] 0\n",
       "\\item[V5] 0\n",
       "\\item[V6] 0\n",
       "\\item[V7] 0\n",
       "\\item[V8] 0\n",
       "\\item[V9] 0\n",
       "\\item[V10] 0\n",
       "\\item[V11] 0\n",
       "\\end{description*}\n"
      ],
      "text/markdown": [
       "V1\n",
       ":   0V2\n",
       ":   0V3\n",
       ":   0V4\n",
       ":   0V5\n",
       ":   0V6\n",
       ":   0V7\n",
       ":   0V8\n",
       ":   0V9\n",
       ":   0V10\n",
       ":   0V11\n",
       ":   0\n",
       "\n"
      ],
      "text/plain": [
       " V1  V2  V3  V4  V5  V6  V7  V8  V9 V10 V11 \n",
       "  0   0   0   0   0   0   0   0   0   0   0 "
      ]
     },
     "metadata": {},
     "output_type": "display_data"
    }
   ],
   "source": [
    "sapply(cancer_data_mode, function(x) sum(is.na(x)))"
   ]
  },
  {
   "cell_type": "markdown",
   "metadata": {},
   "source": [
    "**Using regression (using mice) to impute missing data**"
   ]
  },
  {
   "cell_type": "code",
   "execution_count": 25,
   "metadata": {},
   "outputs": [
    {
     "data": {
      "text/html": [
       "<table>\n",
       "<thead><tr><th scope=col>V1</th><th scope=col>V2</th><th scope=col>V3</th><th scope=col>V4</th><th scope=col>V5</th><th scope=col>V6</th><th scope=col>V7</th><th scope=col>V8</th><th scope=col>V9</th><th scope=col>V10</th><th scope=col>V11</th></tr></thead>\n",
       "<tbody>\n",
       "\t<tr><td>1000025</td><td>5      </td><td> 1     </td><td> 1     </td><td>1      </td><td>2      </td><td> 1     </td><td>3      </td><td>1      </td><td>1      </td><td>2      </td></tr>\n",
       "\t<tr><td>1002945</td><td>5      </td><td> 4     </td><td> 4     </td><td>5      </td><td>7      </td><td>10     </td><td>3      </td><td>2      </td><td>1      </td><td>2      </td></tr>\n",
       "\t<tr><td>1015425</td><td>3      </td><td> 1     </td><td> 1     </td><td>1      </td><td>2      </td><td> 2     </td><td>3      </td><td>1      </td><td>1      </td><td>2      </td></tr>\n",
       "\t<tr><td>1016277</td><td>6      </td><td> 8     </td><td> 8     </td><td>1      </td><td>3      </td><td> 4     </td><td>3      </td><td>7      </td><td>1      </td><td>2      </td></tr>\n",
       "\t<tr><td>1017023</td><td>4      </td><td> 1     </td><td> 1     </td><td>3      </td><td>2      </td><td> 1     </td><td>3      </td><td>1      </td><td>1      </td><td>2      </td></tr>\n",
       "\t<tr><td>1017122</td><td>8      </td><td>10     </td><td>10     </td><td>8      </td><td>7      </td><td>10     </td><td>9      </td><td>7      </td><td>1      </td><td>4      </td></tr>\n",
       "</tbody>\n",
       "</table>\n"
      ],
      "text/latex": [
       "\\begin{tabular}{r|lllllllllll}\n",
       " V1 & V2 & V3 & V4 & V5 & V6 & V7 & V8 & V9 & V10 & V11\\\\\n",
       "\\hline\n",
       "\t 1000025 & 5       &  1      &  1      & 1       & 2       &  1      & 3       & 1       & 1       & 2      \\\\\n",
       "\t 1002945 & 5       &  4      &  4      & 5       & 7       & 10      & 3       & 2       & 1       & 2      \\\\\n",
       "\t 1015425 & 3       &  1      &  1      & 1       & 2       &  2      & 3       & 1       & 1       & 2      \\\\\n",
       "\t 1016277 & 6       &  8      &  8      & 1       & 3       &  4      & 3       & 7       & 1       & 2      \\\\\n",
       "\t 1017023 & 4       &  1      &  1      & 3       & 2       &  1      & 3       & 1       & 1       & 2      \\\\\n",
       "\t 1017122 & 8       & 10      & 10      & 8       & 7       & 10      & 9       & 7       & 1       & 4      \\\\\n",
       "\\end{tabular}\n"
      ],
      "text/markdown": [
       "\n",
       "| V1 | V2 | V3 | V4 | V5 | V6 | V7 | V8 | V9 | V10 | V11 |\n",
       "|---|---|---|---|---|---|---|---|---|---|---|\n",
       "| 1000025 | 5       |  1      |  1      | 1       | 2       |  1      | 3       | 1       | 1       | 2       |\n",
       "| 1002945 | 5       |  4      |  4      | 5       | 7       | 10      | 3       | 2       | 1       | 2       |\n",
       "| 1015425 | 3       |  1      |  1      | 1       | 2       |  2      | 3       | 1       | 1       | 2       |\n",
       "| 1016277 | 6       |  8      |  8      | 1       | 3       |  4      | 3       | 7       | 1       | 2       |\n",
       "| 1017023 | 4       |  1      |  1      | 3       | 2       |  1      | 3       | 1       | 1       | 2       |\n",
       "| 1017122 | 8       | 10      | 10      | 8       | 7       | 10      | 9       | 7       | 1       | 4       |\n",
       "\n"
      ],
      "text/plain": [
       "  V1      V2 V3 V4 V5 V6 V7 V8 V9 V10 V11\n",
       "1 1000025 5   1  1 1  2   1 3  1  1   2  \n",
       "2 1002945 5   4  4 5  7  10 3  2  1   2  \n",
       "3 1015425 3   1  1 1  2   2 3  1  1   2  \n",
       "4 1016277 6   8  8 1  3   4 3  7  1   2  \n",
       "5 1017023 4   1  1 3  2   1 3  1  1   2  \n",
       "6 1017122 8  10 10 8  7  10 9  7  1   4  "
      ]
     },
     "metadata": {},
     "output_type": "display_data"
    }
   ],
   "source": [
    "mice_data <- cancer_data\n",
    "mice_data$V11[which(mice_data$V11 == 'Benign')] = 2\n",
    "mice_data$V11[which(mice_data$V11 == 'Malignant')] = 4\n",
    "head(mice_data)"
   ]
  },
  {
   "cell_type": "markdown",
   "metadata": {},
   "source": [
    "From mice documentation,\n",
    "   \n",
    "   meth = 'norm.predict' is Imputation by linear regression through prediction\n",
    "   \n",
    "   meth = 'norm.nob' is Imputation by linear regression without parameter uncertainty (with perturbation)"
   ]
  },
  {
   "cell_type": "code",
   "execution_count": 26,
   "metadata": {},
   "outputs": [
    {
     "name": "stdout",
     "output_type": "stream",
     "text": [
      "\n",
      " iter imp variable\n",
      "  1   1  V7\n",
      "  2   1  V7\n",
      "  3   1  V7\n",
      "  4   1  V7\n",
      "  5   1  V7\n",
      "  6   1  V7\n",
      "  7   1  V7\n",
      "  8   1  V7\n",
      "  9   1  V7\n",
      "  10   1  V7\n",
      "  11   1  V7\n",
      "  12   1  V7\n",
      "  13   1  V7\n",
      "  14   1  V7\n",
      "  15   1  V7\n",
      "  16   1  V7\n",
      "  17   1  V7\n",
      "  18   1  V7\n",
      "  19   1  V7\n",
      "  20   1  V7\n",
      "  21   1  V7\n",
      "  22   1  V7\n",
      "  23   1  V7\n",
      "  24   1  V7\n",
      "  25   1  V7\n",
      "  26   1  V7\n",
      "  27   1  V7\n",
      "  28   1  V7\n",
      "  29   1  V7\n",
      "  30   1  V7\n",
      "  31   1  V7\n",
      "  32   1  V7\n",
      "  33   1  V7\n",
      "  34   1  V7\n",
      "  35   1  V7\n",
      "  36   1  V7\n",
      "  37   1  V7\n",
      "  38   1  V7\n",
      "  39   1  V7\n",
      "  40   1  V7\n",
      "  41   1  V7\n",
      "  42   1  V7\n",
      "  43   1  V7\n",
      "  44   1  V7\n",
      "  45   1  V7\n",
      "  46   1  V7\n",
      "  47   1  V7\n",
      "  48   1  V7\n",
      "  49   1  V7\n",
      "  50   1  V7\n"
     ]
    },
    {
     "name": "stderr",
     "output_type": "stream",
     "text": [
      "Warning message:\n",
      "\"Number of logged events: 1\""
     ]
    }
   ],
   "source": [
    "# Imputation by linear regression through prediction\n",
    "\n",
    "imp.mice <- mice(mice_data, m=1, maxit=50, meth='norm.predict', seed=500)\n",
    "# summary(imp.mice)"
   ]
  },
  {
   "cell_type": "code",
   "execution_count": 27,
   "metadata": {},
   "outputs": [
    {
     "data": {
      "text/html": [
       "<table>\n",
       "<thead><tr><th></th><th scope=col>1</th></tr></thead>\n",
       "<tbody>\n",
       "\t<tr><th scope=row>24</th><td>5.3669508</td></tr>\n",
       "\t<tr><th scope=row>41</th><td>8.1907122</td></tr>\n",
       "\t<tr><th scope=row>140</th><td>0.8738591</td></tr>\n",
       "\t<tr><th scope=row>146</th><td>1.6463893</td></tr>\n",
       "\t<tr><th scope=row>159</th><td>1.0731978</td></tr>\n",
       "\t<tr><th scope=row>165</th><td>2.1870186</td></tr>\n",
       "\t<tr><th scope=row>236</th><td>2.7459168</td></tr>\n",
       "\t<tr><th scope=row>250</th><td>2.0127161</td></tr>\n",
       "\t<tr><th scope=row>276</th><td>2.3072038</td></tr>\n",
       "\t<tr><th scope=row>293</th><td>5.9989744</td></tr>\n",
       "\t<tr><th scope=row>295</th><td>1.1204527</td></tr>\n",
       "\t<tr><th scope=row>298</th><td>2.6839366</td></tr>\n",
       "\t<tr><th scope=row>316</th><td>5.6353059</td></tr>\n",
       "\t<tr><th scope=row>322</th><td>1.8585015</td></tr>\n",
       "\t<tr><th scope=row>412</th><td>0.8587684</td></tr>\n",
       "\t<tr><th scope=row>618</th><td>0.5907393</td></tr>\n",
       "</tbody>\n",
       "</table>\n"
      ],
      "text/latex": [
       "\\begin{tabular}{r|l}\n",
       "  & 1\\\\\n",
       "\\hline\n",
       "\t24 & 5.3669508\\\\\n",
       "\t41 & 8.1907122\\\\\n",
       "\t140 & 0.8738591\\\\\n",
       "\t146 & 1.6463893\\\\\n",
       "\t159 & 1.0731978\\\\\n",
       "\t165 & 2.1870186\\\\\n",
       "\t236 & 2.7459168\\\\\n",
       "\t250 & 2.0127161\\\\\n",
       "\t276 & 2.3072038\\\\\n",
       "\t293 & 5.9989744\\\\\n",
       "\t295 & 1.1204527\\\\\n",
       "\t298 & 2.6839366\\\\\n",
       "\t316 & 5.6353059\\\\\n",
       "\t322 & 1.8585015\\\\\n",
       "\t412 & 0.8587684\\\\\n",
       "\t618 & 0.5907393\\\\\n",
       "\\end{tabular}\n"
      ],
      "text/markdown": [
       "\n",
       "| <!--/--> | 1 |\n",
       "|---|---|\n",
       "| 24 | 5.3669508 |\n",
       "| 41 | 8.1907122 |\n",
       "| 140 | 0.8738591 |\n",
       "| 146 | 1.6463893 |\n",
       "| 159 | 1.0731978 |\n",
       "| 165 | 2.1870186 |\n",
       "| 236 | 2.7459168 |\n",
       "| 250 | 2.0127161 |\n",
       "| 276 | 2.3072038 |\n",
       "| 293 | 5.9989744 |\n",
       "| 295 | 1.1204527 |\n",
       "| 298 | 2.6839366 |\n",
       "| 316 | 5.6353059 |\n",
       "| 322 | 1.8585015 |\n",
       "| 412 | 0.8587684 |\n",
       "| 618 | 0.5907393 |\n",
       "\n"
      ],
      "text/plain": [
       "    1        \n",
       "24  5.3669508\n",
       "41  8.1907122\n",
       "140 0.8738591\n",
       "146 1.6463893\n",
       "159 1.0731978\n",
       "165 2.1870186\n",
       "236 2.7459168\n",
       "250 2.0127161\n",
       "276 2.3072038\n",
       "293 5.9989744\n",
       "295 1.1204527\n",
       "298 2.6839366\n",
       "316 5.6353059\n",
       "322 1.8585015\n",
       "412 0.8587684\n",
       "618 0.5907393"
      ]
     },
     "metadata": {},
     "output_type": "display_data"
    }
   ],
   "source": [
    "imp.mice$imp$V7"
   ]
  },
  {
   "cell_type": "markdown",
   "metadata": {},
   "source": [
    "**The output shows the imputed data for each observation (first column left) within each imputed dataset (first row at the top). Next, using the complete() function, I am getting a completed dataset. Here, the missing values have been replaced with the imputed values in the first of the five datasets.**"
   ]
  },
  {
   "cell_type": "markdown",
   "metadata": {},
   "source": [
    "**Inspecting the distribution of original and imputed data : The density of the imputed data for each imputed dataset is showed in magenta while the density of the observed data is showed in blue.**"
   ]
  },
  {
   "cell_type": "code",
   "execution_count": 28,
   "metadata": {},
   "outputs": [
    {
     "data": {
      "image/png": "[encoded data removed]",
      "text/plain": [
       "plot without title"
      ]
     },
     "metadata": {},
     "output_type": "display_data"
    }
   ],
   "source": [
    "densityplot(imp.mice)"
   ]
  },
  {
   "cell_type": "code",
   "execution_count": 29,
   "metadata": {},
   "outputs": [],
   "source": [
    "completed_cancer_data <- complete(imp.mice,1)"
   ]
  },
  {
   "cell_type": "code",
   "execution_count": 30,
   "metadata": {},
   "outputs": [
    {
     "name": "stderr",
     "output_type": "stream",
     "text": [
      "Warning message in pool(lm.mice.out):\n",
      "\"Number of multiple imputations m = 1. No pooling done.\""
     ]
    },
    {
     "data": {
      "text/plain": [
       "\n",
       "Call:\n",
       "lm(formula = V11 ~ V1 + V2 + V3 + V4 + V5 + V6 + V7 + V8 + V9 + \n",
       "    V10)\n",
       "\n",
       "Residuals:\n",
       "     Min       1Q   Median       3Q      Max \n",
       "-1.86894 -0.16715 -0.01559  0.12651  1.53436 \n",
       "\n",
       "Coefficients:\n",
       "              Estimate Std. Error t value Pr(>|t|)    \n",
       "(Intercept)  1.519e+00  4.299e-02  35.339  < 2e-16 ***\n",
       "V1          -1.450e-08  2.401e-08  -0.604 0.546091    \n",
       "V2           6.466e-02  7.240e-03   8.932  < 2e-16 ***\n",
       "V3           4.489e-02  1.294e-02   3.469 0.000556 ***\n",
       "V4           3.375e-02  1.264e-02   2.670 0.007775 ** \n",
       "V5           1.230e-02  8.089e-03   1.520 0.128891    \n",
       "V6           1.551e-02  1.061e-02   1.463 0.144013    \n",
       "V7           9.040e-02  6.606e-03  13.684  < 2e-16 ***\n",
       "V8           4.124e-02  1.024e-02   4.026 6.31e-05 ***\n",
       "V9           3.327e-02  7.533e-03   4.417 1.16e-05 ***\n",
       "V10          6.756e-03  1.012e-02   0.667 0.504680    \n",
       "---\n",
       "Signif. codes:  0 '***' 0.001 '**' 0.01 '*' 0.05 '.' 0.1 ' ' 1\n",
       "\n",
       "Residual standard error: 0.389 on 688 degrees of freedom\n",
       "Multiple R-squared:  0.8352,\tAdjusted R-squared:  0.8328 \n",
       "F-statistic: 348.7 on 10 and 688 DF,  p-value: < 2.2e-16\n"
      ]
     },
     "metadata": {},
     "output_type": "display_data"
    }
   ],
   "source": [
    "lm.mice.out <- with(imp.mice, lm(V11 ~ V1+V2+V3+V4+V5+V6+V7+V8+V9+V10))\n",
    "pool.mice <- pool(lm.mice.out)\n",
    "summary(pool.mice)"
   ]
  },
  {
   "cell_type": "markdown",
   "metadata": {},
   "source": [
    "**Without perturbation, the fitted regression model with the imputed values seem to have a p-value of <<< 0.001 . and R2 value of 83%**\n",
    "\n",
    "**Next, Imputation by linear regression without parameter uncertainty (with perturbation)**"
   ]
  },
  {
   "cell_type": "code",
   "execution_count": 31,
   "metadata": {},
   "outputs": [
    {
     "name": "stdout",
     "output_type": "stream",
     "text": [
      "\n",
      " iter imp variable\n",
      "  1   1  V7\n",
      "  2   1  V7\n",
      "  3   1  V7\n",
      "  4   1  V7\n",
      "  5   1  V7\n",
      "  6   1  V7\n",
      "  7   1  V7\n",
      "  8   1  V7\n",
      "  9   1  V7\n",
      "  10   1  V7\n",
      "  11   1  V7\n",
      "  12   1  V7\n",
      "  13   1  V7\n",
      "  14   1  V7\n",
      "  15   1  V7\n",
      "  16   1  V7\n",
      "  17   1  V7\n",
      "  18   1  V7\n",
      "  19   1  V7\n",
      "  20   1  V7\n",
      "  21   1  V7\n",
      "  22   1  V7\n",
      "  23   1  V7\n",
      "  24   1  V7\n",
      "  25   1  V7\n",
      "  26   1  V7\n",
      "  27   1  V7\n",
      "  28   1  V7\n",
      "  29   1  V7\n",
      "  30   1  V7\n",
      "  31   1  V7\n",
      "  32   1  V7\n",
      "  33   1  V7\n",
      "  34   1  V7\n",
      "  35   1  V7\n",
      "  36   1  V7\n",
      "  37   1  V7\n",
      "  38   1  V7\n",
      "  39   1  V7\n",
      "  40   1  V7\n",
      "  41   1  V7\n",
      "  42   1  V7\n",
      "  43   1  V7\n",
      "  44   1  V7\n",
      "  45   1  V7\n",
      "  46   1  V7\n",
      "  47   1  V7\n",
      "  48   1  V7\n",
      "  49   1  V7\n",
      "  50   1  V7\n"
     ]
    },
    {
     "name": "stderr",
     "output_type": "stream",
     "text": [
      "Warning message:\n",
      "\"Number of logged events: 1\""
     ]
    },
    {
     "name": "stdout",
     "output_type": "stream",
     "text": [
      "Class: mids\n",
      "Number of multiple imputations:  1 \n",
      "Imputation methods:\n",
      "        V1         V2         V3         V4         V5         V6         V7 \n",
      "        \"\"         \"\"         \"\"         \"\"         \"\"         \"\" \"norm.nob\" \n",
      "        V8         V9        V10        V11 \n",
      "        \"\"         \"\"         \"\"         \"\" \n",
      "PredictorMatrix:\n",
      "   V1 V2 V3 V4 V5 V6 V7 V8 V9 V10 V11\n",
      "V1  0  1  1  1  1  1  1  1  1   1   0\n",
      "V2  1  0  1  1  1  1  1  1  1   1   0\n",
      "V3  1  1  0  1  1  1  1  1  1   1   0\n",
      "V4  1  1  1  0  1  1  1  1  1   1   0\n",
      "V5  1  1  1  1  0  1  1  1  1   1   0\n",
      "V6  1  1  1  1  1  0  1  1  1   1   0\n",
      "Number of logged events:  1 \n",
      "  it im dep     meth out\n",
      "1  0  0     constant V11\n"
     ]
    }
   ],
   "source": [
    "imp.mice.pert <- mice(mice_data, m=1, maxit=50, meth='norm.nob', seed=500)\n",
    "summary(imp.mice.pert)"
   ]
  },
  {
   "cell_type": "code",
   "execution_count": 32,
   "metadata": {},
   "outputs": [],
   "source": [
    "imp.pert.vals <- round(imp.mice.pert$imp$V7)"
   ]
  },
  {
   "cell_type": "markdown",
   "metadata": {},
   "source": [
    "**Inspecting the distribution of original and imputed data using density plot. After that, using the complete() function, I am getting a completed dataset. Here, the missing values have been replaced with the imputed values in the first of the five datasets**"
   ]
  },
  {
   "cell_type": "code",
   "execution_count": 33,
   "metadata": {},
   "outputs": [
    {
     "data": {
      "image/png": "[encoded data removed]",
      "text/plain": [
       "plot without title"
      ]
     },
     "metadata": {},
     "output_type": "display_data"
    }
   ],
   "source": [
    "densityplot(imp.mice.pert)"
   ]
  },
  {
   "cell_type": "code",
   "execution_count": 34,
   "metadata": {},
   "outputs": [],
   "source": [
    "completed_pert_cancer_data <- complete(imp.mice.pert)"
   ]
  },
  {
   "cell_type": "markdown",
   "metadata": {},
   "source": [
    "**Checking the data quality by creating a regression model using the imputed data and checking the model quality**"
   ]
  },
  {
   "cell_type": "code",
   "execution_count": 35,
   "metadata": {},
   "outputs": [
    {
     "name": "stderr",
     "output_type": "stream",
     "text": [
      "Warning message in pool(lm.mice.out_pert):\n",
      "\"Number of multiple imputations m = 1. No pooling done.\""
     ]
    },
    {
     "data": {
      "text/plain": [
       "\n",
       "Call:\n",
       "lm(formula = V11 ~ V1 + V2 + V3 + V4 + V5 + V6 + V7 + V8 + V9 + \n",
       "    V10)\n",
       "\n",
       "Residuals:\n",
       "     Min       1Q   Median       3Q      Max \n",
       "-1.91760 -0.16819 -0.01681  0.11971  1.54040 \n",
       "\n",
       "Coefficients:\n",
       "              Estimate Std. Error t value Pr(>|t|)    \n",
       "(Intercept)  1.517e+00  4.319e-02  35.135  < 2e-16 ***\n",
       "V1          -1.392e-08  2.412e-08  -0.577 0.564068    \n",
       "V2           6.487e-02  7.276e-03   8.916  < 2e-16 ***\n",
       "V3           4.399e-02  1.300e-02   3.384 0.000755 ***\n",
       "V4           3.487e-02  1.270e-02   2.747 0.006175 ** \n",
       "V5           1.351e-02  8.114e-03   1.665 0.096436 .  \n",
       "V6           1.640e-02  1.065e-02   1.540 0.124072    \n",
       "V7           8.807e-02  6.582e-03  13.381  < 2e-16 ***\n",
       "V8           4.202e-02  1.029e-02   4.084 4.95e-05 ***\n",
       "V9           3.258e-02  7.569e-03   4.305 1.92e-05 ***\n",
       "V10          7.010e-03  1.017e-02   0.689 0.490906    \n",
       "---\n",
       "Signif. codes:  0 '***' 0.001 '**' 0.01 '*' 0.05 '.' 0.1 ' ' 1\n",
       "\n",
       "Residual standard error: 0.3908 on 688 degrees of freedom\n",
       "Multiple R-squared:  0.8336,\tAdjusted R-squared:  0.8312 \n",
       "F-statistic: 344.7 on 10 and 688 DF,  p-value: < 2.2e-16\n"
      ]
     },
     "metadata": {},
     "output_type": "display_data"
    }
   ],
   "source": [
    "lm.mice.out_pert <- with(imp.mice.pert, lm(V11 ~ V1+V2+V3+V4+V5+V6+V7+V8+V9+V10))\n",
    "pool.mice_pert <- pool(lm.mice.out_pert)\n",
    "summary(pool.mice_pert)"
   ]
  },
  {
   "cell_type": "markdown",
   "metadata": {},
   "source": [
    "**Here, the fitted regression model with the imputed values seem to have a p-value of < 0.001 . and R2 value of 83%**"
   ]
  },
  {
   "cell_type": "code",
   "execution_count": null,
   "metadata": {},
   "outputs": [],
   "source": []
  },
  {
   "cell_type": "markdown",
   "metadata": {},
   "source": [
    "#### Question 15.1"
   ]
  },
  {
   "cell_type": "markdown",
   "metadata": {},
   "source": [
    "***Describe a situation or problem from your job, everyday life, current events, etc., for which optimization would be appropriate. What data would you need?***"
   ]
  },
  {
   "cell_type": "markdown",
   "metadata": {},
   "source": [
    "One place I can think of where optimization will be a great fit is a warehouse unit. Example, Amazon's or Walmart's warehouses where the number of items stored to be retrieved (each can be its own data point). Optimization to figure out a warehouse layout and placing the items strategically to minimize time needed to stock and retrieve with minimal error, comes to my mind as a good optimization problem. Self driving cars, autonomous vehicles trying to solve transportation for the future itself is a huge optimization problem.\n",
    "\n",
    "Or strategizing layout of roads and transportation in a new township is also a good problem. For the township problem, the data needed would be maximum number of residents that can stay at a given time in the township, maximum number of vehicles estimated on road, identifying whether the township will have a school district or hospitals (so as to device alternate routes), and the\n",
    "end goal is to minimize the time for travel while also minimizing the predicted number of accidents (fatalities included) in the township."
   ]
  },
  {
   "cell_type": "code",
   "execution_count": null,
   "metadata": {},
   "outputs": [],
   "source": []
  },
  {
   "cell_type": "code",
   "execution_count": null,
   "metadata": {},
   "outputs": [],
   "source": []
  }
 ],
 "metadata": {
  "kernelspec": {
   "display_name": "R",
   "language": "R",
   "name": "ir"
  },
  "language_info": {
   "codemirror_mode": "r",
   "file_extension": ".r",
   "mimetype": "text/x-r-source",
   "name": "R",
   "pygments_lexer": "r",
   "version": "3.6.1"
  }
 },
 "nbformat": 4,
 "nbformat_minor": 4
}
