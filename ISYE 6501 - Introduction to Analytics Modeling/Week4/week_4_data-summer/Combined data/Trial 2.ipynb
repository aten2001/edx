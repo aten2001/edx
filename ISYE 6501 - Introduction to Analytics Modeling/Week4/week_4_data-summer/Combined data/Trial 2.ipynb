{
 "cells": [
  {
   "cell_type": "markdown",
   "metadata": {},
   "source": [
    "# Homework 4 - Week 4"
   ]
  },
  {
   "cell_type": "markdown",
   "metadata": {},
   "source": [
    "### Question 9.1\n",
    "\n",
    "***Using the same crime data set uscrime.txt as in Question 8.2, apply Principal Component Analysis and then create a regression model using the first few principal components. Specify your new model in terms of the original variables (not the principal components), and compare its quality to that of your solution to Question 8.2. You can use the R function prcomp for PCA. (Note that to first scale the data, you can include scale. = TRUE to scale as part of the PCA function. Don’t forget that, to make a prediction for the new city, you’ll need to unscale the coefficients (i.e., do the scaling calculation in reverse)!)***"
   ]
  },
  {
   "cell_type": "code",
   "execution_count": 2,
   "metadata": {},
   "outputs": [],
   "source": [
    "library(dplyr)\n",
    "library(DAAG)"
   ]
  },
  {
   "cell_type": "code",
   "execution_count": 5,
   "metadata": {},
   "outputs": [],
   "source": [
    "crimedata <- read.table(\"uscrime.txt\",header = TRUE,stringsAsFactors = FALSE)"
   ]
  },
  {
   "cell_type": "code",
   "execution_count": 6,
   "metadata": {},
   "outputs": [
    {
     "data": {
      "text/html": [
       "<table>\n",
       "<thead><tr><th scope=col>M</th><th scope=col>So</th><th scope=col>Ed</th><th scope=col>Po1</th><th scope=col>Po2</th><th scope=col>LF</th><th scope=col>M.F</th><th scope=col>Pop</th><th scope=col>NW</th><th scope=col>U1</th><th scope=col>U2</th><th scope=col>Wealth</th><th scope=col>Ineq</th><th scope=col>Prob</th><th scope=col>Time</th><th scope=col>Crime</th></tr></thead>\n",
       "<tbody>\n",
       "\t<tr><td>15.1    </td><td>1       </td><td> 9.1    </td><td> 5.8    </td><td> 5.6    </td><td>0.510   </td><td> 95.0   </td><td> 33     </td><td>30.1    </td><td>0.108   </td><td>4.1     </td><td>3940    </td><td>26.1    </td><td>0.084602</td><td>26.2011 </td><td> 791    </td></tr>\n",
       "\t<tr><td>14.3    </td><td>0       </td><td>11.3    </td><td>10.3    </td><td> 9.5    </td><td>0.583   </td><td>101.2   </td><td> 13     </td><td>10.2    </td><td>0.096   </td><td>3.6     </td><td>5570    </td><td>19.4    </td><td>0.029599</td><td>25.2999 </td><td>1635    </td></tr>\n",
       "\t<tr><td>14.2    </td><td>1       </td><td> 8.9    </td><td> 4.5    </td><td> 4.4    </td><td>0.533   </td><td> 96.9   </td><td> 18     </td><td>21.9    </td><td>0.094   </td><td>3.3     </td><td>3180    </td><td>25.0    </td><td>0.083401</td><td>24.3006 </td><td> 578    </td></tr>\n",
       "\t<tr><td>13.6    </td><td>0       </td><td>12.1    </td><td>14.9    </td><td>14.1    </td><td>0.577   </td><td> 99.4   </td><td>157     </td><td> 8.0    </td><td>0.102   </td><td>3.9     </td><td>6730    </td><td>16.7    </td><td>0.015801</td><td>29.9012 </td><td>1969    </td></tr>\n",
       "\t<tr><td>14.1    </td><td>0       </td><td>12.1    </td><td>10.9    </td><td>10.1    </td><td>0.591   </td><td> 98.5   </td><td> 18     </td><td> 3.0    </td><td>0.091   </td><td>2.0     </td><td>5780    </td><td>17.4    </td><td>0.041399</td><td>21.2998 </td><td>1234    </td></tr>\n",
       "\t<tr><td>12.1    </td><td>0       </td><td>11.0    </td><td>11.8    </td><td>11.5    </td><td>0.547   </td><td> 96.4   </td><td> 25     </td><td> 4.4    </td><td>0.084   </td><td>2.9     </td><td>6890    </td><td>12.6    </td><td>0.034201</td><td>20.9995 </td><td> 682    </td></tr>\n",
       "</tbody>\n",
       "</table>\n"
      ],
      "text/latex": [
       "\\begin{tabular}{r|llllllllllllllll}\n",
       " M & So & Ed & Po1 & Po2 & LF & M.F & Pop & NW & U1 & U2 & Wealth & Ineq & Prob & Time & Crime\\\\\n",
       "\\hline\n",
       "\t 15.1     & 1        &  9.1     &  5.8     &  5.6     & 0.510    &  95.0    &  33      & 30.1     & 0.108    & 4.1      & 3940     & 26.1     & 0.084602 & 26.2011  &  791    \\\\\n",
       "\t 14.3     & 0        & 11.3     & 10.3     &  9.5     & 0.583    & 101.2    &  13      & 10.2     & 0.096    & 3.6      & 5570     & 19.4     & 0.029599 & 25.2999  & 1635    \\\\\n",
       "\t 14.2     & 1        &  8.9     &  4.5     &  4.4     & 0.533    &  96.9    &  18      & 21.9     & 0.094    & 3.3      & 3180     & 25.0     & 0.083401 & 24.3006  &  578    \\\\\n",
       "\t 13.6     & 0        & 12.1     & 14.9     & 14.1     & 0.577    &  99.4    & 157      &  8.0     & 0.102    & 3.9      & 6730     & 16.7     & 0.015801 & 29.9012  & 1969    \\\\\n",
       "\t 14.1     & 0        & 12.1     & 10.9     & 10.1     & 0.591    &  98.5    &  18      &  3.0     & 0.091    & 2.0      & 5780     & 17.4     & 0.041399 & 21.2998  & 1234    \\\\\n",
       "\t 12.1     & 0        & 11.0     & 11.8     & 11.5     & 0.547    &  96.4    &  25      &  4.4     & 0.084    & 2.9      & 6890     & 12.6     & 0.034201 & 20.9995  &  682    \\\\\n",
       "\\end{tabular}\n"
      ],
      "text/markdown": [
       "\n",
       "| M | So | Ed | Po1 | Po2 | LF | M.F | Pop | NW | U1 | U2 | Wealth | Ineq | Prob | Time | Crime |\n",
       "|---|---|---|---|---|---|---|---|---|---|---|---|---|---|---|---|\n",
       "| 15.1     | 1        |  9.1     |  5.8     |  5.6     | 0.510    |  95.0    |  33      | 30.1     | 0.108    | 4.1      | 3940     | 26.1     | 0.084602 | 26.2011  |  791     |\n",
       "| 14.3     | 0        | 11.3     | 10.3     |  9.5     | 0.583    | 101.2    |  13      | 10.2     | 0.096    | 3.6      | 5570     | 19.4     | 0.029599 | 25.2999  | 1635     |\n",
       "| 14.2     | 1        |  8.9     |  4.5     |  4.4     | 0.533    |  96.9    |  18      | 21.9     | 0.094    | 3.3      | 3180     | 25.0     | 0.083401 | 24.3006  |  578     |\n",
       "| 13.6     | 0        | 12.1     | 14.9     | 14.1     | 0.577    |  99.4    | 157      |  8.0     | 0.102    | 3.9      | 6730     | 16.7     | 0.015801 | 29.9012  | 1969     |\n",
       "| 14.1     | 0        | 12.1     | 10.9     | 10.1     | 0.591    |  98.5    |  18      |  3.0     | 0.091    | 2.0      | 5780     | 17.4     | 0.041399 | 21.2998  | 1234     |\n",
       "| 12.1     | 0        | 11.0     | 11.8     | 11.5     | 0.547    |  96.4    |  25      |  4.4     | 0.084    | 2.9      | 6890     | 12.6     | 0.034201 | 20.9995  |  682     |\n",
       "\n"
      ],
      "text/plain": [
       "  M    So Ed   Po1  Po2  LF    M.F   Pop NW   U1    U2  Wealth Ineq Prob    \n",
       "1 15.1 1   9.1  5.8  5.6 0.510  95.0  33 30.1 0.108 4.1 3940   26.1 0.084602\n",
       "2 14.3 0  11.3 10.3  9.5 0.583 101.2  13 10.2 0.096 3.6 5570   19.4 0.029599\n",
       "3 14.2 1   8.9  4.5  4.4 0.533  96.9  18 21.9 0.094 3.3 3180   25.0 0.083401\n",
       "4 13.6 0  12.1 14.9 14.1 0.577  99.4 157  8.0 0.102 3.9 6730   16.7 0.015801\n",
       "5 14.1 0  12.1 10.9 10.1 0.591  98.5  18  3.0 0.091 2.0 5780   17.4 0.041399\n",
       "6 12.1 0  11.0 11.8 11.5 0.547  96.4  25  4.4 0.084 2.9 6890   12.6 0.034201\n",
       "  Time    Crime\n",
       "1 26.2011  791 \n",
       "2 25.2999 1635 \n",
       "3 24.3006  578 \n",
       "4 29.9012 1969 \n",
       "5 21.2998 1234 \n",
       "6 20.9995  682 "
      ]
     },
     "metadata": {},
     "output_type": "display_data"
    }
   ],
   "source": [
    "head(crimedata)"
   ]
  },
  {
   "cell_type": "markdown",
   "metadata": {},
   "source": [
    "We call prcomp() to do PCA on the data."
   ]
  },
  {
   "cell_type": "code",
   "execution_count": 7,
   "metadata": {},
   "outputs": [],
   "source": [
    "crimedatapca <- prcomp(crimedata[,1:15], center = TRUE, scale. = TRUE)"
   ]
  },
  {
   "cell_type": "code",
   "execution_count": 9,
   "metadata": {},
   "outputs": [
    {
     "data": {
      "text/plain": [
       "Standard deviations (1, .., p=15):\n",
       " [1] 2.45335539 1.67387187 1.41596057 1.07805742 0.97892746 0.74377006\n",
       " [7] 0.56729065 0.55443780 0.48492813 0.44708045 0.41914843 0.35803646\n",
       "[13] 0.26332811 0.24180109 0.06792764\n",
       "\n",
       "Rotation (n x k) = (15 x 15):\n",
       "               PC1         PC2           PC3         PC4         PC5\n",
       "M      -0.30371194  0.06280357  0.1724199946 -0.02035537 -0.35832737\n",
       "So     -0.33088129 -0.15837219  0.0155433104  0.29247181 -0.12061130\n",
       "Ed      0.33962148  0.21461152  0.0677396249  0.07974375 -0.02442839\n",
       "Po1     0.30863412 -0.26981761  0.0506458161  0.33325059 -0.23527680\n",
       "Po2     0.31099285 -0.26396300  0.0530651173  0.35192809 -0.20473383\n",
       "LF      0.17617757  0.31943042  0.2715301768 -0.14326529 -0.39407588\n",
       "M.F     0.11638221  0.39434428 -0.2031621598  0.01048029 -0.57877443\n",
       "Pop     0.11307836 -0.46723456  0.0770210971 -0.03210513 -0.08317034\n",
       "NW     -0.29358647 -0.22801119  0.0788156621  0.23925971 -0.36079387\n",
       "U1      0.04050137  0.00807439 -0.6590290980 -0.18279096 -0.13136873\n",
       "U2      0.01812228 -0.27971336 -0.5785006293 -0.06889312 -0.13499487\n",
       "Wealth  0.37970331 -0.07718862  0.0100647664  0.11781752  0.01167683\n",
       "Ineq   -0.36579778 -0.02752240 -0.0002944563 -0.08066612 -0.21672823\n",
       "Prob   -0.25888661  0.15831708 -0.1176726436  0.49303389  0.16562829\n",
       "Time   -0.02062867 -0.38014836  0.2235664632 -0.54059002 -0.14764767\n",
       "                PC6         PC7         PC8         PC9        PC10        PC11\n",
       "M      -0.449132706 -0.15707378 -0.55367691  0.15474793 -0.01443093  0.39446657\n",
       "So     -0.100500743  0.19649727  0.22734157 -0.65599872  0.06141452  0.23397868\n",
       "Ed     -0.008571367 -0.23943629 -0.14644678 -0.44326978  0.51887452 -0.11821954\n",
       "Po1    -0.095776709  0.08011735  0.04613156  0.19425472 -0.14320978 -0.13042001\n",
       "Po2    -0.119524780  0.09518288  0.03168720  0.19512072 -0.05929780 -0.13885912\n",
       "LF      0.504234275 -0.15931612  0.25513777  0.14393498  0.03077073  0.38532827\n",
       "M.F    -0.074501901  0.15548197 -0.05507254 -0.24378252 -0.35323357 -0.28029732\n",
       "Pop     0.547098563  0.09046187 -0.59078221 -0.20244830 -0.03970718  0.05849643\n",
       "NW      0.051219538 -0.31154195  0.20432828  0.18984178  0.49201966 -0.20695666\n",
       "U1      0.017385981 -0.17354115 -0.20206312  0.02069349  0.22765278 -0.17857891\n",
       "U2      0.048155286 -0.07526787  0.24369650  0.05576010 -0.04750100  0.47021842\n",
       "Wealth -0.154683104 -0.14859424  0.08630649 -0.23196695 -0.11219383  0.31955631\n",
       "Ineq    0.272027031  0.37483032  0.07184018 -0.02494384 -0.01390576 -0.18278697\n",
       "Prob    0.283535996 -0.56159383 -0.08598908 -0.05306898 -0.42530006 -0.08978385\n",
       "Time   -0.148203050 -0.44199877  0.19507812 -0.23551363 -0.29264326 -0.26363121\n",
       "              PC12        PC13        PC14          PC15\n",
       "M       0.16580189 -0.05142365  0.04901705  0.0051398012\n",
       "So     -0.05753357 -0.29368483 -0.29364512  0.0084369230\n",
       "Ed      0.47786536  0.19441949  0.03964277 -0.0280052040\n",
       "Po1     0.22611207 -0.18592255 -0.09490151 -0.6894155129\n",
       "Po2     0.19088461 -0.13454940 -0.08259642  0.7200270100\n",
       "LF      0.02705134 -0.27742957 -0.15385625  0.0336823193\n",
       "M.F    -0.23925913  0.31624667 -0.04125321  0.0097922075\n",
       "Pop    -0.18350385  0.12651689 -0.05326383  0.0001496323\n",
       "NW     -0.36671707  0.22901695  0.13227774 -0.0370783671\n",
       "U1     -0.09314897 -0.59039450 -0.02335942  0.0111359325\n",
       "U2      0.28440496  0.43292853 -0.03985736  0.0073618948\n",
       "Wealth -0.32172821 -0.14077972  0.70031840 -0.0025685109\n",
       "Ineq    0.43762828 -0.12181090  0.59279037  0.0177570357\n",
       "Prob    0.15567100 -0.03547596  0.04761011  0.0293376260\n",
       "Time    0.13536989 -0.05738113 -0.04488401  0.0376754405"
      ]
     },
     "metadata": {},
     "output_type": "display_data"
    }
   ],
   "source": [
    "crimedatapca"
   ]
  },
  {
   "cell_type": "code",
   "execution_count": 16,
   "metadata": {},
   "outputs": [
    {
     "data": {
      "text/plain": [
       "Importance of components:\n",
       "                          PC1    PC2    PC3     PC4     PC5     PC6     PC7\n",
       "Standard deviation     2.4534 1.6739 1.4160 1.07806 0.97893 0.74377 0.56729\n",
       "Proportion of Variance 0.4013 0.1868 0.1337 0.07748 0.06389 0.03688 0.02145\n",
       "Cumulative Proportion  0.4013 0.5880 0.7217 0.79920 0.86308 0.89996 0.92142\n",
       "                           PC8     PC9    PC10    PC11    PC12    PC13   PC14\n",
       "Standard deviation     0.55444 0.48493 0.44708 0.41915 0.35804 0.26333 0.2418\n",
       "Proportion of Variance 0.02049 0.01568 0.01333 0.01171 0.00855 0.00462 0.0039\n",
       "Cumulative Proportion  0.94191 0.95759 0.97091 0.98263 0.99117 0.99579 0.9997\n",
       "                          PC15\n",
       "Standard deviation     0.06793\n",
       "Proportion of Variance 0.00031\n",
       "Cumulative Proportion  1.00000"
      ]
     },
     "metadata": {},
     "output_type": "display_data"
    }
   ],
   "source": [
    "summary(crimedatapca)  # How much of the variance is explained by each PC's"
   ]
  },
  {
   "cell_type": "markdown",
   "metadata": {},
   "source": [
    "### rotation matrix is a formula that converts from the original variables to Principal Components\n",
    "\n",
    "\n",
    "**So PC1 is nothing but (-0.30371194 * M) + (-0.33088129 * SO) + (0.33962148 * Ed) + ............ + (-0.02062867 * Time), similarly it goes for other PC's**"
   ]
  },
  {
   "cell_type": "code",
   "execution_count": 14,
   "metadata": {},
   "outputs": [
    {
     "data": {
      "text/html": [
       "<ol class=list-inline>\n",
       "\t<li>40.1</li>\n",
       "\t<li>18.7</li>\n",
       "\t<li>13.4</li>\n",
       "\t<li>7.7</li>\n",
       "\t<li>6.4</li>\n",
       "\t<li>3.7</li>\n",
       "\t<li>2.1</li>\n",
       "\t<li>2</li>\n",
       "\t<li>1.6</li>\n",
       "\t<li>1.3</li>\n",
       "\t<li>1.2</li>\n",
       "\t<li>0.9</li>\n",
       "\t<li>0.5</li>\n",
       "\t<li>0.4</li>\n",
       "\t<li>0</li>\n",
       "</ol>\n"
      ],
      "text/latex": [
       "\\begin{enumerate*}\n",
       "\\item 40.1\n",
       "\\item 18.7\n",
       "\\item 13.4\n",
       "\\item 7.7\n",
       "\\item 6.4\n",
       "\\item 3.7\n",
       "\\item 2.1\n",
       "\\item 2\n",
       "\\item 1.6\n",
       "\\item 1.3\n",
       "\\item 1.2\n",
       "\\item 0.9\n",
       "\\item 0.5\n",
       "\\item 0.4\n",
       "\\item 0\n",
       "\\end{enumerate*}\n"
      ],
      "text/markdown": [
       "1. 40.1\n",
       "2. 18.7\n",
       "3. 13.4\n",
       "4. 7.7\n",
       "5. 6.4\n",
       "6. 3.7\n",
       "7. 2.1\n",
       "8. 2\n",
       "9. 1.6\n",
       "10. 1.3\n",
       "11. 1.2\n",
       "12. 0.9\n",
       "13. 0.5\n",
       "14. 0.4\n",
       "15. 0\n",
       "\n",
       "\n"
      ],
      "text/plain": [
       " [1] 40.1 18.7 13.4  7.7  6.4  3.7  2.1  2.0  1.6  1.3  1.2  0.9  0.5  0.4  0.0"
      ]
     },
     "metadata": {},
     "output_type": "display_data"
    }
   ],
   "source": [
    "# We use **sdev** to calculate the variation in the original data each PC accounts for\n",
    "var <- crimedatapca$sdev^2\n",
    "\n",
    "var.per <- round(var/sum(var)*100, 1) # PERCENTAGE of variation\n",
    "var.per"
   ]
  },
  {
   "cell_type": "markdown",
   "metadata": {},
   "source": [
    "**We can see that the first principal component explains 40.1% variance. Second component explains 18.7% variance. Third component explains 13.4% variance and so on.**"
   ]
  },
  {
   "cell_type": "markdown",
   "metadata": {},
   "source": [
    "# Selecting number of PCs' according to the following graphs"
   ]
  },
  {
   "cell_type": "markdown",
   "metadata": {},
   "source": [
    "#### Screen Plot, shows variance explained by each PC's."
   ]
  },
  {
   "cell_type": "code",
   "execution_count": 15,
   "metadata": {},
   "outputs": [
    {
     "data": {
      "image/png": "[encoded data removed]",
      "text/plain": [
       "Plot with title \"Scree Plot\""
      ]
     },
     "metadata": {},
     "output_type": "display_data"
    }
   ],
   "source": [
    "barplot(var.per, main=\"Scree Plot\", xlab=\"Principal Component\", ylab=\"Percent Variation\")"
   ]
  },
  {
   "cell_type": "code",
   "execution_count": 11,
   "metadata": {},
   "outputs": [
    {
     "data": {
      "image/png": "[encoded data removed]",
      "text/plain": [
       "Plot with title \"Scree Plot\""
      ]
     },
     "metadata": {},
     "output_type": "display_data"
    }
   ],
   "source": [
    "#Determine which PC variables are import. Kaiser method suggests any stdev greater than one is important. \n",
    "screeplot(crimedatapca,main = \"Scree Plot\", type = \"line\")\n",
    "abline(h=1, col=\"red\")"
   ]
  },
  {
   "cell_type": "code",
   "execution_count": null,
   "metadata": {},
   "outputs": [],
   "source": []
  },
  {
   "cell_type": "markdown",
   "metadata": {},
   "source": [
    "### From the above plots; I'm taking the first 5 Principal Components, because they account for a little more than 85% of the variation in data\n",
    "\n",
    "**based on this technique, we would choose to use the first 5 PCs in our model**"
   ]
  },
  {
   "cell_type": "code",
   "execution_count": 17,
   "metadata": {},
   "outputs": [
    {
     "data": {
      "text/html": [
       "<table>\n",
       "<thead><tr><th scope=col>PC1</th><th scope=col>PC2</th><th scope=col>PC3</th><th scope=col>PC4</th><th scope=col>PC5</th><th scope=col>Crime</th></tr></thead>\n",
       "<tbody>\n",
       "\t<tr><td>-4.1992835  </td><td>-1.09383120 </td><td>-1.11907395 </td><td> 0.67178115 </td><td> 0.055283376</td><td> 791        </td></tr>\n",
       "\t<tr><td> 1.1726630  </td><td> 0.67701360 </td><td>-0.05244634 </td><td>-0.08350709 </td><td>-1.173199821</td><td>1635        </td></tr>\n",
       "\t<tr><td>-4.1737248  </td><td> 0.27677501 </td><td>-0.37107658 </td><td> 0.37793995 </td><td> 0.541345246</td><td> 578        </td></tr>\n",
       "\t<tr><td> 3.8349617  </td><td>-2.57690596 </td><td> 0.22793998 </td><td> 0.38262331 </td><td>-1.644746496</td><td>1969        </td></tr>\n",
       "\t<tr><td> 1.8392999  </td><td> 1.33098564 </td><td> 1.27882805 </td><td> 0.71814305 </td><td> 0.041590320</td><td>1234        </td></tr>\n",
       "\t<tr><td> 2.9072336  </td><td>-0.33054213 </td><td> 0.53288181 </td><td> 1.22140635 </td><td> 1.374360960</td><td> 682        </td></tr>\n",
       "\t<tr><td> 0.2457752  </td><td>-0.07362562 </td><td>-0.90742064 </td><td> 1.13685873 </td><td> 0.718644387</td><td> 963        </td></tr>\n",
       "\t<tr><td>-0.1301330  </td><td>-1.35985577 </td><td> 0.59753132 </td><td> 1.44045387 </td><td>-0.222781388</td><td>1555        </td></tr>\n",
       "\t<tr><td>-3.6103169  </td><td>-0.68621008 </td><td> 1.28372246 </td><td> 0.55171150 </td><td>-0.324292990</td><td> 856        </td></tr>\n",
       "\t<tr><td> 1.1672376  </td><td> 3.03207033 </td><td> 0.37984502 </td><td>-0.28887026 </td><td>-0.646056610</td><td> 705        </td></tr>\n",
       "\t<tr><td> 2.5384879  </td><td>-2.66771358 </td><td> 1.54424656 </td><td>-0.87671210 </td><td>-0.324083561</td><td>1674        </td></tr>\n",
       "\t<tr><td> 1.0065920  </td><td>-0.06044849 </td><td> 1.18861346 </td><td>-1.31261964 </td><td> 0.358087724</td><td> 849        </td></tr>\n",
       "\t<tr><td> 0.5161143  </td><td> 0.97485189 </td><td> 1.83351610 </td><td>-1.59117618 </td><td> 0.599881946</td><td> 511        </td></tr>\n",
       "\t<tr><td> 0.4265556  </td><td> 1.85044812 </td><td> 1.02893477 </td><td>-0.07789173 </td><td> 0.741887592</td><td> 664        </td></tr>\n",
       "\t<tr><td>-3.3435299  </td><td> 0.05182823 </td><td>-1.01358113 </td><td> 0.08840211 </td><td> 0.002969448</td><td> 798        </td></tr>\n",
       "\t<tr><td>-3.0310689  </td><td>-2.10295524 </td><td>-1.82993161 </td><td> 0.52347187 </td><td>-0.387454246</td><td> 946        </td></tr>\n",
       "\t<tr><td>-0.2262961  </td><td> 1.44939774 </td><td>-1.37565975 </td><td> 0.28960865 </td><td> 1.337784608</td><td> 539        </td></tr>\n",
       "\t<tr><td>-0.1127499  </td><td>-0.39407030 </td><td>-0.38836278 </td><td> 3.97985093 </td><td> 0.410914404</td><td> 929        </td></tr>\n",
       "\t<tr><td> 2.9195668  </td><td>-1.58646124 </td><td> 0.97612613 </td><td> 0.78629766 </td><td> 1.356288600</td><td> 750        </td></tr>\n",
       "\t<tr><td> 2.2998485  </td><td>-1.73396487 </td><td>-2.82423222 </td><td>-0.23281758 </td><td>-0.653038858</td><td>1225        </td></tr>\n",
       "\t<tr><td> 1.1501667  </td><td> 0.13531015 </td><td> 0.28506743 </td><td>-2.19770548 </td><td> 0.084621572</td><td> 742        </td></tr>\n",
       "\t<tr><td>-5.6594827  </td><td>-1.09730404 </td><td> 0.10043541 </td><td>-0.05245484 </td><td>-0.689327990</td><td> 439        </td></tr>\n",
       "\t<tr><td>-0.1011749  </td><td>-0.57911362 </td><td> 0.71128354 </td><td>-0.44394773 </td><td> 0.689939865</td><td>1216        </td></tr>\n",
       "\t<tr><td> 1.3836281  </td><td> 1.95052341 </td><td>-2.98485490 </td><td>-0.35942784 </td><td>-0.744371276</td><td> 968        </td></tr>\n",
       "\t<tr><td> 0.2727756  </td><td> 2.63013778 </td><td> 1.83189535 </td><td> 0.05207518 </td><td> 0.803692524</td><td> 523        </td></tr>\n",
       "\t<tr><td> 4.0565577  </td><td> 1.17534729 </td><td>-0.81690756 </td><td> 1.66990720 </td><td>-2.895110075</td><td>1993        </td></tr>\n",
       "\t<tr><td> 0.8929694  </td><td> 0.79236692 </td><td> 1.26822542 </td><td>-0.57575615 </td><td> 1.830793964</td><td> 342        </td></tr>\n",
       "\t<tr><td> 0.1514495  </td><td> 1.44873320 </td><td> 0.10857670 </td><td>-0.51040146 </td><td>-1.023229895</td><td>1216        </td></tr>\n",
       "\t<tr><td> 3.5592481  </td><td>-4.76202163 </td><td> 0.75080576 </td><td> 0.64692974 </td><td> 0.309946510</td><td>1043        </td></tr>\n",
       "\t<tr><td>-4.1184576  </td><td>-0.38073981 </td><td> 1.43463965 </td><td> 0.63330834 </td><td>-0.254715638</td><td> 696        </td></tr>\n",
       "\t<tr><td>-0.6811731  </td><td> 1.66926027 </td><td>-2.88645794 </td><td>-1.30977099 </td><td>-0.470913997</td><td> 373        </td></tr>\n",
       "\t<tr><td> 1.7157269  </td><td>-1.30836339 </td><td>-0.55971313 </td><td>-0.70557980 </td><td> 0.331277622</td><td> 754        </td></tr>\n",
       "\t<tr><td>-1.8860627  </td><td> 0.59058174 </td><td> 1.43570145 </td><td> 0.18239089 </td><td> 0.291863659</td><td>1072        </td></tr>\n",
       "\t<tr><td> 1.9526349  </td><td> 0.52395429 </td><td>-0.75642216 </td><td> 0.44289927 </td><td> 0.723474420</td><td> 923        </td></tr>\n",
       "\t<tr><td> 1.5888864  </td><td>-3.12998571 </td><td>-1.73107199 </td><td>-1.68604766 </td><td> 0.665406182</td><td> 653        </td></tr>\n",
       "\t<tr><td> 1.0709414  </td><td>-1.65628271 </td><td> 0.79436888 </td><td>-1.85172698 </td><td> 0.020031154</td><td>1272        </td></tr>\n",
       "\t<tr><td>-4.1101715  </td><td> 0.15766712 </td><td> 2.36296974 </td><td>-0.56868399 </td><td>-2.469679496</td><td> 831        </td></tr>\n",
       "\t<tr><td>-0.7254706  </td><td> 2.89263339 </td><td>-0.36348376 </td><td>-0.50612576 </td><td> 0.028157162</td><td> 566        </td></tr>\n",
       "\t<tr><td>-3.3451254  </td><td>-0.95045293 </td><td> 0.19551398 </td><td>-0.27716645 </td><td> 0.487259213</td><td> 826        </td></tr>\n",
       "\t<tr><td>-1.0644466  </td><td>-1.05265304 </td><td> 0.82886286 </td><td>-0.12042931 </td><td>-0.645884788</td><td>1151        </td></tr>\n",
       "\t<tr><td> 1.4933989  </td><td> 1.86712106 </td><td> 1.81853582 </td><td>-1.06112429 </td><td> 0.009855774</td><td> 880        </td></tr>\n",
       "\t<tr><td>-0.6789284  </td><td> 1.83156328 </td><td>-1.65435992 </td><td> 0.95121379 </td><td> 2.115630145</td><td> 542        </td></tr>\n",
       "\t<tr><td>-2.4164258  </td><td>-0.46701087 </td><td> 1.42808323 </td><td> 0.41149015 </td><td>-0.867397522</td><td> 823        </td></tr>\n",
       "\t<tr><td> 2.2978729  </td><td> 0.41865689 </td><td>-0.64422929 </td><td>-0.63462770 </td><td>-0.703116983</td><td>1030        </td></tr>\n",
       "\t<tr><td>-2.9245282  </td><td>-1.19488555 </td><td>-3.35139309 </td><td>-1.48966984 </td><td> 0.806659622</td><td> 455        </td></tr>\n",
       "\t<tr><td> 1.7654525  </td><td> 0.95655926 </td><td> 0.98576138 </td><td> 1.05683769 </td><td> 0.542466034</td><td> 508        </td></tr>\n",
       "\t<tr><td> 2.3125056  </td><td> 2.56161119 </td><td>-1.58223354 </td><td> 0.59863946 </td><td>-1.140712406</td><td> 849        </td></tr>\n",
       "</tbody>\n",
       "</table>\n"
      ],
      "text/latex": [
       "\\begin{tabular}{r|llllll}\n",
       " PC1 & PC2 & PC3 & PC4 & PC5 & Crime\\\\\n",
       "\\hline\n",
       "\t -4.1992835   & -1.09383120  & -1.11907395  &  0.67178115  &  0.055283376 &  791        \\\\\n",
       "\t  1.1726630   &  0.67701360  & -0.05244634  & -0.08350709  & -1.173199821 & 1635        \\\\\n",
       "\t -4.1737248   &  0.27677501  & -0.37107658  &  0.37793995  &  0.541345246 &  578        \\\\\n",
       "\t  3.8349617   & -2.57690596  &  0.22793998  &  0.38262331  & -1.644746496 & 1969        \\\\\n",
       "\t  1.8392999   &  1.33098564  &  1.27882805  &  0.71814305  &  0.041590320 & 1234        \\\\\n",
       "\t  2.9072336   & -0.33054213  &  0.53288181  &  1.22140635  &  1.374360960 &  682        \\\\\n",
       "\t  0.2457752   & -0.07362562  & -0.90742064  &  1.13685873  &  0.718644387 &  963        \\\\\n",
       "\t -0.1301330   & -1.35985577  &  0.59753132  &  1.44045387  & -0.222781388 & 1555        \\\\\n",
       "\t -3.6103169   & -0.68621008  &  1.28372246  &  0.55171150  & -0.324292990 &  856        \\\\\n",
       "\t  1.1672376   &  3.03207033  &  0.37984502  & -0.28887026  & -0.646056610 &  705        \\\\\n",
       "\t  2.5384879   & -2.66771358  &  1.54424656  & -0.87671210  & -0.324083561 & 1674        \\\\\n",
       "\t  1.0065920   & -0.06044849  &  1.18861346  & -1.31261964  &  0.358087724 &  849        \\\\\n",
       "\t  0.5161143   &  0.97485189  &  1.83351610  & -1.59117618  &  0.599881946 &  511        \\\\\n",
       "\t  0.4265556   &  1.85044812  &  1.02893477  & -0.07789173  &  0.741887592 &  664        \\\\\n",
       "\t -3.3435299   &  0.05182823  & -1.01358113  &  0.08840211  &  0.002969448 &  798        \\\\\n",
       "\t -3.0310689   & -2.10295524  & -1.82993161  &  0.52347187  & -0.387454246 &  946        \\\\\n",
       "\t -0.2262961   &  1.44939774  & -1.37565975  &  0.28960865  &  1.337784608 &  539        \\\\\n",
       "\t -0.1127499   & -0.39407030  & -0.38836278  &  3.97985093  &  0.410914404 &  929        \\\\\n",
       "\t  2.9195668   & -1.58646124  &  0.97612613  &  0.78629766  &  1.356288600 &  750        \\\\\n",
       "\t  2.2998485   & -1.73396487  & -2.82423222  & -0.23281758  & -0.653038858 & 1225        \\\\\n",
       "\t  1.1501667   &  0.13531015  &  0.28506743  & -2.19770548  &  0.084621572 &  742        \\\\\n",
       "\t -5.6594827   & -1.09730404  &  0.10043541  & -0.05245484  & -0.689327990 &  439        \\\\\n",
       "\t -0.1011749   & -0.57911362  &  0.71128354  & -0.44394773  &  0.689939865 & 1216        \\\\\n",
       "\t  1.3836281   &  1.95052341  & -2.98485490  & -0.35942784  & -0.744371276 &  968        \\\\\n",
       "\t  0.2727756   &  2.63013778  &  1.83189535  &  0.05207518  &  0.803692524 &  523        \\\\\n",
       "\t  4.0565577   &  1.17534729  & -0.81690756  &  1.66990720  & -2.895110075 & 1993        \\\\\n",
       "\t  0.8929694   &  0.79236692  &  1.26822542  & -0.57575615  &  1.830793964 &  342        \\\\\n",
       "\t  0.1514495   &  1.44873320  &  0.10857670  & -0.51040146  & -1.023229895 & 1216        \\\\\n",
       "\t  3.5592481   & -4.76202163  &  0.75080576  &  0.64692974  &  0.309946510 & 1043        \\\\\n",
       "\t -4.1184576   & -0.38073981  &  1.43463965  &  0.63330834  & -0.254715638 &  696        \\\\\n",
       "\t -0.6811731   &  1.66926027  & -2.88645794  & -1.30977099  & -0.470913997 &  373        \\\\\n",
       "\t  1.7157269   & -1.30836339  & -0.55971313  & -0.70557980  &  0.331277622 &  754        \\\\\n",
       "\t -1.8860627   &  0.59058174  &  1.43570145  &  0.18239089  &  0.291863659 & 1072        \\\\\n",
       "\t  1.9526349   &  0.52395429  & -0.75642216  &  0.44289927  &  0.723474420 &  923        \\\\\n",
       "\t  1.5888864   & -3.12998571  & -1.73107199  & -1.68604766  &  0.665406182 &  653        \\\\\n",
       "\t  1.0709414   & -1.65628271  &  0.79436888  & -1.85172698  &  0.020031154 & 1272        \\\\\n",
       "\t -4.1101715   &  0.15766712  &  2.36296974  & -0.56868399  & -2.469679496 &  831        \\\\\n",
       "\t -0.7254706   &  2.89263339  & -0.36348376  & -0.50612576  &  0.028157162 &  566        \\\\\n",
       "\t -3.3451254   & -0.95045293  &  0.19551398  & -0.27716645  &  0.487259213 &  826        \\\\\n",
       "\t -1.0644466   & -1.05265304  &  0.82886286  & -0.12042931  & -0.645884788 & 1151        \\\\\n",
       "\t  1.4933989   &  1.86712106  &  1.81853582  & -1.06112429  &  0.009855774 &  880        \\\\\n",
       "\t -0.6789284   &  1.83156328  & -1.65435992  &  0.95121379  &  2.115630145 &  542        \\\\\n",
       "\t -2.4164258   & -0.46701087  &  1.42808323  &  0.41149015  & -0.867397522 &  823        \\\\\n",
       "\t  2.2978729   &  0.41865689  & -0.64422929  & -0.63462770  & -0.703116983 & 1030        \\\\\n",
       "\t -2.9245282   & -1.19488555  & -3.35139309  & -1.48966984  &  0.806659622 &  455        \\\\\n",
       "\t  1.7654525   &  0.95655926  &  0.98576138  &  1.05683769  &  0.542466034 &  508        \\\\\n",
       "\t  2.3125056   &  2.56161119  & -1.58223354  &  0.59863946  & -1.140712406 &  849        \\\\\n",
       "\\end{tabular}\n"
      ],
      "text/markdown": [
       "\n",
       "| PC1 | PC2 | PC3 | PC4 | PC5 | Crime |\n",
       "|---|---|---|---|---|---|\n",
       "| -4.1992835   | -1.09383120  | -1.11907395  |  0.67178115  |  0.055283376 |  791         |\n",
       "|  1.1726630   |  0.67701360  | -0.05244634  | -0.08350709  | -1.173199821 | 1635         |\n",
       "| -4.1737248   |  0.27677501  | -0.37107658  |  0.37793995  |  0.541345246 |  578         |\n",
       "|  3.8349617   | -2.57690596  |  0.22793998  |  0.38262331  | -1.644746496 | 1969         |\n",
       "|  1.8392999   |  1.33098564  |  1.27882805  |  0.71814305  |  0.041590320 | 1234         |\n",
       "|  2.9072336   | -0.33054213  |  0.53288181  |  1.22140635  |  1.374360960 |  682         |\n",
       "|  0.2457752   | -0.07362562  | -0.90742064  |  1.13685873  |  0.718644387 |  963         |\n",
       "| -0.1301330   | -1.35985577  |  0.59753132  |  1.44045387  | -0.222781388 | 1555         |\n",
       "| -3.6103169   | -0.68621008  |  1.28372246  |  0.55171150  | -0.324292990 |  856         |\n",
       "|  1.1672376   |  3.03207033  |  0.37984502  | -0.28887026  | -0.646056610 |  705         |\n",
       "|  2.5384879   | -2.66771358  |  1.54424656  | -0.87671210  | -0.324083561 | 1674         |\n",
       "|  1.0065920   | -0.06044849  |  1.18861346  | -1.31261964  |  0.358087724 |  849         |\n",
       "|  0.5161143   |  0.97485189  |  1.83351610  | -1.59117618  |  0.599881946 |  511         |\n",
       "|  0.4265556   |  1.85044812  |  1.02893477  | -0.07789173  |  0.741887592 |  664         |\n",
       "| -3.3435299   |  0.05182823  | -1.01358113  |  0.08840211  |  0.002969448 |  798         |\n",
       "| -3.0310689   | -2.10295524  | -1.82993161  |  0.52347187  | -0.387454246 |  946         |\n",
       "| -0.2262961   |  1.44939774  | -1.37565975  |  0.28960865  |  1.337784608 |  539         |\n",
       "| -0.1127499   | -0.39407030  | -0.38836278  |  3.97985093  |  0.410914404 |  929         |\n",
       "|  2.9195668   | -1.58646124  |  0.97612613  |  0.78629766  |  1.356288600 |  750         |\n",
       "|  2.2998485   | -1.73396487  | -2.82423222  | -0.23281758  | -0.653038858 | 1225         |\n",
       "|  1.1501667   |  0.13531015  |  0.28506743  | -2.19770548  |  0.084621572 |  742         |\n",
       "| -5.6594827   | -1.09730404  |  0.10043541  | -0.05245484  | -0.689327990 |  439         |\n",
       "| -0.1011749   | -0.57911362  |  0.71128354  | -0.44394773  |  0.689939865 | 1216         |\n",
       "|  1.3836281   |  1.95052341  | -2.98485490  | -0.35942784  | -0.744371276 |  968         |\n",
       "|  0.2727756   |  2.63013778  |  1.83189535  |  0.05207518  |  0.803692524 |  523         |\n",
       "|  4.0565577   |  1.17534729  | -0.81690756  |  1.66990720  | -2.895110075 | 1993         |\n",
       "|  0.8929694   |  0.79236692  |  1.26822542  | -0.57575615  |  1.830793964 |  342         |\n",
       "|  0.1514495   |  1.44873320  |  0.10857670  | -0.51040146  | -1.023229895 | 1216         |\n",
       "|  3.5592481   | -4.76202163  |  0.75080576  |  0.64692974  |  0.309946510 | 1043         |\n",
       "| -4.1184576   | -0.38073981  |  1.43463965  |  0.63330834  | -0.254715638 |  696         |\n",
       "| -0.6811731   |  1.66926027  | -2.88645794  | -1.30977099  | -0.470913997 |  373         |\n",
       "|  1.7157269   | -1.30836339  | -0.55971313  | -0.70557980  |  0.331277622 |  754         |\n",
       "| -1.8860627   |  0.59058174  |  1.43570145  |  0.18239089  |  0.291863659 | 1072         |\n",
       "|  1.9526349   |  0.52395429  | -0.75642216  |  0.44289927  |  0.723474420 |  923         |\n",
       "|  1.5888864   | -3.12998571  | -1.73107199  | -1.68604766  |  0.665406182 |  653         |\n",
       "|  1.0709414   | -1.65628271  |  0.79436888  | -1.85172698  |  0.020031154 | 1272         |\n",
       "| -4.1101715   |  0.15766712  |  2.36296974  | -0.56868399  | -2.469679496 |  831         |\n",
       "| -0.7254706   |  2.89263339  | -0.36348376  | -0.50612576  |  0.028157162 |  566         |\n",
       "| -3.3451254   | -0.95045293  |  0.19551398  | -0.27716645  |  0.487259213 |  826         |\n",
       "| -1.0644466   | -1.05265304  |  0.82886286  | -0.12042931  | -0.645884788 | 1151         |\n",
       "|  1.4933989   |  1.86712106  |  1.81853582  | -1.06112429  |  0.009855774 |  880         |\n",
       "| -0.6789284   |  1.83156328  | -1.65435992  |  0.95121379  |  2.115630145 |  542         |\n",
       "| -2.4164258   | -0.46701087  |  1.42808323  |  0.41149015  | -0.867397522 |  823         |\n",
       "|  2.2978729   |  0.41865689  | -0.64422929  | -0.63462770  | -0.703116983 | 1030         |\n",
       "| -2.9245282   | -1.19488555  | -3.35139309  | -1.48966984  |  0.806659622 |  455         |\n",
       "|  1.7654525   |  0.95655926  |  0.98576138  |  1.05683769  |  0.542466034 |  508         |\n",
       "|  2.3125056   |  2.56161119  | -1.58223354  |  0.59863946  | -1.140712406 |  849         |\n",
       "\n"
      ],
      "text/plain": [
       "   PC1        PC2         PC3         PC4         PC5          Crime\n",
       "1  -4.1992835 -1.09383120 -1.11907395  0.67178115  0.055283376  791 \n",
       "2   1.1726630  0.67701360 -0.05244634 -0.08350709 -1.173199821 1635 \n",
       "3  -4.1737248  0.27677501 -0.37107658  0.37793995  0.541345246  578 \n",
       "4   3.8349617 -2.57690596  0.22793998  0.38262331 -1.644746496 1969 \n",
       "5   1.8392999  1.33098564  1.27882805  0.71814305  0.041590320 1234 \n",
       "6   2.9072336 -0.33054213  0.53288181  1.22140635  1.374360960  682 \n",
       "7   0.2457752 -0.07362562 -0.90742064  1.13685873  0.718644387  963 \n",
       "8  -0.1301330 -1.35985577  0.59753132  1.44045387 -0.222781388 1555 \n",
       "9  -3.6103169 -0.68621008  1.28372246  0.55171150 -0.324292990  856 \n",
       "10  1.1672376  3.03207033  0.37984502 -0.28887026 -0.646056610  705 \n",
       "11  2.5384879 -2.66771358  1.54424656 -0.87671210 -0.324083561 1674 \n",
       "12  1.0065920 -0.06044849  1.18861346 -1.31261964  0.358087724  849 \n",
       "13  0.5161143  0.97485189  1.83351610 -1.59117618  0.599881946  511 \n",
       "14  0.4265556  1.85044812  1.02893477 -0.07789173  0.741887592  664 \n",
       "15 -3.3435299  0.05182823 -1.01358113  0.08840211  0.002969448  798 \n",
       "16 -3.0310689 -2.10295524 -1.82993161  0.52347187 -0.387454246  946 \n",
       "17 -0.2262961  1.44939774 -1.37565975  0.28960865  1.337784608  539 \n",
       "18 -0.1127499 -0.39407030 -0.38836278  3.97985093  0.410914404  929 \n",
       "19  2.9195668 -1.58646124  0.97612613  0.78629766  1.356288600  750 \n",
       "20  2.2998485 -1.73396487 -2.82423222 -0.23281758 -0.653038858 1225 \n",
       "21  1.1501667  0.13531015  0.28506743 -2.19770548  0.084621572  742 \n",
       "22 -5.6594827 -1.09730404  0.10043541 -0.05245484 -0.689327990  439 \n",
       "23 -0.1011749 -0.57911362  0.71128354 -0.44394773  0.689939865 1216 \n",
       "24  1.3836281  1.95052341 -2.98485490 -0.35942784 -0.744371276  968 \n",
       "25  0.2727756  2.63013778  1.83189535  0.05207518  0.803692524  523 \n",
       "26  4.0565577  1.17534729 -0.81690756  1.66990720 -2.895110075 1993 \n",
       "27  0.8929694  0.79236692  1.26822542 -0.57575615  1.830793964  342 \n",
       "28  0.1514495  1.44873320  0.10857670 -0.51040146 -1.023229895 1216 \n",
       "29  3.5592481 -4.76202163  0.75080576  0.64692974  0.309946510 1043 \n",
       "30 -4.1184576 -0.38073981  1.43463965  0.63330834 -0.254715638  696 \n",
       "31 -0.6811731  1.66926027 -2.88645794 -1.30977099 -0.470913997  373 \n",
       "32  1.7157269 -1.30836339 -0.55971313 -0.70557980  0.331277622  754 \n",
       "33 -1.8860627  0.59058174  1.43570145  0.18239089  0.291863659 1072 \n",
       "34  1.9526349  0.52395429 -0.75642216  0.44289927  0.723474420  923 \n",
       "35  1.5888864 -3.12998571 -1.73107199 -1.68604766  0.665406182  653 \n",
       "36  1.0709414 -1.65628271  0.79436888 -1.85172698  0.020031154 1272 \n",
       "37 -4.1101715  0.15766712  2.36296974 -0.56868399 -2.469679496  831 \n",
       "38 -0.7254706  2.89263339 -0.36348376 -0.50612576  0.028157162  566 \n",
       "39 -3.3451254 -0.95045293  0.19551398 -0.27716645  0.487259213  826 \n",
       "40 -1.0644466 -1.05265304  0.82886286 -0.12042931 -0.645884788 1151 \n",
       "41  1.4933989  1.86712106  1.81853582 -1.06112429  0.009855774  880 \n",
       "42 -0.6789284  1.83156328 -1.65435992  0.95121379  2.115630145  542 \n",
       "43 -2.4164258 -0.46701087  1.42808323  0.41149015 -0.867397522  823 \n",
       "44  2.2978729  0.41865689 -0.64422929 -0.63462770 -0.703116983 1030 \n",
       "45 -2.9245282 -1.19488555 -3.35139309 -1.48966984  0.806659622  455 \n",
       "46  1.7654525  0.95655926  0.98576138  1.05683769  0.542466034  508 \n",
       "47  2.3125056  2.56161119 -1.58223354  0.59863946 -1.140712406  849 "
      ]
     },
     "metadata": {},
     "output_type": "display_data"
    }
   ],
   "source": [
    "# Make regression models based on PCA to predict crime\n",
    "\n",
    "pccrime <- as.data.frame(cbind(crimedatapca$x[,1:5],crimedata[,16]))\n",
    "\n",
    "colnames(pccrime) <- c(\"PC1\", \"PC2\", \"PC3\", \"PC4\", \"PC5\",\"Crime\")\n",
    "pccrime"
   ]
  },
  {
   "cell_type": "code",
   "execution_count": 22,
   "metadata": {},
   "outputs": [
    {
     "data": {
      "text/html": [
       "<dl class=dl-horizontal>\n",
       "\t<dt>PC1</dt>\n",
       "\t\t<dd>0.413684811708945</dd>\n",
       "\t<dt>PC2</dt>\n",
       "\t\t<dd>-0.303313016855248</dd>\n",
       "\t<dt>PC3</dt>\n",
       "\t\t<dd>0.0922369746380262</dd>\n",
       "\t<dt>PC4</dt>\n",
       "\t\t<dd>0.193572982443321</dd>\n",
       "\t<dt>PC5</dt>\n",
       "\t\t<dd>-0.579725784316875</dd>\n",
       "\t<dt>Crime</dt>\n",
       "\t\t<dd>1</dd>\n",
       "</dl>\n"
      ],
      "text/latex": [
       "\\begin{description*}\n",
       "\\item[PC1] 0.413684811708945\n",
       "\\item[PC2] -0.303313016855248\n",
       "\\item[PC3] 0.0922369746380262\n",
       "\\item[PC4] 0.193572982443321\n",
       "\\item[PC5] -0.579725784316875\n",
       "\\item[Crime] 1\n",
       "\\end{description*}\n"
      ],
      "text/markdown": [
       "PC1\n",
       ":   0.413684811708945PC2\n",
       ":   -0.303313016855248PC3\n",
       ":   0.0922369746380262PC4\n",
       ":   0.193572982443321PC5\n",
       ":   -0.579725784316875Crime\n",
       ":   1\n",
       "\n"
      ],
      "text/plain": [
       "        PC1         PC2         PC3         PC4         PC5       Crime \n",
       " 0.41368481 -0.30331302  0.09223697  0.19357298 -0.57972578  1.00000000 "
      ]
     },
     "metadata": {},
     "output_type": "display_data"
    }
   ],
   "source": [
    "cor(pccrime)[,6]"
   ]
  },
  {
   "cell_type": "markdown",
   "metadata": {},
   "source": [
    "The above code shows how each PC is related to responce"
   ]
  },
  {
   "cell_type": "code",
   "execution_count": 24,
   "metadata": {},
   "outputs": [
    {
     "data": {
      "text/plain": [
       "\n",
       "Call:\n",
       "lm(formula = Crime ~ ., data = pccrime)\n",
       "\n",
       "Residuals:\n",
       "    Min      1Q  Median      3Q     Max \n",
       "-420.79 -185.01   12.21  146.24  447.86 \n",
       "\n",
       "Coefficients:\n",
       "            Estimate Std. Error t value Pr(>|t|)    \n",
       "(Intercept)   905.09      35.59  25.428  < 2e-16 ***\n",
       "PC1            65.22      14.67   4.447 6.51e-05 ***\n",
       "PC2           -70.08      21.49  -3.261  0.00224 ** \n",
       "PC3            25.19      25.41   0.992  0.32725    \n",
       "PC4            69.45      33.37   2.081  0.04374 *  \n",
       "PC5          -229.04      36.75  -6.232 2.02e-07 ***\n",
       "---\n",
       "Signif. codes:  0 '***' 0.001 '**' 0.01 '*' 0.05 '.' 0.1 ' ' 1\n",
       "\n",
       "Residual standard error: 244 on 41 degrees of freedom\n",
       "Multiple R-squared:  0.6452,\tAdjusted R-squared:  0.6019 \n",
       "F-statistic: 14.91 on 5 and 41 DF,  p-value: 2.446e-08\n"
      ]
     },
     "metadata": {},
     "output_type": "display_data"
    }
   ],
   "source": [
    "#using PCs combined with crime data, we create a linear regression model\n",
    "#The advantage of doing this is to reduce the complexity of the model while also making it more robust\n",
    "model <- lm(Crime~.,data = pccrime)\n",
    "summary(model)"
   ]
  },
  {
   "cell_type": "code",
   "execution_count": 25,
   "metadata": {},
   "outputs": [
    {
     "data": {
      "text/html": [
       "<strong>(Intercept):</strong> 905.085106382979"
      ],
      "text/latex": [
       "\\textbf{(Intercept):} 905.085106382979"
      ],
      "text/markdown": [
       "**(Intercept):** 905.085106382979"
      ],
      "text/plain": [
       "(Intercept) \n",
       "   905.0851 "
      ]
     },
     "metadata": {},
     "output_type": "display_data"
    }
   ],
   "source": [
    "# Get coefficients in terms of original data\n",
    "## from PCA coefficients\n",
    "\n",
    "\n",
    "# PCA Coefficients for this linear regression model\n",
    "\n",
    "beta0 <- model$coefficients[1]\n",
    "betas <- model$coefficients[2:6]\n",
    "beta0"
   ]
  },
  {
   "cell_type": "code",
   "execution_count": 26,
   "metadata": {},
   "outputs": [
    {
     "data": {
      "text/html": [
       "<dl class=dl-horizontal>\n",
       "\t<dt>PC1</dt>\n",
       "\t\t<dd>65.215930138666</dd>\n",
       "\t<dt>PC2</dt>\n",
       "\t\t<dd>-70.0831185497858</dd>\n",
       "\t<dt>PC3</dt>\n",
       "\t\t<dd>25.1940780425771</dd>\n",
       "\t<dt>PC4</dt>\n",
       "\t\t<dd>69.4460307968377</dd>\n",
       "\t<dt>PC5</dt>\n",
       "\t\t<dd>-229.042822001687</dd>\n",
       "</dl>\n"
      ],
      "text/latex": [
       "\\begin{description*}\n",
       "\\item[PC1] 65.215930138666\n",
       "\\item[PC2] -70.0831185497858\n",
       "\\item[PC3] 25.1940780425771\n",
       "\\item[PC4] 69.4460307968377\n",
       "\\item[PC5] -229.042822001687\n",
       "\\end{description*}\n"
      ],
      "text/markdown": [
       "PC1\n",
       ":   65.215930138666PC2\n",
       ":   -70.0831185497858PC3\n",
       ":   25.1940780425771PC4\n",
       ":   69.4460307968377PC5\n",
       ":   -229.042822001687\n",
       "\n"
      ],
      "text/plain": [
       "       PC1        PC2        PC3        PC4        PC5 \n",
       "  65.21593  -70.08312   25.19408   69.44603 -229.04282 "
      ]
     },
     "metadata": {},
     "output_type": "display_data"
    }
   ],
   "source": [
    "betas"
   ]
  },
  {
   "cell_type": "code",
   "execution_count": 28,
   "metadata": {},
   "outputs": [
    {
     "data": {
      "text/html": [
       "<table>\n",
       "<thead><tr><th></th><th scope=col>PC1</th><th scope=col>PC2</th><th scope=col>PC3</th><th scope=col>PC4</th></tr></thead>\n",
       "<tbody>\n",
       "\t<tr><th scope=row>M</th><td>-0.30371194  </td><td> 0.06280357  </td><td> 0.1724199946</td><td>-0.02035537  </td></tr>\n",
       "\t<tr><th scope=row>So</th><td>-0.33088129  </td><td>-0.15837219  </td><td> 0.0155433104</td><td> 0.29247181  </td></tr>\n",
       "\t<tr><th scope=row>Ed</th><td> 0.33962148  </td><td> 0.21461152  </td><td> 0.0677396249</td><td> 0.07974375  </td></tr>\n",
       "\t<tr><th scope=row>Po1</th><td> 0.30863412  </td><td>-0.26981761  </td><td> 0.0506458161</td><td> 0.33325059  </td></tr>\n",
       "\t<tr><th scope=row>Po2</th><td> 0.31099285  </td><td>-0.26396300  </td><td> 0.0530651173</td><td> 0.35192809  </td></tr>\n",
       "\t<tr><th scope=row>LF</th><td> 0.17617757  </td><td> 0.31943042  </td><td> 0.2715301768</td><td>-0.14326529  </td></tr>\n",
       "\t<tr><th scope=row>M.F</th><td> 0.11638221  </td><td> 0.39434428  </td><td>-0.2031621598</td><td> 0.01048029  </td></tr>\n",
       "\t<tr><th scope=row>Pop</th><td> 0.11307836  </td><td>-0.46723456  </td><td> 0.0770210971</td><td>-0.03210513  </td></tr>\n",
       "\t<tr><th scope=row>NW</th><td>-0.29358647  </td><td>-0.22801119  </td><td> 0.0788156621</td><td> 0.23925971  </td></tr>\n",
       "\t<tr><th scope=row>U1</th><td> 0.04050137  </td><td> 0.00807439  </td><td>-0.6590290980</td><td>-0.18279096  </td></tr>\n",
       "\t<tr><th scope=row>U2</th><td> 0.01812228  </td><td>-0.27971336  </td><td>-0.5785006293</td><td>-0.06889312  </td></tr>\n",
       "\t<tr><th scope=row>Wealth</th><td> 0.37970331  </td><td>-0.07718862  </td><td> 0.0100647664</td><td> 0.11781752  </td></tr>\n",
       "\t<tr><th scope=row>Ineq</th><td>-0.36579778  </td><td>-0.02752240  </td><td>-0.0002944563</td><td>-0.08066612  </td></tr>\n",
       "\t<tr><th scope=row>Prob</th><td>-0.25888661  </td><td> 0.15831708  </td><td>-0.1176726436</td><td> 0.49303389  </td></tr>\n",
       "\t<tr><th scope=row>Time</th><td>-0.02062867  </td><td>-0.38014836  </td><td> 0.2235664632</td><td>-0.54059002  </td></tr>\n",
       "</tbody>\n",
       "</table>\n"
      ],
      "text/latex": [
       "\\begin{tabular}{r|llll}\n",
       "  & PC1 & PC2 & PC3 & PC4\\\\\n",
       "\\hline\n",
       "\tM & -0.30371194   &  0.06280357   &  0.1724199946 & -0.02035537  \\\\\n",
       "\tSo & -0.33088129   & -0.15837219   &  0.0155433104 &  0.29247181  \\\\\n",
       "\tEd &  0.33962148   &  0.21461152   &  0.0677396249 &  0.07974375  \\\\\n",
       "\tPo1 &  0.30863412   & -0.26981761   &  0.0506458161 &  0.33325059  \\\\\n",
       "\tPo2 &  0.31099285   & -0.26396300   &  0.0530651173 &  0.35192809  \\\\\n",
       "\tLF &  0.17617757   &  0.31943042   &  0.2715301768 & -0.14326529  \\\\\n",
       "\tM.F &  0.11638221   &  0.39434428   & -0.2031621598 &  0.01048029  \\\\\n",
       "\tPop &  0.11307836   & -0.46723456   &  0.0770210971 & -0.03210513  \\\\\n",
       "\tNW & -0.29358647   & -0.22801119   &  0.0788156621 &  0.23925971  \\\\\n",
       "\tU1 &  0.04050137   &  0.00807439   & -0.6590290980 & -0.18279096  \\\\\n",
       "\tU2 &  0.01812228   & -0.27971336   & -0.5785006293 & -0.06889312  \\\\\n",
       "\tWealth &  0.37970331   & -0.07718862   &  0.0100647664 &  0.11781752  \\\\\n",
       "\tIneq & -0.36579778   & -0.02752240   & -0.0002944563 & -0.08066612  \\\\\n",
       "\tProb & -0.25888661   &  0.15831708   & -0.1176726436 &  0.49303389  \\\\\n",
       "\tTime & -0.02062867   & -0.38014836   &  0.2235664632 & -0.54059002  \\\\\n",
       "\\end{tabular}\n"
      ],
      "text/markdown": [
       "\n",
       "| <!--/--> | PC1 | PC2 | PC3 | PC4 |\n",
       "|---|---|---|---|---|\n",
       "| M | -0.30371194   |  0.06280357   |  0.1724199946 | -0.02035537   |\n",
       "| So | -0.33088129   | -0.15837219   |  0.0155433104 |  0.29247181   |\n",
       "| Ed |  0.33962148   |  0.21461152   |  0.0677396249 |  0.07974375   |\n",
       "| Po1 |  0.30863412   | -0.26981761   |  0.0506458161 |  0.33325059   |\n",
       "| Po2 |  0.31099285   | -0.26396300   |  0.0530651173 |  0.35192809   |\n",
       "| LF |  0.17617757   |  0.31943042   |  0.2715301768 | -0.14326529   |\n",
       "| M.F |  0.11638221   |  0.39434428   | -0.2031621598 |  0.01048029   |\n",
       "| Pop |  0.11307836   | -0.46723456   |  0.0770210971 | -0.03210513   |\n",
       "| NW | -0.29358647   | -0.22801119   |  0.0788156621 |  0.23925971   |\n",
       "| U1 |  0.04050137   |  0.00807439   | -0.6590290980 | -0.18279096   |\n",
       "| U2 |  0.01812228   | -0.27971336   | -0.5785006293 | -0.06889312   |\n",
       "| Wealth |  0.37970331   | -0.07718862   |  0.0100647664 |  0.11781752   |\n",
       "| Ineq | -0.36579778   | -0.02752240   | -0.0002944563 | -0.08066612   |\n",
       "| Prob | -0.25888661   |  0.15831708   | -0.1176726436 |  0.49303389   |\n",
       "| Time | -0.02062867   | -0.38014836   |  0.2235664632 | -0.54059002   |\n",
       "\n"
      ],
      "text/plain": [
       "       PC1         PC2         PC3           PC4        \n",
       "M      -0.30371194  0.06280357  0.1724199946 -0.02035537\n",
       "So     -0.33088129 -0.15837219  0.0155433104  0.29247181\n",
       "Ed      0.33962148  0.21461152  0.0677396249  0.07974375\n",
       "Po1     0.30863412 -0.26981761  0.0506458161  0.33325059\n",
       "Po2     0.31099285 -0.26396300  0.0530651173  0.35192809\n",
       "LF      0.17617757  0.31943042  0.2715301768 -0.14326529\n",
       "M.F     0.11638221  0.39434428 -0.2031621598  0.01048029\n",
       "Pop     0.11307836 -0.46723456  0.0770210971 -0.03210513\n",
       "NW     -0.29358647 -0.22801119  0.0788156621  0.23925971\n",
       "U1      0.04050137  0.00807439 -0.6590290980 -0.18279096\n",
       "U2      0.01812228 -0.27971336 -0.5785006293 -0.06889312\n",
       "Wealth  0.37970331 -0.07718862  0.0100647664  0.11781752\n",
       "Ineq   -0.36579778 -0.02752240 -0.0002944563 -0.08066612\n",
       "Prob   -0.25888661  0.15831708 -0.1176726436  0.49303389\n",
       "Time   -0.02062867 -0.38014836  0.2235664632 -0.54059002"
      ]
     },
     "metadata": {},
     "output_type": "display_data"
    },
    {
     "ename": "ERROR",
     "evalue": "Error in crimedatapca$rotation[, 1:4] %*% model$coefficients[2:6]: non-conformable arguments\n",
     "output_type": "error",
     "traceback": [
      "Error in crimedatapca$rotation[, 1:4] %*% model$coefficients[2:6]: non-conformable arguments\nTraceback:\n"
     ]
    }
   ],
   "source": [
    "# Transform the PC coefficients into coefficients for the original variables\n",
    "\n",
    "crimedatapca$rotation[,1:4]\n",
    "alphas <- crimedatapca$rotation[,1:4] %*% model$coefficients[2:6]\n",
    "t(alphas)"
   ]
  },
  {
   "cell_type": "code",
   "execution_count": null,
   "metadata": {},
   "outputs": [],
   "source": []
  }
 ],
 "metadata": {
  "kernelspec": {
   "display_name": "R",
   "language": "R",
   "name": "ir"
  },
  "language_info": {
   "codemirror_mode": "r",
   "file_extension": ".r",
   "mimetype": "text/x-r-source",
   "name": "R",
   "pygments_lexer": "r",
   "version": "3.6.1"
  }
 },
 "nbformat": 4,
 "nbformat_minor": 4
}
