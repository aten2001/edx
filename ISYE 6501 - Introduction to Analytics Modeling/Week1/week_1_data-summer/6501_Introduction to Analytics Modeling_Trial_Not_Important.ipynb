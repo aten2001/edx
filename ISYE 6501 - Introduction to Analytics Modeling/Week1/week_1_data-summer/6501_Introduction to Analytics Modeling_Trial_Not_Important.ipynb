{
 "cells": [
  {
   "cell_type": "code",
   "execution_count": 32,
   "metadata": {},
   "outputs": [],
   "source": [
    "data <- read.table(\"C:\\\\Users\\\\v-balkar.REDMOND\\\\Desktop\\\\edx\\\\Karthick\\\\ISYE 6501 - Introduction to Analytics Modeling\\\\Week1\\\\week_1_data-summer\\\\data 3.1\\\\credit_card_data-headers.txt\",header = TRUE,sep = '\\t')"
   ]
  },
  {
   "cell_type": "code",
   "execution_count": 69,
   "metadata": {},
   "outputs": [
    {
     "data": {
      "text/html": [
       "<ol class=list-inline>\n",
       "\t<li>654</li>\n",
       "\t<li>11</li>\n",
       "</ol>\n"
      ],
      "text/latex": [
       "\\begin{enumerate*}\n",
       "\\item 654\n",
       "\\item 11\n",
       "\\end{enumerate*}\n"
      ],
      "text/markdown": [
       "1. 654\n",
       "2. 11\n",
       "\n",
       "\n"
      ],
      "text/plain": [
       "[1] 654  11"
      ]
     },
     "metadata": {},
     "output_type": "display_data"
    }
   ],
   "source": [
    "dim(data)"
   ]
  },
  {
   "cell_type": "code",
   "execution_count": 33,
   "metadata": {},
   "outputs": [
    {
     "data": {
      "text/plain": [
       "       A1               A2              A3               A8        \n",
       " Min.   :0.0000   Min.   :13.75   Min.   : 0.000   Min.   : 0.000  \n",
       " 1st Qu.:0.0000   1st Qu.:22.58   1st Qu.: 1.040   1st Qu.: 0.165  \n",
       " Median :1.0000   Median :28.46   Median : 2.855   Median : 1.000  \n",
       " Mean   :0.6896   Mean   :31.58   Mean   : 4.831   Mean   : 2.242  \n",
       " 3rd Qu.:1.0000   3rd Qu.:38.25   3rd Qu.: 7.438   3rd Qu.: 2.615  \n",
       " Max.   :1.0000   Max.   :80.25   Max.   :28.000   Max.   :28.500  \n",
       "       A9              A10              A11              A12        \n",
       " Min.   :0.0000   Min.   :0.0000   Min.   : 0.000   Min.   :0.0000  \n",
       " 1st Qu.:0.0000   1st Qu.:0.0000   1st Qu.: 0.000   1st Qu.:0.0000  \n",
       " Median :1.0000   Median :1.0000   Median : 0.000   Median :1.0000  \n",
       " Mean   :0.5352   Mean   :0.5612   Mean   : 2.498   Mean   :0.5382  \n",
       " 3rd Qu.:1.0000   3rd Qu.:1.0000   3rd Qu.: 3.000   3rd Qu.:1.0000  \n",
       " Max.   :1.0000   Max.   :1.0000   Max.   :67.000   Max.   :1.0000  \n",
       "      A14               A15               R1        \n",
       " Min.   :   0.00   Min.   :     0   Min.   :0.0000  \n",
       " 1st Qu.:  70.75   1st Qu.:     0   1st Qu.:0.0000  \n",
       " Median : 160.00   Median :     5   Median :0.0000  \n",
       " Mean   : 180.08   Mean   :  1013   Mean   :0.4526  \n",
       " 3rd Qu.: 271.00   3rd Qu.:   399   3rd Qu.:1.0000  \n",
       " Max.   :2000.00   Max.   :100000   Max.   :1.0000  "
      ]
     },
     "metadata": {},
     "output_type": "display_data"
    }
   ],
   "source": [
    "summary(data)"
   ]
  },
  {
   "cell_type": "code",
   "execution_count": 20,
   "metadata": {},
   "outputs": [
    {
     "name": "stderr",
     "output_type": "stream",
     "text": [
      "Warning message:\n",
      "\"package 'e1071' was built under R version 3.6.3\"Warning message:\n",
      "\"package 'data.table' was built under R version 3.6.3\"Warning message:\n",
      "\"package 'dplyr' was built under R version 3.6.3\"\n",
      "Attaching package: 'dplyr'\n",
      "\n",
      "The following objects are masked from 'package:data.table':\n",
      "\n",
      "    between, first, last\n",
      "\n",
      "The following objects are masked from 'package:stats':\n",
      "\n",
      "    filter, lag\n",
      "\n",
      "The following objects are masked from 'package:base':\n",
      "\n",
      "    intersect, setdiff, setequal, union\n",
      "\n"
     ]
    }
   ],
   "source": [
    "options(scipen = 999)\n",
    "library(kernlab)\n",
    "library(e1071)\n",
    "library(data.table)\n",
    "library(dplyr)"
   ]
  },
  {
   "cell_type": "code",
   "execution_count": 22,
   "metadata": {},
   "outputs": [
    {
     "data": {
      "text/html": [
       "<table>\n",
       "<thead><tr><th scope=col>A1</th><th scope=col>A2</th><th scope=col>A3</th><th scope=col>A8</th><th scope=col>A9</th><th scope=col>A10</th><th scope=col>A11</th><th scope=col>A12</th><th scope=col>A14</th><th scope=col>A15</th><th scope=col>R1</th></tr></thead>\n",
       "<tbody>\n",
       "\t<tr><td>1    </td><td>30.83</td><td>0.000</td><td>1.25 </td><td>1    </td><td>0    </td><td>1    </td><td>1    </td><td>202  </td><td>  0  </td><td>1    </td></tr>\n",
       "\t<tr><td>0    </td><td>58.67</td><td>4.460</td><td>3.04 </td><td>1    </td><td>0    </td><td>6    </td><td>1    </td><td> 43  </td><td>560  </td><td>1    </td></tr>\n",
       "\t<tr><td>0    </td><td>24.50</td><td>0.500</td><td>1.50 </td><td>1    </td><td>1    </td><td>0    </td><td>1    </td><td>280  </td><td>824  </td><td>1    </td></tr>\n",
       "\t<tr><td>1    </td><td>27.83</td><td>1.540</td><td>3.75 </td><td>1    </td><td>0    </td><td>5    </td><td>0    </td><td>100  </td><td>  3  </td><td>1    </td></tr>\n",
       "\t<tr><td>1    </td><td>20.17</td><td>5.625</td><td>1.71 </td><td>1    </td><td>1    </td><td>0    </td><td>1    </td><td>120  </td><td>  0  </td><td>1    </td></tr>\n",
       "\t<tr><td>1    </td><td>32.08</td><td>4.000</td><td>2.50 </td><td>1    </td><td>1    </td><td>0    </td><td>0    </td><td>360  </td><td>  0  </td><td>1    </td></tr>\n",
       "</tbody>\n",
       "</table>\n"
      ],
      "text/latex": [
       "\\begin{tabular}{r|lllllllllll}\n",
       " A1 & A2 & A3 & A8 & A9 & A10 & A11 & A12 & A14 & A15 & R1\\\\\n",
       "\\hline\n",
       "\t 1     & 30.83 & 0.000 & 1.25  & 1     & 0     & 1     & 1     & 202   &   0   & 1    \\\\\n",
       "\t 0     & 58.67 & 4.460 & 3.04  & 1     & 0     & 6     & 1     &  43   & 560   & 1    \\\\\n",
       "\t 0     & 24.50 & 0.500 & 1.50  & 1     & 1     & 0     & 1     & 280   & 824   & 1    \\\\\n",
       "\t 1     & 27.83 & 1.540 & 3.75  & 1     & 0     & 5     & 0     & 100   &   3   & 1    \\\\\n",
       "\t 1     & 20.17 & 5.625 & 1.71  & 1     & 1     & 0     & 1     & 120   &   0   & 1    \\\\\n",
       "\t 1     & 32.08 & 4.000 & 2.50  & 1     & 1     & 0     & 0     & 360   &   0   & 1    \\\\\n",
       "\\end{tabular}\n"
      ],
      "text/markdown": [
       "\n",
       "| A1 | A2 | A3 | A8 | A9 | A10 | A11 | A12 | A14 | A15 | R1 |\n",
       "|---|---|---|---|---|---|---|---|---|---|---|\n",
       "| 1     | 30.83 | 0.000 | 1.25  | 1     | 0     | 1     | 1     | 202   |   0   | 1     |\n",
       "| 0     | 58.67 | 4.460 | 3.04  | 1     | 0     | 6     | 1     |  43   | 560   | 1     |\n",
       "| 0     | 24.50 | 0.500 | 1.50  | 1     | 1     | 0     | 1     | 280   | 824   | 1     |\n",
       "| 1     | 27.83 | 1.540 | 3.75  | 1     | 0     | 5     | 0     | 100   |   3   | 1     |\n",
       "| 1     | 20.17 | 5.625 | 1.71  | 1     | 1     | 0     | 1     | 120   |   0   | 1     |\n",
       "| 1     | 32.08 | 4.000 | 2.50  | 1     | 1     | 0     | 0     | 360   |   0   | 1     |\n",
       "\n"
      ],
      "text/plain": [
       "  A1 A2    A3    A8   A9 A10 A11 A12 A14 A15 R1\n",
       "1 1  30.83 0.000 1.25 1  0   1   1   202   0 1 \n",
       "2 0  58.67 4.460 3.04 1  0   6   1    43 560 1 \n",
       "3 0  24.50 0.500 1.50 1  1   0   1   280 824 1 \n",
       "4 1  27.83 1.540 3.75 1  0   5   0   100   3 1 \n",
       "5 1  20.17 5.625 1.71 1  1   0   1   120   0 1 \n",
       "6 1  32.08 4.000 2.50 1  1   0   0   360   0 1 "
      ]
     },
     "metadata": {},
     "output_type": "display_data"
    }
   ],
   "source": [
    "head(data)"
   ]
  },
  {
   "cell_type": "code",
   "execution_count": null,
   "metadata": {},
   "outputs": [],
   "source": []
  },
  {
   "cell_type": "code",
   "execution_count": 102,
   "metadata": {},
   "outputs": [
    {
     "name": "stdout",
     "output_type": "stream",
     "text": [
      " Setting default kernel parameters  \n",
      " Setting default kernel parameters  \n",
      " Setting default kernel parameters  \n",
      " Setting default kernel parameters  \n",
      " Setting default kernel parameters  \n",
      " Setting default kernel parameters  \n",
      " Setting default kernel parameters  \n",
      " Setting default kernel parameters  \n",
      " Setting default kernel parameters  \n",
      " Setting default kernel parameters  \n",
      " Setting default kernel parameters  \n",
      " Setting default kernel parameters  \n",
      " Setting default kernel parameters  \n",
      " Setting default kernel parameters  \n",
      " Setting default kernel parameters  \n",
      " Setting default kernel parameters  \n",
      " Setting default kernel parameters  \n",
      " Setting default kernel parameters  \n",
      " Setting default kernel parameters  \n",
      " Setting default kernel parameters  \n",
      " Setting default kernel parameters  \n"
     ]
    },
    {
     "data": {
      "text/html": [
       "<table>\n",
       "<thead><tr><th></th><th scope=col>Kernel</th><th scope=col>Cost Value</th><th scope=col>Model Accuracy</th><th scope=col>a0</th><th scope=col>V1</th><th scope=col>V2</th><th scope=col>V3</th><th scope=col>V4</th><th scope=col>V5</th><th scope=col>V6</th><th scope=col>V7</th><th scope=col>V8</th><th scope=col>V9</th><th scope=col>V10</th></tr></thead>\n",
       "<tbody>\n",
       "\t<tr><th scope=row>6</th><td>rbfdot    </td><td>1000.000  </td><td>98.624    </td><td>-0.466    </td><td>-43.505   </td><td>-16.821   </td><td>-66.244   </td><td>108.042   </td><td>73.389    </td><td>-90.247   </td><td>84.100    </td><td>-56.878   </td><td>-46.767   </td><td>110.648   </td></tr>\n",
       "\t<tr><th scope=row>5</th><td>rbfdot    </td><td> 100.000  </td><td>95.872    </td><td>-0.656    </td><td>-18.094   </td><td>-32.655   </td><td> -6.790   </td><td> 55.994   </td><td>52.246    </td><td>-28.188   </td><td>24.348    </td><td>-25.079   </td><td>-55.592   </td><td> 56.278   </td></tr>\n",
       "\t<tr><th scope=row>4</th><td>rbfdot    </td><td>  10.000  </td><td>90.979    </td><td>-0.446    </td><td> -3.037   </td><td>-18.135   </td><td>  3.812   </td><td> 25.490   </td><td>30.367    </td><td>-12.592   </td><td>14.212    </td><td>-10.263   </td><td>-32.724   </td><td> 35.410   </td></tr>\n",
       "\t<tr><th scope=row>13</th><td>anovadot  </td><td> 100.000  </td><td>90.673    </td><td>-1.174    </td><td>  0.019   </td><td>-22.498   </td><td>-28.051   </td><td> -2.358   </td><td> 2.536    </td><td> -1.122   </td><td>-3.115    </td><td> -0.046   </td><td>-16.445   </td><td> 14.825   </td></tr>\n",
       "\t<tr><th scope=row>14</th><td>anovadot  </td><td>1000.000  </td><td>90.673    </td><td>-8.831    </td><td>  0.133   </td><td>-29.447   </td><td>-69.102   </td><td>-21.960   </td><td> 2.657    </td><td> -1.687   </td><td>-5.867    </td><td> -0.011   </td><td>-42.511   </td><td>  9.881   </td></tr>\n",
       "\t<tr><th scope=row>11</th><td>anovadot  </td><td>  10.000  </td><td>87.309    </td><td>-0.029    </td><td>  0.011   </td><td> -8.131   </td><td>-10.580   </td><td>  3.779   </td><td> 2.222    </td><td> -0.359   </td><td> 4.490    </td><td>  0.002   </td><td> -7.895   </td><td> 18.973   </td></tr>\n",
       "\t<tr><th scope=row>3</th><td>rbfdot    </td><td>   1.000  </td><td>87.156    </td><td>-0.418    </td><td>  0.481   </td><td> -1.893   </td><td>  4.052   </td><td> 13.936   </td><td>31.407    </td><td> -6.824   </td><td>18.766    </td><td> -4.957   </td><td>-16.079   </td><td> 27.588   </td></tr>\n",
       "\t<tr><th scope=row>10</th><td>anovadot  </td><td>   1.000  </td><td>86.391    </td><td>-0.375    </td><td>  0.002   </td><td> -1.539   </td><td> -0.900   </td><td>  0.698   </td><td> 2.050    </td><td> -0.027   </td><td> 0.768    </td><td>  0.001   </td><td> -2.719   </td><td> 18.690   </td></tr>\n",
       "\t<tr><th scope=row>12</th><td>vanilladot</td><td>   0.010  </td><td>86.391    </td><td>-0.082    </td><td>  0.000   </td><td> -0.001   </td><td>  0.001   </td><td>  0.007   </td><td> 0.992    </td><td> -0.004   </td><td> 0.007    </td><td> -0.001   </td><td> -0.002   </td><td>  0.105   </td></tr>\n",
       "\t<tr><th scope=row>16</th><td>polydot   </td><td>   0.010  </td><td>86.391    </td><td>-0.082    </td><td>  0.000   </td><td> -0.001   </td><td>  0.001   </td><td>  0.007   </td><td> 0.992    </td><td> -0.004   </td><td> 0.007    </td><td> -0.001   </td><td> -0.002   </td><td>  0.105   </td></tr>\n",
       "\t<tr><th scope=row>17</th><td>polydot   </td><td>   0.100  </td><td>86.391    </td><td>-0.082    </td><td> -0.001   </td><td> -0.001   </td><td> -0.001   </td><td>  0.003   </td><td> 1.004    </td><td> -0.003   </td><td> 0.000    </td><td>  0.000   </td><td> -0.001   </td><td>  0.106   </td></tr>\n",
       "\t<tr><th scope=row>18</th><td>polydot   </td><td>   1.000  </td><td>86.391    </td><td>-0.081    </td><td> -0.001   </td><td> -0.001   </td><td> -0.002   </td><td>  0.003   </td><td> 1.005    </td><td> -0.003   </td><td> 0.000    </td><td> -0.001   </td><td> -0.001   </td><td>  0.106   </td></tr>\n",
       "\t<tr><th scope=row>19</th><td>polydot   </td><td>  10.000  </td><td>86.391    </td><td>-0.082    </td><td> -0.001   </td><td> -0.001   </td><td> -0.002   </td><td>  0.003   </td><td> 1.005    </td><td> -0.003   </td><td> 0.000    </td><td> -0.001   </td><td> -0.001   </td><td>  0.106   </td></tr>\n",
       "\t<tr><th scope=row>20</th><td>polydot   </td><td> 100.000  </td><td>86.391    </td><td>-0.082    </td><td> -0.001   </td><td> -0.001   </td><td> -0.002   </td><td>  0.003   </td><td> 1.005    </td><td> -0.003   </td><td> 0.000    </td><td> -0.001   </td><td> -0.001   </td><td>  0.106   </td></tr>\n",
       "\t<tr><th scope=row>22</th><td>vanilladot</td><td>   0.100  </td><td>86.391    </td><td>-0.082    </td><td> -0.001   </td><td> -0.001   </td><td> -0.002   </td><td>  0.003   </td><td> 1.004    </td><td> -0.003   </td><td> 0.000    </td><td>  0.000   </td><td> -0.001   </td><td>  0.106   </td></tr>\n",
       "\t<tr><th scope=row>23</th><td>vanilladot</td><td>   1.000  </td><td>86.391    </td><td>-0.081    </td><td> -0.001   </td><td> -0.001   </td><td> -0.002   </td><td>  0.003   </td><td> 1.005    </td><td> -0.003   </td><td> 0.000    </td><td> -0.001   </td><td> -0.001   </td><td>  0.106   </td></tr>\n",
       "\t<tr><th scope=row>24</th><td>vanilladot</td><td>  10.000  </td><td>86.391    </td><td>-0.082    </td><td> -0.001   </td><td> -0.001   </td><td> -0.002   </td><td>  0.003   </td><td> 1.005    </td><td> -0.003   </td><td> 0.000    </td><td>  0.000   </td><td> -0.001   </td><td>  0.106   </td></tr>\n",
       "\t<tr><th scope=row>25</th><td>vanilladot</td><td> 100.000  </td><td>86.391    </td><td>-0.082    </td><td> -0.001   </td><td> -0.001   </td><td> -0.002   </td><td>  0.003   </td><td> 1.005    </td><td> -0.003   </td><td> 0.000    </td><td> -0.001   </td><td> -0.001   </td><td>  0.106   </td></tr>\n",
       "\t<tr><th scope=row>8</th><td>anovadot  </td><td>   0.010  </td><td>86.239    </td><td>-0.150    </td><td> -0.008   </td><td>  0.024   </td><td>  0.025   </td><td>  0.223   </td><td> 1.811    </td><td> -0.094   </td><td> 0.297    </td><td>  0.007   </td><td> -0.164   </td><td>  0.516   </td></tr>\n",
       "\t<tr><th scope=row>9</th><td>anovadot  </td><td>   0.100  </td><td>86.239    </td><td>-0.039    </td><td>  0.000   </td><td> -0.155   </td><td> -0.085   </td><td>  0.071   </td><td> 2.040    </td><td> -0.002   </td><td> 0.080    </td><td>  0.000   </td><td> -0.275   </td><td>  1.866   </td></tr>\n",
       "\t<tr><th scope=row>21</th><td>polydot   </td><td>1000.000  </td><td>86.239    </td><td>-0.070    </td><td>  0.000   </td><td> -0.001   </td><td>  0.000   </td><td>  0.000   </td><td> 0.998    </td><td>  0.000   </td><td> 0.001    </td><td>  0.000   </td><td>  0.000   </td><td>  0.001   </td></tr>\n",
       "\t<tr><th scope=row>26</th><td>vanilladot</td><td>1000.000  </td><td>86.239    </td><td>-0.070    </td><td>  0.000   </td><td>  0.001   </td><td>  0.001   </td><td>  0.001   </td><td> 0.999    </td><td> -0.001   </td><td> 0.001    </td><td> -0.001   </td><td>  0.001   </td><td>  0.001   </td></tr>\n",
       "\t<tr><th scope=row>2</th><td>rbfdot    </td><td>   0.100  </td><td>85.933    </td><td>-0.498    </td><td>  0.423   </td><td>  2.275   </td><td>  2.628   </td><td>  6.709   </td><td>17.780    </td><td> -3.761   </td><td> 6.570    </td><td> -0.873   </td><td> -2.538   </td><td>  6.937   </td></tr>\n",
       "\t<tr><th scope=row>1</th><td>vanilladot</td><td>   0.001  </td><td>83.792    </td><td> 0.223    </td><td> -0.002   </td><td>  0.032   </td><td>  0.047   </td><td>  0.111   </td><td> 0.375    </td><td> -0.202   </td><td> 0.170    </td><td> -0.005   </td><td> -0.025   </td><td>  0.081   </td></tr>\n",
       "\t<tr><th scope=row>15</th><td>polydot   </td><td>   0.001  </td><td>83.792    </td><td> 0.223    </td><td> -0.002   </td><td>  0.032   </td><td>  0.047   </td><td>  0.111   </td><td> 0.375    </td><td> -0.202   </td><td> 0.170    </td><td> -0.005   </td><td> -0.025   </td><td>  0.081   </td></tr>\n",
       "\t<tr><th scope=row>7</th><td>anovadot  </td><td>   0.001  </td><td>58.869    </td><td> 0.408    </td><td> -0.005   </td><td>  0.073   </td><td>  0.090   </td><td>  0.179   </td><td> 0.413    </td><td> -0.240   </td><td> 0.233    </td><td> -0.008   </td><td> -0.048   </td><td>  0.102   </td></tr>\n",
       "\t<tr><th scope=row>28</th><td>rbfdot    </td><td>   0.010  </td><td>56.728    </td><td> 0.378    </td><td>  0.194   </td><td>  0.859   </td><td>  0.962   </td><td>  1.831   </td><td> 4.127    </td><td> -2.396   </td><td> 2.332    </td><td> -0.100   </td><td> -0.574   </td><td>  1.016   </td></tr>\n",
       "\t<tr><th scope=row>27</th><td>rbfdot    </td><td>   0.001  </td><td>54.740    </td><td> 0.939    </td><td>  0.019   </td><td>  0.086   </td><td>  0.097   </td><td>  0.183   </td><td> 0.413    </td><td> -0.240   </td><td> 0.233    </td><td> -0.010   </td><td> -0.057   </td><td>  0.102   </td></tr>\n",
       "</tbody>\n",
       "</table>\n"
      ],
      "text/latex": [
       "\\begin{tabular}{r|llllllllllllll}\n",
       "  & Kernel & Cost Value & Model Accuracy & a0 & V1 & V2 & V3 & V4 & V5 & V6 & V7 & V8 & V9 & V10\\\\\n",
       "\\hline\n",
       "\t6 & rbfdot     & 1000.000   & 98.624     & -0.466     & -43.505    & -16.821    & -66.244    & 108.042    & 73.389     & -90.247    & 84.100     & -56.878    & -46.767    & 110.648   \\\\\n",
       "\t5 & rbfdot     &  100.000   & 95.872     & -0.656     & -18.094    & -32.655    &  -6.790    &  55.994    & 52.246     & -28.188    & 24.348     & -25.079    & -55.592    &  56.278   \\\\\n",
       "\t4 & rbfdot     &   10.000   & 90.979     & -0.446     &  -3.037    & -18.135    &   3.812    &  25.490    & 30.367     & -12.592    & 14.212     & -10.263    & -32.724    &  35.410   \\\\\n",
       "\t13 & anovadot   &  100.000   & 90.673     & -1.174     &   0.019    & -22.498    & -28.051    &  -2.358    &  2.536     &  -1.122    & -3.115     &  -0.046    & -16.445    &  14.825   \\\\\n",
       "\t14 & anovadot   & 1000.000   & 90.673     & -8.831     &   0.133    & -29.447    & -69.102    & -21.960    &  2.657     &  -1.687    & -5.867     &  -0.011    & -42.511    &   9.881   \\\\\n",
       "\t11 & anovadot   &   10.000   & 87.309     & -0.029     &   0.011    &  -8.131    & -10.580    &   3.779    &  2.222     &  -0.359    &  4.490     &   0.002    &  -7.895    &  18.973   \\\\\n",
       "\t3 & rbfdot     &    1.000   & 87.156     & -0.418     &   0.481    &  -1.893    &   4.052    &  13.936    & 31.407     &  -6.824    & 18.766     &  -4.957    & -16.079    &  27.588   \\\\\n",
       "\t10 & anovadot   &    1.000   & 86.391     & -0.375     &   0.002    &  -1.539    &  -0.900    &   0.698    &  2.050     &  -0.027    &  0.768     &   0.001    &  -2.719    &  18.690   \\\\\n",
       "\t12 & vanilladot &    0.010   & 86.391     & -0.082     &   0.000    &  -0.001    &   0.001    &   0.007    &  0.992     &  -0.004    &  0.007     &  -0.001    &  -0.002    &   0.105   \\\\\n",
       "\t16 & polydot    &    0.010   & 86.391     & -0.082     &   0.000    &  -0.001    &   0.001    &   0.007    &  0.992     &  -0.004    &  0.007     &  -0.001    &  -0.002    &   0.105   \\\\\n",
       "\t17 & polydot    &    0.100   & 86.391     & -0.082     &  -0.001    &  -0.001    &  -0.001    &   0.003    &  1.004     &  -0.003    &  0.000     &   0.000    &  -0.001    &   0.106   \\\\\n",
       "\t18 & polydot    &    1.000   & 86.391     & -0.081     &  -0.001    &  -0.001    &  -0.002    &   0.003    &  1.005     &  -0.003    &  0.000     &  -0.001    &  -0.001    &   0.106   \\\\\n",
       "\t19 & polydot    &   10.000   & 86.391     & -0.082     &  -0.001    &  -0.001    &  -0.002    &   0.003    &  1.005     &  -0.003    &  0.000     &  -0.001    &  -0.001    &   0.106   \\\\\n",
       "\t20 & polydot    &  100.000   & 86.391     & -0.082     &  -0.001    &  -0.001    &  -0.002    &   0.003    &  1.005     &  -0.003    &  0.000     &  -0.001    &  -0.001    &   0.106   \\\\\n",
       "\t22 & vanilladot &    0.100   & 86.391     & -0.082     &  -0.001    &  -0.001    &  -0.002    &   0.003    &  1.004     &  -0.003    &  0.000     &   0.000    &  -0.001    &   0.106   \\\\\n",
       "\t23 & vanilladot &    1.000   & 86.391     & -0.081     &  -0.001    &  -0.001    &  -0.002    &   0.003    &  1.005     &  -0.003    &  0.000     &  -0.001    &  -0.001    &   0.106   \\\\\n",
       "\t24 & vanilladot &   10.000   & 86.391     & -0.082     &  -0.001    &  -0.001    &  -0.002    &   0.003    &  1.005     &  -0.003    &  0.000     &   0.000    &  -0.001    &   0.106   \\\\\n",
       "\t25 & vanilladot &  100.000   & 86.391     & -0.082     &  -0.001    &  -0.001    &  -0.002    &   0.003    &  1.005     &  -0.003    &  0.000     &  -0.001    &  -0.001    &   0.106   \\\\\n",
       "\t8 & anovadot   &    0.010   & 86.239     & -0.150     &  -0.008    &   0.024    &   0.025    &   0.223    &  1.811     &  -0.094    &  0.297     &   0.007    &  -0.164    &   0.516   \\\\\n",
       "\t9 & anovadot   &    0.100   & 86.239     & -0.039     &   0.000    &  -0.155    &  -0.085    &   0.071    &  2.040     &  -0.002    &  0.080     &   0.000    &  -0.275    &   1.866   \\\\\n",
       "\t21 & polydot    & 1000.000   & 86.239     & -0.070     &   0.000    &  -0.001    &   0.000    &   0.000    &  0.998     &   0.000    &  0.001     &   0.000    &   0.000    &   0.001   \\\\\n",
       "\t26 & vanilladot & 1000.000   & 86.239     & -0.070     &   0.000    &   0.001    &   0.001    &   0.001    &  0.999     &  -0.001    &  0.001     &  -0.001    &   0.001    &   0.001   \\\\\n",
       "\t2 & rbfdot     &    0.100   & 85.933     & -0.498     &   0.423    &   2.275    &   2.628    &   6.709    & 17.780     &  -3.761    &  6.570     &  -0.873    &  -2.538    &   6.937   \\\\\n",
       "\t1 & vanilladot &    0.001   & 83.792     &  0.223     &  -0.002    &   0.032    &   0.047    &   0.111    &  0.375     &  -0.202    &  0.170     &  -0.005    &  -0.025    &   0.081   \\\\\n",
       "\t15 & polydot    &    0.001   & 83.792     &  0.223     &  -0.002    &   0.032    &   0.047    &   0.111    &  0.375     &  -0.202    &  0.170     &  -0.005    &  -0.025    &   0.081   \\\\\n",
       "\t7 & anovadot   &    0.001   & 58.869     &  0.408     &  -0.005    &   0.073    &   0.090    &   0.179    &  0.413     &  -0.240    &  0.233     &  -0.008    &  -0.048    &   0.102   \\\\\n",
       "\t28 & rbfdot     &    0.010   & 56.728     &  0.378     &   0.194    &   0.859    &   0.962    &   1.831    &  4.127     &  -2.396    &  2.332     &  -0.100    &  -0.574    &   1.016   \\\\\n",
       "\t27 & rbfdot     &    0.001   & 54.740     &  0.939     &   0.019    &   0.086    &   0.097    &   0.183    &  0.413     &  -0.240    &  0.233     &  -0.010    &  -0.057    &   0.102   \\\\\n",
       "\\end{tabular}\n"
      ],
      "text/markdown": [
       "\n",
       "| <!--/--> | Kernel | Cost Value | Model Accuracy | a0 | V1 | V2 | V3 | V4 | V5 | V6 | V7 | V8 | V9 | V10 |\n",
       "|---|---|---|---|---|---|---|---|---|---|---|---|---|---|---|\n",
       "| 6 | rbfdot     | 1000.000   | 98.624     | -0.466     | -43.505    | -16.821    | -66.244    | 108.042    | 73.389     | -90.247    | 84.100     | -56.878    | -46.767    | 110.648    |\n",
       "| 5 | rbfdot     |  100.000   | 95.872     | -0.656     | -18.094    | -32.655    |  -6.790    |  55.994    | 52.246     | -28.188    | 24.348     | -25.079    | -55.592    |  56.278    |\n",
       "| 4 | rbfdot     |   10.000   | 90.979     | -0.446     |  -3.037    | -18.135    |   3.812    |  25.490    | 30.367     | -12.592    | 14.212     | -10.263    | -32.724    |  35.410    |\n",
       "| 13 | anovadot   |  100.000   | 90.673     | -1.174     |   0.019    | -22.498    | -28.051    |  -2.358    |  2.536     |  -1.122    | -3.115     |  -0.046    | -16.445    |  14.825    |\n",
       "| 14 | anovadot   | 1000.000   | 90.673     | -8.831     |   0.133    | -29.447    | -69.102    | -21.960    |  2.657     |  -1.687    | -5.867     |  -0.011    | -42.511    |   9.881    |\n",
       "| 11 | anovadot   |   10.000   | 87.309     | -0.029     |   0.011    |  -8.131    | -10.580    |   3.779    |  2.222     |  -0.359    |  4.490     |   0.002    |  -7.895    |  18.973    |\n",
       "| 3 | rbfdot     |    1.000   | 87.156     | -0.418     |   0.481    |  -1.893    |   4.052    |  13.936    | 31.407     |  -6.824    | 18.766     |  -4.957    | -16.079    |  27.588    |\n",
       "| 10 | anovadot   |    1.000   | 86.391     | -0.375     |   0.002    |  -1.539    |  -0.900    |   0.698    |  2.050     |  -0.027    |  0.768     |   0.001    |  -2.719    |  18.690    |\n",
       "| 12 | vanilladot |    0.010   | 86.391     | -0.082     |   0.000    |  -0.001    |   0.001    |   0.007    |  0.992     |  -0.004    |  0.007     |  -0.001    |  -0.002    |   0.105    |\n",
       "| 16 | polydot    |    0.010   | 86.391     | -0.082     |   0.000    |  -0.001    |   0.001    |   0.007    |  0.992     |  -0.004    |  0.007     |  -0.001    |  -0.002    |   0.105    |\n",
       "| 17 | polydot    |    0.100   | 86.391     | -0.082     |  -0.001    |  -0.001    |  -0.001    |   0.003    |  1.004     |  -0.003    |  0.000     |   0.000    |  -0.001    |   0.106    |\n",
       "| 18 | polydot    |    1.000   | 86.391     | -0.081     |  -0.001    |  -0.001    |  -0.002    |   0.003    |  1.005     |  -0.003    |  0.000     |  -0.001    |  -0.001    |   0.106    |\n",
       "| 19 | polydot    |   10.000   | 86.391     | -0.082     |  -0.001    |  -0.001    |  -0.002    |   0.003    |  1.005     |  -0.003    |  0.000     |  -0.001    |  -0.001    |   0.106    |\n",
       "| 20 | polydot    |  100.000   | 86.391     | -0.082     |  -0.001    |  -0.001    |  -0.002    |   0.003    |  1.005     |  -0.003    |  0.000     |  -0.001    |  -0.001    |   0.106    |\n",
       "| 22 | vanilladot |    0.100   | 86.391     | -0.082     |  -0.001    |  -0.001    |  -0.002    |   0.003    |  1.004     |  -0.003    |  0.000     |   0.000    |  -0.001    |   0.106    |\n",
       "| 23 | vanilladot |    1.000   | 86.391     | -0.081     |  -0.001    |  -0.001    |  -0.002    |   0.003    |  1.005     |  -0.003    |  0.000     |  -0.001    |  -0.001    |   0.106    |\n",
       "| 24 | vanilladot |   10.000   | 86.391     | -0.082     |  -0.001    |  -0.001    |  -0.002    |   0.003    |  1.005     |  -0.003    |  0.000     |   0.000    |  -0.001    |   0.106    |\n",
       "| 25 | vanilladot |  100.000   | 86.391     | -0.082     |  -0.001    |  -0.001    |  -0.002    |   0.003    |  1.005     |  -0.003    |  0.000     |  -0.001    |  -0.001    |   0.106    |\n",
       "| 8 | anovadot   |    0.010   | 86.239     | -0.150     |  -0.008    |   0.024    |   0.025    |   0.223    |  1.811     |  -0.094    |  0.297     |   0.007    |  -0.164    |   0.516    |\n",
       "| 9 | anovadot   |    0.100   | 86.239     | -0.039     |   0.000    |  -0.155    |  -0.085    |   0.071    |  2.040     |  -0.002    |  0.080     |   0.000    |  -0.275    |   1.866    |\n",
       "| 21 | polydot    | 1000.000   | 86.239     | -0.070     |   0.000    |  -0.001    |   0.000    |   0.000    |  0.998     |   0.000    |  0.001     |   0.000    |   0.000    |   0.001    |\n",
       "| 26 | vanilladot | 1000.000   | 86.239     | -0.070     |   0.000    |   0.001    |   0.001    |   0.001    |  0.999     |  -0.001    |  0.001     |  -0.001    |   0.001    |   0.001    |\n",
       "| 2 | rbfdot     |    0.100   | 85.933     | -0.498     |   0.423    |   2.275    |   2.628    |   6.709    | 17.780     |  -3.761    |  6.570     |  -0.873    |  -2.538    |   6.937    |\n",
       "| 1 | vanilladot |    0.001   | 83.792     |  0.223     |  -0.002    |   0.032    |   0.047    |   0.111    |  0.375     |  -0.202    |  0.170     |  -0.005    |  -0.025    |   0.081    |\n",
       "| 15 | polydot    |    0.001   | 83.792     |  0.223     |  -0.002    |   0.032    |   0.047    |   0.111    |  0.375     |  -0.202    |  0.170     |  -0.005    |  -0.025    |   0.081    |\n",
       "| 7 | anovadot   |    0.001   | 58.869     |  0.408     |  -0.005    |   0.073    |   0.090    |   0.179    |  0.413     |  -0.240    |  0.233     |  -0.008    |  -0.048    |   0.102    |\n",
       "| 28 | rbfdot     |    0.010   | 56.728     |  0.378     |   0.194    |   0.859    |   0.962    |   1.831    |  4.127     |  -2.396    |  2.332     |  -0.100    |  -0.574    |   1.016    |\n",
       "| 27 | rbfdot     |    0.001   | 54.740     |  0.939     |   0.019    |   0.086    |   0.097    |   0.183    |  0.413     |  -0.240    |  0.233     |  -0.010    |  -0.057    |   0.102    |\n",
       "\n"
      ],
      "text/plain": [
       "   Kernel     Cost Value Model Accuracy a0     V1      V2      V3      V4     \n",
       "6  rbfdot     1000.000   98.624         -0.466 -43.505 -16.821 -66.244 108.042\n",
       "5  rbfdot      100.000   95.872         -0.656 -18.094 -32.655  -6.790  55.994\n",
       "4  rbfdot       10.000   90.979         -0.446  -3.037 -18.135   3.812  25.490\n",
       "13 anovadot    100.000   90.673         -1.174   0.019 -22.498 -28.051  -2.358\n",
       "14 anovadot   1000.000   90.673         -8.831   0.133 -29.447 -69.102 -21.960\n",
       "11 anovadot     10.000   87.309         -0.029   0.011  -8.131 -10.580   3.779\n",
       "3  rbfdot        1.000   87.156         -0.418   0.481  -1.893   4.052  13.936\n",
       "10 anovadot      1.000   86.391         -0.375   0.002  -1.539  -0.900   0.698\n",
       "12 vanilladot    0.010   86.391         -0.082   0.000  -0.001   0.001   0.007\n",
       "16 polydot       0.010   86.391         -0.082   0.000  -0.001   0.001   0.007\n",
       "17 polydot       0.100   86.391         -0.082  -0.001  -0.001  -0.001   0.003\n",
       "18 polydot       1.000   86.391         -0.081  -0.001  -0.001  -0.002   0.003\n",
       "19 polydot      10.000   86.391         -0.082  -0.001  -0.001  -0.002   0.003\n",
       "20 polydot     100.000   86.391         -0.082  -0.001  -0.001  -0.002   0.003\n",
       "22 vanilladot    0.100   86.391         -0.082  -0.001  -0.001  -0.002   0.003\n",
       "23 vanilladot    1.000   86.391         -0.081  -0.001  -0.001  -0.002   0.003\n",
       "24 vanilladot   10.000   86.391         -0.082  -0.001  -0.001  -0.002   0.003\n",
       "25 vanilladot  100.000   86.391         -0.082  -0.001  -0.001  -0.002   0.003\n",
       "8  anovadot      0.010   86.239         -0.150  -0.008   0.024   0.025   0.223\n",
       "9  anovadot      0.100   86.239         -0.039   0.000  -0.155  -0.085   0.071\n",
       "21 polydot    1000.000   86.239         -0.070   0.000  -0.001   0.000   0.000\n",
       "26 vanilladot 1000.000   86.239         -0.070   0.000   0.001   0.001   0.001\n",
       "2  rbfdot        0.100   85.933         -0.498   0.423   2.275   2.628   6.709\n",
       "1  vanilladot    0.001   83.792          0.223  -0.002   0.032   0.047   0.111\n",
       "15 polydot       0.001   83.792          0.223  -0.002   0.032   0.047   0.111\n",
       "7  anovadot      0.001   58.869          0.408  -0.005   0.073   0.090   0.179\n",
       "28 rbfdot        0.010   56.728          0.378   0.194   0.859   0.962   1.831\n",
       "27 rbfdot        0.001   54.740          0.939   0.019   0.086   0.097   0.183\n",
       "   V5     V6      V7     V8      V9      V10    \n",
       "6  73.389 -90.247 84.100 -56.878 -46.767 110.648\n",
       "5  52.246 -28.188 24.348 -25.079 -55.592  56.278\n",
       "4  30.367 -12.592 14.212 -10.263 -32.724  35.410\n",
       "13  2.536  -1.122 -3.115  -0.046 -16.445  14.825\n",
       "14  2.657  -1.687 -5.867  -0.011 -42.511   9.881\n",
       "11  2.222  -0.359  4.490   0.002  -7.895  18.973\n",
       "3  31.407  -6.824 18.766  -4.957 -16.079  27.588\n",
       "10  2.050  -0.027  0.768   0.001  -2.719  18.690\n",
       "12  0.992  -0.004  0.007  -0.001  -0.002   0.105\n",
       "16  0.992  -0.004  0.007  -0.001  -0.002   0.105\n",
       "17  1.004  -0.003  0.000   0.000  -0.001   0.106\n",
       "18  1.005  -0.003  0.000  -0.001  -0.001   0.106\n",
       "19  1.005  -0.003  0.000  -0.001  -0.001   0.106\n",
       "20  1.005  -0.003  0.000  -0.001  -0.001   0.106\n",
       "22  1.004  -0.003  0.000   0.000  -0.001   0.106\n",
       "23  1.005  -0.003  0.000  -0.001  -0.001   0.106\n",
       "24  1.005  -0.003  0.000   0.000  -0.001   0.106\n",
       "25  1.005  -0.003  0.000  -0.001  -0.001   0.106\n",
       "8   1.811  -0.094  0.297   0.007  -0.164   0.516\n",
       "9   2.040  -0.002  0.080   0.000  -0.275   1.866\n",
       "21  0.998   0.000  0.001   0.000   0.000   0.001\n",
       "26  0.999  -0.001  0.001  -0.001   0.001   0.001\n",
       "2  17.780  -3.761  6.570  -0.873  -2.538   6.937\n",
       "1   0.375  -0.202  0.170  -0.005  -0.025   0.081\n",
       "15  0.375  -0.202  0.170  -0.005  -0.025   0.081\n",
       "7   0.413  -0.240  0.233  -0.008  -0.048   0.102\n",
       "28  4.127  -2.396  2.332  -0.100  -0.574   1.016\n",
       "27  0.413  -0.240  0.233  -0.010  -0.057   0.102"
      ]
     },
     "metadata": {},
     "output_type": "display_data"
    }
   ],
   "source": [
    "options(scipen = 999)\n",
    "library(kernlab)\n",
    "library(e1071)\n",
    "library(data.table)\n",
    "library(dplyr)\n",
    "\n",
    "cost_values <- c(0.001,0.01,0.1,1,10,100,1000)\n",
    "kernel_list <- c(\"vanilladot\", \"rbfdot\", \"anovadot\", \"polydot\")\n",
    "accuracy_val <- c()\n",
    "c_val <- c()\n",
    "kernel_val <- c()\n",
    "weights <- c()\n",
    "bias <- c()\n",
    "\n",
    "for (i in 1:length(kernel_list)){\n",
    "#     print(i)\n",
    "    for (j in 1:length(cost_values)){\n",
    "#     print(j)\n",
    "        model <- ksvm(as.matrix(data[,1:10]), as.factor(data[,11]), type= \"C-svc\", kernel = kernel_list[i], C = cost_values[j], scaled=TRUE)\n",
    "#         print(model)\n",
    "        a <- colSums(model@xmatrix[[1]] * model@coef[[1]])\n",
    "#         print(a)\n",
    "        a0 <- model@b\n",
    "#         print(a0)\n",
    "        pred <- predict(model,data[,1:10])\n",
    "#         print(pred)\n",
    "        accur <- sum(pred == data[,11]) / nrow(data)\n",
    "#         print(max(accur))                                \n",
    "        accuracy_val <- c(accuracy_val,accur)\n",
    "#         print(as.data.frame(accuracy_val))\n",
    "        c_val <- c(c_val, cost_values[j])\n",
    "        kernel_val <- c(kernel_val,kernel_list[i])\n",
    "        weights <- c(weights,a)                            # the length of weights is 280 and number of unique weight is 10\n",
    "        bias <- c(bias,a0)\n",
    "    }\n",
    "}\n",
    "\n",
    "weights1 <- as.data.frame(matrix(weights, 28, 10, byrow = T))\n",
    "df <- data.frame(kernel_val, c_val, round((accuracy_val*100),3), round(bias,3))\n",
    "names(df) <- c(\"Kernel\",\"Cost Value\",\"Model Accuracy\", \"a0\")\n",
    "df1 <- merge(df, round(weights1, 3), by=0)\n",
    "drops <- c(\"Row.names\")\n",
    "df1[order(df1[\"Model Accuracy\"], decreasing = TRUE), !(names(df1) %in% drops)]"
   ]
  },
  {
   "cell_type": "code",
   "execution_count": null,
   "metadata": {},
   "outputs": [],
   "source": []
  },
  {
   "cell_type": "code",
   "execution_count": null,
   "metadata": {},
   "outputs": [],
   "source": []
  },
  {
   "cell_type": "code",
   "execution_count": null,
   "metadata": {},
   "outputs": [],
   "source": []
  },
  {
   "cell_type": "code",
   "execution_count": null,
   "metadata": {},
   "outputs": [],
   "source": []
  },
  {
   "cell_type": "code",
   "execution_count": null,
   "metadata": {},
   "outputs": [],
   "source": []
  },
  {
   "cell_type": "code",
   "execution_count": null,
   "metadata": {},
   "outputs": [],
   "source": []
  },
  {
   "cell_type": "code",
   "execution_count": null,
   "metadata": {},
   "outputs": [],
   "source": []
  },
  {
   "cell_type": "code",
   "execution_count": null,
   "metadata": {},
   "outputs": [],
   "source": []
  },
  {
   "cell_type": "code",
   "execution_count": null,
   "metadata": {},
   "outputs": [],
   "source": []
  }
 ],
 "metadata": {
  "kernelspec": {
   "display_name": "R",
   "language": "R",
   "name": "ir"
  },
  "language_info": {
   "codemirror_mode": "r",
   "file_extension": ".r",
   "mimetype": "text/x-r-source",
   "name": "R",
   "pygments_lexer": "r",
   "version": "3.6.1"
  }
 },
 "nbformat": 4,
 "nbformat_minor": 4
}
