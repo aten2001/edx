{
 "cells": [
  {
   "cell_type": "markdown",
   "metadata": {},
   "source": [
    "# Homework 2 - Week 2 - Karthick Krishna"
   ]
  },
  {
   "cell_type": "markdown",
   "metadata": {},
   "source": [
    "### Question 4.1\n",
    "\n",
    "###### Describe a situation or problem from your job, everyday life, current events, etc., for which a clustering model would be appropriate. List some (up to 5) predictors that you might use. \n",
    "\n",
    "    I am an Analyst at Mindtree Limited. Currently, I work on Marketing Analytics and Ad Analytics. I work for one of the world's largest Search Engine Platforms providers on the Advertiser level data and User level data. I use Python for analysis and used the Scikit Learn package in Python. In my current project, as one of the early steps, I segregate the Customers(also known as Advertisers) into different groups before I perform Quasi-experimental design to find a treatment group for my test advertisers. After trying out lots of different clustering methods such as K-means, Partitioning Around Medoids(PAM), Hierarchical Clustering, DBSCAN, K-prototype, and K-Modes. I ended up using K-Modes since it gave good cluster separation for my dataset and I could also use Categorical data as my feature.\n",
    " \n",
    "\n",
    "    Few of the KPI's(predictors) are as follows,\n",
    "\n",
    "     1. The Impression gained by the advertiser using the platform (Integer datatype)\n",
    "     2. Click gained by the advertiser using the platform (Integer datatype)\n",
    "     3. Spend/Revenue of the Advertiser on the Platform (Doubble datatype)\n",
    "     4. Vertical (Example: Travel and Transport, Retail, B2C Services, et cetera) (Categorical data)\n",
    "     5. Country on the Advertiser has performed (Categorical data)"
   ]
  },
  {
   "cell_type": "markdown",
   "metadata": {},
   "source": []
  },
  {
   "cell_type": "markdown",
   "metadata": {},
   "source": [
    "### Question 4.2"
   ]
  },
  {
   "cell_type": "markdown",
   "metadata": {},
   "source": [
    "***Problem Statement: Use the R function kmeans to cluster the points as well as possible. Report the best combination of\n",
    "predictors, your suggested value of k, and how well your best clustering predicts flower type.***"
   ]
  },
  {
   "cell_type": "markdown",
   "metadata": {},
   "source": [
    "###### On an overall output of k =3 and using Petals as Predictors gave 96% accuracy"
   ]
  },
  {
   "cell_type": "markdown",
   "metadata": {},
   "source": [
    "###### My approach to the given problem:\n",
    "\n",
    "   The problem is very straightforward, we have to Cluster the data into k numbers. In this problem, ***After the TA call(Mr. Siawpeng Er) I've scalled my data***, I've used ggplot to identify which feature (Sepal or Petal) can get better clustering of iris Dataset followed by identifying the number of clusters using the elbow curve, later I performed k-means using the number of k that we obtain from elbow curve and feature that I select. In the end, I use the output value to find the Accuracy. "
   ]
  },
  {
   "cell_type": "markdown",
   "metadata": {},
   "source": [
    "###### My understanding of the output\n",
    "\n",
    "    The Petal feature looks good to separate the data into k clusters, later k = 3 for the petal predictors looked good from the elbow curve. At last, the accuracy looks extremely good, i.e k-means (for the selected feature and k value) has given a good output of separating the Species into different types."
   ]
  },
  {
   "cell_type": "markdown",
   "metadata": {},
   "source": [
    "I used the following link for this question:\n",
    "    1. https://rpubs.com/AnanyaDu/361293\n",
    "    2. http://rstudio-pubs-static.s3.amazonaws.com/227726_134741628338405eaebcff73cc63abc6.html"
   ]
  },
  {
   "cell_type": "markdown",
   "metadata": {},
   "source": []
  },
  {
   "cell_type": "code",
   "execution_count": 25,
   "metadata": {},
   "outputs": [
    {
     "name": "stderr",
     "output_type": "stream",
     "text": [
      "Installing package into 'C:/Users/v-balkar.REDMOND/Documents/R/win-library/3.6'\n",
      "(as 'lib' is unspecified)\n",
      "Installing package into 'C:/Users/v-balkar.REDMOND/Documents/R/win-library/3.6'\n",
      "(as 'lib' is unspecified)\n",
      "Installing package into 'C:/Users/v-balkar.REDMOND/Documents/R/win-library/3.6'\n",
      "(as 'lib' is unspecified)\n",
      "Installing package into 'C:/Users/v-balkar.REDMOND/Documents/R/win-library/3.6'\n",
      "(as 'lib' is unspecified)\n",
      "Installing package into 'C:/Users/v-balkar.REDMOND/Documents/R/win-library/3.6'\n",
      "(as 'lib' is unspecified)\n"
     ]
    }
   ],
   "source": [
    "install.packages(\"dplyr\", repos='http://cran.us.r-project.org')\n",
    "install.packages(\"tidyverse\", repos='http://cran.us.r-project.org')\n",
    "install.packages(\"cluster\", repos='http://cran.us.r-project.org')\n",
    "install.packages(\"fpc\", repos='http://cran.us.r-project.org')\n",
    "install.packages(\"factoextra\", repos='http://cran.us.r-project.org')"
   ]
  },
  {
   "cell_type": "code",
   "execution_count": 4,
   "metadata": {},
   "outputs": [],
   "source": [
    "oldw <- getOption(\"warn\")\n",
    "options(warn = -1)\n",
    "library(dplyr)\n",
    "library(tidyverse)\n",
    "library(cluster)\n",
    "library(fpc)\n",
    "library(factoextra)\n",
    "require(gridExtra)\n",
    "library(ggplot2)"
   ]
  },
  {
   "cell_type": "code",
   "execution_count": 189,
   "metadata": {},
   "outputs": [],
   "source": [
    "# Loading the iris text dataset into a dataframe\n",
    "\n",
    "iris <- read.table(\"iris.txt\",header = TRUE)"
   ]
  },
  {
   "cell_type": "code",
   "execution_count": 190,
   "metadata": {},
   "outputs": [
    {
     "data": {
      "text/html": [
       "<table>\n",
       "<thead><tr><th scope=col>Sepal.Length</th><th scope=col>Sepal.Width</th><th scope=col>Petal.Length</th><th scope=col>Petal.Width</th><th scope=col>Species</th></tr></thead>\n",
       "<tbody>\n",
       "\t<tr><td>5.1   </td><td>3.5   </td><td>1.4   </td><td>0.2   </td><td>setosa</td></tr>\n",
       "\t<tr><td>4.9   </td><td>3.0   </td><td>1.4   </td><td>0.2   </td><td>setosa</td></tr>\n",
       "\t<tr><td>4.7   </td><td>3.2   </td><td>1.3   </td><td>0.2   </td><td>setosa</td></tr>\n",
       "\t<tr><td>4.6   </td><td>3.1   </td><td>1.5   </td><td>0.2   </td><td>setosa</td></tr>\n",
       "\t<tr><td>5.0   </td><td>3.6   </td><td>1.4   </td><td>0.2   </td><td>setosa</td></tr>\n",
       "\t<tr><td>5.4   </td><td>3.9   </td><td>1.7   </td><td>0.4   </td><td>setosa</td></tr>\n",
       "</tbody>\n",
       "</table>\n"
      ],
      "text/latex": [
       "\\begin{tabular}{r|lllll}\n",
       " Sepal.Length & Sepal.Width & Petal.Length & Petal.Width & Species\\\\\n",
       "\\hline\n",
       "\t 5.1    & 3.5    & 1.4    & 0.2    & setosa\\\\\n",
       "\t 4.9    & 3.0    & 1.4    & 0.2    & setosa\\\\\n",
       "\t 4.7    & 3.2    & 1.3    & 0.2    & setosa\\\\\n",
       "\t 4.6    & 3.1    & 1.5    & 0.2    & setosa\\\\\n",
       "\t 5.0    & 3.6    & 1.4    & 0.2    & setosa\\\\\n",
       "\t 5.4    & 3.9    & 1.7    & 0.4    & setosa\\\\\n",
       "\\end{tabular}\n"
      ],
      "text/markdown": [
       "\n",
       "| Sepal.Length | Sepal.Width | Petal.Length | Petal.Width | Species |\n",
       "|---|---|---|---|---|\n",
       "| 5.1    | 3.5    | 1.4    | 0.2    | setosa |\n",
       "| 4.9    | 3.0    | 1.4    | 0.2    | setosa |\n",
       "| 4.7    | 3.2    | 1.3    | 0.2    | setosa |\n",
       "| 4.6    | 3.1    | 1.5    | 0.2    | setosa |\n",
       "| 5.0    | 3.6    | 1.4    | 0.2    | setosa |\n",
       "| 5.4    | 3.9    | 1.7    | 0.4    | setosa |\n",
       "\n"
      ],
      "text/plain": [
       "  Sepal.Length Sepal.Width Petal.Length Petal.Width Species\n",
       "1 5.1          3.5         1.4          0.2         setosa \n",
       "2 4.9          3.0         1.4          0.2         setosa \n",
       "3 4.7          3.2         1.3          0.2         setosa \n",
       "4 4.6          3.1         1.5          0.2         setosa \n",
       "5 5.0          3.6         1.4          0.2         setosa \n",
       "6 5.4          3.9         1.7          0.4         setosa "
      ]
     },
     "metadata": {},
     "output_type": "display_data"
    }
   ],
   "source": [
    "head(iris)"
   ]
  },
  {
   "cell_type": "code",
   "execution_count": 191,
   "metadata": {},
   "outputs": [
    {
     "data": {
      "text/html": [
       "3"
      ],
      "text/latex": [
       "3"
      ],
      "text/markdown": [
       "3"
      ],
      "text/plain": [
       "[1] 3"
      ]
     },
     "metadata": {},
     "output_type": "display_data"
    }
   ],
   "source": [
    "length(unique(iris$Species))"
   ]
  },
  {
   "cell_type": "code",
   "execution_count": 192,
   "metadata": {},
   "outputs": [
    {
     "data": {
      "text/html": [
       "<ol class=list-inline>\n",
       "\t<li>150</li>\n",
       "\t<li>5</li>\n",
       "</ol>\n"
      ],
      "text/latex": [
       "\\begin{enumerate*}\n",
       "\\item 150\n",
       "\\item 5\n",
       "\\end{enumerate*}\n"
      ],
      "text/markdown": [
       "1. 150\n",
       "2. 5\n",
       "\n",
       "\n"
      ],
      "text/plain": [
       "[1] 150   5"
      ]
     },
     "metadata": {},
     "output_type": "display_data"
    }
   ],
   "source": [
    "dim(iris)"
   ]
  },
  {
   "cell_type": "code",
   "execution_count": 193,
   "metadata": {},
   "outputs": [
    {
     "data": {
      "text/plain": [
       "  Sepal.Length    Sepal.Width     Petal.Length    Petal.Width   \n",
       " Min.   :4.300   Min.   :2.000   Min.   :1.000   Min.   :0.100  \n",
       " 1st Qu.:5.100   1st Qu.:2.800   1st Qu.:1.600   1st Qu.:0.300  \n",
       " Median :5.800   Median :3.000   Median :4.350   Median :1.300  \n",
       " Mean   :5.843   Mean   :3.057   Mean   :3.758   Mean   :1.199  \n",
       " 3rd Qu.:6.400   3rd Qu.:3.300   3rd Qu.:5.100   3rd Qu.:1.800  \n",
       " Max.   :7.900   Max.   :4.400   Max.   :6.900   Max.   :2.500  \n",
       "       Species  \n",
       " setosa    :50  \n",
       " versicolor:50  \n",
       " virginica :50  \n",
       "                \n",
       "                \n",
       "                "
      ]
     },
     "metadata": {},
     "output_type": "display_data"
    }
   ],
   "source": [
    "summary(iris)"
   ]
  },
  {
   "cell_type": "markdown",
   "metadata": {},
   "source": [
    "**Scalling the values after the TA call** "
   ]
  },
  {
   "cell_type": "code",
   "execution_count": 196,
   "metadata": {},
   "outputs": [
    {
     "data": {
      "text/html": [
       "<table>\n",
       "<thead><tr><th scope=col>Sepal.Length</th><th scope=col>Sepal.Width</th><th scope=col>Petal.Length</th><th scope=col>Petal.Width</th><th scope=col>Species</th></tr></thead>\n",
       "<tbody>\n",
       "\t<tr><td>0.22222222</td><td>0.6250000 </td><td>0.06779661</td><td>0.04166667</td><td>setosa    </td></tr>\n",
       "\t<tr><td>0.16666667</td><td>0.4166667 </td><td>0.06779661</td><td>0.04166667</td><td>setosa    </td></tr>\n",
       "\t<tr><td>0.11111111</td><td>0.5000000 </td><td>0.05084746</td><td>0.04166667</td><td>setosa    </td></tr>\n",
       "\t<tr><td>0.08333333</td><td>0.4583333 </td><td>0.08474576</td><td>0.04166667</td><td>setosa    </td></tr>\n",
       "\t<tr><td>0.19444444</td><td>0.6666667 </td><td>0.06779661</td><td>0.04166667</td><td>setosa    </td></tr>\n",
       "\t<tr><td>0.30555556</td><td>0.7916667 </td><td>0.11864407</td><td>0.12500000</td><td>setosa    </td></tr>\n",
       "</tbody>\n",
       "</table>\n"
      ],
      "text/latex": [
       "\\begin{tabular}{r|lllll}\n",
       " Sepal.Length & Sepal.Width & Petal.Length & Petal.Width & Species\\\\\n",
       "\\hline\n",
       "\t 0.22222222 & 0.6250000  & 0.06779661 & 0.04166667 & setosa    \\\\\n",
       "\t 0.16666667 & 0.4166667  & 0.06779661 & 0.04166667 & setosa    \\\\\n",
       "\t 0.11111111 & 0.5000000  & 0.05084746 & 0.04166667 & setosa    \\\\\n",
       "\t 0.08333333 & 0.4583333  & 0.08474576 & 0.04166667 & setosa    \\\\\n",
       "\t 0.19444444 & 0.6666667  & 0.06779661 & 0.04166667 & setosa    \\\\\n",
       "\t 0.30555556 & 0.7916667  & 0.11864407 & 0.12500000 & setosa    \\\\\n",
       "\\end{tabular}\n"
      ],
      "text/markdown": [
       "\n",
       "| Sepal.Length | Sepal.Width | Petal.Length | Petal.Width | Species |\n",
       "|---|---|---|---|---|\n",
       "| 0.22222222 | 0.6250000  | 0.06779661 | 0.04166667 | setosa     |\n",
       "| 0.16666667 | 0.4166667  | 0.06779661 | 0.04166667 | setosa     |\n",
       "| 0.11111111 | 0.5000000  | 0.05084746 | 0.04166667 | setosa     |\n",
       "| 0.08333333 | 0.4583333  | 0.08474576 | 0.04166667 | setosa     |\n",
       "| 0.19444444 | 0.6666667  | 0.06779661 | 0.04166667 | setosa     |\n",
       "| 0.30555556 | 0.7916667  | 0.11864407 | 0.12500000 | setosa     |\n",
       "\n"
      ],
      "text/plain": [
       "  Sepal.Length Sepal.Width Petal.Length Petal.Width Species\n",
       "1 0.22222222   0.6250000   0.06779661   0.04166667  setosa \n",
       "2 0.16666667   0.4166667   0.06779661   0.04166667  setosa \n",
       "3 0.11111111   0.5000000   0.05084746   0.04166667  setosa \n",
       "4 0.08333333   0.4583333   0.08474576   0.04166667  setosa \n",
       "5 0.19444444   0.6666667   0.06779661   0.04166667  setosa \n",
       "6 0.30555556   0.7916667   0.11864407   0.12500000  setosa "
      ]
     },
     "metadata": {},
     "output_type": "display_data"
    }
   ],
   "source": [
    "normalize <- function(x){\n",
    "  return ((x-min(x))/(max(x)-min(x)))\n",
    "}\n",
    "\n",
    "iris$Sepal.Length<- normalize(iris$Sepal.Length)\n",
    "iris$Sepal.Width<- normalize(iris$Sepal.Width)\n",
    "iris$Petal.Length<- normalize(iris$Petal.Length)\n",
    "iris$Petal.Width<- normalize(iris$Petal.Width)\n",
    "head(iris)"
   ]
  },
  {
   "cell_type": "markdown",
   "metadata": {},
   "source": [
    "### Preprocessing the data"
   ]
  },
  {
   "cell_type": "markdown",
   "metadata": {},
   "source": [
    "Clustering falls under Unsupervised Learning, so we don't need the output variable during execution of our algorithm. We will, therefore, remove Output variable “Species” and store it in another variable."
   ]
  },
  {
   "cell_type": "code",
   "execution_count": 197,
   "metadata": {},
   "outputs": [
    {
     "data": {
      "text/html": [
       "<table>\n",
       "<thead><tr><th scope=col>Sepal.Length</th><th scope=col>Sepal.Width</th><th scope=col>Petal.Length</th><th scope=col>Petal.Width</th></tr></thead>\n",
       "<tbody>\n",
       "\t<tr><td>0.22222222</td><td>0.6250000 </td><td>0.06779661</td><td>0.04166667</td></tr>\n",
       "\t<tr><td>0.16666667</td><td>0.4166667 </td><td>0.06779661</td><td>0.04166667</td></tr>\n",
       "\t<tr><td>0.11111111</td><td>0.5000000 </td><td>0.05084746</td><td>0.04166667</td></tr>\n",
       "\t<tr><td>0.08333333</td><td>0.4583333 </td><td>0.08474576</td><td>0.04166667</td></tr>\n",
       "\t<tr><td>0.19444444</td><td>0.6666667 </td><td>0.06779661</td><td>0.04166667</td></tr>\n",
       "\t<tr><td>0.30555556</td><td>0.7916667 </td><td>0.11864407</td><td>0.12500000</td></tr>\n",
       "</tbody>\n",
       "</table>\n"
      ],
      "text/latex": [
       "\\begin{tabular}{r|llll}\n",
       " Sepal.Length & Sepal.Width & Petal.Length & Petal.Width\\\\\n",
       "\\hline\n",
       "\t 0.22222222 & 0.6250000  & 0.06779661 & 0.04166667\\\\\n",
       "\t 0.16666667 & 0.4166667  & 0.06779661 & 0.04166667\\\\\n",
       "\t 0.11111111 & 0.5000000  & 0.05084746 & 0.04166667\\\\\n",
       "\t 0.08333333 & 0.4583333  & 0.08474576 & 0.04166667\\\\\n",
       "\t 0.19444444 & 0.6666667  & 0.06779661 & 0.04166667\\\\\n",
       "\t 0.30555556 & 0.7916667  & 0.11864407 & 0.12500000\\\\\n",
       "\\end{tabular}\n"
      ],
      "text/markdown": [
       "\n",
       "| Sepal.Length | Sepal.Width | Petal.Length | Petal.Width |\n",
       "|---|---|---|---|\n",
       "| 0.22222222 | 0.6250000  | 0.06779661 | 0.04166667 |\n",
       "| 0.16666667 | 0.4166667  | 0.06779661 | 0.04166667 |\n",
       "| 0.11111111 | 0.5000000  | 0.05084746 | 0.04166667 |\n",
       "| 0.08333333 | 0.4583333  | 0.08474576 | 0.04166667 |\n",
       "| 0.19444444 | 0.6666667  | 0.06779661 | 0.04166667 |\n",
       "| 0.30555556 | 0.7916667  | 0.11864407 | 0.12500000 |\n",
       "\n"
      ],
      "text/plain": [
       "  Sepal.Length Sepal.Width Petal.Length Petal.Width\n",
       "1 0.22222222   0.6250000   0.06779661   0.04166667 \n",
       "2 0.16666667   0.4166667   0.06779661   0.04166667 \n",
       "3 0.11111111   0.5000000   0.05084746   0.04166667 \n",
       "4 0.08333333   0.4583333   0.08474576   0.04166667 \n",
       "5 0.19444444   0.6666667   0.06779661   0.04166667 \n",
       "6 0.30555556   0.7916667   0.11864407   0.12500000 "
      ]
     },
     "metadata": {},
     "output_type": "display_data"
    }
   ],
   "source": [
    "# Seperate the independent variables from the dependent variabe\n",
    "df <- iris[,1:4]\n",
    "df_Class <- iris[,\"Species\"]\n",
    "head(df)"
   ]
  },
  {
   "cell_type": "markdown",
   "metadata": {},
   "source": [
    "Now I see how different combinations have splitted."
   ]
  },
  {
   "cell_type": "code",
   "execution_count": 198,
   "metadata": {},
   "outputs": [
    {
     "data": {
      "image/png": "[encoded data removed]",
      "text/plain": [
       "plot without title"
      ]
     },
     "metadata": {},
     "output_type": "display_data"
    }
   ],
   "source": [
    "# plotting the petal and sepal features separately to view the different features.\n",
    "\n",
    "plot1 <- ggplot(df, aes(x = df[,1], y = df[,2]))+geom_point(aes(color = factor(iris$Species)))+labs(x=\"Sepal.Length\", y = \"Sepal.Width\", title=\"Sepal.Length vs Sepal.Length\")\n",
    "\n",
    "plot2 <- ggplot(df, aes(x = df[,3], y = df[,4]))+geom_point(aes(color = factor(iris$Species)))+labs(x=\"Petal.Length\", y = \"Petal.Width\", title=\"Petal.Length vs Petal.Width\")\n",
    "\n",
    "grid.arrange(plot1, plot2, ncol=1)\n",
    "\n",
    "# It is clear the petal features can get a better clustering of the iris dataset"
   ]
  },
  {
   "cell_type": "code",
   "execution_count": 199,
   "metadata": {},
   "outputs": [
    {
     "data": {
      "image/png": "[encoded data removed]",
      "text/plain": [
       "Plot with title \"Petal Predictors\""
      ]
     },
     "metadata": {},
     "output_type": "display_data"
    }
   ],
   "source": [
    "# For the next step, I am going to try to determine the number of clusters using the elbow method.\n",
    "\n",
    "# FROM THE ELBOW METHOD, I am going to be using 3 clusters as input to kmeans function.\n",
    "\n",
    "sepals_df = df[,1:2]\n",
    "petals_df = df[,3:4]\n",
    "par(mfrow=c(1,2))                   # used to set or query graphical parameters (Get the 2 graphs side by side)\n",
    "\n",
    "# Elbow method on Sepals\n",
    "sepals_df <- scale(sepals_df)\n",
    "wss <- (nrow(sepals_df)-1)*sum(apply(sepals_df,2,var))\n",
    "for (i in 2:15) wss[i] <- sum(kmeans(sepals_df, centers=i)$withinss)\n",
    "plot1 <- plot(1:15, wss, type=\"b\", xlab=\"Number of Clusters\", ylab=\"Within groups sum of squares\", main=\"Sepal Predictors\")\n",
    "\n",
    "# Elbow method on Petals\n",
    "petals_df <- scale(petals_df)\n",
    "wss <- (nrow(petals_df)-1)*sum(apply(petals_df,2,var))\n",
    "for (i in 2:15) wss[i] <- sum(kmeans(petals_df, centers=i)$withinss)\n",
    "plot2 <- plot(1:15, wss, type=\"b\", xlab=\"Number of Clusters\", ylab=\"Within groups sum of squares\", main=\"Petal Predictors\")"
   ]
  },
  {
   "cell_type": "markdown",
   "metadata": {},
   "source": [
    "The plot above represents the variance within the clusters. It decreases as k increases, but we can see a bend or an elbow at k = 3 for the petal predictor. This bend indicates that additional clusters beyond the third have little value or not significant."
   ]
  },
  {
   "cell_type": "code",
   "execution_count": 200,
   "metadata": {},
   "outputs": [
    {
     "data": {
      "text/html": [
       "<table>\n",
       "<thead><tr><th scope=col>Group.1</th><th scope=col>Petal.Length</th><th scope=col>Petal.Width</th></tr></thead>\n",
       "<tbody>\n",
       "\t<tr><td>1         </td><td> 0.3048515</td><td> 0.1648655</td></tr>\n",
       "\t<tr><td>2         </td><td> 1.0245672</td><td> 1.1242119</td></tr>\n",
       "\t<tr><td>3         </td><td>-1.3006301</td><td>-1.2507035</td></tr>\n",
       "</tbody>\n",
       "</table>\n"
      ],
      "text/latex": [
       "\\begin{tabular}{r|lll}\n",
       " Group.1 & Petal.Length & Petal.Width\\\\\n",
       "\\hline\n",
       "\t 1          &  0.3048515 &  0.1648655\\\\\n",
       "\t 2          &  1.0245672 &  1.1242119\\\\\n",
       "\t 3          & -1.3006301 & -1.2507035\\\\\n",
       "\\end{tabular}\n"
      ],
      "text/markdown": [
       "\n",
       "| Group.1 | Petal.Length | Petal.Width |\n",
       "|---|---|---|\n",
       "| 1          |  0.3048515 |  0.1648655 |\n",
       "| 2          |  1.0245672 |  1.1242119 |\n",
       "| 3          | -1.3006301 | -1.2507035 |\n",
       "\n"
      ],
      "text/plain": [
       "  Group.1 Petal.Length Petal.Width\n",
       "1 1        0.3048515    0.1648655 \n",
       "2 2        1.0245672    1.1242119 \n",
       "3 3       -1.3006301   -1.2507035 "
      ]
     },
     "metadata": {},
     "output_type": "display_data"
    }
   ],
   "source": [
    "# ?kmeans\n",
    "\n",
    "set.seed(123)\n",
    "model <- kmeans(petals_df, 3, nstart = 25, iter.max = 10)\n",
    "cluster_centroids <- aggregate(petals_df,by=list(model$cluster),FUN=mean)\n",
    "cluster_centroids"
   ]
  },
  {
   "cell_type": "markdown",
   "metadata": {},
   "source": [
    "Showing the output graphically along with the cluster centroid"
   ]
  },
  {
   "cell_type": "code",
   "execution_count": 201,
   "metadata": {},
   "outputs": [
    {
     "data": {
      "image/png": "[encoded data removed]",
      "text/plain": [
       "plot without title"
      ]
     },
     "metadata": {},
     "output_type": "display_data"
    }
   ],
   "source": [
    "# ?fviz_cluster\n",
    "\n",
    "fviz_cluster(object = model, data = df, geom = \"point\", choose.vars = c(\"Petal.Length\", \"Petal.Width\"),\n",
    "             stand = FALSE, ellipse.type = \"norm\") + theme_bw()"
   ]
  },
  {
   "cell_type": "markdown",
   "metadata": {},
   "source": [
    "Now to check how well the model has predicted"
   ]
  },
  {
   "cell_type": "code",
   "execution_count": 202,
   "metadata": {},
   "outputs": [
    {
     "data": {
      "text/html": [
       "<ol class=list-inline>\n",
       "\t<li>52</li>\n",
       "\t<li>48</li>\n",
       "\t<li>50</li>\n",
       "</ol>\n"
      ],
      "text/latex": [
       "\\begin{enumerate*}\n",
       "\\item 52\n",
       "\\item 48\n",
       "\\item 50\n",
       "\\end{enumerate*}\n"
      ],
      "text/markdown": [
       "1. 52\n",
       "2. 48\n",
       "3. 50\n",
       "\n",
       "\n"
      ],
      "text/plain": [
       "[1] 52 48 50"
      ]
     },
     "metadata": {},
     "output_type": "display_data"
    }
   ],
   "source": [
    "model$size # gives no. of records in each cluster"
   ]
  },
  {
   "cell_type": "code",
   "execution_count": 203,
   "metadata": {},
   "outputs": [
    {
     "data": {
      "text/plain": [
       "   df_Class\n",
       "    setosa versicolor virginica\n",
       "  1      0         48         4\n",
       "  2      0          2        46\n",
       "  3     50          0         0"
      ]
     },
     "metadata": {},
     "output_type": "display_data"
    }
   ],
   "source": [
    "table(model$cluster,df_Class)"
   ]
  },
  {
   "cell_type": "markdown",
   "metadata": {},
   "source": [
    "The above result of table shows that Cluster 1 corresponds to Virginica, Cluster 2 corresponds to Versicolor and Cluster 3 to Setosa."
   ]
  },
  {
   "cell_type": "markdown",
   "metadata": {},
   "source": [
    "Total number of correctly classified instances are: 46 + 48 + 50= 144\n",
    "\n",
    "Total number of incorrectly classified instances are: 2 + 4= 6\n",
    "\n",
    "Accuracy = 144/(144+6) = 0.96 meaning our model has achieved 96% accuracy"
   ]
  },
  {
   "cell_type": "markdown",
   "metadata": {},
   "source": []
  },
  {
   "cell_type": "markdown",
   "metadata": {},
   "source": [
    "### Question 5.1"
   ]
  },
  {
   "cell_type": "markdown",
   "metadata": {},
   "source": [
    "***Problem Statement: Using crime data from the file uscrime.txt, test to see whether there are any outliers in the last column (number of crimes per 100,000 people). Use the grubbs.test function in the outliers package in R.***"
   ]
  },
  {
   "cell_type": "markdown",
   "metadata": {},
   "source": [
    "**Grubbs Test:**\n",
    "\n",
    "It is a statistical test to identify Outliers. The value could be smallest or largest in the data. Grubbs test works by assuming that data is normally distributed, so we have to check the normality assumption first."
   ]
  },
  {
   "cell_type": "markdown",
   "metadata": {},
   "source": [
    "###### My approach to the given problem:\n",
    "\n",
    "    First I checked whether my data is normally distributed or not to perform Grubbs test. Later I used grubbs.test() function to perform the test. Later I removed those values and I performed the grubb test again and checked the P-value."
   ]
  },
  {
   "cell_type": "markdown",
   "metadata": {},
   "source": [
    "###### My understanding of the output\n",
    "\n",
    "    342 and 1993 are outliers, i.e these values are separated maximum from the mean. The p-value measures how much evidence there is that the tested point is an Outlier or not (Values Near 0 - Stronger evidence of an Outlier, Values Near 1 - Weaker evidence of an Outlier). Since I got P-value output of 1 this means the tested point should not be considered as an Outlier.\n",
    "    I continued the process till the value was some what near 0\n",
    "    \n",
    "    That was not happening so as TA(Mr. Siawpeng Er) mentioned during the cass time if we continue to do this we will end up in removing all the data."
   ]
  },
  {
   "cell_type": "markdown",
   "metadata": {},
   "source": [
    "I used the following link for this question:\n",
    "    1. rdocumentation.org/packages/outliers/versions/0.14/topics/grubbs.test\n",
    "    2. https://www.youtube.com/watch?v=kc9O5XfV2pc"
   ]
  },
  {
   "cell_type": "code",
   "execution_count": 63,
   "metadata": {},
   "outputs": [],
   "source": [
    "# installing the required Package\n",
    "# install.packages(\"outliers\", repos = 'http://cran.us.r-project.org')"
   ]
  },
  {
   "cell_type": "code",
   "execution_count": 64,
   "metadata": {},
   "outputs": [],
   "source": [
    "crime_df <- read.table(\"uscrime.txt\", header = TRUE)"
   ]
  },
  {
   "cell_type": "code",
   "execution_count": 65,
   "metadata": {},
   "outputs": [
    {
     "data": {
      "text/html": [
       "<table>\n",
       "<thead><tr><th scope=col>M</th><th scope=col>So</th><th scope=col>Ed</th><th scope=col>Po1</th><th scope=col>Po2</th><th scope=col>LF</th><th scope=col>M.F</th><th scope=col>Pop</th><th scope=col>NW</th><th scope=col>U1</th><th scope=col>U2</th><th scope=col>Wealth</th><th scope=col>Ineq</th><th scope=col>Prob</th><th scope=col>Time</th><th scope=col>Crime</th></tr></thead>\n",
       "<tbody>\n",
       "\t<tr><td>15.1    </td><td>1       </td><td> 9.1    </td><td> 5.8    </td><td>5.6     </td><td>0.510   </td><td> 95.0   </td><td>33      </td><td>30.1    </td><td>0.108   </td><td>4.1     </td><td>3940    </td><td>26.1    </td><td>0.084602</td><td>26.2011 </td><td> 791    </td></tr>\n",
       "\t<tr><td>14.3    </td><td>0       </td><td>11.3    </td><td>10.3    </td><td>9.5     </td><td>0.583   </td><td>101.2   </td><td>13      </td><td>10.2    </td><td>0.096   </td><td>3.6     </td><td>5570    </td><td>19.4    </td><td>0.029599</td><td>25.2999 </td><td>1635    </td></tr>\n",
       "</tbody>\n",
       "</table>\n"
      ],
      "text/latex": [
       "\\begin{tabular}{r|llllllllllllllll}\n",
       " M & So & Ed & Po1 & Po2 & LF & M.F & Pop & NW & U1 & U2 & Wealth & Ineq & Prob & Time & Crime\\\\\n",
       "\\hline\n",
       "\t 15.1     & 1        &  9.1     &  5.8     & 5.6      & 0.510    &  95.0    & 33       & 30.1     & 0.108    & 4.1      & 3940     & 26.1     & 0.084602 & 26.2011  &  791    \\\\\n",
       "\t 14.3     & 0        & 11.3     & 10.3     & 9.5      & 0.583    & 101.2    & 13       & 10.2     & 0.096    & 3.6      & 5570     & 19.4     & 0.029599 & 25.2999  & 1635    \\\\\n",
       "\\end{tabular}\n"
      ],
      "text/markdown": [
       "\n",
       "| M | So | Ed | Po1 | Po2 | LF | M.F | Pop | NW | U1 | U2 | Wealth | Ineq | Prob | Time | Crime |\n",
       "|---|---|---|---|---|---|---|---|---|---|---|---|---|---|---|---|\n",
       "| 15.1     | 1        |  9.1     |  5.8     | 5.6      | 0.510    |  95.0    | 33       | 30.1     | 0.108    | 4.1      | 3940     | 26.1     | 0.084602 | 26.2011  |  791     |\n",
       "| 14.3     | 0        | 11.3     | 10.3     | 9.5      | 0.583    | 101.2    | 13       | 10.2     | 0.096    | 3.6      | 5570     | 19.4     | 0.029599 | 25.2999  | 1635     |\n",
       "\n"
      ],
      "text/plain": [
       "  M    So Ed   Po1  Po2 LF    M.F   Pop NW   U1    U2  Wealth Ineq Prob    \n",
       "1 15.1 1   9.1  5.8 5.6 0.510  95.0 33  30.1 0.108 4.1 3940   26.1 0.084602\n",
       "2 14.3 0  11.3 10.3 9.5 0.583 101.2 13  10.2 0.096 3.6 5570   19.4 0.029599\n",
       "  Time    Crime\n",
       "1 26.2011  791 \n",
       "2 25.2999 1635 "
      ]
     },
     "metadata": {},
     "output_type": "display_data"
    }
   ],
   "source": [
    "head(crime_df,2)"
   ]
  },
  {
   "cell_type": "code",
   "execution_count": 172,
   "metadata": {},
   "outputs": [
    {
     "data": {
      "text/html": [
       "<ol class=list-inline>\n",
       "\t<li>47</li>\n",
       "\t<li>16</li>\n",
       "</ol>\n"
      ],
      "text/latex": [
       "\\begin{enumerate*}\n",
       "\\item 47\n",
       "\\item 16\n",
       "\\end{enumerate*}\n"
      ],
      "text/markdown": [
       "1. 47\n",
       "2. 16\n",
       "\n",
       "\n"
      ],
      "text/plain": [
       "[1] 47 16"
      ]
     },
     "metadata": {},
     "output_type": "display_data"
    }
   ],
   "source": [
    "dim(crime_df)"
   ]
  },
  {
   "cell_type": "code",
   "execution_count": 168,
   "metadata": {},
   "outputs": [
    {
     "data": {
      "image/png": "[encoded data removed]",
      "text/plain": [
       "plot without title"
      ]
     },
     "metadata": {},
     "output_type": "display_data"
    }
   ],
   "source": [
    "# Using boxplot to visualize the Outliers\n",
    "boxplot(crime_df$Crime)"
   ]
  },
  {
   "cell_type": "code",
   "execution_count": 83,
   "metadata": {},
   "outputs": [
    {
     "data": {
      "image/png": "[encoded data removed]",
      "text/plain": [
       "Plot with title \"Crime Dataset\""
      ]
     },
     "metadata": {},
     "output_type": "display_data"
    }
   ],
   "source": [
    "# Checking Normality with Histogram\n",
    "\n",
    "hist(crime_df$Crime, xlab = \"Crime number\", main = \"Crime Dataset\")"
   ]
  },
  {
   "cell_type": "markdown",
   "metadata": {},
   "source": [
    "This looks fine, but if our data had more than a single peak then Grub test cannot be used. Now I'm continueing with the grub test."
   ]
  },
  {
   "cell_type": "code",
   "execution_count": 84,
   "metadata": {},
   "outputs": [],
   "source": [
    "library(outliers)\n",
    "crime <- crime_df$Crime"
   ]
  },
  {
   "cell_type": "code",
   "execution_count": 188,
   "metadata": {},
   "outputs": [
    {
     "data": {
      "text/plain": [
       "\n",
       "\tGrubbs test for two opposite outliers\n",
       "\n",
       "data:  crime\n",
       "G = 4.26877, U = 0.78103, p-value = 1\n",
       "alternative hypothesis: 342 and 1993 are outliers\n"
      ]
     },
     "metadata": {},
     "output_type": "display_data"
    }
   ],
   "source": [
    "# ?grubbs.test\n",
    "\n",
    "grubbs.test(crime, type = 11, opposite = FALSE, two.sided = FALSE)"
   ]
  },
  {
   "cell_type": "markdown",
   "metadata": {},
   "source": [
    "p-value near 1 - Weaker evidence of an Outlier"
   ]
  },
  {
   "cell_type": "code",
   "execution_count": 239,
   "metadata": {},
   "outputs": [],
   "source": [
    "crime_df <- crime_df[(!(crime_df$Crime == 342) & !(crime_df$Crime == 1993)),]"
   ]
  },
  {
   "cell_type": "code",
   "execution_count": 240,
   "metadata": {},
   "outputs": [
    {
     "data": {
      "text/html": [
       "<ol class=list-inline>\n",
       "\t<li>45</li>\n",
       "\t<li>16</li>\n",
       "</ol>\n"
      ],
      "text/latex": [
       "\\begin{enumerate*}\n",
       "\\item 45\n",
       "\\item 16\n",
       "\\end{enumerate*}\n"
      ],
      "text/markdown": [
       "1. 45\n",
       "2. 16\n",
       "\n",
       "\n"
      ],
      "text/plain": [
       "[1] 45 16"
      ]
     },
     "metadata": {},
     "output_type": "display_data"
    }
   ],
   "source": [
    "dim(crime_df)"
   ]
  },
  {
   "cell_type": "code",
   "execution_count": 241,
   "metadata": {},
   "outputs": [
    {
     "data": {
      "text/plain": [
       "\n",
       "\tGrubbs test for two opposite outliers\n",
       "\n",
       "data:  crime_df$Crime\n",
       "G = 4.56671, U = 0.73301, p-value = 0.6893\n",
       "alternative hypothesis: 373 and 1969 are outliers\n"
      ]
     },
     "metadata": {},
     "output_type": "display_data"
    }
   ],
   "source": [
    "grubbs.test(crime_df$Crime, type = 11, opposite = FALSE, two.sided = FALSE)"
   ]
  },
  {
   "cell_type": "code",
   "execution_count": 242,
   "metadata": {},
   "outputs": [],
   "source": [
    "crime_df <- crime_df[(!(crime_df$Crime == 373) & !(crime_df$Crime == 1969)),]"
   ]
  },
  {
   "cell_type": "code",
   "execution_count": 243,
   "metadata": {},
   "outputs": [
    {
     "data": {
      "text/html": [
       "<ol class=list-inline>\n",
       "\t<li>43</li>\n",
       "\t<li>16</li>\n",
       "</ol>\n"
      ],
      "text/latex": [
       "\\begin{enumerate*}\n",
       "\\item 43\n",
       "\\item 16\n",
       "\\end{enumerate*}\n"
      ],
      "text/markdown": [
       "1. 43\n",
       "2. 16\n",
       "\n",
       "\n"
      ],
      "text/plain": [
       "[1] 43 16"
      ]
     },
     "metadata": {},
     "output_type": "display_data"
    }
   ],
   "source": [
    "dim(crime_df)"
   ]
  },
  {
   "cell_type": "code",
   "execution_count": 244,
   "metadata": {},
   "outputs": [
    {
     "data": {
      "text/plain": [
       "\n",
       "\tGrubbs test for two opposite outliers\n",
       "\n",
       "data:  crime_df$Crime\n",
       "G = 4.03257, U = 0.78992, p-value = 1\n",
       "alternative hypothesis: 439 and 1674 are outliers\n"
      ]
     },
     "metadata": {},
     "output_type": "display_data"
    }
   ],
   "source": [
    "grubbs.test(crime_df$Crime, type = 11, opposite = FALSE, two.sided = FALSE)"
   ]
  },
  {
   "cell_type": "markdown",
   "metadata": {},
   "source": [
    "**Kindly read \"My understanding of the output\" for this question as why I performed the process again**"
   ]
  },
  {
   "cell_type": "markdown",
   "metadata": {},
   "source": []
  },
  {
   "cell_type": "markdown",
   "metadata": {},
   "source": [
    "### Question 6.1"
   ]
  },
  {
   "cell_type": "markdown",
   "metadata": {},
   "source": [
    "**Describe a situation or problem from your job, everyday life, current events, etc., for which a Change Detection model would be appropriate. Applying the CUSUM technique, how would you choose the critical value and the threshold?**"
   ]
  },
  {
   "cell_type": "markdown",
   "metadata": {},
   "source": [
    "   As an Analyst at Mindtree, I worked on a churn analytics project for my client where I had to analyze the Customers who tend to churn out of the system. For this I use lots of different performance metrics across a time period. One important note is that I consider the seasonality since some customers prefer to invest in the platform during a certain time of the yar. Depending on the importance of the metric, I vary the time window from weeks to months. After tabulating the time-weighted values, I compare the values to the threshold, which I decide on the data that is provided. The main objective of this project is to identify the time when the customer might leave the system, by doing so my client will get in touch with the customer and makes sure that the customer doesn't leave the system. So for this problem statement it's not definitive on selecting a Critical value or threshold."
   ]
  },
  {
   "cell_type": "markdown",
   "metadata": {},
   "source": []
  },
  {
   "cell_type": "markdown",
   "metadata": {},
   "source": [
    "### Question 6.2 (a)"
   ]
  },
  {
   "cell_type": "markdown",
   "metadata": {},
   "source": [
    "**Problem Statement: Using July through October daily-high-temperature data for Atlanta for 1996 through 2015, use\n",
    "a CUSUM approach to identify when unofficial summer ends (i.e., when the weather starts\n",
    "cooling off) each year.**"
   ]
  },
  {
   "cell_type": "markdown",
   "metadata": {},
   "source": [
    "First I viewed the sum and average of temperatures by year and by month to see trends,if present, in this data. \n",
    "\n",
    "In the Daily Temperature by Year output we want to see if climate has generally changed for the warmer as time goes on. It looks like temperature is stable throughout the years, but from 2010 there are a few abnormally with high mean temperatures. The mean temperatures for 2010 and 2011 are high.\n",
    "\n",
    "In the Daily Temperature by Month output we want to see when we start transitioning out of summer. The output clearly explains what was expected. Starting in September temperatures start to cool down. CUSUM model would start to pick up changes as early as late August that temperatures are decreasing.\n",
    "\n",
    "I set up a loop to run a cusum model on each individual year to determine which day start a string of temperature changes. To do this I set up a cusum model using the mean of all summer days as the center value, the standard deviation of all summer days as the target standard deviation. Detection standard deviation is set to 1.96 times the summer day standard deviation. Any value greater than 1.96 times the standard deviation will add to the cumulative sum model. \n",
    "\n",
    "**The dates for each year are listed in a data frame below. The earliest end of summer was 2013-08-15. The latest end of summer was 2005-10-06. Most end of summer days occur in early to mid-September.**"
   ]
  },
  {
   "cell_type": "code",
   "execution_count": 118,
   "metadata": {},
   "outputs": [],
   "source": [
    "# load libraries\n",
    "# if (!require(lubridate)) install.packages(\"lubridate\")\n",
    "# library(lubridate)\n",
    "\n",
    "# if (!require(qcc)) install.packages(\"qcc\")\n",
    "# library(qcc)\n",
    "\n",
    "# if (!require(changepoint)) install.packages(\"changepoint\")\n",
    "# library(changepoint)\n",
    "\n",
    "# if (!require(bda)) install.packages(\"bda\")\n",
    "# library(bda)"
   ]
  },
  {
   "cell_type": "code",
   "execution_count": 97,
   "metadata": {},
   "outputs": [
    {
     "name": "stderr",
     "output_type": "stream",
     "text": [
      "Parsed with column specification:\n",
      "cols(\n",
      "  .default = col_double(),\n",
      "  DAY = col_character()\n",
      ")\n",
      "See spec(...) for full column specifications.\n"
     ]
    }
   ],
   "source": [
    "# setup cusum algorithm for changes over time\n",
    "temps_df = read_delim('temps.txt', delim = '\\t') %>% \n",
    "        as_tibble() %>% \n",
    "        gather(year, temp, -DAY) %>% \n",
    "        mutate(year = as.factor(year),\n",
    "               date = paste(DAY,year, sep = '-')) %>% \n",
    "        mutate(date_val = dmy(date),\n",
    "               color = ifelse(temp > mean(.$temp), 'Above', 'Below'),\n",
    "               month = month(date_val),\n",
    "               day = day(date_val)) %>% \n",
    "        dplyr::select(date_val, DAY, year, temp,color, month, day)"
   ]
  },
  {
   "cell_type": "code",
   "execution_count": 133,
   "metadata": {},
   "outputs": [
    {
     "data": {
      "text/html": [
       "<table>\n",
       "<thead><tr><th scope=col>date_val</th><th scope=col>DAY</th><th scope=col>year</th><th scope=col>temp</th><th scope=col>color</th><th scope=col>month</th><th scope=col>day</th></tr></thead>\n",
       "<tbody>\n",
       "\t<tr><td>1996-07-01</td><td>1-Jul     </td><td>1996      </td><td>98        </td><td>Above     </td><td>7         </td><td>1         </td></tr>\n",
       "\t<tr><td>1996-07-02</td><td>2-Jul     </td><td>1996      </td><td>97        </td><td>Above     </td><td>7         </td><td>2         </td></tr>\n",
       "\t<tr><td>1996-07-03</td><td>3-Jul     </td><td>1996      </td><td>97        </td><td>Above     </td><td>7         </td><td>3         </td></tr>\n",
       "\t<tr><td>1996-07-04</td><td>4-Jul     </td><td>1996      </td><td>90        </td><td>Above     </td><td>7         </td><td>4         </td></tr>\n",
       "\t<tr><td>1996-07-05</td><td>5-Jul     </td><td>1996      </td><td>89        </td><td>Above     </td><td>7         </td><td>5         </td></tr>\n",
       "\t<tr><td>1996-07-06</td><td>6-Jul     </td><td>1996      </td><td>93        </td><td>Above     </td><td>7         </td><td>6         </td></tr>\n",
       "</tbody>\n",
       "</table>\n"
      ],
      "text/latex": [
       "\\begin{tabular}{r|lllllll}\n",
       " date\\_val & DAY & year & temp & color & month & day\\\\\n",
       "\\hline\n",
       "\t 1996-07-01 & 1-Jul      & 1996       & 98         & Above      & 7          & 1         \\\\\n",
       "\t 1996-07-02 & 2-Jul      & 1996       & 97         & Above      & 7          & 2         \\\\\n",
       "\t 1996-07-03 & 3-Jul      & 1996       & 97         & Above      & 7          & 3         \\\\\n",
       "\t 1996-07-04 & 4-Jul      & 1996       & 90         & Above      & 7          & 4         \\\\\n",
       "\t 1996-07-05 & 5-Jul      & 1996       & 89         & Above      & 7          & 5         \\\\\n",
       "\t 1996-07-06 & 6-Jul      & 1996       & 93         & Above      & 7          & 6         \\\\\n",
       "\\end{tabular}\n"
      ],
      "text/markdown": [
       "\n",
       "| date_val | DAY | year | temp | color | month | day |\n",
       "|---|---|---|---|---|---|---|\n",
       "| 1996-07-01 | 1-Jul      | 1996       | 98         | Above      | 7          | 1          |\n",
       "| 1996-07-02 | 2-Jul      | 1996       | 97         | Above      | 7          | 2          |\n",
       "| 1996-07-03 | 3-Jul      | 1996       | 97         | Above      | 7          | 3          |\n",
       "| 1996-07-04 | 4-Jul      | 1996       | 90         | Above      | 7          | 4          |\n",
       "| 1996-07-05 | 5-Jul      | 1996       | 89         | Above      | 7          | 5          |\n",
       "| 1996-07-06 | 6-Jul      | 1996       | 93         | Above      | 7          | 6          |\n",
       "\n"
      ],
      "text/plain": [
       "  date_val   DAY   year temp color month day\n",
       "1 1996-07-01 1-Jul 1996 98   Above 7     1  \n",
       "2 1996-07-02 2-Jul 1996 97   Above 7     2  \n",
       "3 1996-07-03 3-Jul 1996 97   Above 7     3  \n",
       "4 1996-07-04 4-Jul 1996 90   Above 7     4  \n",
       "5 1996-07-05 5-Jul 1996 89   Above 7     5  \n",
       "6 1996-07-06 6-Jul 1996 93   Above 7     6  "
      ]
     },
     "metadata": {},
     "output_type": "display_data"
    }
   ],
   "source": [
    "# Truncating the data\n",
    "head(temps_df)     "
   ]
  },
  {
   "cell_type": "code",
   "execution_count": 99,
   "metadata": {},
   "outputs": [
    {
     "data": {
      "text/html": [
       "<ol class=list-inline>\n",
       "\t<li>2460</li>\n",
       "\t<li>7</li>\n",
       "</ol>\n"
      ],
      "text/latex": [
       "\\begin{enumerate*}\n",
       "\\item 2460\n",
       "\\item 7\n",
       "\\end{enumerate*}\n"
      ],
      "text/markdown": [
       "1. 2460\n",
       "2. 7\n",
       "\n",
       "\n"
      ],
      "text/plain": [
       "[1] 2460    7"
      ]
     },
     "metadata": {},
     "output_type": "display_data"
    }
   ],
   "source": [
    "dim(temps_df)"
   ]
  },
  {
   "cell_type": "code",
   "execution_count": 222,
   "metadata": {},
   "outputs": [
    {
     "data": {
      "text/html": [
       "8.62025319888611"
      ],
      "text/latex": [
       "8.62025319888611"
      ],
      "text/markdown": [
       "8.62025319888611"
      ],
      "text/plain": [
       "[1] 8.620253"
      ]
     },
     "metadata": {},
     "output_type": "display_data"
    }
   ],
   "source": [
    "# This is the Standard Deviation of the whole output\n",
    "\n",
    "sd(temps_df$temp)"
   ]
  },
  {
   "cell_type": "code",
   "execution_count": 218,
   "metadata": {},
   "outputs": [
    {
     "data": {
      "text/html": [
       "<table>\n",
       "<thead><tr><th scope=col>temps_df$year</th><th scope=col>temps_df$temp</th></tr></thead>\n",
       "<tbody>\n",
       "\t<tr><td>1996 </td><td>10297</td></tr>\n",
       "\t<tr><td>1997 </td><td>10046</td></tr>\n",
       "\t<tr><td>1998 </td><td>10364</td></tr>\n",
       "\t<tr><td>1999 </td><td>10253</td></tr>\n",
       "\t<tr><td>2000 </td><td>10336</td></tr>\n",
       "\t<tr><td>2001 </td><td>10031</td></tr>\n",
       "\t<tr><td>2002 </td><td>10281</td></tr>\n",
       "\t<tr><td>2003 </td><td>10022</td></tr>\n",
       "\t<tr><td>2004 </td><td>10057</td></tr>\n",
       "\t<tr><td>2005 </td><td>10253</td></tr>\n",
       "\t<tr><td>2006 </td><td>10215</td></tr>\n",
       "\t<tr><td>2007 </td><td>10504</td></tr>\n",
       "\t<tr><td>2008 </td><td>10149</td></tr>\n",
       "\t<tr><td>2009 </td><td> 9962</td></tr>\n",
       "\t<tr><td>2010 </td><td>10727</td></tr>\n",
       "\t<tr><td>2011 </td><td>10489</td></tr>\n",
       "\t<tr><td>2012 </td><td>10412</td></tr>\n",
       "\t<tr><td>2013 </td><td>10045</td></tr>\n",
       "\t<tr><td>2014 </td><td>10325</td></tr>\n",
       "\t<tr><td>2015 </td><td>10246</td></tr>\n",
       "</tbody>\n",
       "</table>\n"
      ],
      "text/latex": [
       "\\begin{tabular}{r|ll}\n",
       " temps\\_df\\$year & temps\\_df\\$temp\\\\\n",
       "\\hline\n",
       "\t 1996  & 10297\\\\\n",
       "\t 1997  & 10046\\\\\n",
       "\t 1998  & 10364\\\\\n",
       "\t 1999  & 10253\\\\\n",
       "\t 2000  & 10336\\\\\n",
       "\t 2001  & 10031\\\\\n",
       "\t 2002  & 10281\\\\\n",
       "\t 2003  & 10022\\\\\n",
       "\t 2004  & 10057\\\\\n",
       "\t 2005  & 10253\\\\\n",
       "\t 2006  & 10215\\\\\n",
       "\t 2007  & 10504\\\\\n",
       "\t 2008  & 10149\\\\\n",
       "\t 2009  &  9962\\\\\n",
       "\t 2010  & 10727\\\\\n",
       "\t 2011  & 10489\\\\\n",
       "\t 2012  & 10412\\\\\n",
       "\t 2013  & 10045\\\\\n",
       "\t 2014  & 10325\\\\\n",
       "\t 2015  & 10246\\\\\n",
       "\\end{tabular}\n"
      ],
      "text/markdown": [
       "\n",
       "| temps_df$year | temps_df$temp |\n",
       "|---|---|\n",
       "| 1996  | 10297 |\n",
       "| 1997  | 10046 |\n",
       "| 1998  | 10364 |\n",
       "| 1999  | 10253 |\n",
       "| 2000  | 10336 |\n",
       "| 2001  | 10031 |\n",
       "| 2002  | 10281 |\n",
       "| 2003  | 10022 |\n",
       "| 2004  | 10057 |\n",
       "| 2005  | 10253 |\n",
       "| 2006  | 10215 |\n",
       "| 2007  | 10504 |\n",
       "| 2008  | 10149 |\n",
       "| 2009  |  9962 |\n",
       "| 2010  | 10727 |\n",
       "| 2011  | 10489 |\n",
       "| 2012  | 10412 |\n",
       "| 2013  | 10045 |\n",
       "| 2014  | 10325 |\n",
       "| 2015  | 10246 |\n",
       "\n"
      ],
      "text/plain": [
       "   temps_df$year temps_df$temp\n",
       "1  1996          10297        \n",
       "2  1997          10046        \n",
       "3  1998          10364        \n",
       "4  1999          10253        \n",
       "5  2000          10336        \n",
       "6  2001          10031        \n",
       "7  2002          10281        \n",
       "8  2003          10022        \n",
       "9  2004          10057        \n",
       "10 2005          10253        \n",
       "11 2006          10215        \n",
       "12 2007          10504        \n",
       "13 2008          10149        \n",
       "14 2009           9962        \n",
       "15 2010          10727        \n",
       "16 2011          10489        \n",
       "17 2012          10412        \n",
       "18 2013          10045        \n",
       "19 2014          10325        \n",
       "20 2015          10246        "
      ]
     },
     "metadata": {},
     "output_type": "display_data"
    }
   ],
   "source": [
    "# Group the data by year and summing it\n",
    "\n",
    "aggregate(temps_df$temp ~ temps_df$year, temps_df, sum)"
   ]
  },
  {
   "cell_type": "code",
   "execution_count": 213,
   "metadata": {},
   "outputs": [
    {
     "data": {
      "text/html": [
       "83.3390243902439"
      ],
      "text/latex": [
       "83.3390243902439"
      ],
      "text/markdown": [
       "83.3390243902439"
      ],
      "text/plain": [
       "[1] 83.33902"
      ]
     },
     "metadata": {},
     "output_type": "display_data"
    }
   ],
   "source": [
    "# The mean temperaature across all the years\n",
    "\n",
    "mean(temps_df$temp)"
   ]
  },
  {
   "cell_type": "code",
   "execution_count": 220,
   "metadata": {},
   "outputs": [
    {
     "data": {
      "text/html": [
       "<table>\n",
       "<thead><tr><th scope=col>temps_df$year</th><th scope=col>temps_df$temp</th></tr></thead>\n",
       "<tbody>\n",
       "\t<tr><td>1996    </td><td>83.71545</td></tr>\n",
       "\t<tr><td>1997    </td><td>81.67480</td></tr>\n",
       "\t<tr><td>1998    </td><td>84.26016</td></tr>\n",
       "\t<tr><td>1999    </td><td>83.35772</td></tr>\n",
       "\t<tr><td>2000    </td><td>84.03252</td></tr>\n",
       "\t<tr><td>2001    </td><td>81.55285</td></tr>\n",
       "\t<tr><td>2002    </td><td>83.58537</td></tr>\n",
       "\t<tr><td>2003    </td><td>81.47967</td></tr>\n",
       "\t<tr><td>2004    </td><td>81.76423</td></tr>\n",
       "\t<tr><td>2005    </td><td>83.35772</td></tr>\n",
       "\t<tr><td>2006    </td><td>83.04878</td></tr>\n",
       "\t<tr><td>2007    </td><td>85.39837</td></tr>\n",
       "\t<tr><td>2008    </td><td>82.51220</td></tr>\n",
       "\t<tr><td>2009    </td><td>80.99187</td></tr>\n",
       "\t<tr><td>2010    </td><td>87.21138</td></tr>\n",
       "\t<tr><td>2011    </td><td>85.27642</td></tr>\n",
       "\t<tr><td>2012    </td><td>84.65041</td></tr>\n",
       "\t<tr><td>2013    </td><td>81.66667</td></tr>\n",
       "\t<tr><td>2014    </td><td>83.94309</td></tr>\n",
       "\t<tr><td>2015    </td><td>83.30081</td></tr>\n",
       "</tbody>\n",
       "</table>\n"
      ],
      "text/latex": [
       "\\begin{tabular}{r|ll}\n",
       " temps\\_df\\$year & temps\\_df\\$temp\\\\\n",
       "\\hline\n",
       "\t 1996     & 83.71545\\\\\n",
       "\t 1997     & 81.67480\\\\\n",
       "\t 1998     & 84.26016\\\\\n",
       "\t 1999     & 83.35772\\\\\n",
       "\t 2000     & 84.03252\\\\\n",
       "\t 2001     & 81.55285\\\\\n",
       "\t 2002     & 83.58537\\\\\n",
       "\t 2003     & 81.47967\\\\\n",
       "\t 2004     & 81.76423\\\\\n",
       "\t 2005     & 83.35772\\\\\n",
       "\t 2006     & 83.04878\\\\\n",
       "\t 2007     & 85.39837\\\\\n",
       "\t 2008     & 82.51220\\\\\n",
       "\t 2009     & 80.99187\\\\\n",
       "\t 2010     & 87.21138\\\\\n",
       "\t 2011     & 85.27642\\\\\n",
       "\t 2012     & 84.65041\\\\\n",
       "\t 2013     & 81.66667\\\\\n",
       "\t 2014     & 83.94309\\\\\n",
       "\t 2015     & 83.30081\\\\\n",
       "\\end{tabular}\n"
      ],
      "text/markdown": [
       "\n",
       "| temps_df$year | temps_df$temp |\n",
       "|---|---|\n",
       "| 1996     | 83.71545 |\n",
       "| 1997     | 81.67480 |\n",
       "| 1998     | 84.26016 |\n",
       "| 1999     | 83.35772 |\n",
       "| 2000     | 84.03252 |\n",
       "| 2001     | 81.55285 |\n",
       "| 2002     | 83.58537 |\n",
       "| 2003     | 81.47967 |\n",
       "| 2004     | 81.76423 |\n",
       "| 2005     | 83.35772 |\n",
       "| 2006     | 83.04878 |\n",
       "| 2007     | 85.39837 |\n",
       "| 2008     | 82.51220 |\n",
       "| 2009     | 80.99187 |\n",
       "| 2010     | 87.21138 |\n",
       "| 2011     | 85.27642 |\n",
       "| 2012     | 84.65041 |\n",
       "| 2013     | 81.66667 |\n",
       "| 2014     | 83.94309 |\n",
       "| 2015     | 83.30081 |\n",
       "\n"
      ],
      "text/plain": [
       "   temps_df$year temps_df$temp\n",
       "1  1996          83.71545     \n",
       "2  1997          81.67480     \n",
       "3  1998          84.26016     \n",
       "4  1999          83.35772     \n",
       "5  2000          84.03252     \n",
       "6  2001          81.55285     \n",
       "7  2002          83.58537     \n",
       "8  2003          81.47967     \n",
       "9  2004          81.76423     \n",
       "10 2005          83.35772     \n",
       "11 2006          83.04878     \n",
       "12 2007          85.39837     \n",
       "13 2008          82.51220     \n",
       "14 2009          80.99187     \n",
       "15 2010          87.21138     \n",
       "16 2011          85.27642     \n",
       "17 2012          84.65041     \n",
       "18 2013          81.66667     \n",
       "19 2014          83.94309     \n",
       "20 2015          83.30081     "
      ]
     },
     "metadata": {},
     "output_type": "display_data"
    }
   ],
   "source": [
    "# Group the data by months and averaging it\n",
    "\n",
    "aggregate(temps_df$temp ~ temps_df$year, temps_df, mean)"
   ]
  },
  {
   "cell_type": "code",
   "execution_count": 216,
   "metadata": {},
   "outputs": [
    {
     "data": {
      "text/html": [
       "<table>\n",
       "<thead><tr><th scope=col>temps_df$month</th><th scope=col>temps_df$temp</th></tr></thead>\n",
       "<tbody>\n",
       "\t<tr><td> 7   </td><td>55025</td></tr>\n",
       "\t<tr><td> 8   </td><td>54942</td></tr>\n",
       "\t<tr><td> 9   </td><td>49603</td></tr>\n",
       "\t<tr><td>10   </td><td>45444</td></tr>\n",
       "</tbody>\n",
       "</table>\n"
      ],
      "text/latex": [
       "\\begin{tabular}{r|ll}\n",
       " temps\\_df\\$month & temps\\_df\\$temp\\\\\n",
       "\\hline\n",
       "\t  7    & 55025\\\\\n",
       "\t  8    & 54942\\\\\n",
       "\t  9    & 49603\\\\\n",
       "\t 10    & 45444\\\\\n",
       "\\end{tabular}\n"
      ],
      "text/markdown": [
       "\n",
       "| temps_df$month | temps_df$temp |\n",
       "|---|---|\n",
       "|  7    | 55025 |\n",
       "|  8    | 54942 |\n",
       "|  9    | 49603 |\n",
       "| 10    | 45444 |\n",
       "\n"
      ],
      "text/plain": [
       "  temps_df$month temps_df$temp\n",
       "1  7             55025        \n",
       "2  8             54942        \n",
       "3  9             49603        \n",
       "4 10             45444        "
      ]
     },
     "metadata": {},
     "output_type": "display_data"
    }
   ],
   "source": [
    "# Group the data by months and summing it\n",
    "\n",
    "aggregate(temps_df$temp ~ temps_df$month, temps_df, sum)"
   ]
  },
  {
   "cell_type": "code",
   "execution_count": 217,
   "metadata": {},
   "outputs": [
    {
     "data": {
      "text/html": [
       "<table>\n",
       "<thead><tr><th scope=col>temps_df$month</th><th scope=col>temps_df$temp</th></tr></thead>\n",
       "<tbody>\n",
       "\t<tr><td> 7      </td><td>88.75000</td></tr>\n",
       "\t<tr><td> 8      </td><td>88.61613</td></tr>\n",
       "\t<tr><td> 9      </td><td>82.67167</td></tr>\n",
       "\t<tr><td>10      </td><td>73.29677</td></tr>\n",
       "</tbody>\n",
       "</table>\n"
      ],
      "text/latex": [
       "\\begin{tabular}{r|ll}\n",
       " temps\\_df\\$month & temps\\_df\\$temp\\\\\n",
       "\\hline\n",
       "\t  7       & 88.75000\\\\\n",
       "\t  8       & 88.61613\\\\\n",
       "\t  9       & 82.67167\\\\\n",
       "\t 10       & 73.29677\\\\\n",
       "\\end{tabular}\n"
      ],
      "text/markdown": [
       "\n",
       "| temps_df$month | temps_df$temp |\n",
       "|---|---|\n",
       "|  7       | 88.75000 |\n",
       "|  8       | 88.61613 |\n",
       "|  9       | 82.67167 |\n",
       "| 10       | 73.29677 |\n",
       "\n"
      ],
      "text/plain": [
       "  temps_df$month temps_df$temp\n",
       "1  7             88.75000     \n",
       "2  8             88.61613     \n",
       "3  9             82.67167     \n",
       "4 10             73.29677     "
      ]
     },
     "metadata": {},
     "output_type": "display_data"
    }
   ],
   "source": [
    "# Group the data by months and averaging it\n",
    "\n",
    "aggregate(temps_df$temp ~ temps_df$month, temps_df, mean)"
   ]
  },
  {
   "cell_type": "code",
   "execution_count": 226,
   "metadata": {},
   "outputs": [
    {
     "name": "stderr",
     "output_type": "stream",
     "text": [
      "Parsed with column specification:\n",
      "cols(\n",
      "  .default = col_double(),\n",
      "  DAY = col_character()\n",
      ")\n",
      "See spec(...) for full column specifications.\n"
     ]
    },
    {
     "name": "stdout",
     "output_type": "stream",
     "text": [
      "[1] \"Head of temp data\"\n"
     ]
    },
    {
     "data": {
      "text/html": [
       "<table>\n",
       "<thead><tr><th scope=col>date_val</th><th scope=col>DAY</th><th scope=col>year</th><th scope=col>temp</th><th scope=col>color</th><th scope=col>month</th><th scope=col>day</th></tr></thead>\n",
       "<tbody>\n",
       "\t<tr><td>1996-07-01</td><td>1-Jul     </td><td>1996      </td><td>98        </td><td>Above     </td><td>7         </td><td>1         </td></tr>\n",
       "\t<tr><td>1996-07-02</td><td>2-Jul     </td><td>1996      </td><td>97        </td><td>Above     </td><td>7         </td><td>2         </td></tr>\n",
       "\t<tr><td>1996-07-03</td><td>3-Jul     </td><td>1996      </td><td>97        </td><td>Above     </td><td>7         </td><td>3         </td></tr>\n",
       "\t<tr><td>1996-07-04</td><td>4-Jul     </td><td>1996      </td><td>90        </td><td>Above     </td><td>7         </td><td>4         </td></tr>\n",
       "\t<tr><td>1996-07-05</td><td>5-Jul     </td><td>1996      </td><td>89        </td><td>Above     </td><td>7         </td><td>5         </td></tr>\n",
       "\t<tr><td>1996-07-06</td><td>6-Jul     </td><td>1996      </td><td>93        </td><td>Above     </td><td>7         </td><td>6         </td></tr>\n",
       "</tbody>\n",
       "</table>\n"
      ],
      "text/latex": [
       "\\begin{tabular}{r|lllllll}\n",
       " date\\_val & DAY & year & temp & color & month & day\\\\\n",
       "\\hline\n",
       "\t 1996-07-01 & 1-Jul      & 1996       & 98         & Above      & 7          & 1         \\\\\n",
       "\t 1996-07-02 & 2-Jul      & 1996       & 97         & Above      & 7          & 2         \\\\\n",
       "\t 1996-07-03 & 3-Jul      & 1996       & 97         & Above      & 7          & 3         \\\\\n",
       "\t 1996-07-04 & 4-Jul      & 1996       & 90         & Above      & 7          & 4         \\\\\n",
       "\t 1996-07-05 & 5-Jul      & 1996       & 89         & Above      & 7          & 5         \\\\\n",
       "\t 1996-07-06 & 6-Jul      & 1996       & 93         & Above      & 7          & 6         \\\\\n",
       "\\end{tabular}\n"
      ],
      "text/markdown": [
       "\n",
       "| date_val | DAY | year | temp | color | month | day |\n",
       "|---|---|---|---|---|---|---|\n",
       "| 1996-07-01 | 1-Jul      | 1996       | 98         | Above      | 7          | 1          |\n",
       "| 1996-07-02 | 2-Jul      | 1996       | 97         | Above      | 7          | 2          |\n",
       "| 1996-07-03 | 3-Jul      | 1996       | 97         | Above      | 7          | 3          |\n",
       "| 1996-07-04 | 4-Jul      | 1996       | 90         | Above      | 7          | 4          |\n",
       "| 1996-07-05 | 5-Jul      | 1996       | 89         | Above      | 7          | 5          |\n",
       "| 1996-07-06 | 6-Jul      | 1996       | 93         | Above      | 7          | 6          |\n",
       "\n"
      ],
      "text/plain": [
       "  date_val   DAY   year temp color month day\n",
       "1 1996-07-01 1-Jul 1996 98   Above 7     1  \n",
       "2 1996-07-02 2-Jul 1996 97   Above 7     2  \n",
       "3 1996-07-03 3-Jul 1996 97   Above 7     3  \n",
       "4 1996-07-04 4-Jul 1996 90   Above 7     4  \n",
       "5 1996-07-05 5-Jul 1996 89   Above 7     5  \n",
       "6 1996-07-06 6-Jul 1996 93   Above 7     6  "
      ]
     },
     "metadata": {},
     "output_type": "display_data"
    },
    {
     "name": "stdout",
     "output_type": "stream",
     "text": [
      "[1] \"Unique Years: \"\n"
     ]
    },
    {
     "data": {
      "text/html": [
       "<ol class=list-inline>\n",
       "\t<li>1996</li>\n",
       "\t<li>1997</li>\n",
       "\t<li>1998</li>\n",
       "\t<li>1999</li>\n",
       "\t<li>2000</li>\n",
       "\t<li>2001</li>\n",
       "\t<li>2002</li>\n",
       "\t<li>2003</li>\n",
       "\t<li>2004</li>\n",
       "\t<li>2005</li>\n",
       "\t<li>2006</li>\n",
       "\t<li>2007</li>\n",
       "\t<li>2008</li>\n",
       "\t<li>2009</li>\n",
       "\t<li>2010</li>\n",
       "\t<li>2011</li>\n",
       "\t<li>2012</li>\n",
       "\t<li>2013</li>\n",
       "\t<li>2014</li>\n",
       "\t<li>2015</li>\n",
       "</ol>\n",
       "\n",
       "<details>\n",
       "\t<summary style=display:list-item;cursor:pointer>\n",
       "\t\t<strong>Levels</strong>:\n",
       "\t</summary>\n",
       "\t<ol class=list-inline>\n",
       "\t\t<li>'1996'</li>\n",
       "\t\t<li>'1997'</li>\n",
       "\t\t<li>'1998'</li>\n",
       "\t\t<li>'1999'</li>\n",
       "\t\t<li>'2000'</li>\n",
       "\t\t<li>'2001'</li>\n",
       "\t\t<li>'2002'</li>\n",
       "\t\t<li>'2003'</li>\n",
       "\t\t<li>'2004'</li>\n",
       "\t\t<li>'2005'</li>\n",
       "\t\t<li>'2006'</li>\n",
       "\t\t<li>'2007'</li>\n",
       "\t\t<li>'2008'</li>\n",
       "\t\t<li>'2009'</li>\n",
       "\t\t<li>'2010'</li>\n",
       "\t\t<li>'2011'</li>\n",
       "\t\t<li>'2012'</li>\n",
       "\t\t<li>'2013'</li>\n",
       "\t\t<li>'2014'</li>\n",
       "\t\t<li>'2015'</li>\n",
       "\t</ol>\n",
       "</details>"
      ],
      "text/latex": [
       "\\begin{enumerate*}\n",
       "\\item 1996\n",
       "\\item 1997\n",
       "\\item 1998\n",
       "\\item 1999\n",
       "\\item 2000\n",
       "\\item 2001\n",
       "\\item 2002\n",
       "\\item 2003\n",
       "\\item 2004\n",
       "\\item 2005\n",
       "\\item 2006\n",
       "\\item 2007\n",
       "\\item 2008\n",
       "\\item 2009\n",
       "\\item 2010\n",
       "\\item 2011\n",
       "\\item 2012\n",
       "\\item 2013\n",
       "\\item 2014\n",
       "\\item 2015\n",
       "\\end{enumerate*}\n",
       "\n",
       "\\emph{Levels}: \\begin{enumerate*}\n",
       "\\item '1996'\n",
       "\\item '1997'\n",
       "\\item '1998'\n",
       "\\item '1999'\n",
       "\\item '2000'\n",
       "\\item '2001'\n",
       "\\item '2002'\n",
       "\\item '2003'\n",
       "\\item '2004'\n",
       "\\item '2005'\n",
       "\\item '2006'\n",
       "\\item '2007'\n",
       "\\item '2008'\n",
       "\\item '2009'\n",
       "\\item '2010'\n",
       "\\item '2011'\n",
       "\\item '2012'\n",
       "\\item '2013'\n",
       "\\item '2014'\n",
       "\\item '2015'\n",
       "\\end{enumerate*}\n"
      ],
      "text/markdown": [
       "1. 1996\n",
       "2. 1997\n",
       "3. 1998\n",
       "4. 1999\n",
       "5. 2000\n",
       "6. 2001\n",
       "7. 2002\n",
       "8. 2003\n",
       "9. 2004\n",
       "10. 2005\n",
       "11. 2006\n",
       "12. 2007\n",
       "13. 2008\n",
       "14. 2009\n",
       "15. 2010\n",
       "16. 2011\n",
       "17. 2012\n",
       "18. 2013\n",
       "19. 2014\n",
       "20. 2015\n",
       "\n",
       "\n",
       "\n",
       "**Levels**: 1. '1996'\n",
       "2. '1997'\n",
       "3. '1998'\n",
       "4. '1999'\n",
       "5. '2000'\n",
       "6. '2001'\n",
       "7. '2002'\n",
       "8. '2003'\n",
       "9. '2004'\n",
       "10. '2005'\n",
       "11. '2006'\n",
       "12. '2007'\n",
       "13. '2008'\n",
       "14. '2009'\n",
       "15. '2010'\n",
       "16. '2011'\n",
       "17. '2012'\n",
       "18. '2013'\n",
       "19. '2014'\n",
       "20. '2015'\n",
       "\n",
       "\n"
      ],
      "text/plain": [
       " [1] 1996 1997 1998 1999 2000 2001 2002 2003 2004 2005 2006 2007 2008 2009 2010\n",
       "[16] 2011 2012 2013 2014 2015\n",
       "20 Levels: 1996 1997 1998 1999 2000 2001 2002 2003 2004 2005 2006 2007 ... 2015"
      ]
     },
     "metadata": {},
     "output_type": "display_data"
    },
    {
     "name": "stdout",
     "output_type": "stream",
     "text": [
      "[1] \"Outputs:\"\n",
      "[1] \"Earliest Summer End:  2013-08-15\"\n",
      "[1] \"Latest Summer End:  2005-10-06\"\n"
     ]
    },
    {
     "data": {
      "text/html": [
       "<table>\n",
       "<thead><tr><th scope=col>year_date</th><th scope=col>date_val</th><th scope=col>cusum_val</th><th scope=col>month_val</th><th scope=col>day_val</th></tr></thead>\n",
       "<tbody>\n",
       "\t<tr><td>1996      </td><td>1996-09-18</td><td>-0.2128955</td><td> 9        </td><td>18        </td></tr>\n",
       "\t<tr><td>1997      </td><td>1997-09-22</td><td>-1.4566970</td><td> 9        </td><td>22        </td></tr>\n",
       "\t<tr><td>1998      </td><td>1998-09-29</td><td>-0.9527283</td><td> 9        </td><td>29        </td></tr>\n",
       "\t<tr><td>1999      </td><td>1999-09-20</td><td>-2.2253764</td><td> 9        </td><td>20        </td></tr>\n",
       "\t<tr><td>2000      </td><td>2000-09-06</td><td>-2.7836448</td><td> 9        </td><td> 6        </td></tr>\n",
       "\t<tr><td>2001      </td><td>2001-09-24</td><td>-1.6399583</td><td> 9        </td><td>24        </td></tr>\n",
       "\t<tr><td>2002      </td><td>2002-09-24</td><td>-1.2293172</td><td> 9        </td><td>24        </td></tr>\n",
       "\t<tr><td>2003      </td><td>2003-09-28</td><td>-0.7898293</td><td> 9        </td><td>28        </td></tr>\n",
       "\t<tr><td>2004      </td><td>2004-09-15</td><td>-0.8492196</td><td> 9        </td><td>15        </td></tr>\n",
       "\t<tr><td>2005      </td><td>2005-10-06</td><td>-1.3905193</td><td>10        </td><td> 6        </td></tr>\n",
       "\t<tr><td>2006      </td><td>2006-09-21</td><td>-1.8172197</td><td> 9        </td><td>21        </td></tr>\n",
       "\t<tr><td>2007      </td><td>2007-09-16</td><td>-0.9815750</td><td> 9        </td><td>16        </td></tr>\n",
       "\t<tr><td>2008      </td><td>2008-09-17</td><td>-1.8401883</td><td> 9        </td><td>17        </td></tr>\n",
       "\t<tr><td>2009      </td><td>2009-09-29</td><td>-0.8967318</td><td> 9        </td><td>29        </td></tr>\n",
       "\t<tr><td>2010      </td><td>2010-09-26</td><td>-1.3599757</td><td> 9        </td><td>26        </td></tr>\n",
       "\t<tr><td>2011      </td><td>2011-09-04</td><td>-0.1212649</td><td> 9        </td><td> 4        </td></tr>\n",
       "\t<tr><td>2012      </td><td>2012-09-30</td><td>-1.6603207</td><td> 9        </td><td>30        </td></tr>\n",
       "\t<tr><td>2013      </td><td>2013-08-15</td><td>-0.8288572</td><td> 8        </td><td>15        </td></tr>\n",
       "\t<tr><td>2014      </td><td>2014-09-23</td><td>-0.4691220</td><td> 9        </td><td>23        </td></tr>\n",
       "\t<tr><td>2015      </td><td>2015-09-12</td><td>-0.1263554</td><td> 9        </td><td>12        </td></tr>\n",
       "</tbody>\n",
       "</table>\n"
      ],
      "text/latex": [
       "\\begin{tabular}{r|lllll}\n",
       " year\\_date & date\\_val & cusum\\_val & month\\_val & day\\_val\\\\\n",
       "\\hline\n",
       "\t 1996       & 1996-09-18 & -0.2128955 &  9         & 18        \\\\\n",
       "\t 1997       & 1997-09-22 & -1.4566970 &  9         & 22        \\\\\n",
       "\t 1998       & 1998-09-29 & -0.9527283 &  9         & 29        \\\\\n",
       "\t 1999       & 1999-09-20 & -2.2253764 &  9         & 20        \\\\\n",
       "\t 2000       & 2000-09-06 & -2.7836448 &  9         &  6        \\\\\n",
       "\t 2001       & 2001-09-24 & -1.6399583 &  9         & 24        \\\\\n",
       "\t 2002       & 2002-09-24 & -1.2293172 &  9         & 24        \\\\\n",
       "\t 2003       & 2003-09-28 & -0.7898293 &  9         & 28        \\\\\n",
       "\t 2004       & 2004-09-15 & -0.8492196 &  9         & 15        \\\\\n",
       "\t 2005       & 2005-10-06 & -1.3905193 & 10         &  6        \\\\\n",
       "\t 2006       & 2006-09-21 & -1.8172197 &  9         & 21        \\\\\n",
       "\t 2007       & 2007-09-16 & -0.9815750 &  9         & 16        \\\\\n",
       "\t 2008       & 2008-09-17 & -1.8401883 &  9         & 17        \\\\\n",
       "\t 2009       & 2009-09-29 & -0.8967318 &  9         & 29        \\\\\n",
       "\t 2010       & 2010-09-26 & -1.3599757 &  9         & 26        \\\\\n",
       "\t 2011       & 2011-09-04 & -0.1212649 &  9         &  4        \\\\\n",
       "\t 2012       & 2012-09-30 & -1.6603207 &  9         & 30        \\\\\n",
       "\t 2013       & 2013-08-15 & -0.8288572 &  8         & 15        \\\\\n",
       "\t 2014       & 2014-09-23 & -0.4691220 &  9         & 23        \\\\\n",
       "\t 2015       & 2015-09-12 & -0.1263554 &  9         & 12        \\\\\n",
       "\\end{tabular}\n"
      ],
      "text/markdown": [
       "\n",
       "| year_date | date_val | cusum_val | month_val | day_val |\n",
       "|---|---|---|---|---|\n",
       "| 1996       | 1996-09-18 | -0.2128955 |  9         | 18         |\n",
       "| 1997       | 1997-09-22 | -1.4566970 |  9         | 22         |\n",
       "| 1998       | 1998-09-29 | -0.9527283 |  9         | 29         |\n",
       "| 1999       | 1999-09-20 | -2.2253764 |  9         | 20         |\n",
       "| 2000       | 2000-09-06 | -2.7836448 |  9         |  6         |\n",
       "| 2001       | 2001-09-24 | -1.6399583 |  9         | 24         |\n",
       "| 2002       | 2002-09-24 | -1.2293172 |  9         | 24         |\n",
       "| 2003       | 2003-09-28 | -0.7898293 |  9         | 28         |\n",
       "| 2004       | 2004-09-15 | -0.8492196 |  9         | 15         |\n",
       "| 2005       | 2005-10-06 | -1.3905193 | 10         |  6         |\n",
       "| 2006       | 2006-09-21 | -1.8172197 |  9         | 21         |\n",
       "| 2007       | 2007-09-16 | -0.9815750 |  9         | 16         |\n",
       "| 2008       | 2008-09-17 | -1.8401883 |  9         | 17         |\n",
       "| 2009       | 2009-09-29 | -0.8967318 |  9         | 29         |\n",
       "| 2010       | 2010-09-26 | -1.3599757 |  9         | 26         |\n",
       "| 2011       | 2011-09-04 | -0.1212649 |  9         |  4         |\n",
       "| 2012       | 2012-09-30 | -1.6603207 |  9         | 30         |\n",
       "| 2013       | 2013-08-15 | -0.8288572 |  8         | 15         |\n",
       "| 2014       | 2014-09-23 | -0.4691220 |  9         | 23         |\n",
       "| 2015       | 2015-09-12 | -0.1263554 |  9         | 12         |\n",
       "\n"
      ],
      "text/plain": [
       "   year_date date_val   cusum_val  month_val day_val\n",
       "1  1996      1996-09-18 -0.2128955  9        18     \n",
       "2  1997      1997-09-22 -1.4566970  9        22     \n",
       "3  1998      1998-09-29 -0.9527283  9        29     \n",
       "4  1999      1999-09-20 -2.2253764  9        20     \n",
       "5  2000      2000-09-06 -2.7836448  9         6     \n",
       "6  2001      2001-09-24 -1.6399583  9        24     \n",
       "7  2002      2002-09-24 -1.2293172  9        24     \n",
       "8  2003      2003-09-28 -0.7898293  9        28     \n",
       "9  2004      2004-09-15 -0.8492196  9        15     \n",
       "10 2005      2005-10-06 -1.3905193 10         6     \n",
       "11 2006      2006-09-21 -1.8172197  9        21     \n",
       "12 2007      2007-09-16 -0.9815750  9        16     \n",
       "13 2008      2008-09-17 -1.8401883  9        17     \n",
       "14 2009      2009-09-29 -0.8967318  9        29     \n",
       "15 2010      2010-09-26 -1.3599757  9        26     \n",
       "16 2011      2011-09-04 -0.1212649  9         4     \n",
       "17 2012      2012-09-30 -1.6603207  9        30     \n",
       "18 2013      2013-08-15 -0.8288572  8        15     \n",
       "19 2014      2014-09-23 -0.4691220  9        23     \n",
       "20 2015      2015-09-12 -0.1263554  9        12     "
      ]
     },
     "metadata": {},
     "output_type": "display_data"
    }
   ],
   "source": [
    "## Cusum Model\n",
    "# setup cusum algorithm for changes over time\n",
    "temps_model_df <- read_delim('temps.txt', delim = '\\t') %>% \n",
    "        as_data_frame() %>% \n",
    "        gather(year, temp, -DAY) %>% \n",
    "        mutate(year = as.factor(year),\n",
    "               date = paste(DAY,year, sep = '-')) %>% \n",
    "        mutate(date_val = dmy(date),\n",
    "               color = ifelse(temp > mean(.$temp), 'Above', 'Below'),\n",
    "               month = month(date_val),\n",
    "               day = day(date_val)) %>% \n",
    "        dplyr::select(date_val, DAY, year, temp,color, month, day)\n",
    "print(\"Head of temp data\")\n",
    "head(temps_model_df)\n",
    "\n",
    "print('Unique Years: ',)\n",
    "unique(temps_model_df$year)\n",
    "\n",
    "# grab only the summer dates for the cusum model\n",
    "summer_df = temps_model_df %>% \n",
    "        filter(month %in% c(as.Date(7), as.Date(8)))\n",
    "\n",
    "# summer_df\n",
    "\n",
    "# determine baseline mean and sd metrics in the summer months only\n",
    "summer_mean = mean(summer_df$temp)\n",
    "summer_sd = sd(summer_df$temp)\n",
    "\n",
    "# summer_mean\n",
    "# summer_sd\n",
    "\n",
    "# list of years to loop through\n",
    "years = as.list(unique(as.character(temps_model_df$year)))\n",
    "\n",
    "# years\n",
    "\n",
    "# empty list to store values of the for loop into\n",
    "store_days <- list()\n",
    "\n",
    "\n",
    "# cusum for loop\n",
    "for (i in seq_along(years)) {\n",
    "        \n",
    "        # take a year subset\n",
    "        year_index <- years[[i]]\n",
    "        \n",
    "        df <- temps_model_df %>% \n",
    "                filter(as.character(year) == year_index) %>% \n",
    "                dplyr::select(temp)\n",
    "        \n",
    "        # fit a cusum model to that year\n",
    "        qsum <- qcc::cusum(\n",
    "                data = df$temp,\n",
    "                centervalue = summer_mean, \n",
    "                std.dev = summer_sd,\n",
    "                se.shift = 1.96,\n",
    "                plot = F\n",
    "           )\n",
    "        # extract the first day that starts at least 4 consecutive days of temperature flagged by cusum model\n",
    "        qsum_results <- qsum$neg %>%\n",
    "                as_tibble() %>%\n",
    "                rownames_to_column() %>% \n",
    "                cbind(date = temps_model_df$DAY) %>% \n",
    "                mutate( # current cusum value times the next and the fourth value cannot be 0!\n",
    "                        consecutive = value * lead(value,1) * lead(value, 4) == 0\n",
    "                        ) %>% \n",
    "                filter(consecutive == F) %>% \n",
    "                .[1,] %>% \n",
    "                cbind(year_index) %>% \n",
    "                dplyr::select(., -consecutive)\n",
    "        \n",
    "        # store the first day of a string of flagged temperatures into a list\n",
    "        store_days[[i]] = qsum_results\n",
    "        \n",
    "}\n",
    "\n",
    "\n",
    "# reduce the list of stored temperatures and format into a readable format\n",
    "end_summer <- reduce(store_days, rbind) %>% \n",
    "        mutate(date = paste(date,year_index, sep = '-')) %>% \n",
    "        mutate(date_val = dmy(date)) %>% \n",
    "        dplyr::select(date_val, 'cusum_val' = value) %>% \n",
    "        mutate(year_date = year(date_val)) %>% \n",
    "        dplyr::select(year_date, date_val, cusum_val) %>% \n",
    "        mutate(month_val = month(date_val),\n",
    "               day_val = day(date_val))\n",
    "\n",
    "# end_summer\n",
    "\n",
    "\n",
    "# find the earliest end of summer\n",
    "earliest_end <- end_summer %>% \n",
    "        filter(month_val == min(month_val))\n",
    "\n",
    "# earliest_end\n",
    "\n",
    "# find the latest end of summer\n",
    "latest_end <- end_summer %>% \n",
    "        filter(month_val == max(month_val))\n",
    "\n",
    "# latest_end\n",
    "\n",
    "# print outputs\n",
    "print(\"Outputs:\")\n",
    "print(paste('Earliest Summer End: ', earliest_end$date_val))\n",
    "print(paste('Latest Summer End: ', latest_end$date_val))\n",
    "end_summer"
   ]
  },
  {
   "cell_type": "markdown",
   "metadata": {},
   "source": []
  },
  {
   "cell_type": "markdown",
   "metadata": {},
   "source": [
    "### Question 6.2 (b)"
   ]
  },
  {
   "cell_type": "markdown",
   "metadata": {},
   "source": [
    "**Use a CUSUM approach to make a judgment of whether Atlanta’s summer climate has gotten warmer in that time (and if so, when).**"
   ]
  },
  {
   "cell_type": "markdown",
   "metadata": {},
   "source": [
    "To answer this question we will use the a cusum model to see if any year's summer days have been hotter than the overall average of the summer months. To do this we will filter the data set to only the summer months, then set up a cusum model with center value as the mean temperature of all summer months. We will use the standard deviation for the same time period. \n",
    " \n",
    "\n",
    "Examining the cusum plot - there is an extreme amount of positive change around the mid 2000s, with another run of hot summers following close to the end of our data set. \n",
    "\n",
    "**2007 looks to be the peak of the hot summers shown in the cusum chart. In particular, 8-25-2007, shows the highest cummulative sum total of any of the years summer days.**"
   ]
  },
  {
   "cell_type": "markdown",
   "metadata": {},
   "source": [
    "To get the CUSUM chart I used : \n",
    "   \n",
    "    1.https://cran.r-project.org/web/packages/qcc/vignettes/qcc_a_quick_tour.html\n",
    "    2.http://www.stat.unipg.it/luca/misc/Rnews_2004-1-pag11-17.pdf\n",
    "    3. https://rdrr.io/cran/qcc/man/qcc.html"
   ]
  },
  {
   "cell_type": "code",
   "execution_count": 227,
   "metadata": {},
   "outputs": [
    {
     "name": "stderr",
     "output_type": "stream",
     "text": [
      "Parsed with column specification:\n",
      "cols(\n",
      "  .default = col_double(),\n",
      "  DAY = col_character()\n",
      ")\n",
      "See spec(...) for full column specifications.\n"
     ]
    }
   ],
   "source": [
    "# setup cusum algorithm for changes over time\n",
    "temps_df2 <- read_delim('temps.txt', delim = '\\t') %>% \n",
    "        as_data_frame() %>% \n",
    "        gather(year, temp, -DAY) %>% \n",
    "        mutate(year = as.factor(year),\n",
    "               date = paste(DAY,year, sep = '-')) %>% \n",
    "        mutate(date_val = dmy(date),\n",
    "               month = month(date_val),\n",
    "               day = day(date_val)) %>% \n",
    "        filter(month %in% c(7, 8)) %>% \n",
    "        dplyr::select(date_val, DAY, year, temp)  "
   ]
  },
  {
   "cell_type": "code",
   "execution_count": 228,
   "metadata": {},
   "outputs": [],
   "source": [
    "# center value and std.dev\n",
    "summer_center2 <- mean(temps_df2$temp)\n",
    "summer_sd2 <- sd(temps_df2$temp)"
   ]
  },
  {
   "cell_type": "code",
   "execution_count": 229,
   "metadata": {},
   "outputs": [
    {
     "name": "stdout",
     "output_type": "stream",
     "text": [
      "[1] \"Overall Summer  Mean:  88.683064516129\"\n",
      "[1] \"Overall Summer Standard Deviation:  4.79123867097968\"\n"
     ]
    }
   ],
   "source": [
    "# print outputs\n",
    "print(paste('Overall Summer  Mean: ', summer_center2))\n",
    "print(paste('Overall Summer Standard Deviation: ', summer_sd2))"
   ]
  },
  {
   "cell_type": "code",
   "execution_count": 230,
   "metadata": {},
   "outputs": [
    {
     "data": {
      "image/png": "[encoded data removed]",
      "text/plain": [
       "plot without title"
      ]
     },
     "metadata": {},
     "output_type": "display_data"
    }
   ],
   "source": [
    "# plot the cusum chart for all summer days\n",
    "cusum_chart <- qcc::cusum(\n",
    "        data = temps_df2$temp,\n",
    "        centervalue = summer_center2, \n",
    "        std.dev = summer_sd2,\n",
    "        se.shift = 1.96,\n",
    "        plot = T\n",
    "        )"
   ]
  },
  {
   "cell_type": "code",
   "execution_count": 231,
   "metadata": {},
   "outputs": [],
   "source": [
    "# extract the cusum results to see exactly when summers get hotter than normal\n",
    "cusum_results <- qcc::cusum(\n",
    "        data = temps_df2$temp,\n",
    "        centervalue = summer_center2, \n",
    "        std.dev = summer_sd2 ,\n",
    "        se.shift = 1.96,\n",
    "        plot = F\n",
    "        )"
   ]
  },
  {
   "cell_type": "code",
   "execution_count": 232,
   "metadata": {},
   "outputs": [
    {
     "data": {
      "text/plain": [
       "List of 14\n",
       " $ call             : language qcc::cusum(data = temps_df2$temp, std.dev = summer_sd2, se.shift = 1.96,      plot = F, centervalue = summer_center2)\n",
       " $ type             : chr \"cusum\"\n",
       " $ data.name        : chr \"temps_df2$temp\"\n",
       " $ data             : num [1:1240, 1] 98 97 97 90 89 93 93 91 93 93 ...\n",
       "  ..- attr(*, \"dimnames\")=List of 2\n",
       " $ statistics       : Named num [1:1240] 98 97 97 90 89 93 93 91 93 93 ...\n",
       "  ..- attr(*, \"names\")= chr [1:1240] \"1\" \"2\" \"3\" \"4\" ...\n",
       " $ sizes            : int [1:1240] 1 1 1 1 1 1 1 1 1 1 ...\n",
       " $ center           : num 88.7\n",
       " $ std.dev          : num 4.79\n",
       " $ pos              : num [1:1240] 0.965 1.72 2.476 1.771 0.857 ...\n",
       " $ neg              : num [1:1240] 0 0 0 0 0 0 0 0 0 0 ...\n",
       " $ head.start       : num 0\n",
       " $ decision.interval: num 5\n",
       " $ se.shift         : num 1.96\n",
       " $ violations       :List of 2\n",
       " - attr(*, \"class\")= chr \"cusum.qcc\""
      ]
     },
     "metadata": {},
     "output_type": "display_data"
    }
   ],
   "source": [
    "cusum_results"
   ]
  },
  {
   "cell_type": "code",
   "execution_count": 233,
   "metadata": {},
   "outputs": [],
   "source": [
    "cusum_positive <- cusum_results$pos %>%\n",
    "        as_tibble() %>% \n",
    "        rownames_to_column() %>% \n",
    "        cbind(date = temps_df2$date_val) %>% \n",
    "        left_join(., temps_df2, by = c('date' = 'date_val')) %>% \n",
    "        dplyr::select(date, value, temp) %>% \n",
    "        filter(value != 0) %>% \n",
    "        arrange(date)"
   ]
  },
  {
   "cell_type": "code",
   "execution_count": 234,
   "metadata": {},
   "outputs": [
    {
     "data": {
      "text/html": [
       "<table>\n",
       "<thead><tr><th scope=col>date</th><th scope=col>value</th><th scope=col>temp</th></tr></thead>\n",
       "<tbody>\n",
       "\t<tr><td>1996-07-01</td><td>0.96457762</td><td>98        </td></tr>\n",
       "\t<tr><td>1996-07-02</td><td>1.72044094</td><td>97        </td></tr>\n",
       "\t<tr><td>1996-07-03</td><td>2.47630427</td><td>97        </td></tr>\n",
       "\t<tr><td>1996-07-04</td><td>1.77116753</td><td>90        </td></tr>\n",
       "\t<tr><td>1996-07-05</td><td>0.85731649</td><td>89        </td></tr>\n",
       "\t<tr><td>1996-07-06</td><td>0.77832264</td><td>93        </td></tr>\n",
       "\t<tr><td>1996-07-07</td><td>0.69932878</td><td>93        </td></tr>\n",
       "\t<tr><td>1996-07-08</td><td>0.20290634</td><td>91        </td></tr>\n",
       "\t<tr><td>1996-07-09</td><td>0.12391248</td><td>93        </td></tr>\n",
       "\t<tr><td>1996-07-10</td><td>0.04491863</td><td>93        </td></tr>\n",
       "\t<tr><td>1996-07-17</td><td>0.54714903</td><td>96        </td></tr>\n",
       "\t<tr><td>1996-07-18</td><td>0.88558376</td><td>95        </td></tr>\n",
       "\t<tr><td>1996-07-19</td><td>1.43273279</td><td>96        </td></tr>\n",
       "\t<tr><td>1996-07-20</td><td>2.60602471</td><td>99        </td></tr>\n",
       "\t<tr><td>1996-07-21</td><td>2.10960226</td><td>91        </td></tr>\n",
       "</tbody>\n",
       "</table>\n"
      ],
      "text/latex": [
       "\\begin{tabular}{r|lll}\n",
       " date & value & temp\\\\\n",
       "\\hline\n",
       "\t 1996-07-01 & 0.96457762 & 98        \\\\\n",
       "\t 1996-07-02 & 1.72044094 & 97        \\\\\n",
       "\t 1996-07-03 & 2.47630427 & 97        \\\\\n",
       "\t 1996-07-04 & 1.77116753 & 90        \\\\\n",
       "\t 1996-07-05 & 0.85731649 & 89        \\\\\n",
       "\t 1996-07-06 & 0.77832264 & 93        \\\\\n",
       "\t 1996-07-07 & 0.69932878 & 93        \\\\\n",
       "\t 1996-07-08 & 0.20290634 & 91        \\\\\n",
       "\t 1996-07-09 & 0.12391248 & 93        \\\\\n",
       "\t 1996-07-10 & 0.04491863 & 93        \\\\\n",
       "\t 1996-07-17 & 0.54714903 & 96        \\\\\n",
       "\t 1996-07-18 & 0.88558376 & 95        \\\\\n",
       "\t 1996-07-19 & 1.43273279 & 96        \\\\\n",
       "\t 1996-07-20 & 2.60602471 & 99        \\\\\n",
       "\t 1996-07-21 & 2.10960226 & 91        \\\\\n",
       "\\end{tabular}\n"
      ],
      "text/markdown": [
       "\n",
       "| date | value | temp |\n",
       "|---|---|---|\n",
       "| 1996-07-01 | 0.96457762 | 98         |\n",
       "| 1996-07-02 | 1.72044094 | 97         |\n",
       "| 1996-07-03 | 2.47630427 | 97         |\n",
       "| 1996-07-04 | 1.77116753 | 90         |\n",
       "| 1996-07-05 | 0.85731649 | 89         |\n",
       "| 1996-07-06 | 0.77832264 | 93         |\n",
       "| 1996-07-07 | 0.69932878 | 93         |\n",
       "| 1996-07-08 | 0.20290634 | 91         |\n",
       "| 1996-07-09 | 0.12391248 | 93         |\n",
       "| 1996-07-10 | 0.04491863 | 93         |\n",
       "| 1996-07-17 | 0.54714903 | 96         |\n",
       "| 1996-07-18 | 0.88558376 | 95         |\n",
       "| 1996-07-19 | 1.43273279 | 96         |\n",
       "| 1996-07-20 | 2.60602471 | 99         |\n",
       "| 1996-07-21 | 2.10960226 | 91         |\n",
       "\n"
      ],
      "text/plain": [
       "   date       value      temp\n",
       "1  1996-07-01 0.96457762 98  \n",
       "2  1996-07-02 1.72044094 97  \n",
       "3  1996-07-03 2.47630427 97  \n",
       "4  1996-07-04 1.77116753 90  \n",
       "5  1996-07-05 0.85731649 89  \n",
       "6  1996-07-06 0.77832264 93  \n",
       "7  1996-07-07 0.69932878 93  \n",
       "8  1996-07-08 0.20290634 91  \n",
       "9  1996-07-09 0.12391248 93  \n",
       "10 1996-07-10 0.04491863 93  \n",
       "11 1996-07-17 0.54714903 96  \n",
       "12 1996-07-18 0.88558376 95  \n",
       "13 1996-07-19 1.43273279 96  \n",
       "14 1996-07-20 2.60602471 99  \n",
       "15 1996-07-21 2.10960226 91  "
      ]
     },
     "metadata": {},
     "output_type": "display_data"
    }
   ],
   "source": [
    "head(cusum_positive,15)"
   ]
  },
  {
   "cell_type": "code",
   "execution_count": 235,
   "metadata": {},
   "outputs": [],
   "source": [
    "highest_cusum <- cusum_positive %>% filter(value == max(value)) %>% \n",
    "        dplyr::select(date)"
   ]
  },
  {
   "cell_type": "code",
   "execution_count": 236,
   "metadata": {},
   "outputs": [
    {
     "data": {
      "text/html": [
       "<table>\n",
       "<thead><tr><th scope=col>date</th></tr></thead>\n",
       "<tbody>\n",
       "\t<tr><td>2007-08-25</td></tr>\n",
       "</tbody>\n",
       "</table>\n"
      ],
      "text/latex": [
       "\\begin{tabular}{r|l}\n",
       " date\\\\\n",
       "\\hline\n",
       "\t 2007-08-25\\\\\n",
       "\\end{tabular}\n"
      ],
      "text/markdown": [
       "\n",
       "| date |\n",
       "|---|\n",
       "| 2007-08-25 |\n",
       "\n"
      ],
      "text/plain": [
       "  date      \n",
       "1 2007-08-25"
      ]
     },
     "metadata": {},
     "output_type": "display_data"
    }
   ],
   "source": [
    "highest_cusum"
   ]
  },
  {
   "cell_type": "code",
   "execution_count": 237,
   "metadata": {},
   "outputs": [
    {
     "name": "stdout",
     "output_type": "stream",
     "text": [
      "[1] \"Date with Highest Cusum:  2007-08-25\"\n"
     ]
    }
   ],
   "source": [
    "print(paste('Date with Highest Cusum: ', as.character(highest_cusum$date)))"
   ]
  },
  {
   "cell_type": "code",
   "execution_count": 238,
   "metadata": {},
   "outputs": [
    {
     "data": {
      "text/html": [
       "<table>\n",
       "<thead><tr><th scope=col>date</th><th scope=col>value</th><th scope=col>temp</th></tr></thead>\n",
       "<tbody>\n",
       "\t<tr><td>2007-08-03</td><td> 0.1297204</td><td> 94       </td></tr>\n",
       "\t<tr><td>2007-08-04</td><td> 0.8855838</td><td> 97       </td></tr>\n",
       "\t<tr><td>2007-08-05</td><td> 1.4327328</td><td> 96       </td></tr>\n",
       "\t<tr><td>2007-08-06</td><td> 2.3973104</td><td> 98       </td></tr>\n",
       "\t<tr><td>2007-08-07</td><td> 3.3618880</td><td> 98       </td></tr>\n",
       "\t<tr><td>2007-08-08</td><td> 4.7438942</td><td>100       </td></tr>\n",
       "\t<tr><td>2007-08-09</td><td> 6.7520433</td><td>103       </td></tr>\n",
       "\t<tr><td>2007-08-10</td><td> 8.7601924</td><td>103       </td></tr>\n",
       "\t<tr><td>2007-08-11</td><td>10.1421986</td><td>100       </td></tr>\n",
       "\t<tr><td>2007-08-12</td><td> 9.4370619</td><td> 90       </td></tr>\n",
       "\t<tr><td>2007-08-13</td><td>10.8190681</td><td>100       </td></tr>\n",
       "\t<tr><td>2007-08-14</td><td>11.9923600</td><td> 99       </td></tr>\n",
       "\t<tr><td>2007-08-15</td><td>13.7917948</td><td>102       </td></tr>\n",
       "\t<tr><td>2007-08-16</td><td>15.3825153</td><td>101       </td></tr>\n",
       "\t<tr><td>2007-08-17</td><td>16.9732358</td><td>101       </td></tr>\n",
       "\t<tr><td>2007-08-18</td><td>17.7290991</td><td> 97       </td></tr>\n",
       "\t<tr><td>2007-08-19</td><td>18.0675339</td><td> 95       </td></tr>\n",
       "\t<tr><td>2007-08-20</td><td>18.6146829</td><td> 96       </td></tr>\n",
       "\t<tr><td>2007-08-21</td><td>19.7879748</td><td> 99       </td></tr>\n",
       "\t<tr><td>2007-08-22</td><td>22.0048382</td><td>104       </td></tr>\n",
       "\t<tr><td>2007-08-23</td><td>22.9694158</td><td> 98       </td></tr>\n",
       "\t<tr><td>2007-08-24</td><td>23.3078506</td><td> 95       </td></tr>\n",
       "\t<tr><td>2007-08-25</td><td>23.4375710</td><td> 94       </td></tr>\n",
       "\t<tr><td>2007-08-26</td><td>23.1498628</td><td> 92       </td></tr>\n",
       "\t<tr><td>2007-08-27</td><td>22.0272975</td><td> 88       </td></tr>\n",
       "\t<tr><td>2007-08-28</td><td>20.9047322</td><td> 88       </td></tr>\n",
       "\t<tr><td>2007-08-29</td><td>19.9908811</td><td> 89       </td></tr>\n",
       "\t<tr><td>2007-08-30</td><td>19.0770301</td><td> 89       </td></tr>\n",
       "\t<tr><td>2007-08-31</td><td>17.5370362</td><td> 86       </td></tr>\n",
       "</tbody>\n",
       "</table>\n"
      ],
      "text/latex": [
       "\\begin{tabular}{r|lll}\n",
       " date & value & temp\\\\\n",
       "\\hline\n",
       "\t 2007-08-03 &  0.1297204 &  94       \\\\\n",
       "\t 2007-08-04 &  0.8855838 &  97       \\\\\n",
       "\t 2007-08-05 &  1.4327328 &  96       \\\\\n",
       "\t 2007-08-06 &  2.3973104 &  98       \\\\\n",
       "\t 2007-08-07 &  3.3618880 &  98       \\\\\n",
       "\t 2007-08-08 &  4.7438942 & 100       \\\\\n",
       "\t 2007-08-09 &  6.7520433 & 103       \\\\\n",
       "\t 2007-08-10 &  8.7601924 & 103       \\\\\n",
       "\t 2007-08-11 & 10.1421986 & 100       \\\\\n",
       "\t 2007-08-12 &  9.4370619 &  90       \\\\\n",
       "\t 2007-08-13 & 10.8190681 & 100       \\\\\n",
       "\t 2007-08-14 & 11.9923600 &  99       \\\\\n",
       "\t 2007-08-15 & 13.7917948 & 102       \\\\\n",
       "\t 2007-08-16 & 15.3825153 & 101       \\\\\n",
       "\t 2007-08-17 & 16.9732358 & 101       \\\\\n",
       "\t 2007-08-18 & 17.7290991 &  97       \\\\\n",
       "\t 2007-08-19 & 18.0675339 &  95       \\\\\n",
       "\t 2007-08-20 & 18.6146829 &  96       \\\\\n",
       "\t 2007-08-21 & 19.7879748 &  99       \\\\\n",
       "\t 2007-08-22 & 22.0048382 & 104       \\\\\n",
       "\t 2007-08-23 & 22.9694158 &  98       \\\\\n",
       "\t 2007-08-24 & 23.3078506 &  95       \\\\\n",
       "\t 2007-08-25 & 23.4375710 &  94       \\\\\n",
       "\t 2007-08-26 & 23.1498628 &  92       \\\\\n",
       "\t 2007-08-27 & 22.0272975 &  88       \\\\\n",
       "\t 2007-08-28 & 20.9047322 &  88       \\\\\n",
       "\t 2007-08-29 & 19.9908811 &  89       \\\\\n",
       "\t 2007-08-30 & 19.0770301 &  89       \\\\\n",
       "\t 2007-08-31 & 17.5370362 &  86       \\\\\n",
       "\\end{tabular}\n"
      ],
      "text/markdown": [
       "\n",
       "| date | value | temp |\n",
       "|---|---|---|\n",
       "| 2007-08-03 |  0.1297204 |  94        |\n",
       "| 2007-08-04 |  0.8855838 |  97        |\n",
       "| 2007-08-05 |  1.4327328 |  96        |\n",
       "| 2007-08-06 |  2.3973104 |  98        |\n",
       "| 2007-08-07 |  3.3618880 |  98        |\n",
       "| 2007-08-08 |  4.7438942 | 100        |\n",
       "| 2007-08-09 |  6.7520433 | 103        |\n",
       "| 2007-08-10 |  8.7601924 | 103        |\n",
       "| 2007-08-11 | 10.1421986 | 100        |\n",
       "| 2007-08-12 |  9.4370619 |  90        |\n",
       "| 2007-08-13 | 10.8190681 | 100        |\n",
       "| 2007-08-14 | 11.9923600 |  99        |\n",
       "| 2007-08-15 | 13.7917948 | 102        |\n",
       "| 2007-08-16 | 15.3825153 | 101        |\n",
       "| 2007-08-17 | 16.9732358 | 101        |\n",
       "| 2007-08-18 | 17.7290991 |  97        |\n",
       "| 2007-08-19 | 18.0675339 |  95        |\n",
       "| 2007-08-20 | 18.6146829 |  96        |\n",
       "| 2007-08-21 | 19.7879748 |  99        |\n",
       "| 2007-08-22 | 22.0048382 | 104        |\n",
       "| 2007-08-23 | 22.9694158 |  98        |\n",
       "| 2007-08-24 | 23.3078506 |  95        |\n",
       "| 2007-08-25 | 23.4375710 |  94        |\n",
       "| 2007-08-26 | 23.1498628 |  92        |\n",
       "| 2007-08-27 | 22.0272975 |  88        |\n",
       "| 2007-08-28 | 20.9047322 |  88        |\n",
       "| 2007-08-29 | 19.9908811 |  89        |\n",
       "| 2007-08-30 | 19.0770301 |  89        |\n",
       "| 2007-08-31 | 17.5370362 |  86        |\n",
       "\n"
      ],
      "text/plain": [
       "   date       value      temp\n",
       "1  2007-08-03  0.1297204  94 \n",
       "2  2007-08-04  0.8855838  97 \n",
       "3  2007-08-05  1.4327328  96 \n",
       "4  2007-08-06  2.3973104  98 \n",
       "5  2007-08-07  3.3618880  98 \n",
       "6  2007-08-08  4.7438942 100 \n",
       "7  2007-08-09  6.7520433 103 \n",
       "8  2007-08-10  8.7601924 103 \n",
       "9  2007-08-11 10.1421986 100 \n",
       "10 2007-08-12  9.4370619  90 \n",
       "11 2007-08-13 10.8190681 100 \n",
       "12 2007-08-14 11.9923600  99 \n",
       "13 2007-08-15 13.7917948 102 \n",
       "14 2007-08-16 15.3825153 101 \n",
       "15 2007-08-17 16.9732358 101 \n",
       "16 2007-08-18 17.7290991  97 \n",
       "17 2007-08-19 18.0675339  95 \n",
       "18 2007-08-20 18.6146829  96 \n",
       "19 2007-08-21 19.7879748  99 \n",
       "20 2007-08-22 22.0048382 104 \n",
       "21 2007-08-23 22.9694158  98 \n",
       "22 2007-08-24 23.3078506  95 \n",
       "23 2007-08-25 23.4375710  94 \n",
       "24 2007-08-26 23.1498628  92 \n",
       "25 2007-08-27 22.0272975  88 \n",
       "26 2007-08-28 20.9047322  88 \n",
       "27 2007-08-29 19.9908811  89 \n",
       "28 2007-08-30 19.0770301  89 \n",
       "29 2007-08-31 17.5370362  86 "
      ]
     },
     "metadata": {},
     "output_type": "display_data"
    }
   ],
   "source": [
    "# look at the actual temps in August 2007 - 18 days above 95 degrees!\n",
    "(summer_2018 <- cusum_positive %>% \n",
    "        filter(month(date) %in% as.Date(8),\n",
    "               year(date) %in% as.Date(2007))\n",
    ")"
   ]
  },
  {
   "cell_type": "markdown",
   "metadata": {},
   "source": []
  }
 ],
 "metadata": {
  "kernelspec": {
   "display_name": "R",
   "language": "R",
   "name": "ir"
  },
  "language_info": {
   "codemirror_mode": "r",
   "file_extension": ".r",
   "mimetype": "text/x-r-source",
   "name": "R",
   "pygments_lexer": "r",
   "version": "3.6.1"
  }
 },
 "nbformat": 4,
 "nbformat_minor": 4
}
