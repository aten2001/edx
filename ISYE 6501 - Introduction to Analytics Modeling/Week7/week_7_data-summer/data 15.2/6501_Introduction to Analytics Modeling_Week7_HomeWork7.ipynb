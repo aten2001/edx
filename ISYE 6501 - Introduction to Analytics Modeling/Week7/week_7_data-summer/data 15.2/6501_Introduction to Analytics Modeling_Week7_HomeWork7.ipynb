{
 "cells": [
  {
   "cell_type": "markdown",
   "metadata": {},
   "source": [
    "# SOLUTION for 15.2:\n",
    "\n",
    "For part 1 of the problem, the solution is:\n",
    "\n",
    "    Food_List_Lettuce,Iceberg,Raw  63.988506\n",
    "          Food_List_Celery,_Raw  52.643710\n",
    "       Food_List_Popcorn,Air_Popped  13.869322\n",
    "              Food_List_Oranges   2.292939\n",
    "      Food_List_Frozen_Broccoli   0.259607\n",
    "         Food_List_Poached_Eggs   0.141844\n",
    "    The total cost of this optimized diet is: $4.34\n",
    "\n",
    "For part 2 of the problem, the solution is:\n",
    "\n",
    "     Food_List_Lettuce,Iceberg,Raw  80.919121\n",
    "               Food_List_Celery,_Raw  43.154119\n",
    "        Food_List_Popcorn,Air_Popped  13.181772\n",
    "                   Food_List_Oranges   3.076516\n",
    "             Food_List_Peanut_Butter   2.046457\n",
    "           selected_food_Celery,_Raw   1.000000\n",
    "       selected_food_Popcorn,Air_Popped   1.000000\n",
    "         selected_food_Poached_Eggs   1.000000\n",
    "       selected_food_Lettuce,Iceberg,Raw   1.000000\n",
    "        selected_food_Peanut_Butter   1.000000\n",
    "               selected_food_Oranges   1.000000\n",
    "              Food_List_Poached_Eggs   0.141844\n",
    "    The total cost of this optimized diet is: $4.49"
   ]
  },
  {
   "cell_type": "code",
   "execution_count": 1,
   "metadata": {},
   "outputs": [],
   "source": [
    "import pulp\n",
    "from pulp import *\n",
    "import pandas as pd\n",
    "import xlrd"
   ]
  },
  {
   "cell_type": "code",
   "execution_count": 14,
   "metadata": {},
   "outputs": [],
   "source": [
    "# Read the excel file into a pandas dataframe\n",
    "diet_df = pd.read_excel(r\"diet.xls\")[0:64]"
   ]
  },
  {
   "cell_type": "code",
   "execution_count": 15,
   "metadata": {},
   "outputs": [
    {
     "data": {
      "text/html": [
       "<div>\n",
       "<style scoped>\n",
       "    .dataframe tbody tr th:only-of-type {\n",
       "        vertical-align: middle;\n",
       "    }\n",
       "\n",
       "    .dataframe tbody tr th {\n",
       "        vertical-align: top;\n",
       "    }\n",
       "\n",
       "    .dataframe thead th {\n",
       "        text-align: right;\n",
       "    }\n",
       "</style>\n",
       "<table border=\"1\" class=\"dataframe\">\n",
       "  <thead>\n",
       "    <tr style=\"text-align: right;\">\n",
       "      <th></th>\n",
       "      <th>Foods</th>\n",
       "      <th>Price/ Serving</th>\n",
       "      <th>Serving Size</th>\n",
       "      <th>Calories</th>\n",
       "      <th>Cholesterol mg</th>\n",
       "      <th>Total_Fat g</th>\n",
       "      <th>Sodium mg</th>\n",
       "      <th>Carbohydrates g</th>\n",
       "      <th>Dietary_Fiber g</th>\n",
       "      <th>Protein g</th>\n",
       "      <th>Vit_A IU</th>\n",
       "      <th>Vit_C IU</th>\n",
       "      <th>Calcium mg</th>\n",
       "      <th>Iron mg</th>\n",
       "    </tr>\n",
       "  </thead>\n",
       "  <tbody>\n",
       "    <tr>\n",
       "      <th>0</th>\n",
       "      <td>Frozen Broccoli</td>\n",
       "      <td>0.16</td>\n",
       "      <td>10 Oz Pkg</td>\n",
       "      <td>73.8</td>\n",
       "      <td>0.0</td>\n",
       "      <td>0.8</td>\n",
       "      <td>68.2</td>\n",
       "      <td>13.6</td>\n",
       "      <td>8.5</td>\n",
       "      <td>8.0</td>\n",
       "      <td>5867.4</td>\n",
       "      <td>160.2</td>\n",
       "      <td>159.0</td>\n",
       "      <td>2.3</td>\n",
       "    </tr>\n",
       "    <tr>\n",
       "      <th>1</th>\n",
       "      <td>Carrots,Raw</td>\n",
       "      <td>0.07</td>\n",
       "      <td>1/2 Cup Shredded</td>\n",
       "      <td>23.7</td>\n",
       "      <td>0.0</td>\n",
       "      <td>0.1</td>\n",
       "      <td>19.2</td>\n",
       "      <td>5.6</td>\n",
       "      <td>1.6</td>\n",
       "      <td>0.6</td>\n",
       "      <td>15471.0</td>\n",
       "      <td>5.1</td>\n",
       "      <td>14.9</td>\n",
       "      <td>0.3</td>\n",
       "    </tr>\n",
       "    <tr>\n",
       "      <th>2</th>\n",
       "      <td>Celery, Raw</td>\n",
       "      <td>0.04</td>\n",
       "      <td>1 Stalk</td>\n",
       "      <td>6.4</td>\n",
       "      <td>0.0</td>\n",
       "      <td>0.1</td>\n",
       "      <td>34.8</td>\n",
       "      <td>1.5</td>\n",
       "      <td>0.7</td>\n",
       "      <td>0.3</td>\n",
       "      <td>53.6</td>\n",
       "      <td>2.8</td>\n",
       "      <td>16.0</td>\n",
       "      <td>0.2</td>\n",
       "    </tr>\n",
       "    <tr>\n",
       "      <th>3</th>\n",
       "      <td>Frozen Corn</td>\n",
       "      <td>0.18</td>\n",
       "      <td>1/2 Cup</td>\n",
       "      <td>72.2</td>\n",
       "      <td>0.0</td>\n",
       "      <td>0.6</td>\n",
       "      <td>2.5</td>\n",
       "      <td>17.1</td>\n",
       "      <td>2.0</td>\n",
       "      <td>2.5</td>\n",
       "      <td>106.6</td>\n",
       "      <td>5.2</td>\n",
       "      <td>3.3</td>\n",
       "      <td>0.3</td>\n",
       "    </tr>\n",
       "    <tr>\n",
       "      <th>4</th>\n",
       "      <td>Lettuce,Iceberg,Raw</td>\n",
       "      <td>0.02</td>\n",
       "      <td>1 Leaf</td>\n",
       "      <td>2.6</td>\n",
       "      <td>0.0</td>\n",
       "      <td>0.0</td>\n",
       "      <td>1.8</td>\n",
       "      <td>0.4</td>\n",
       "      <td>0.3</td>\n",
       "      <td>0.2</td>\n",
       "      <td>66.0</td>\n",
       "      <td>0.8</td>\n",
       "      <td>3.8</td>\n",
       "      <td>0.1</td>\n",
       "    </tr>\n",
       "  </tbody>\n",
       "</table>\n",
       "</div>"
      ],
      "text/plain": [
       "                 Foods  Price/ Serving      Serving Size  Calories  \\\n",
       "0      Frozen Broccoli            0.16         10 Oz Pkg      73.8   \n",
       "1          Carrots,Raw            0.07  1/2 Cup Shredded      23.7   \n",
       "2          Celery, Raw            0.04           1 Stalk       6.4   \n",
       "3          Frozen Corn            0.18           1/2 Cup      72.2   \n",
       "4  Lettuce,Iceberg,Raw            0.02            1 Leaf       2.6   \n",
       "\n",
       "   Cholesterol mg  Total_Fat g  Sodium mg  Carbohydrates g  Dietary_Fiber g  \\\n",
       "0             0.0          0.8       68.2             13.6              8.5   \n",
       "1             0.0          0.1       19.2              5.6              1.6   \n",
       "2             0.0          0.1       34.8              1.5              0.7   \n",
       "3             0.0          0.6        2.5             17.1              2.0   \n",
       "4             0.0          0.0        1.8              0.4              0.3   \n",
       "\n",
       "   Protein g  Vit_A IU  Vit_C IU  Calcium mg  Iron mg  \n",
       "0        8.0    5867.4     160.2       159.0      2.3  \n",
       "1        0.6   15471.0       5.1        14.9      0.3  \n",
       "2        0.3      53.6       2.8        16.0      0.2  \n",
       "3        2.5     106.6       5.2         3.3      0.3  \n",
       "4        0.2      66.0       0.8         3.8      0.1  "
      ]
     },
     "execution_count": 15,
     "metadata": {},
     "output_type": "execute_result"
    }
   ],
   "source": [
    "diet_df.head()"
   ]
  },
  {
   "cell_type": "code",
   "execution_count": 16,
   "metadata": {},
   "outputs": [
    {
     "data": {
      "text/plain": [
       "(64, 14)"
      ]
     },
     "execution_count": 16,
     "metadata": {},
     "output_type": "execute_result"
    }
   ],
   "source": [
    "diet_df.shape"
   ]
  },
  {
   "cell_type": "code",
   "execution_count": 17,
   "metadata": {},
   "outputs": [
    {
     "data": {
      "text/plain": [
       "['Frozen Broccoli', 'Carrots,Raw', 'Celery, Raw']"
      ]
     },
     "execution_count": 17,
     "metadata": {},
     "output_type": "execute_result"
    }
   ],
   "source": [
    "food_list = list(diet_df['Foods'])\n",
    "food_list[:3]"
   ]
  },
  {
   "cell_type": "code",
   "execution_count": 18,
   "metadata": {},
   "outputs": [],
   "source": [
    "# Creating dicts of all the decision variables of all food lists\n",
    "\n",
    "cost_per_serving = dict(zip(food_list,diet_df['Price/ Serving']))\n",
    "serving_size = dict(zip(food_list,diet_df['Serving Size']))\n",
    "calories = dict(zip(food_list,diet_df['Calories']))\n",
    "cholestrol = dict(zip(food_list,diet_df['Cholesterol mg']))\n",
    "total_fat_g = dict(zip(food_list,diet_df['Total_Fat g']))\n",
    "sodium_mg = dict(zip(food_list,diet_df['Sodium mg']))\n",
    "carbs_g = dict(zip(food_list,diet_df['Carbohydrates g']))\n",
    "fiber_g = dict(zip(food_list,diet_df['Dietary_Fiber g']))\n",
    "protein_g = dict(zip(food_list,diet_df['Protein g']))\n",
    "vit_a = dict(zip(food_list,diet_df['Vit_A IU']))\n",
    "vit_c = dict(zip(food_list,diet_df['Vit_C IU']))\n",
    "calcium_mg = dict(zip(food_list,diet_df['Calcium mg']))\n",
    "iron_mg = dict(zip(food_list,diet_df['Iron mg']))"
   ]
  },
  {
   "cell_type": "code",
   "execution_count": 19,
   "metadata": {},
   "outputs": [],
   "source": [
    "list_nutrition = [cholestrol,total_fat_g,sodium_mg,carbs_g,fiber_g,protein_g,vit_a,vit_c,calcium_mg,iron_mg]"
   ]
  },
  {
   "cell_type": "markdown",
   "metadata": {},
   "source": [
    "**Now, I am going to greate a Linear Problem object using the LpProblem function in PuLP**"
   ]
  },
  {
   "cell_type": "code",
   "execution_count": 20,
   "metadata": {},
   "outputs": [],
   "source": [
    "lin_prob = LpProblem(\"diet_part_one\", LpMinimize)"
   ]
  },
  {
   "cell_type": "markdown",
   "metadata": {},
   "source": [
    "**Now, I am going to create a dictionary of food list with boundary for the minimum intake. I am doing this so the intake of a particular food item should be atleast greater than or equal to zero. Without this line of logic, optimization solution might end up resulting in a solution with negative quantity of one or more food item to minimize cost.**"
   ]
  },
  {
   "cell_type": "code",
   "execution_count": 21,
   "metadata": {},
   "outputs": [],
   "source": [
    "food_var = LpVariable.dicts(\n",
    " \"Food_List\",\n",
    " food_list,\n",
    " lowBound=0,\n",
    " cat='Continuous'\n",
    ")"
   ]
  },
  {
   "cell_type": "markdown",
   "metadata": {},
   "source": [
    "**THE OBJECTIVE FUNCTION:**"
   ]
  },
  {
   "cell_type": "code",
   "execution_count": 22,
   "metadata": {},
   "outputs": [],
   "source": [
    "lin_prob += lpSum(cost_per_serving[e]*food_var[e] for i, e in enumerate(food_list))"
   ]
  },
  {
   "cell_type": "markdown",
   "metadata": {},
   "source": [
    "    CONSTRAINTS\n",
    "                     MINIMUM         MAXIMUM\n",
    "    Calories -         1500           2500\n",
    "    Cholesterol mg -     30            240\n",
    "    Total_Fat g -        20             70\n",
    "    Sodium mg -         800           2000\n",
    "    Carbohydrates g -   130           450\n",
    "    Dietary_Fiber g -   125           250\n",
    "    Protein g -         60            100\n",
    "    Vit_A IU -         1000           10000\n",
    "    Vit_C IU -          400           5000\n",
    "    Calcium mg -        700           1500\n",
    "    Iron mg -            10             40"
   ]
  },
  {
   "cell_type": "code",
   "execution_count": 23,
   "metadata": {},
   "outputs": [],
   "source": [
    "max_Bound = [2500,240,70,2000,450,250,100,10000,5000,1500,40]\n",
    "min_Bound = [1500,30,20,800,130,125,60,1000,400,700,10]\n",
    "list_nutrition = [calories, cholestrol,total_fat_g,sodium_mg,carbs_g,fiber_g,protein_g,vit_a,vit_c,calcium_mg,\n",
    "iron_mg]"
   ]
  },
  {
   "cell_type": "code",
   "execution_count": 24,
   "metadata": {},
   "outputs": [],
   "source": [
    "# Constraints for Max Boundary (Upper Limits)\n",
    "for i in range(0,len(max_Bound)):\n",
    "    lin_prob += lpSum(list_nutrition[i][e] * food_var[e] for j, e in enumerate(food_list)) <= max_Bound[i]"
   ]
  },
  {
   "cell_type": "code",
   "execution_count": 25,
   "metadata": {},
   "outputs": [],
   "source": [
    " # Constraints for Min Boundary (Lower Limits)\n",
    "for i in range(0,len(min_Bound)):\n",
    "    lin_prob += lpSum(list_nutrition[i][e] * food_var[e] for j, e in enumerate(food_list)) >= min_Bound[i]"
   ]
  },
  {
   "cell_type": "code",
   "execution_count": 26,
   "metadata": {},
   "outputs": [
    {
     "data": {
      "text/plain": [
       "1"
      ]
     },
     "execution_count": 26,
     "metadata": {},
     "output_type": "execute_result"
    }
   ],
   "source": [
    "lin_prob.solve()"
   ]
  },
  {
   "cell_type": "code",
   "execution_count": 28,
   "metadata": {},
   "outputs": [
    {
     "name": "stdout",
     "output_type": "stream",
     "text": [
      "Status: Optimal\n"
     ]
    }
   ],
   "source": [
    "# Printing the status of the solution. In case the problem is ill-formulated or there is not sufficient information,\n",
    "# the solution may be infeasible or unbounded.\n",
    "print(\"Status:\", LpStatus[lin_prob.status])"
   ]
  },
  {
   "cell_type": "code",
   "execution_count": 29,
   "metadata": {},
   "outputs": [],
   "source": [
    "food_name = []\n",
    "food_val = []\n",
    "\n",
    "for v in lin_prob.variables():\n",
    "    if v.varValue>=0:\n",
    "        food_name.append(v.name)\n",
    "        food_val.append(v.varValue)"
   ]
  },
  {
   "cell_type": "code",
   "execution_count": 30,
   "metadata": {},
   "outputs": [],
   "source": [
    "df1 = pd.DataFrame(list(zip(food_name, food_val)), columns =['Name', 'val'])\n",
    "df1 = df1.sort_values(by='val', ascending=False)"
   ]
  },
  {
   "cell_type": "code",
   "execution_count": 31,
   "metadata": {},
   "outputs": [
    {
     "data": {
      "text/html": [
       "<div>\n",
       "<style scoped>\n",
       "    .dataframe tbody tr th:only-of-type {\n",
       "        vertical-align: middle;\n",
       "    }\n",
       "\n",
       "    .dataframe tbody tr th {\n",
       "        vertical-align: top;\n",
       "    }\n",
       "\n",
       "    .dataframe thead th {\n",
       "        text-align: right;\n",
       "    }\n",
       "</style>\n",
       "<table border=\"1\" class=\"dataframe\">\n",
       "  <thead>\n",
       "    <tr style=\"text-align: right;\">\n",
       "      <th></th>\n",
       "      <th>Name</th>\n",
       "      <th>val</th>\n",
       "    </tr>\n",
       "  </thead>\n",
       "  <tbody>\n",
       "    <tr>\n",
       "      <th>28</th>\n",
       "      <td>Food_List_Lettuce,Iceberg,Raw</td>\n",
       "      <td>63.988506</td>\n",
       "    </tr>\n",
       "    <tr>\n",
       "      <th>11</th>\n",
       "      <td>Food_List_Celery,_Raw</td>\n",
       "      <td>52.643710</td>\n",
       "    </tr>\n",
       "    <tr>\n",
       "      <th>40</th>\n",
       "      <td>Food_List_Popcorn,Air_Popped</td>\n",
       "      <td>13.869322</td>\n",
       "    </tr>\n",
       "    <tr>\n",
       "      <th>35</th>\n",
       "      <td>Food_List_Oranges</td>\n",
       "      <td>2.292939</td>\n",
       "    </tr>\n",
       "    <tr>\n",
       "      <th>20</th>\n",
       "      <td>Food_List_Frozen_Broccoli</td>\n",
       "      <td>0.259607</td>\n",
       "    </tr>\n",
       "    <tr>\n",
       "      <th>39</th>\n",
       "      <td>Food_List_Poached_Eggs</td>\n",
       "      <td>0.141844</td>\n",
       "    </tr>\n",
       "    <tr>\n",
       "      <th>43</th>\n",
       "      <td>Food_List_Potatoes,_Baked</td>\n",
       "      <td>0.000000</td>\n",
       "    </tr>\n",
       "    <tr>\n",
       "      <th>46</th>\n",
       "      <td>Food_List_Rice_Krispies</td>\n",
       "      <td>0.000000</td>\n",
       "    </tr>\n",
       "    <tr>\n",
       "      <th>45</th>\n",
       "      <td>Food_List_Raisin_Brn,_Kellg'S</td>\n",
       "      <td>0.000000</td>\n",
       "    </tr>\n",
       "    <tr>\n",
       "      <th>44</th>\n",
       "      <td>Food_List_Pretzels</td>\n",
       "      <td>0.000000</td>\n",
       "    </tr>\n",
       "  </tbody>\n",
       "</table>\n",
       "</div>"
      ],
      "text/plain": [
       "                             Name        val\n",
       "28  Food_List_Lettuce,Iceberg,Raw  63.988506\n",
       "11          Food_List_Celery,_Raw  52.643710\n",
       "40   Food_List_Popcorn,Air_Popped  13.869322\n",
       "35              Food_List_Oranges   2.292939\n",
       "20      Food_List_Frozen_Broccoli   0.259607\n",
       "39         Food_List_Poached_Eggs   0.141844\n",
       "43      Food_List_Potatoes,_Baked   0.000000\n",
       "46        Food_List_Rice_Krispies   0.000000\n",
       "45  Food_List_Raisin_Brn,_Kellg'S   0.000000\n",
       "44             Food_List_Pretzels   0.000000"
      ]
     },
     "execution_count": 31,
     "metadata": {},
     "output_type": "execute_result"
    }
   ],
   "source": [
    "df1.head(n=10)"
   ]
  },
  {
   "cell_type": "markdown",
   "metadata": {},
   "source": [
    "**Table of a list of foods with quantity > 0.**"
   ]
  },
  {
   "cell_type": "code",
   "execution_count": 57,
   "metadata": {},
   "outputs": [
    {
     "name": "stdout",
     "output_type": "stream",
     "text": [
      "                             Name        val\n",
      "28  Food_List_Lettuce,Iceberg,Raw  63.988506\n",
      "11          Food_List_Celery,_Raw  52.643710\n",
      "40   Food_List_Popcorn,Air_Popped  13.869322\n",
      "35              Food_List_Oranges   2.292939\n",
      "20      Food_List_Frozen_Broccoli   0.259607\n",
      "39         Food_List_Poached_Eggs   0.141844\n"
     ]
    }
   ],
   "source": [
    "print(df1[df1['val'] > 0])"
   ]
  },
  {
   "cell_type": "markdown",
   "metadata": {},
   "source": [
    "#### So, the optimal solution is to eat 63.988506 servings of raw iceberg Lettuce, 52.643710 servings of raw celery, 13.869322 of air popped pop corn, 2.292939 servings of oranges, 0.259607 servings of frozen broccoli, and 0.141844 servings of poached eggs.\n"
   ]
  },
  {
   "cell_type": "markdown",
   "metadata": {},
   "source": [
    "**Next, let us look at the cost**"
   ]
  },
  {
   "cell_type": "code",
   "execution_count": 34,
   "metadata": {},
   "outputs": [
    {
     "name": "stdout",
     "output_type": "stream",
     "text": [
      "The total cost of this optimized diet is: $4.34\n"
     ]
    }
   ],
   "source": [
    "print(\"The total cost of this optimized diet is: ${}\".format(round(value(lin_prob.objective),2)))"
   ]
  },
  {
   "cell_type": "markdown",
   "metadata": {},
   "source": [
    "## Now, the second part of the problem:"
   ]
  },
  {
   "cell_type": "code",
   "execution_count": 80,
   "metadata": {},
   "outputs": [],
   "source": [
    "diet_df = pd.read_excel(r\"diet.xls\")[0:64]\n",
    "\n",
    "food_list = list(diet_df['Foods'])\n",
    "\n",
    "cost_per_serving = dict(zip(food_list,diet_df['Price/ Serving']))\n",
    "serving_size = dict(zip(food_list,diet_df['Serving Size']))\n",
    "calories = dict(zip(food_list,diet_df['Calories']))\n",
    "cholestrol = dict(zip(food_list,diet_df['Cholesterol mg']))\n",
    "total_fat_g = dict(zip(food_list,diet_df['Total_Fat g']))\n",
    "sodium_mg = dict(zip(food_list,diet_df['Sodium mg']))\n",
    "carbs_g = dict(zip(food_list,diet_df['Carbohydrates g']))\n",
    "fiber_g = dict(zip(food_list,diet_df['Dietary_Fiber g']))\n",
    "protein_g = dict(zip(food_list,diet_df['Protein g']))\n",
    "vit_a = dict(zip(food_list,diet_df['Vit_A IU']))\n",
    "vit_c = dict(zip(food_list,diet_df['Vit_C IU']))\n",
    "calcium_mg = dict(zip(food_list,diet_df['Calcium mg']))\n",
    "iron_mg = dict(zip(food_list,diet_df['Iron mg']))\n",
    "list_nutrition = [cholestrol,total_fat_g,sodium_mg,carbs_g,fiber_g,protein_g,vit_a,vit_c,calcium_mg,iron_mg]"
   ]
  },
  {
   "cell_type": "code",
   "execution_count": 81,
   "metadata": {},
   "outputs": [],
   "source": [
    "lin_prob2 = LpProblem(\"diet_part_two\", LpMinimize)"
   ]
  },
  {
   "cell_type": "code",
   "execution_count": 82,
   "metadata": {},
   "outputs": [],
   "source": [
    "selected_food = LpVariable.dicts(\"selected_food\",food_list,0,1,cat='Integer')"
   ]
  },
  {
   "cell_type": "code",
   "execution_count": 83,
   "metadata": {},
   "outputs": [],
   "source": [
    "food_var = LpVariable.dicts(\n",
    "    \"Food_List\",\n",
    "    food_list,\n",
    "    lowBound=0,\n",
    "    cat='Continuous'\n",
    ")"
   ]
  },
  {
   "cell_type": "code",
   "execution_count": 84,
   "metadata": {},
   "outputs": [],
   "source": [
    "# Objective Function:\n",
    "\n",
    "lin_prob2 += lpSum(cost_per_serving[e]*food_var[e] for i, e in enumerate(food_list))"
   ]
  },
  {
   "cell_type": "code",
   "execution_count": 85,
   "metadata": {},
   "outputs": [],
   "source": [
    "# Lower Bounds:\n",
    "\n",
    "lin_prob2 += lpSum(calories[e] * food_var[e] for i, e in enumerate(food_list)) >= 1500\n",
    "lin_prob2 += lpSum(cholestrol[e] * food_var[e] for i, e in enumerate(food_list)) >= 30\n",
    "lin_prob2 += lpSum(total_fat_g[e] * food_var[e] for i, e in enumerate(food_list)) >= 20\n",
    "lin_prob2 += lpSum(sodium_mg[e] * food_var[e] for i, e in enumerate(food_list)) >= 800\n",
    "lin_prob2 += lpSum(carbs_g[e] * food_var[e] for i, e in enumerate(food_list)) >= 130\n",
    "lin_prob2 += lpSum(fiber_g[e] * food_var[e] for i, e in enumerate(food_list)) >= 125\n",
    "lin_prob2 += lpSum(protein_g[e] * food_var[e] for i, e in enumerate(food_list)) >= 60\n",
    "lin_prob2 += lpSum(vit_a[e] * food_var[e] for i, e in enumerate(food_list)) >= 1000\n",
    "lin_prob2 += lpSum(vit_c[e] * food_var[e] for i, e in enumerate(food_list)) >= 400\n",
    "lin_prob2 += lpSum(calcium_mg[e] * food_var[e] for i, e in enumerate(food_list)) >= 700\n",
    "lin_prob2 += lpSum(iron_mg[e] * food_var[e] for i, e in enumerate(food_list)) >= 10\n",
    "\n",
    "lin_prob2 += lpSum(calories[e] * food_var[e] for i, e in enumerate(food_list)) <= 2500\n",
    "lin_prob2 += lpSum(cholestrol[e] * food_var[e] for i, e in enumerate(food_list)) <= 240\n",
    "lin_prob2 += lpSum(total_fat_g[e] * food_var[e] for i, e in enumerate(food_list)) <= 70\n",
    "lin_prob2 += lpSum(sodium_mg[e] * food_var[e] for i, e in enumerate(food_list)) <= 2000\n",
    "lin_prob2 += lpSum(carbs_g[e] * food_var[e] for i, e in enumerate(food_list)) <= 450\n",
    "lin_prob2 += lpSum(fiber_g[e] * food_var[e] for i, e in enumerate(food_list)) <= 250\n",
    "lin_prob2 += lpSum(protein_g[e] * food_var[e] for i, e in enumerate(food_list)) <= 100\n",
    "lin_prob2 += lpSum(vit_a[e] * food_var[e] for i, e in enumerate(food_list)) <= 10000\n",
    "lin_prob2 += lpSum(vit_c[e] * food_var[e] for i, e in enumerate(food_list)) <= 5000\n",
    "lin_prob2 += lpSum(calcium_mg[e] * food_var[e] for i, e in enumerate(food_list)) <= 1500\n",
    "lin_prob2 += lpSum(iron_mg[e] * food_var[e] for i, e in enumerate(food_list)) <= 40"
   ]
  },
  {
   "cell_type": "markdown",
   "metadata": {},
   "source": [
    "Constraint A\n",
    "\n",
    "If a food is selected, then a minimum of 1/10 serving must be chosen.\n",
    "\n",
    "Also, Giving importance to food_var only if the selected_food variable is 1\n",
    "\n",
    "Setting an upper bound of 10000 and lower bound of 0.1,"
   ]
  },
  {
   "cell_type": "code",
   "execution_count": 86,
   "metadata": {},
   "outputs": [],
   "source": [
    "ub = 10000\n",
    "lb = 0.1\n",
    "\n",
    "for i in food_list:\n",
    "    lin_prob2 += food_var[i] >= lb * selected_food[i]\n",
    "    lin_prob2 += food_var[i] <= ub * selected_food[i]"
   ]
  },
  {
   "cell_type": "markdown",
   "metadata": {},
   "source": [
    "Constraint B\n",
    "\n",
    "Many people dislike celery and frozen broccoli. So at most one, but not both, can be selected. This can be done by making sure that the sum of binary variables (lettuce and broccoli) = 1. This ensures that only one can be selected."
   ]
  },
  {
   "cell_type": "code",
   "execution_count": 87,
   "metadata": {},
   "outputs": [],
   "source": [
    "lin_prob2 += selected_food['Frozen Broccoli']+selected_food['Celery, Raw'] <=1"
   ]
  },
  {
   "cell_type": "markdown",
   "metadata": {},
   "source": [
    "Constraint C\n",
    "\n",
    "To get day-to-day variety in protein, at least 3 kinds of meat/poultry/fish/eggs must be selected.\n",
    "\n",
    "Well, I tried to do this using regex. Couldnt figure it out. So, TA or Peers, whoever is grading this code, if you can leave a comment about using regex here, that'd help me learn. Thanks."
   ]
  },
  {
   "cell_type": "code",
   "execution_count": 78,
   "metadata": {},
   "outputs": [
    {
     "data": {
      "text/plain": [
       "1*selected_food_New_E_Clamchwd,W_Mlk + -3 >= 0"
      ]
     },
     "execution_count": 78,
     "metadata": {},
     "output_type": "execute_result"
    }
   ],
   "source": [
    "lin_prob2 += selected_food['Roasted Chicken'] + selected_food['Chicknoodl Soup'] + selected_food['Frankfurter, Beef'] \n",
    "+ selected_food['Vegetbeef Soup'] + selected_food['Poached Eggs'] + selected_food['Scrambled Eggs'] \n",
    "+ selected_food['Bologna,Turkey'] + selected_food['Ham,Sliced,Extralean'] + selected_food['Hamburger W/Toppings']\n",
    "+ selected_food['Splt Pea&Hamsoup'] + selected_food['Hotdog, Plain'] + selected_food['Pizza W/Pepperoni'] \n",
    "+ selected_food['Hamburger W/Toppings'] + selected_food['Pork'] + selected_food['Sardines in Oil'] \n",
    "+ selected_food['White Tuna in Water'] + selected_food['Neweng Clamchwd'] + selected_food['Tomato Soup'] \n",
    "+ selected_food['New E Clamchwd,W/Mlk'] >= 3"
   ]
  },
  {
   "cell_type": "code",
   "execution_count": 88,
   "metadata": {},
   "outputs": [
    {
     "data": {
      "text/plain": [
       "1"
      ]
     },
     "execution_count": 88,
     "metadata": {},
     "output_type": "execute_result"
    }
   ],
   "source": [
    "lin_prob2.solve()"
   ]
  },
  {
   "cell_type": "code",
   "execution_count": 89,
   "metadata": {},
   "outputs": [
    {
     "name": "stdout",
     "output_type": "stream",
     "text": [
      "Status: Optimal\n"
     ]
    }
   ],
   "source": [
    "# Printing the status of the solution. In case the problem is ill-formulated or there is not sufficient information,\n",
    "# the solution may be infeasible or unbounded.\n",
    "\n",
    "print(\"Status:\", LpStatus[lin_prob2.status])"
   ]
  },
  {
   "cell_type": "code",
   "execution_count": 90,
   "metadata": {},
   "outputs": [],
   "source": [
    "food_name2 = []\n",
    "food_val2 = []\n",
    "for v in lin_prob2.variables():\n",
    "    if v.varValue>=0:\n",
    "        food_name2.append(v.name)\n",
    "        food_val2.append(v.varValue)"
   ]
  },
  {
   "cell_type": "code",
   "execution_count": 91,
   "metadata": {},
   "outputs": [],
   "source": [
    "df2 = pd.DataFrame(list(zip(food_name2, food_val2)), columns =['Name', 'val'])\n",
    "df2 = df2.sort_values(by='val', ascending=False)"
   ]
  },
  {
   "cell_type": "code",
   "execution_count": 92,
   "metadata": {},
   "outputs": [
    {
     "name": "stdout",
     "output_type": "stream",
     "text": [
      "                                  Name        val\n",
      "28       Food_List_Lettuce,Iceberg,Raw  80.919121\n",
      "11               Food_List_Celery,_Raw  43.154119\n",
      "40        Food_List_Popcorn,Air_Popped  13.181772\n",
      "35                   Food_List_Oranges   3.076516\n",
      "36             Food_List_Peanut_Butter   2.046457\n",
      "75           selected_food_Celery,_Raw   1.000000\n",
      "104   selected_food_Popcorn,Air_Popped   1.000000\n",
      "103         selected_food_Poached_Eggs   1.000000\n",
      "92   selected_food_Lettuce,Iceberg,Raw   1.000000\n",
      "100        selected_food_Peanut_Butter   1.000000\n",
      "99               selected_food_Oranges   1.000000\n",
      "39              Food_List_Poached_Eggs   0.141844\n"
     ]
    }
   ],
   "source": [
    "print(df2[df2['val'] > 0])"
   ]
  },
  {
   "cell_type": "markdown",
   "metadata": {},
   "source": [
    "**Cost of this optimized diet is:**"
   ]
  },
  {
   "cell_type": "code",
   "execution_count": 93,
   "metadata": {},
   "outputs": [
    {
     "name": "stdout",
     "output_type": "stream",
     "text": [
      "The total cost of this optimized diet is: $4.49\n"
     ]
    }
   ],
   "source": [
    "print(\"The total cost of this optimized diet is: ${}\".format(round(value(lin_prob2.objective),2)))"
   ]
  }
 ],
 "metadata": {
  "kernelspec": {
   "display_name": "Python 3",
   "language": "python",
   "name": "python3"
  },
  "language_info": {
   "codemirror_mode": {
    "name": "ipython",
    "version": 3
   },
   "file_extension": ".py",
   "mimetype": "text/x-python",
   "name": "python",
   "nbconvert_exporter": "python",
   "pygments_lexer": "ipython3",
   "version": "3.7.5"
  }
 },
 "nbformat": 4,
 "nbformat_minor": 2
}
