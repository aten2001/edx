{
 "cells": [
  {
   "cell_type": "markdown",
   "metadata": {},
   "source": [
    "### Question 8.1\n",
    "\n",
    "###### Describe a situation or problem from your job, everyday life, current events, etc., for which a linear regression model would be appropriate. List some (up to 5) predictors that you might use.\n",
    "\n",
    "_______________________________________________________________________________________________________________________________\n",
    "\n",
    "\n",
    "I have not worked on regression analysis, although I would love to. But one application where I think I might be able to apply this in real life is, football(aka soccer). I am a big fan and a suppoter of a club called Football Club Barcelona. The club owners and the manager of the team always tries to do the best for the club like either buy players from other clubs or hire scouts to scout for potential talents in the game. FC Barcelona as a club has got some of the best players using scouts such as Lionel Messi, who is Greatest Of All Time(GOAT), and currently the new talents like Ansu Fati and Junior Firpo. Upto my understanding usually the players are bought considering who have had the best goals to matches ratio (for forwards) or tackles (for defenders) to matches ratio.\n",
    "\n",
    "\n",
    "But I think that based on the stats that the scout provides such as (other than the mainstream stats such as age, matches played, goals scored etc) minutes played, number of successful passes completed, number and recurrence of injuries, nation (i can assign numerical metrics to this categorical variable), build up plays leading to goal, or the number of commanding saves when it comes to a goalkeeper, the sports analyst for the club might be able to build a mathematical regression model, and even remove insignificant predictors to build a successful model, buy the successful players. "
   ]
  },
  {
   "cell_type": "markdown",
   "metadata": {},
   "source": []
  },
  {
   "cell_type": "markdown",
   "metadata": {},
   "source": [
    "### Question 8.2\n",
    "\n",
    "Using crime data from http://www.statsci.org/data/general/uscrime.txt (file uscrime.txt, description at http://www.statsci.org/data/general/uscrime.html ), use regression (a useful R function is lm or glm) to predict the observed crime rate in a city with the following data: \n",
    "    1. M = 14.0\n",
    "    2. So = 0\n",
    "    3. Ed = 10.0\n",
    "    4. Po1 = 12.0\n",
    "    5. Po2 = 15.5\n",
    "    6. LF = 0.640\n",
    "    7. M.F = 94.0\n",
    "    8. Pop = 150\n",
    "    9. NW = 1.1\n",
    "    10. U1 = 0.120\n",
    "    11. U2 = 3.6\n",
    "    12. Wealth = 3200\n",
    "    13. Ineq = 20.1\n",
    "    14. Prob = 0.04\n",
    "    15. Time = 39.0\n",
    "\n",
    "Show your model (factors used and their coefficients), the software output, and the quality of fit. Note that because there are only 47 data points and 15 predictors, you’ll probably notice some overfitting. We’ll see ways of dealing with this sort of problem later in the course."
   ]
  },
  {
   "cell_type": "code",
   "execution_count": 2,
   "metadata": {},
   "outputs": [],
   "source": [
    "crime_df <- read.table(\"uscrime.txt\",header = TRUE)"
   ]
  },
  {
   "cell_type": "code",
   "execution_count": 3,
   "metadata": {},
   "outputs": [
    {
     "data": {
      "text/html": [
       "<table>\n",
       "<thead><tr><th scope=col>M</th><th scope=col>So</th><th scope=col>Ed</th><th scope=col>Po1</th><th scope=col>Po2</th><th scope=col>LF</th><th scope=col>M.F</th><th scope=col>Pop</th><th scope=col>NW</th><th scope=col>U1</th><th scope=col>U2</th><th scope=col>Wealth</th><th scope=col>Ineq</th><th scope=col>Prob</th><th scope=col>Time</th><th scope=col>Crime</th></tr></thead>\n",
       "<tbody>\n",
       "\t<tr><td>15.1    </td><td>1       </td><td> 9.1    </td><td> 5.8    </td><td> 5.6    </td><td>0.510   </td><td> 95.0   </td><td> 33     </td><td>30.1    </td><td>0.108   </td><td>4.1     </td><td>3940    </td><td>26.1    </td><td>0.084602</td><td>26.2011 </td><td> 791    </td></tr>\n",
       "\t<tr><td>14.3    </td><td>0       </td><td>11.3    </td><td>10.3    </td><td> 9.5    </td><td>0.583   </td><td>101.2   </td><td> 13     </td><td>10.2    </td><td>0.096   </td><td>3.6     </td><td>5570    </td><td>19.4    </td><td>0.029599</td><td>25.2999 </td><td>1635    </td></tr>\n",
       "\t<tr><td>14.2    </td><td>1       </td><td> 8.9    </td><td> 4.5    </td><td> 4.4    </td><td>0.533   </td><td> 96.9   </td><td> 18     </td><td>21.9    </td><td>0.094   </td><td>3.3     </td><td>3180    </td><td>25.0    </td><td>0.083401</td><td>24.3006 </td><td> 578    </td></tr>\n",
       "\t<tr><td>13.6    </td><td>0       </td><td>12.1    </td><td>14.9    </td><td>14.1    </td><td>0.577   </td><td> 99.4   </td><td>157     </td><td> 8.0    </td><td>0.102   </td><td>3.9     </td><td>6730    </td><td>16.7    </td><td>0.015801</td><td>29.9012 </td><td>1969    </td></tr>\n",
       "\t<tr><td>14.1    </td><td>0       </td><td>12.1    </td><td>10.9    </td><td>10.1    </td><td>0.591   </td><td> 98.5   </td><td> 18     </td><td> 3.0    </td><td>0.091   </td><td>2.0     </td><td>5780    </td><td>17.4    </td><td>0.041399</td><td>21.2998 </td><td>1234    </td></tr>\n",
       "\t<tr><td>12.1    </td><td>0       </td><td>11.0    </td><td>11.8    </td><td>11.5    </td><td>0.547   </td><td> 96.4   </td><td> 25     </td><td> 4.4    </td><td>0.084   </td><td>2.9     </td><td>6890    </td><td>12.6    </td><td>0.034201</td><td>20.9995 </td><td> 682    </td></tr>\n",
       "</tbody>\n",
       "</table>\n"
      ],
      "text/latex": [
       "\\begin{tabular}{r|llllllllllllllll}\n",
       " M & So & Ed & Po1 & Po2 & LF & M.F & Pop & NW & U1 & U2 & Wealth & Ineq & Prob & Time & Crime\\\\\n",
       "\\hline\n",
       "\t 15.1     & 1        &  9.1     &  5.8     &  5.6     & 0.510    &  95.0    &  33      & 30.1     & 0.108    & 4.1      & 3940     & 26.1     & 0.084602 & 26.2011  &  791    \\\\\n",
       "\t 14.3     & 0        & 11.3     & 10.3     &  9.5     & 0.583    & 101.2    &  13      & 10.2     & 0.096    & 3.6      & 5570     & 19.4     & 0.029599 & 25.2999  & 1635    \\\\\n",
       "\t 14.2     & 1        &  8.9     &  4.5     &  4.4     & 0.533    &  96.9    &  18      & 21.9     & 0.094    & 3.3      & 3180     & 25.0     & 0.083401 & 24.3006  &  578    \\\\\n",
       "\t 13.6     & 0        & 12.1     & 14.9     & 14.1     & 0.577    &  99.4    & 157      &  8.0     & 0.102    & 3.9      & 6730     & 16.7     & 0.015801 & 29.9012  & 1969    \\\\\n",
       "\t 14.1     & 0        & 12.1     & 10.9     & 10.1     & 0.591    &  98.5    &  18      &  3.0     & 0.091    & 2.0      & 5780     & 17.4     & 0.041399 & 21.2998  & 1234    \\\\\n",
       "\t 12.1     & 0        & 11.0     & 11.8     & 11.5     & 0.547    &  96.4    &  25      &  4.4     & 0.084    & 2.9      & 6890     & 12.6     & 0.034201 & 20.9995  &  682    \\\\\n",
       "\\end{tabular}\n"
      ],
      "text/markdown": [
       "\n",
       "| M | So | Ed | Po1 | Po2 | LF | M.F | Pop | NW | U1 | U2 | Wealth | Ineq | Prob | Time | Crime |\n",
       "|---|---|---|---|---|---|---|---|---|---|---|---|---|---|---|---|\n",
       "| 15.1     | 1        |  9.1     |  5.8     |  5.6     | 0.510    |  95.0    |  33      | 30.1     | 0.108    | 4.1      | 3940     | 26.1     | 0.084602 | 26.2011  |  791     |\n",
       "| 14.3     | 0        | 11.3     | 10.3     |  9.5     | 0.583    | 101.2    |  13      | 10.2     | 0.096    | 3.6      | 5570     | 19.4     | 0.029599 | 25.2999  | 1635     |\n",
       "| 14.2     | 1        |  8.9     |  4.5     |  4.4     | 0.533    |  96.9    |  18      | 21.9     | 0.094    | 3.3      | 3180     | 25.0     | 0.083401 | 24.3006  |  578     |\n",
       "| 13.6     | 0        | 12.1     | 14.9     | 14.1     | 0.577    |  99.4    | 157      |  8.0     | 0.102    | 3.9      | 6730     | 16.7     | 0.015801 | 29.9012  | 1969     |\n",
       "| 14.1     | 0        | 12.1     | 10.9     | 10.1     | 0.591    |  98.5    |  18      |  3.0     | 0.091    | 2.0      | 5780     | 17.4     | 0.041399 | 21.2998  | 1234     |\n",
       "| 12.1     | 0        | 11.0     | 11.8     | 11.5     | 0.547    |  96.4    |  25      |  4.4     | 0.084    | 2.9      | 6890     | 12.6     | 0.034201 | 20.9995  |  682     |\n",
       "\n"
      ],
      "text/plain": [
       "  M    So Ed   Po1  Po2  LF    M.F   Pop NW   U1    U2  Wealth Ineq Prob    \n",
       "1 15.1 1   9.1  5.8  5.6 0.510  95.0  33 30.1 0.108 4.1 3940   26.1 0.084602\n",
       "2 14.3 0  11.3 10.3  9.5 0.583 101.2  13 10.2 0.096 3.6 5570   19.4 0.029599\n",
       "3 14.2 1   8.9  4.5  4.4 0.533  96.9  18 21.9 0.094 3.3 3180   25.0 0.083401\n",
       "4 13.6 0  12.1 14.9 14.1 0.577  99.4 157  8.0 0.102 3.9 6730   16.7 0.015801\n",
       "5 14.1 0  12.1 10.9 10.1 0.591  98.5  18  3.0 0.091 2.0 5780   17.4 0.041399\n",
       "6 12.1 0  11.0 11.8 11.5 0.547  96.4  25  4.4 0.084 2.9 6890   12.6 0.034201\n",
       "  Time    Crime\n",
       "1 26.2011  791 \n",
       "2 25.2999 1635 \n",
       "3 24.3006  578 \n",
       "4 29.9012 1969 \n",
       "5 21.2998 1234 \n",
       "6 20.9995  682 "
      ]
     },
     "metadata": {},
     "output_type": "display_data"
    }
   ],
   "source": [
    "head(crime_df)"
   ]
  },
  {
   "cell_type": "code",
   "execution_count": 4,
   "metadata": {},
   "outputs": [
    {
     "name": "stdout",
     "output_type": "stream",
     "text": [
      "'data.frame':\t47 obs. of  16 variables:\n",
      " $ M     : num  15.1 14.3 14.2 13.6 14.1 12.1 12.7 13.1 15.7 14 ...\n",
      " $ So    : int  1 0 1 0 0 0 1 1 1 0 ...\n",
      " $ Ed    : num  9.1 11.3 8.9 12.1 12.1 11 11.1 10.9 9 11.8 ...\n",
      " $ Po1   : num  5.8 10.3 4.5 14.9 10.9 11.8 8.2 11.5 6.5 7.1 ...\n",
      " $ Po2   : num  5.6 9.5 4.4 14.1 10.1 11.5 7.9 10.9 6.2 6.8 ...\n",
      " $ LF    : num  0.51 0.583 0.533 0.577 0.591 0.547 0.519 0.542 0.553 0.632 ...\n",
      " $ M.F   : num  95 101.2 96.9 99.4 98.5 ...\n",
      " $ Pop   : int  33 13 18 157 18 25 4 50 39 7 ...\n",
      " $ NW    : num  30.1 10.2 21.9 8 3 4.4 13.9 17.9 28.6 1.5 ...\n",
      " $ U1    : num  0.108 0.096 0.094 0.102 0.091 0.084 0.097 0.079 0.081 0.1 ...\n",
      " $ U2    : num  4.1 3.6 3.3 3.9 2 2.9 3.8 3.5 2.8 2.4 ...\n",
      " $ Wealth: int  3940 5570 3180 6730 5780 6890 6200 4720 4210 5260 ...\n",
      " $ Ineq  : num  26.1 19.4 25 16.7 17.4 12.6 16.8 20.6 23.9 17.4 ...\n",
      " $ Prob  : num  0.0846 0.0296 0.0834 0.0158 0.0414 ...\n",
      " $ Time  : num  26.2 25.3 24.3 29.9 21.3 ...\n",
      " $ Crime : int  791 1635 578 1969 1234 682 963 1555 856 705 ...\n"
     ]
    }
   ],
   "source": [
    "str(crime_df)"
   ]
  },
  {
   "cell_type": "code",
   "execution_count": 5,
   "metadata": {},
   "outputs": [
    {
     "data": {
      "text/html": [
       "<dl class=dl-horizontal>\n",
       "\t<dt>M</dt>\n",
       "\t\t<dd>0</dd>\n",
       "\t<dt>So</dt>\n",
       "\t\t<dd>0</dd>\n",
       "\t<dt>Ed</dt>\n",
       "\t\t<dd>0</dd>\n",
       "\t<dt>Po1</dt>\n",
       "\t\t<dd>0</dd>\n",
       "\t<dt>Po2</dt>\n",
       "\t\t<dd>0</dd>\n",
       "\t<dt>LF</dt>\n",
       "\t\t<dd>0</dd>\n",
       "\t<dt>M.F</dt>\n",
       "\t\t<dd>0</dd>\n",
       "\t<dt>Pop</dt>\n",
       "\t\t<dd>0</dd>\n",
       "\t<dt>NW</dt>\n",
       "\t\t<dd>0</dd>\n",
       "\t<dt>U1</dt>\n",
       "\t\t<dd>0</dd>\n",
       "\t<dt>U2</dt>\n",
       "\t\t<dd>0</dd>\n",
       "\t<dt>Wealth</dt>\n",
       "\t\t<dd>0</dd>\n",
       "\t<dt>Ineq</dt>\n",
       "\t\t<dd>0</dd>\n",
       "\t<dt>Prob</dt>\n",
       "\t\t<dd>0</dd>\n",
       "\t<dt>Time</dt>\n",
       "\t\t<dd>0</dd>\n",
       "\t<dt>Crime</dt>\n",
       "\t\t<dd>0</dd>\n",
       "</dl>\n"
      ],
      "text/latex": [
       "\\begin{description*}\n",
       "\\item[M] 0\n",
       "\\item[So] 0\n",
       "\\item[Ed] 0\n",
       "\\item[Po1] 0\n",
       "\\item[Po2] 0\n",
       "\\item[LF] 0\n",
       "\\item[M.F] 0\n",
       "\\item[Pop] 0\n",
       "\\item[NW] 0\n",
       "\\item[U1] 0\n",
       "\\item[U2] 0\n",
       "\\item[Wealth] 0\n",
       "\\item[Ineq] 0\n",
       "\\item[Prob] 0\n",
       "\\item[Time] 0\n",
       "\\item[Crime] 0\n",
       "\\end{description*}\n"
      ],
      "text/markdown": [
       "M\n",
       ":   0So\n",
       ":   0Ed\n",
       ":   0Po1\n",
       ":   0Po2\n",
       ":   0LF\n",
       ":   0M.F\n",
       ":   0Pop\n",
       ":   0NW\n",
       ":   0U1\n",
       ":   0U2\n",
       ":   0Wealth\n",
       ":   0Ineq\n",
       ":   0Prob\n",
       ":   0Time\n",
       ":   0Crime\n",
       ":   0\n",
       "\n"
      ],
      "text/plain": [
       "     M     So     Ed    Po1    Po2     LF    M.F    Pop     NW     U1     U2 \n",
       "     0      0      0      0      0      0      0      0      0      0      0 \n",
       "Wealth   Ineq   Prob   Time  Crime \n",
       "     0      0      0      0      0 "
      ]
     },
     "metadata": {},
     "output_type": "display_data"
    }
   ],
   "source": [
    "# Checking if there are any Null values in the dataframe\n",
    "\n",
    "sapply(crime_df, function(x) sum(is.na(x)))"
   ]
  },
  {
   "cell_type": "code",
   "execution_count": 6,
   "metadata": {},
   "outputs": [
    {
     "data": {
      "image/png": "[encoded data removed]",
      "text/plain": [
       "Plot with title \"Histogram of crime_df$Crime\""
      ]
     },
     "metadata": {},
     "output_type": "display_data"
    }
   ],
   "source": [
    "hist(crime_df$Crime, freq = FALSE)\n",
    "dens <- density(crime_df$Crime)\n",
    "lines(dens)"
   ]
  },
  {
   "cell_type": "markdown",
   "metadata": {},
   "source": [
    "Use the following link for understanding the \"corrplot\" : http://www.sthda.com/english/wiki/visualize-correlation-matrix-using-correlogram"
   ]
  },
  {
   "cell_type": "code",
   "execution_count": 7,
   "metadata": {},
   "outputs": [],
   "source": [
    "M<-cor(crime_df)"
   ]
  },
  {
   "cell_type": "code",
   "execution_count": 8,
   "metadata": {},
   "outputs": [
    {
     "name": "stderr",
     "output_type": "stream",
     "text": [
      "Warning message:\n",
      "\"package 'corrplot' was built under R version 3.6.3\"corrplot 0.84 loaded\n"
     ]
    },
    {
     "data": {
      "image/png": "[encoded data removed]",
      "text/plain": [
       "Plot with title \"\""
      ]
     },
     "metadata": {},
     "output_type": "display_data"
    }
   ],
   "source": [
    "library(corrplot)\n",
    "corrplot.mixed(abs(M), lower = \"number\", upper = \"circle\", lower.col = \"black\", number.cex = .7)"
   ]
  },
  {
   "cell_type": "markdown",
   "metadata": {},
   "source": [
    "**From the corrplot, it can be inferred that Crime response is more dependent on Po1, Po2, Pop, Wealth, Prob, and Ed than on the rest of input data**\n",
    "\n",
    "**They are the inputs with more than 30% correlation to Crime response.**"
   ]
  },
  {
   "cell_type": "markdown",
   "metadata": {},
   "source": [
    "Next, I am going to create a test dataframe that I will use to predict the regression model. The test dataframe inputs the following predictors:\n",
    "\n",
    "1. M = 14.0\n",
    "2. So = 0\n",
    "3. Ed = 10.0\n",
    "4. Po1 = 12.0\n",
    "5. Po2 = 15.5\n",
    "6. LF = 0.640\n",
    "7. M.F = 94.0\n",
    "8. Pop = 150\n",
    "9. NW = 1.1\n",
    "10. U1 = 0.120\n",
    "11. U2 = 3.6\n",
    "12. Wealth = 3200\n",
    "13. Ineq = 20.1\n",
    "14. Prob = 0.04\n",
    "15. Time = 39.0"
   ]
  },
  {
   "cell_type": "markdown",
   "metadata": {},
   "source": [
    "**I am going to fit the regression model with all the predictors. Then I will test the quality of this model by predicting the Crime rate for the baseline dataframe.**"
   ]
  },
  {
   "cell_type": "code",
   "execution_count": 9,
   "metadata": {},
   "outputs": [],
   "source": [
    "base_model <- lm(Crime ~. , data = crime_df)"
   ]
  },
  {
   "cell_type": "code",
   "execution_count": 10,
   "metadata": {},
   "outputs": [
    {
     "data": {
      "text/plain": [
       "\n",
       "Call:\n",
       "lm(formula = Crime ~ ., data = crime_df)\n",
       "\n",
       "Residuals:\n",
       "    Min      1Q  Median      3Q     Max \n",
       "-395.74  -98.09   -6.69  112.99  512.67 \n",
       "\n",
       "Coefficients:\n",
       "              Estimate Std. Error t value Pr(>|t|)    \n",
       "(Intercept) -5.984e+03  1.628e+03  -3.675 0.000893 ***\n",
       "M            8.783e+01  4.171e+01   2.106 0.043443 *  \n",
       "So          -3.803e+00  1.488e+02  -0.026 0.979765    \n",
       "Ed           1.883e+02  6.209e+01   3.033 0.004861 ** \n",
       "Po1          1.928e+02  1.061e+02   1.817 0.078892 .  \n",
       "Po2         -1.094e+02  1.175e+02  -0.931 0.358830    \n",
       "LF          -6.638e+02  1.470e+03  -0.452 0.654654    \n",
       "M.F          1.741e+01  2.035e+01   0.855 0.398995    \n",
       "Pop         -7.330e-01  1.290e+00  -0.568 0.573845    \n",
       "NW           4.204e+00  6.481e+00   0.649 0.521279    \n",
       "U1          -5.827e+03  4.210e+03  -1.384 0.176238    \n",
       "U2           1.678e+02  8.234e+01   2.038 0.050161 .  \n",
       "Wealth       9.617e-02  1.037e-01   0.928 0.360754    \n",
       "Ineq         7.067e+01  2.272e+01   3.111 0.003983 ** \n",
       "Prob        -4.855e+03  2.272e+03  -2.137 0.040627 *  \n",
       "Time        -3.479e+00  7.165e+00  -0.486 0.630708    \n",
       "---\n",
       "Signif. codes:  0 '***' 0.001 '**' 0.01 '*' 0.05 '.' 0.1 ' ' 1\n",
       "\n",
       "Residual standard error: 209.1 on 31 degrees of freedom\n",
       "Multiple R-squared:  0.8031,\tAdjusted R-squared:  0.7078 \n",
       "F-statistic: 8.429 on 15 and 31 DF,  p-value: 3.539e-07\n"
      ]
     },
     "metadata": {},
     "output_type": "display_data"
    }
   ],
   "source": [
    "summary(base_model)"
   ]
  },
  {
   "cell_type": "markdown",
   "metadata": {},
   "source": [
    "###### Understanding the Summary Output: \n",
    "\n",
    "From the summary I am able to understand that Predictors such as M, Ed, Ineq, Prob are having p-value < 0.05 meaning they are statistically significant to be as a Predictor to the dependent variable(Crime).\n",
    "\n",
    "\n",
    "Moreover, the R squared value is 0.8 meaning the model is a good fit for the data. But as we can see the Adjusted R squared is much less than the R squared value meaning the model is Overfitted and there are unwanted predictors which are misleading the value of R squared"
   ]
  },
  {
   "cell_type": "code",
   "execution_count": 11,
   "metadata": {},
   "outputs": [],
   "source": [
    "# Creating a new dataframe to predict the observed crime rate in a city with the data that was provided\n",
    "\n",
    "baseline_df <- data.frame(M = 14.0,\n",
    "                          So = 0,\n",
    "                          Ed = 10.0,\n",
    "                          Po1 = 12.0,\n",
    "                          Po2 = 15.5,\n",
    "                          LF = 0.640,\n",
    "                          M.F = 94.0,\n",
    "                          Pop = 150,\n",
    "                          NW = 1.1,\n",
    "                          U1 = 0.120,\n",
    "                          U2 = 3.6,\n",
    "                          Wealth = 3200,\n",
    "                          Ineq = 20.1,\n",
    "                          Prob = 0.04,\n",
    "                          Time = 39.0)"
   ]
  },
  {
   "cell_type": "code",
   "execution_count": 12,
   "metadata": {},
   "outputs": [
    {
     "data": {
      "text/html": [
       "<strong>1:</strong> 155.434896887443"
      ],
      "text/latex": [
       "\\textbf{1:} 155.434896887443"
      ],
      "text/markdown": [
       "**1:** 155.434896887443"
      ],
      "text/plain": [
       "       1 \n",
       "155.4349 "
      ]
     },
     "metadata": {},
     "output_type": "display_data"
    }
   ],
   "source": [
    "# Predicting the output of crime rate in the city for the given data\n",
    "\n",
    "predict.lm(base_model,baseline_df)"
   ]
  },
  {
   "cell_type": "markdown",
   "metadata": {},
   "source": [
    "**The baseline regression model with all predictors has predicted a crime rate of 155.434896887446.**"
   ]
  },
  {
   "cell_type": "markdown",
   "metadata": {},
   "source": [
    "To reduce Overfitting probably we can split the data into train and test and fir the model on train and predict on test data.\n",
    "\n",
    "\n",
    "We can also perform Cross Validation on the data to handle Overfitting.\n",
    "\n",
    "\n",
    "Reference:http://www.sthda.com/english/articles/38-regression-model-validation/157-cross-validation-essentials-in-r/"
   ]
  }
 ],
 "metadata": {
  "kernelspec": {
   "display_name": "R",
   "language": "R",
   "name": "ir"
  },
  "language_info": {
   "codemirror_mode": "r",
   "file_extension": ".r",
   "mimetype": "text/x-r-source",
   "name": "R",
   "pygments_lexer": "r",
   "version": "3.6.1"
  }
 },
 "nbformat": 4,
 "nbformat_minor": 4
}
