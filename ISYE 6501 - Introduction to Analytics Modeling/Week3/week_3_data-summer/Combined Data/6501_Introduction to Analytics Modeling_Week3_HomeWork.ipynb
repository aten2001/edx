{
 "cells": [
  {
   "cell_type": "markdown",
   "metadata": {},
   "source": [
    "# Homework 3 - Week 3"
   ]
  },
  {
   "cell_type": "markdown",
   "metadata": {},
   "source": [
    "### Question 7.1\n",
    "\n",
    "###### Describe a situation or problem from your job, everyday life, current events, etc., for which exponential smoothing would be appropriate. What data would you need? Would you expect the value of α (the first smoothing parameter) to be closer to 0 or 1, and why?\n",
    "\n",
    "_______________________________________________________________________________________________________________________________\n",
    "   \n",
    "   I am an Analyst at Mindtree Limited. A year back I worked on a project on a Proof of Concept to one of the clients, that involved the time series data. I use Python for analysis and used the Scikit Learn package in Python. In that project, I ask was to estimate the ATM cash demand forecasts for New York, Illinois, California. I created a model to predict the demand for the number of bills for each denomination. I tried different modeling techniques like ARIMA, SARIMA, and Exponential Smoothing (Holt-Winters). In the end, I used Holt-Winters, which gave a great result, to predict the demand forecast for a few weeks. The error rate of the prediction models was less than 15%. I used α of 0.7 giving importance/weightage to my recent value but at the same time not leaving the previous outputs.\n",
    "    \n",
    "\n",
    "    Few of the KPI's(predictors) are as follows,\n",
    "\n",
    "     1. Zipcode\n",
    "     2. Time of loading the money\n",
    "     3. Count of bills that was loaded (for each denomination)\n",
    "     4. Time at which each type of bill was empty (for each denomination)\n",
    "     5. Distance of ATMs from one and another in the same city"
   ]
  },
  {
   "cell_type": "markdown",
   "metadata": {},
   "source": []
  },
  {
   "cell_type": "markdown",
   "metadata": {},
   "source": [
    "### Question 7.2"
   ]
  },
  {
   "cell_type": "markdown",
   "metadata": {},
   "source": [
    "###### Using the 20 years of daily high temperature data for Atlanta (July through October) from Question 6.2 (file temps.txt), build and use an exponential smoothing model to help make a judgment of whether the unofficial end of summer has gotten later over the 20 years. (Part of the point of this assignment is for you to think about how you might use exponential smoothing to answer this question. Feel free to combine it with other models if you’d like to. There’s certainly more than one reasonable approach.) \n",
    "\n",
    "\n",
    "###### Note: in R, you can use either HoltWinters (simpler to use) or the smooth package’s es function (harder to use, but more general). If you use es, the Holt-Winters model uses model=”AAM” in the function call (the first and second constants are used “A”dditively, and the third (seasonality) is used “M”ultiplicatively; the documentation doesn’t make that clear)."
   ]
  },
  {
   "cell_type": "markdown",
   "metadata": {},
   "source": [
    "For this Question I had a reference from : https://fukamilab.github.io/BIO202/09-A-time-series.html"
   ]
  },
  {
   "cell_type": "code",
   "execution_count": 270,
   "metadata": {},
   "outputs": [],
   "source": [
    "# if (!require(\"fma\")) install.packages(\"fma\")\n",
    "# if (!require(\"expsmooth\")) install.packages(\"expsmooth\")\n",
    "# install.packages(\"forecast\", repos='http://cran.us.r-project.org')\n",
    "library(fma)\n",
    "library(expsmooth)\n",
    "suppressWarnings(suppressMessages(library(\"TTR\")))\n",
    "suppressWarnings(suppressMessages(library(\"forecast\")))"
   ]
  },
  {
   "cell_type": "code",
   "execution_count": 271,
   "metadata": {},
   "outputs": [],
   "source": [
    "temperature <- read.table(\"temps.txt\", sep = '\\t', header = TRUE, check.names = FALSE)"
   ]
  },
  {
   "cell_type": "code",
   "execution_count": 272,
   "metadata": {},
   "outputs": [
    {
     "data": {
      "text/html": [
       "<table>\n",
       "<thead><tr><th scope=col>DAY</th><th scope=col>1996</th><th scope=col>1997</th><th scope=col>1998</th><th scope=col>1999</th><th scope=col>2000</th><th scope=col>2001</th><th scope=col>2002</th><th scope=col>2003</th><th scope=col>2004</th><th scope=col>...</th><th scope=col>2006</th><th scope=col>2007</th><th scope=col>2008</th><th scope=col>2009</th><th scope=col>2010</th><th scope=col>2011</th><th scope=col>2012</th><th scope=col>2013</th><th scope=col>2014</th><th scope=col>2015</th></tr></thead>\n",
       "<tbody>\n",
       "\t<tr><td>1-Jul</td><td>98   </td><td>86   </td><td>91   </td><td>84   </td><td>89   </td><td>84   </td><td>90   </td><td>73   </td><td>82   </td><td>...  </td><td>93   </td><td>95   </td><td>85   </td><td>95   </td><td>87   </td><td>92   </td><td>105  </td><td>82   </td><td>90   </td><td>85   </td></tr>\n",
       "\t<tr><td>2-Jul</td><td>97   </td><td>90   </td><td>88   </td><td>82   </td><td>91   </td><td>87   </td><td>90   </td><td>81   </td><td>81   </td><td>...  </td><td>93   </td><td>85   </td><td>87   </td><td>90   </td><td>84   </td><td>94   </td><td> 93  </td><td>85   </td><td>93   </td><td>87   </td></tr>\n",
       "\t<tr><td>3-Jul</td><td>97   </td><td>93   </td><td>91   </td><td>87   </td><td>93   </td><td>87   </td><td>87   </td><td>87   </td><td>86   </td><td>...  </td><td>93   </td><td>82   </td><td>91   </td><td>89   </td><td>83   </td><td>95   </td><td> 99  </td><td>76   </td><td>87   </td><td>79   </td></tr>\n",
       "\t<tr><td>4-Jul</td><td>90   </td><td>91   </td><td>91   </td><td>88   </td><td>95   </td><td>84   </td><td>89   </td><td>86   </td><td>88   </td><td>...  </td><td>91   </td><td>86   </td><td>90   </td><td>91   </td><td>85   </td><td>92   </td><td> 98  </td><td>77   </td><td>84   </td><td>85   </td></tr>\n",
       "\t<tr><td>5-Jul</td><td>89   </td><td>84   </td><td>91   </td><td>90   </td><td>96   </td><td>86   </td><td>93   </td><td>80   </td><td>90   </td><td>...  </td><td>90   </td><td>88   </td><td>88   </td><td>80   </td><td>88   </td><td>90   </td><td>100  </td><td>83   </td><td>86   </td><td>84   </td></tr>\n",
       "\t<tr><td>6-Jul</td><td>93   </td><td>84   </td><td>89   </td><td>91   </td><td>96   </td><td>87   </td><td>93   </td><td>84   </td><td>90   </td><td>...  </td><td>81   </td><td>87   </td><td>82   </td><td>87   </td><td>89   </td><td>90   </td><td> 98  </td><td>83   </td><td>87   </td><td>84   </td></tr>\n",
       "</tbody>\n",
       "</table>\n"
      ],
      "text/latex": [
       "\\begin{tabular}{r|lllllllllllllllllllll}\n",
       " DAY & 1996 & 1997 & 1998 & 1999 & 2000 & 2001 & 2002 & 2003 & 2004 & ... & 2006 & 2007 & 2008 & 2009 & 2010 & 2011 & 2012 & 2013 & 2014 & 2015\\\\\n",
       "\\hline\n",
       "\t 1-Jul & 98    & 86    & 91    & 84    & 89    & 84    & 90    & 73    & 82    & ...   & 93    & 95    & 85    & 95    & 87    & 92    & 105   & 82    & 90    & 85   \\\\\n",
       "\t 2-Jul & 97    & 90    & 88    & 82    & 91    & 87    & 90    & 81    & 81    & ...   & 93    & 85    & 87    & 90    & 84    & 94    &  93   & 85    & 93    & 87   \\\\\n",
       "\t 3-Jul & 97    & 93    & 91    & 87    & 93    & 87    & 87    & 87    & 86    & ...   & 93    & 82    & 91    & 89    & 83    & 95    &  99   & 76    & 87    & 79   \\\\\n",
       "\t 4-Jul & 90    & 91    & 91    & 88    & 95    & 84    & 89    & 86    & 88    & ...   & 91    & 86    & 90    & 91    & 85    & 92    &  98   & 77    & 84    & 85   \\\\\n",
       "\t 5-Jul & 89    & 84    & 91    & 90    & 96    & 86    & 93    & 80    & 90    & ...   & 90    & 88    & 88    & 80    & 88    & 90    & 100   & 83    & 86    & 84   \\\\\n",
       "\t 6-Jul & 93    & 84    & 89    & 91    & 96    & 87    & 93    & 84    & 90    & ...   & 81    & 87    & 82    & 87    & 89    & 90    &  98   & 83    & 87    & 84   \\\\\n",
       "\\end{tabular}\n"
      ],
      "text/markdown": [
       "\n",
       "| DAY | 1996 | 1997 | 1998 | 1999 | 2000 | 2001 | 2002 | 2003 | 2004 | ... | 2006 | 2007 | 2008 | 2009 | 2010 | 2011 | 2012 | 2013 | 2014 | 2015 |\n",
       "|---|---|---|---|---|---|---|---|---|---|---|---|---|---|---|---|---|---|---|---|---|\n",
       "| 1-Jul | 98    | 86    | 91    | 84    | 89    | 84    | 90    | 73    | 82    | ...   | 93    | 95    | 85    | 95    | 87    | 92    | 105   | 82    | 90    | 85    |\n",
       "| 2-Jul | 97    | 90    | 88    | 82    | 91    | 87    | 90    | 81    | 81    | ...   | 93    | 85    | 87    | 90    | 84    | 94    |  93   | 85    | 93    | 87    |\n",
       "| 3-Jul | 97    | 93    | 91    | 87    | 93    | 87    | 87    | 87    | 86    | ...   | 93    | 82    | 91    | 89    | 83    | 95    |  99   | 76    | 87    | 79    |\n",
       "| 4-Jul | 90    | 91    | 91    | 88    | 95    | 84    | 89    | 86    | 88    | ...   | 91    | 86    | 90    | 91    | 85    | 92    |  98   | 77    | 84    | 85    |\n",
       "| 5-Jul | 89    | 84    | 91    | 90    | 96    | 86    | 93    | 80    | 90    | ...   | 90    | 88    | 88    | 80    | 88    | 90    | 100   | 83    | 86    | 84    |\n",
       "| 6-Jul | 93    | 84    | 89    | 91    | 96    | 87    | 93    | 84    | 90    | ...   | 81    | 87    | 82    | 87    | 89    | 90    |  98   | 83    | 87    | 84    |\n",
       "\n"
      ],
      "text/plain": [
       "  DAY   1996 1997 1998 1999 2000 2001 2002 2003 2004 ... 2006 2007 2008 2009\n",
       "1 1-Jul 98   86   91   84   89   84   90   73   82   ... 93   95   85   95  \n",
       "2 2-Jul 97   90   88   82   91   87   90   81   81   ... 93   85   87   90  \n",
       "3 3-Jul 97   93   91   87   93   87   87   87   86   ... 93   82   91   89  \n",
       "4 4-Jul 90   91   91   88   95   84   89   86   88   ... 91   86   90   91  \n",
       "5 5-Jul 89   84   91   90   96   86   93   80   90   ... 90   88   88   80  \n",
       "6 6-Jul 93   84   89   91   96   87   93   84   90   ... 81   87   82   87  \n",
       "  2010 2011 2012 2013 2014 2015\n",
       "1 87   92   105  82   90   85  \n",
       "2 84   94    93  85   93   87  \n",
       "3 83   95    99  76   87   79  \n",
       "4 85   92    98  77   84   85  \n",
       "5 88   90   100  83   86   84  \n",
       "6 89   90    98  83   87   84  "
      ]
     },
     "metadata": {},
     "output_type": "display_data"
    }
   ],
   "source": [
    "head(temperature)"
   ]
  },
  {
   "cell_type": "code",
   "execution_count": 273,
   "metadata": {},
   "outputs": [
    {
     "data": {
      "text/html": [
       "<ol class=list-inline>\n",
       "\t<li>123</li>\n",
       "\t<li>21</li>\n",
       "</ol>\n"
      ],
      "text/latex": [
       "\\begin{enumerate*}\n",
       "\\item 123\n",
       "\\item 21\n",
       "\\end{enumerate*}\n"
      ],
      "text/markdown": [
       "1. 123\n",
       "2. 21\n",
       "\n",
       "\n"
      ],
      "text/plain": [
       "[1] 123  21"
      ]
     },
     "metadata": {},
     "output_type": "display_data"
    }
   ],
   "source": [
    "dim(temperature)"
   ]
  },
  {
   "cell_type": "code",
   "execution_count": 274,
   "metadata": {},
   "outputs": [],
   "source": [
    "# Flatten the data frame to a single vector (time series data of frequency = 1 day).\n",
    "\n",
    "temp_vector <- as.vector(unlist(temperature[,2:21], recursive = TRUE, use.names = TRUE))"
   ]
  },
  {
   "cell_type": "code",
   "execution_count": 275,
   "metadata": {},
   "outputs": [],
   "source": [
    "# There are 123 days of data. We want frequency of 1 day. So, deltat = 1/123\n",
    "\n",
    "temp_ts <- ts(temp_vector, start=c(1996,1), end = c(2015,123), deltat = 1/123)"
   ]
  },
  {
   "cell_type": "code",
   "execution_count": 276,
   "metadata": {},
   "outputs": [
    {
     "name": "stdout",
     "output_type": "stream",
     "text": [
      " Time-Series [1:2460] from 1996 to 2016: 98 97 97 90 89 93 93 91 93 93 ...\n"
     ]
    }
   ],
   "source": [
    "str(temp_ts)"
   ]
  },
  {
   "cell_type": "markdown",
   "metadata": {},
   "source": [
    "**Ploting the Time Series data across Years**"
   ]
  },
  {
   "cell_type": "code",
   "execution_count": 277,
   "metadata": {},
   "outputs": [
    {
     "data": {
      "image/png": "[encoded data removed]",
      "text/plain": [
       "plot without title"
      ]
     },
     "metadata": {},
     "output_type": "display_data"
    }
   ],
   "source": [
    "plot(temp_ts)"
   ]
  },
  {
   "cell_type": "code",
   "execution_count": 278,
   "metadata": {},
   "outputs": [
    {
     "data": {
      "image/png": "[encoded data removed]",
      "text/plain": [
       "plot without title"
      ]
     },
     "metadata": {},
     "output_type": "display_data"
    }
   ],
   "source": [
    "plot.ts(temp_ts)"
   ]
  },
  {
   "cell_type": "code",
   "execution_count": 145,
   "metadata": {
    "scrolled": false
   },
   "outputs": [
    {
     "data": {
      "image/png": "[encoded data removed]",
      "text/plain": [
       "Plot with title \"Series  temp_ts\""
      ]
     },
     "metadata": {},
     "output_type": "display_data"
    }
   ],
   "source": [
    "# Auto Correlation plot showing that only one value lying outside the 95% limits and\n",
    "\n",
    "acf(temp_ts, lag.max = NULL, type = \"correlation\",plot = TRUE)"
   ]
  },
  {
   "cell_type": "markdown",
   "metadata": {},
   "source": [
    "Reference: https://www.statisticshowto.com/ljung-box-test/"
   ]
  },
  {
   "cell_type": "code",
   "execution_count": 146,
   "metadata": {},
   "outputs": [
    {
     "data": {
      "text/plain": [
       "\n",
       "\tBox-Ljung test\n",
       "\n",
       "data:  temp_ts\n",
       "X-squared = 8350.9, df = 10, p-value < 2.2e-16\n"
      ]
     },
     "metadata": {},
     "output_type": "display_data"
    }
   ],
   "source": [
    "# the L-jung box test has a p-value < 2.2e-16\n",
    "\n",
    "Box.test(temp_ts, lag = 10, type = \"Ljung-Box\", fitdf = 0)"
   ]
  },
  {
   "cell_type": "markdown",
   "metadata": {},
   "source": [
    "The null hypothesis of the Box Ljung Test, H0, is that our model does not show lack of fit (or in simple terms—the model is just fine). The alternate hypothesis, Ha, is just that the model does show a lack of fit.\n",
    "\n",
    "**Our p-value is less than 0.05 in this test which rejects the null hypothesis that the time series isn’t autocorrelated.**"
   ]
  },
  {
   "cell_type": "markdown",
   "metadata": {},
   "source": [
    "## Decomposing Time Series\n",
    "\n",
    "***Decomposing time series dismantles each sequence into its constituents–trend, irregular, and (if applicable) seaonsal components***"
   ]
  },
  {
   "cell_type": "code",
   "execution_count": 265,
   "metadata": {
    "scrolled": false
   },
   "outputs": [
    {
     "data": {
      "image/png": "[encoded data removed]",
      "text/plain": [
       "plot without title"
      ]
     },
     "metadata": {},
     "output_type": "display_data"
    }
   ],
   "source": [
    "temp_components <- decompose(temp_ts)\n",
    "# print(temp_components$seasonal)\n",
    "autoplot(temp_components)"
   ]
  },
  {
   "cell_type": "markdown",
   "metadata": {},
   "source": [
    "**Now, I am going to perform single exponential smoothing. Here, I'm using a model with no trend and seasonality. I am going to let R determine the value of alpha.**"
   ]
  },
  {
   "cell_type": "code",
   "execution_count": 191,
   "metadata": {},
   "outputs": [],
   "source": [
    "temp_single_es <- HoltWinters(temp_ts, beta = FALSE, gamma = FALSE)"
   ]
  },
  {
   "cell_type": "code",
   "execution_count": 193,
   "metadata": {},
   "outputs": [
    {
     "data": {
      "image/png": "[encoded data removed]",
      "text/plain": [
       "Plot with title \"Holt-Winters filtering\""
      ]
     },
     "metadata": {},
     "output_type": "display_data"
    }
   ],
   "source": [
    "plot(temp_single_es)"
   ]
  },
  {
   "cell_type": "code",
   "execution_count": 194,
   "metadata": {},
   "outputs": [
    {
     "data": {
      "text/plain": [
       "Holt-Winters exponential smoothing without trend and without seasonal component.\n",
       "\n",
       "Call:\n",
       "HoltWinters(x = temp_ts, beta = FALSE, gamma = FALSE)\n",
       "\n",
       "Smoothing parameters:\n",
       " alpha: 0.8388021\n",
       " beta : FALSE\n",
       " gamma: FALSE\n",
       "\n",
       "Coefficients:\n",
       "      [,1]\n",
       "a 63.30952"
      ]
     },
     "metadata": {},
     "output_type": "display_data"
    },
    {
     "data": {
      "text/html": [
       "56198.0955314733"
      ],
      "text/latex": [
       "56198.0955314733"
      ],
      "text/markdown": [
       "56198.0955314733"
      ],
      "text/plain": [
       "[1] 56198.1"
      ]
     },
     "metadata": {},
     "output_type": "display_data"
    }
   ],
   "source": [
    "temp_single_es\n",
    "temp_single_es$SSE"
   ]
  },
  {
   "cell_type": "markdown",
   "metadata": {},
   "source": [
    "**The estimated value of alpha is 0.8388021. This is high value indicating that the estimate of the current value of the level is based mostly upon very recent observations in the time series. The value of the SSE for the in-sample forecast errors is 56198.0955314733.**"
   ]
  },
  {
   "cell_type": "markdown",
   "metadata": {},
   "source": [
    "**I am going to perform double exponential smoothing (gamma = FALSE). I am going to let R determine the value of alpha.**"
   ]
  },
  {
   "cell_type": "code",
   "execution_count": 176,
   "metadata": {},
   "outputs": [
    {
     "data": {
      "image/png": "[encoded data removed]",
      "text/plain": [
       "Plot with title \"Holt-Winters filtering\""
      ]
     },
     "metadata": {},
     "output_type": "display_data"
    }
   ],
   "source": [
    "temp_double_es <- HoltWinters(temp_ts, gamma = FALSE)\n",
    "plot(temp_double_es)"
   ]
  },
  {
   "cell_type": "code",
   "execution_count": 177,
   "metadata": {},
   "outputs": [
    {
     "data": {
      "text/plain": [
       "Holt-Winters exponential smoothing with trend and without seasonal component.\n",
       "\n",
       "Call:\n",
       "HoltWinters(x = temp_ts, gamma = FALSE)\n",
       "\n",
       "Smoothing parameters:\n",
       " alpha: 0.8445729\n",
       " beta : 0.003720884\n",
       " gamma: FALSE\n",
       "\n",
       "Coefficients:\n",
       "        [,1]\n",
       "a 63.2530022\n",
       "b -0.0729933"
      ]
     },
     "metadata": {},
     "output_type": "display_data"
    },
    {
     "data": {
      "text/html": [
       "56572.5375681139"
      ],
      "text/latex": [
       "56572.5375681139"
      ],
      "text/markdown": [
       "56572.5375681139"
      ],
      "text/plain": [
       "[1] 56572.54"
      ]
     },
     "metadata": {},
     "output_type": "display_data"
    }
   ],
   "source": [
    "temp_double_es\n",
    "temp_double_es$SSE"
   ]
  },
  {
   "cell_type": "markdown",
   "metadata": {},
   "source": [
    "**The estimated value of alpha is 0.8445729. Beta is 0.0037. This means that the trend value from the recent observations has relatively very little weight when forecasting for future values. The value of the sum-of-squared-errors for the in-sample forecast errors is 56572.5375681139.**"
   ]
  },
  {
   "cell_type": "markdown",
   "metadata": {},
   "source": [
    "**Next, I am going to check if the data can be described using an additive model**. **I am going to use Holt-Winters triple exponential smoothing to estimate the level (alpha), slope (beta) and seasonal (gamma) components.**"
   ]
  },
  {
   "cell_type": "code",
   "execution_count": 266,
   "metadata": {
    "scrolled": false
   },
   "outputs": [
    {
     "data": {
      "text/plain": [
       "Holt-Winters exponential smoothing with trend and additive seasonal component.\n",
       "\n",
       "Call:\n",
       "HoltWinters(x = temp_ts)\n",
       "\n",
       "Smoothing parameters:\n",
       " alpha: 0.6610618\n",
       " beta : 0\n",
       " gamma: 0.6248076\n",
       "\n",
       "Coefficients:\n",
       "              [,1]\n",
       "a     71.477236414\n",
       "b     -0.004362918\n",
       "s1    18.590169842\n",
       "s2    17.803098732\n",
       "s3    12.204442890\n",
       "s4    13.233948865\n",
       "s5    12.957258705\n",
       "s6    11.525341233\n",
       "s7    10.854441534\n",
       "s8    10.199632666\n",
       "s9     8.694767348\n",
       "s10    5.983076192\n",
       "s11    3.123493477\n",
       "s12    4.698228193\n",
       "s13    2.730023168\n",
       "s14    2.995935818\n",
       "s15    1.714600919\n",
       "s16    2.486701224\n",
       "s17    6.382595268\n",
       "s18    5.081837636\n",
       "s19    7.571432660\n",
       "s20    6.165047647\n",
       "s21    9.560458487\n",
       "s22    9.700133847\n",
       "s23    8.808383245\n",
       "s24    8.505505527\n",
       "s25    7.406809208\n",
       "s26    6.839204571\n",
       "s27    6.368261304\n",
       "s28    6.382080380\n",
       "s29    4.552058253\n",
       "s30    6.877476437\n",
       "s31    4.823330209\n",
       "s32    4.931885957\n",
       "s33    7.109879628\n",
       "s34    6.178469084\n",
       "s35    4.886891317\n",
       "s36    3.890547248\n",
       "s37    2.148316257\n",
       "s38    2.524866001\n",
       "s39    3.008098232\n",
       "s40    3.041663870\n",
       "s41    2.251741386\n",
       "s42    0.101091985\n",
       "s43   -0.123337548\n",
       "s44   -1.445675315\n",
       "s45   -1.802768181\n",
       "s46   -2.192036338\n",
       "s47   -0.180954242\n",
       "s48    1.538987281\n",
       "s49    5.075394760\n",
       "s50    6.740978049\n",
       "s51    7.737089782\n",
       "s52    8.579515859\n",
       "s53    8.408834158\n",
       "s54    4.704976718\n",
       "s55    1.827215229\n",
       "s56   -1.275747384\n",
       "s57    1.389899699\n",
       "s58    1.376842871\n",
       "s59    0.509553410\n",
       "s60    1.886439429\n",
       "s61   -0.806454923\n",
       "s62    5.221873550\n",
       "s63    5.383073482\n",
       "s64    4.265584552\n",
       "s65    3.841481452\n",
       "s66   -0.231239928\n",
       "s67    0.542761270\n",
       "s68    0.780131779\n",
       "s69    1.096690727\n",
       "s70    0.690525998\n",
       "s71    2.301303414\n",
       "s72    2.965913580\n",
       "s73    4.393732595\n",
       "s74    2.744547070\n",
       "s75    1.035278911\n",
       "s76    1.170709479\n",
       "s77    2.796838283\n",
       "s78    2.000312540\n",
       "s79    0.007337449\n",
       "s80   -1.203916069\n",
       "s81    0.352397232\n",
       "s82    0.675108103\n",
       "s83   -3.169643942\n",
       "s84   -1.913321175\n",
       "s85   -1.647780450\n",
       "s86   -5.281261301\n",
       "s87   -5.126493027\n",
       "s88   -2.637666754\n",
       "s89   -2.342133004\n",
       "s90   -3.281910970\n",
       "s91   -4.242033198\n",
       "s92   -2.596010530\n",
       "s93   -7.821281290\n",
       "s94   -8.814741200\n",
       "s95   -8.996689798\n",
       "s96   -7.835655534\n",
       "s97   -5.749139155\n",
       "s98   -5.196182693\n",
       "s99   -8.623793296\n",
       "s100 -11.809355220\n",
       "s101 -13.129428554\n",
       "s102 -16.095143067\n",
       "s103 -15.125436350\n",
       "s104 -13.963606549\n",
       "s105 -12.953304848\n",
       "s106 -16.097179844\n",
       "s107 -15.489223470\n",
       "s108 -13.680122300\n",
       "s109 -11.921434142\n",
       "s110 -12.035411347\n",
       "s111 -12.837047727\n",
       "s112  -9.095808127\n",
       "s113  -5.433029341\n",
       "s114  -6.800835107\n",
       "s115  -8.413639598\n",
       "s116 -10.912409484\n",
       "s117 -13.553826535\n",
       "s118 -10.652543677\n",
       "s119 -12.627298331\n",
       "s120  -9.906981556\n",
       "s121 -12.668519900\n",
       "s122  -9.805502547\n",
       "s123  -7.775306633"
      ]
     },
     "metadata": {},
     "output_type": "display_data"
    },
    {
     "data": {
      "text/html": [
       "66244.2504058467"
      ],
      "text/latex": [
       "66244.2504058467"
      ],
      "text/markdown": [
       "66244.2504058467"
      ],
      "text/plain": [
       "[1] 66244.25"
      ]
     },
     "metadata": {},
     "output_type": "display_data"
    },
    {
     "data": {
      "image/png": "[encoded data removed]",
      "text/plain": [
       "Plot with title \"Holt-Winters filtering\""
      ]
     },
     "metadata": {},
     "output_type": "display_data"
    }
   ],
   "source": [
    "# additive model\n",
    "\n",
    "temp_add_hw <- HoltWinters(temp_ts)\n",
    "temp_add_hw\n",
    "temp_add_hw$SSE\n",
    "plot(temp_add_hw)"
   ]
  },
  {
   "cell_type": "markdown",
   "metadata": {},
   "source": [
    "**The value of beta is zero, suggesting no trend from recent observations on forecasting future values. The level parameter is 0.6610618, and the seasonal smoothing parameter, gamma is 0.6248076. SSE is 66244.2504058466.**"
   ]
  },
  {
   "cell_type": "markdown",
   "metadata": {},
   "source": [
    "**The forecasts made by HoltWinters function are stored in a named element of this list variable called fitted.**"
   ]
  },
  {
   "cell_type": "code",
   "execution_count": 267,
   "metadata": {
    "scrolled": false
   },
   "outputs": [
    {
     "data": {
      "image/png": "[encoded data removed]",
      "text/plain": [
       "plot without title"
      ]
     },
     "metadata": {},
     "output_type": "display_data"
    }
   ],
   "source": [
    "# print(head(temp_add_hw$fitted,100))\n",
    "plot(temp_add_hw$fitted)"
   ]
  },
  {
   "cell_type": "markdown",
   "metadata": {},
   "source": [
    "**I am going to check if the data can be described using an multiplicative model. I am going to use Holt-Winters triple exponential smoothing to estimate the level (alpha), slope (beta) and seasonal (gamma) components.**"
   ]
  },
  {
   "cell_type": "code",
   "execution_count": 268,
   "metadata": {
    "scrolled": false
   },
   "outputs": [
    {
     "data": {
      "text/plain": [
       "Holt-Winters exponential smoothing with trend and multiplicative seasonal component.\n",
       "\n",
       "Call:\n",
       "HoltWinters(x = temp_ts, alpha = NULL, beta = NULL, gamma = NULL,     seasonal = \"multiplicative\")\n",
       "\n",
       "Smoothing parameters:\n",
       " alpha: 0.615003\n",
       " beta : 0\n",
       " gamma: 0.5495256\n",
       "\n",
       "Coefficients:\n",
       "             [,1]\n",
       "a    73.679517064\n",
       "b    -0.004362918\n",
       "s1    1.239022317\n",
       "s2    1.234344062\n",
       "s3    1.159509551\n",
       "s4    1.175247483\n",
       "s5    1.171344196\n",
       "s6    1.151038408\n",
       "s7    1.139383104\n",
       "s8    1.130484528\n",
       "s9    1.110487514\n",
       "s10   1.076242879\n",
       "s11   1.041044609\n",
       "s12   1.058139281\n",
       "s13   1.032496529\n",
       "s14   1.036257448\n",
       "s15   1.019348815\n",
       "s16   1.026754142\n",
       "s17   1.071170378\n",
       "s18   1.054819556\n",
       "s19   1.084397734\n",
       "s20   1.064605879\n",
       "s21   1.109827336\n",
       "s22   1.112670130\n",
       "s23   1.103970506\n",
       "s24   1.102771209\n",
       "s25   1.091264692\n",
       "s26   1.084518342\n",
       "s27   1.077914660\n",
       "s28   1.077696145\n",
       "s29   1.053788854\n",
       "s30   1.079454300\n",
       "s31   1.053481186\n",
       "s32   1.054023885\n",
       "s33   1.078221405\n",
       "s34   1.070145761\n",
       "s35   1.054891375\n",
       "s36   1.044587771\n",
       "s37   1.023285461\n",
       "s38   1.025836722\n",
       "s39   1.031075732\n",
       "s40   1.031419152\n",
       "s41   1.021827552\n",
       "s42   0.998177248\n",
       "s43   0.996049257\n",
       "s44   0.981570825\n",
       "s45   0.976510542\n",
       "s46   0.967977608\n",
       "s47   0.985788411\n",
       "s48   1.004748195\n",
       "s49   1.050965934\n",
       "s50   1.072515008\n",
       "s51   1.086532279\n",
       "s52   1.098357400\n",
       "s53   1.097158461\n",
       "s54   1.054827180\n",
       "s55   1.022866587\n",
       "s56   0.987259326\n",
       "s57   1.016923524\n",
       "s58   1.016604903\n",
       "s59   1.004320951\n",
       "s60   1.019102781\n",
       "s61   0.983848662\n",
       "s62   1.055888360\n",
       "s63   1.056122844\n",
       "s64   1.043478958\n",
       "s65   1.039475693\n",
       "s66   0.991019224\n",
       "s67   1.001437488\n",
       "s68   1.002221759\n",
       "s69   1.003949213\n",
       "s70   0.999566344\n",
       "s71   1.018636837\n",
       "s72   1.026490773\n",
       "s73   1.042507768\n",
       "s74   1.022500795\n",
       "s75   1.002503740\n",
       "s76   1.004560984\n",
       "s77   1.025536556\n",
       "s78   1.015357769\n",
       "s79   0.992176558\n",
       "s80   0.979377825\n",
       "s81   0.998058079\n",
       "s82   1.002553395\n",
       "s83   0.955429116\n",
       "s84   0.970970220\n",
       "s85   0.975543504\n",
       "s86   0.931515830\n",
       "s87   0.926764603\n",
       "s88   0.958565273\n",
       "s89   0.963250387\n",
       "s90   0.951644060\n",
       "s91   0.937362688\n",
       "s92   0.954257999\n",
       "s93   0.892485444\n",
       "s94   0.879537700\n",
       "s95   0.879946892\n",
       "s96   0.890633648\n",
       "s97   0.917134959\n",
       "s98   0.925991769\n",
       "s99   0.884247686\n",
       "s100  0.846648167\n",
       "s101  0.833696369\n",
       "s102  0.800001437\n",
       "s103  0.807934782\n",
       "s104  0.819343668\n",
       "s105  0.828571029\n",
       "s106  0.795608740\n",
       "s107  0.796609993\n",
       "s108  0.815503509\n",
       "s109  0.830111282\n",
       "s110  0.829086181\n",
       "s111  0.818367239\n",
       "s112  0.863958784\n",
       "s113  0.912057203\n",
       "s114  0.898308248\n",
       "s115  0.878723779\n",
       "s116  0.848971946\n",
       "s117  0.813891909\n",
       "s118  0.846821392\n",
       "s119  0.819121827\n",
       "s120  0.851036184\n",
       "s121  0.820416491\n",
       "s122  0.851581233\n",
       "s123  0.874038407"
      ]
     },
     "metadata": {},
     "output_type": "display_data"
    },
    {
     "data": {
      "text/html": [
       "68904.569331748"
      ],
      "text/latex": [
       "68904.569331748"
      ],
      "text/markdown": [
       "68904.569331748"
      ],
      "text/plain": [
       "[1] 68904.57"
      ]
     },
     "metadata": {},
     "output_type": "display_data"
    },
    {
     "data": {
      "image/png": "[encoded data removed]",
      "text/plain": [
       "Plot with title \"Holt-Winters filtering\""
      ]
     },
     "metadata": {},
     "output_type": "display_data"
    }
   ],
   "source": [
    "temp_mul_hw <- HoltWinters(temp_ts,alpha = NULL,beta = NULL,gamma = NULL, seasonal = \"multiplicative\")\n",
    "temp_mul_hw\n",
    "temp_mul_hw$SSE\n",
    "plot(temp_mul_hw)"
   ]
  },
  {
   "cell_type": "code",
   "execution_count": null,
   "metadata": {},
   "outputs": [],
   "source": []
  },
  {
   "cell_type": "markdown",
   "metadata": {},
   "source": [
    "**Again, the value of beta is zero, suggesting no trend from recent observations on forecasting future values. The level parameter is 0.615003, and the seasonal smoothing parameter, gamma is 0.5495256. SSE is 68904.569331748.**"
   ]
  },
  {
   "cell_type": "markdown",
   "metadata": {},
   "source": [
    "**I am going to write the fitted values to a csv file to perform CUSUM approach to detect unofficial end of summer.**"
   ]
  },
  {
   "cell_type": "code",
   "execution_count": 211,
   "metadata": {},
   "outputs": [],
   "source": [
    "df_temp1 <- matrix(temp_mul_hw$fitted[,4], nrow = 123) # taking season and performing CUSUM"
   ]
  },
  {
   "cell_type": "code",
   "execution_count": 214,
   "metadata": {},
   "outputs": [],
   "source": [
    "# install.packages(\"xlsx\", repos='http://cran.us.r-project.org')\n",
    "suppressWarnings(suppressMessages(require(xlsx)))"
   ]
  },
  {
   "cell_type": "code",
   "execution_count": 245,
   "metadata": {},
   "outputs": [],
   "source": [
    "write.csv(df_temp1, file = 'smoothed_temperature.csv')"
   ]
  },
  {
   "cell_type": "markdown",
   "metadata": {},
   "source": [
    "**Next, I am going to try to predict the temperatures for July 1 through Oct 31 for 2016 and 2017 using the Holt-Winters\n",
    "mulultiplicative model. To do this, I am using the predict() function that inputs the HW object, prediction interval, number of\n",
    "predictions, and confidence level.**"
   ]
  },
  {
   "cell_type": "code",
   "execution_count": 244,
   "metadata": {},
   "outputs": [
    {
     "name": "stdout",
     "output_type": "stream",
     "text": [
      "Time Series:\n",
      "Start = c(2016, 1) \n",
      "End = c(2017, 123) \n",
      "Frequency = 123 \n",
      "            fit\n",
      "  [1,] 91.28516\n",
      "  [2,] 90.93510\n",
      "  [3,] 85.41693\n",
      "  [4,] 86.57116\n",
      "  [5,] 86.27852\n",
      "  [6,] 84.77782\n",
      "  [7,] 83.91440\n",
      "  [8,] 83.25410\n",
      "  [9,] 81.77658\n",
      " [10,] 79.25010\n",
      " [11,] 76.65370\n",
      " [12,] 77.90779\n",
      " [13,] 76.01528\n",
      " [14,] 76.28765\n",
      " [15,] 75.03842\n",
      " [16,] 75.57908\n",
      " [17,] 78.84387\n",
      " [18,] 77.63576\n",
      " [19,] 79.80801\n",
      " [20,] 78.34675\n",
      " [21,] 81.66986\n",
      " [22,] 81.87420\n",
      " [23,] 81.22923\n",
      " [24,] 81.13618\n",
      " [25,] 80.28483\n",
      " [26,] 79.78376\n",
      " [27,] 79.29325\n",
      " [28,] 79.27248\n",
      " [29,] 77.50932\n",
      " [30,] 79.39238\n",
      " [31,] 77.47750\n",
      " [32,] 77.51282\n",
      " [33,] 79.28759\n",
      " [34,] 78.68908\n",
      " [35,] 77.56280\n",
      " [36,] 76.80065\n",
      " [37,] 75.22999\n",
      " [38,] 75.41308\n",
      " [39,] 75.79372\n",
      " [40,] 75.81447\n",
      " [41,] 75.10498\n",
      " [42,] 73.36231\n",
      " [43,] 73.20156\n",
      " [44,] 72.13323\n",
      " [45,] 71.75711\n",
      " [46,] 71.12586\n",
      " [47,] 72.43027\n",
      " [48,] 73.81895\n",
      " [49,] 77.20998\n",
      " [50,] 78.78842\n",
      " [51,] 79.81341\n",
      " [52,] 80.67726\n",
      " [53,] 80.58440\n",
      " [54,] 77.47064\n",
      " [55,] 75.11887\n",
      " [56,] 72.49958\n",
      " [57,] 74.67354\n",
      " [58,] 74.64571\n",
      " [59,] 73.73936\n",
      " [60,] 74.82023\n",
      " [61,] 72.22765\n",
      " [62,] 77.51173\n",
      " [63,] 77.52433\n",
      " [64,] 76.59166\n",
      " [65,] 76.29328\n",
      " [66,] 72.73245\n",
      " [67,] 73.49269\n",
      " [68,] 73.54588\n",
      " [69,] 73.66826\n",
      " [70,] 73.34229\n",
      " [71,] 74.73713\n",
      " [72,] 75.30889\n",
      " [73,] 76.47944\n",
      " [74,] 75.00724\n",
      " [75,] 73.53595\n",
      " [76,] 73.68247\n",
      " [77,] 75.21651\n",
      " [78,] 74.46554\n",
      " [79,] 72.76112\n",
      " [80,] 71.81825\n",
      " [81,] 73.18373\n",
      " [82,] 73.50898\n",
      " [83,] 70.04957\n",
      " [84,] 71.18477\n",
      " [85,] 71.51580\n",
      " [86,] 68.28412\n",
      " [87,] 67.93179\n",
      " [88,] 70.25860\n",
      " [89,] 70.59779\n",
      " [90,] 69.74300\n",
      " [91,] 68.69227\n",
      " [92,] 69.92624\n",
      " [93,] 65.39577\n",
      " [94,] 64.44320\n",
      " [95,] 64.46934\n",
      " [96,] 65.24842\n",
      " [97,] 67.18593\n",
      " [98,] 67.83070\n",
      " [99,] 64.76901\n",
      "[100,] 62.01124\n",
      "[101,] 61.05897\n",
      "[102,] 58.58770\n",
      "[103,] 59.16517\n",
      "[104,] 59.99707\n",
      "[105,] 60.66914\n",
      "[106,] 58.25212\n",
      "[107,] 58.32196\n",
      "[108,] 59.70164\n",
      "[109,] 60.76743\n",
      "[110,] 60.68877\n",
      "[111,] 59.90058\n",
      "[112,] 63.23390\n",
      "[113,] 66.75028\n",
      "[114,] 65.74012\n",
      "[115,] 64.30306\n",
      "[116,] 62.12218\n",
      "[117,] 59.55170\n",
      "[118,] 61.95743\n",
      "[119,] 59.92722\n",
      "[120,] 62.25837\n",
      "[121,] 60.01478\n",
      "[122,] 62.29082\n",
      "[123,] 63.92968\n",
      "[124,] 90.62025\n",
      "[125,] 90.27271\n",
      "[126,] 84.79469\n",
      "[127,] 85.94047\n",
      "[128,] 85.64993\n",
      "[129,] 84.16013\n",
      "[130,] 83.30296\n",
      "[131,] 82.64743\n",
      "[132,] 81.18065\n",
      "[133,] 78.67255\n",
      "[134,] 76.09504\n",
      "[135,] 77.33995\n",
      "[136,] 75.46121\n",
      "[137,] 75.73156\n",
      "[138,] 74.49140\n",
      "[139,] 75.02808\n",
      "[140,] 78.26904\n",
      "[141,] 77.06970\n",
      "[142,] 79.22608\n",
      "[143,] 77.77544\n",
      "[144,] 81.07428\n",
      "[145,] 81.27710\n",
      "[146,] 80.63680\n",
      "[147,] 80.54439\n",
      "[148,] 79.69921\n",
      "[149,] 79.20177\n",
      "[150,] 78.71480\n",
      "[151,] 78.69414\n",
      "[152,] 76.94382\n",
      "[153,] 78.81311\n",
      "[154,] 76.91216\n",
      "[155,] 76.94718\n",
      "[156,] 78.70898\n",
      "[157,] 78.11480\n",
      "[158,] 76.99671\n",
      "[159,] 76.24009\n",
      "[160,] 74.68086\n",
      "[161,] 74.86258\n",
      "[162,] 75.24041\n",
      "[163,] 75.26097\n",
      "[164,] 74.55662\n",
      "[165,] 72.82665\n",
      "[166,] 72.66705\n",
      "[167,] 71.60648\n",
      "[168,] 71.23307\n",
      "[169,] 70.60640\n",
      "[170,] 71.90126\n",
      "[171,] 73.27976\n",
      "[172,] 76.64599\n",
      "[173,] 78.21287\n",
      "[174,] 79.23034\n",
      "[175,] 80.08784\n",
      "[176,] 79.99563\n",
      "[177,] 76.90458\n",
      "[178,] 74.56996\n",
      "[179,] 71.96978\n",
      "[180,] 74.12782\n",
      "[181,] 74.10016\n",
      "[182,] 73.20040\n",
      "[183,] 74.27333\n",
      "[184,] 71.69968\n",
      "[185,] 76.94509\n",
      "[186,] 76.95757\n",
      "[187,] 76.03169\n",
      "[188,] 75.73546\n",
      "[189,] 72.20063\n",
      "[190,] 72.95528\n",
      "[191,] 73.00805\n",
      "[192,] 73.12950\n",
      "[193,] 72.80589\n",
      "[194,] 74.19049\n",
      "[195,] 74.75804\n",
      "[196,] 75.91999\n",
      "[197,] 74.45853\n",
      "[198,] 72.99797\n",
      "[199,] 73.14339\n",
      "[200,] 74.66617\n",
      "[201,] 73.92066\n",
      "[202,] 72.22868\n",
      "[203,] 71.29268\n",
      "[204,] 72.64813\n",
      "[205,] 72.97097\n",
      "[206,] 69.53685\n",
      "[207,] 70.66371\n",
      "[208,] 70.99228\n",
      "[209,] 67.78423\n",
      "[210,] 67.43445\n",
      "[211,] 69.74419\n",
      "[212,] 70.08088\n",
      "[213,] 69.23231\n",
      "[214,] 68.18925\n",
      "[215,] 69.41415\n",
      "[216,] 64.91683\n",
      "[217,] 63.97121\n",
      "[218,] 63.99713\n",
      "[219,] 64.77048\n",
      "[220,] 66.69376\n",
      "[221,] 67.33378\n",
      "[222,] 64.29449\n",
      "[223,] 61.55690\n",
      "[224,] 60.61158\n",
      "[225,] 58.15839\n",
      "[226,] 58.73161\n",
      "[227,] 59.55738\n",
      "[228,] 60.22450\n",
      "[229,] 57.82517\n",
      "[230,] 57.89446\n",
      "[231,] 59.26401\n",
      "[232,] 60.32196\n",
      "[233,] 60.24385\n",
      "[234,] 59.46141\n",
      "[235,] 62.77026\n",
      "[236,] 66.26084\n",
      "[237,] 65.25806\n",
      "[238,] 63.83150\n",
      "[239,] 61.66659\n",
      "[240,] 59.11494\n",
      "[241,] 61.50299\n",
      "[242,] 59.48765\n",
      "[243,] 61.80168\n",
      "[244,] 59.57451\n",
      "[245,] 61.83383\n",
      "[246,] 63.46064\n"
     ]
    }
   ],
   "source": [
    "predicted_temp <- predict(temp_mul_hw, n.ahead = 123*2, prediction.interval = FALSE, level = 0.95)\n",
    "print(predicted_temp)"
   ]
  },
  {
   "cell_type": "code",
   "execution_count": 236,
   "metadata": {},
   "outputs": [],
   "source": [
    "new_df <- t(as.data.frame(matrix(round(predicted_temp),ncol =123,byrow = T)))"
   ]
  },
  {
   "cell_type": "code",
   "execution_count": 237,
   "metadata": {},
   "outputs": [
    {
     "data": {
      "text/html": [
       "<table>\n",
       "<tbody>\n",
       "\t<tr><th scope=row>V1</th><td>91</td><td>91</td></tr>\n",
       "\t<tr><th scope=row>V2</th><td>91</td><td>90</td></tr>\n",
       "\t<tr><th scope=row>V3</th><td>85</td><td>85</td></tr>\n",
       "\t<tr><th scope=row>V4</th><td>87</td><td>86</td></tr>\n",
       "\t<tr><th scope=row>V5</th><td>86</td><td>86</td></tr>\n",
       "\t<tr><th scope=row>V6</th><td>85</td><td>84</td></tr>\n",
       "</tbody>\n",
       "</table>\n"
      ],
      "text/latex": [
       "\\begin{tabular}{r|ll}\n",
       "\tV1 & 91 & 91\\\\\n",
       "\tV2 & 91 & 90\\\\\n",
       "\tV3 & 85 & 85\\\\\n",
       "\tV4 & 87 & 86\\\\\n",
       "\tV5 & 86 & 86\\\\\n",
       "\tV6 & 85 & 84\\\\\n",
       "\\end{tabular}\n"
      ],
      "text/markdown": [
       "\n",
       "| V1 | 91 | 91 |\n",
       "| V2 | 91 | 90 |\n",
       "| V3 | 85 | 85 |\n",
       "| V4 | 87 | 86 |\n",
       "| V5 | 86 | 86 |\n",
       "| V6 | 85 | 84 |\n",
       "\n"
      ],
      "text/plain": [
       "   [,1] [,2]\n",
       "V1 91   91  \n",
       "V2 91   90  \n",
       "V3 85   85  \n",
       "V4 87   86  \n",
       "V5 86   86  \n",
       "V6 85   84  "
      ]
     },
     "metadata": {},
     "output_type": "display_data"
    }
   ],
   "source": [
    "head(new_df)"
   ]
  },
  {
   "cell_type": "code",
   "execution_count": 238,
   "metadata": {},
   "outputs": [],
   "source": [
    "# names(new_df) <- c('X2016', 'X2017')\n",
    "temperature_data <- cbind(temperature, new_df)"
   ]
  },
  {
   "cell_type": "code",
   "execution_count": 240,
   "metadata": {},
   "outputs": [
    {
     "data": {
      "text/html": [
       "<table>\n",
       "<thead><tr><th></th><th scope=col>DAY</th><th scope=col>1996</th><th scope=col>1997</th><th scope=col>1998</th><th scope=col>1999</th><th scope=col>2000</th><th scope=col>2001</th><th scope=col>2002</th><th scope=col>2003</th><th scope=col>2004</th><th scope=col>...</th><th scope=col>2008</th><th scope=col>2009</th><th scope=col>2010</th><th scope=col>2011</th><th scope=col>2012</th><th scope=col>2013</th><th scope=col>2014</th><th scope=col>2015</th><th scope=col>1</th><th scope=col>2</th></tr></thead>\n",
       "<tbody>\n",
       "\t<tr><th scope=row>V1</th><td>1-Jul</td><td>98   </td><td>86   </td><td>91   </td><td>84   </td><td>89   </td><td>84   </td><td>90   </td><td>73   </td><td>82   </td><td>...  </td><td>85   </td><td>95   </td><td>87   </td><td>92   </td><td>105  </td><td>82   </td><td>90   </td><td>85   </td><td>91   </td><td>91   </td></tr>\n",
       "\t<tr><th scope=row>V2</th><td>2-Jul</td><td>97   </td><td>90   </td><td>88   </td><td>82   </td><td>91   </td><td>87   </td><td>90   </td><td>81   </td><td>81   </td><td>...  </td><td>87   </td><td>90   </td><td>84   </td><td>94   </td><td> 93  </td><td>85   </td><td>93   </td><td>87   </td><td>91   </td><td>90   </td></tr>\n",
       "\t<tr><th scope=row>V3</th><td>3-Jul</td><td>97   </td><td>93   </td><td>91   </td><td>87   </td><td>93   </td><td>87   </td><td>87   </td><td>87   </td><td>86   </td><td>...  </td><td>91   </td><td>89   </td><td>83   </td><td>95   </td><td> 99  </td><td>76   </td><td>87   </td><td>79   </td><td>85   </td><td>85   </td></tr>\n",
       "\t<tr><th scope=row>V4</th><td>4-Jul</td><td>90   </td><td>91   </td><td>91   </td><td>88   </td><td>95   </td><td>84   </td><td>89   </td><td>86   </td><td>88   </td><td>...  </td><td>90   </td><td>91   </td><td>85   </td><td>92   </td><td> 98  </td><td>77   </td><td>84   </td><td>85   </td><td>87   </td><td>86   </td></tr>\n",
       "\t<tr><th scope=row>V5</th><td>5-Jul</td><td>89   </td><td>84   </td><td>91   </td><td>90   </td><td>96   </td><td>86   </td><td>93   </td><td>80   </td><td>90   </td><td>...  </td><td>88   </td><td>80   </td><td>88   </td><td>90   </td><td>100  </td><td>83   </td><td>86   </td><td>84   </td><td>86   </td><td>86   </td></tr>\n",
       "\t<tr><th scope=row>V6</th><td>6-Jul</td><td>93   </td><td>84   </td><td>89   </td><td>91   </td><td>96   </td><td>87   </td><td>93   </td><td>84   </td><td>90   </td><td>...  </td><td>82   </td><td>87   </td><td>89   </td><td>90   </td><td> 98  </td><td>83   </td><td>87   </td><td>84   </td><td>85   </td><td>84   </td></tr>\n",
       "</tbody>\n",
       "</table>\n"
      ],
      "text/latex": [
       "\\begin{tabular}{r|lllllllllllllllllllllll}\n",
       "  & DAY & 1996 & 1997 & 1998 & 1999 & 2000 & 2001 & 2002 & 2003 & 2004 & ... & 2008 & 2009 & 2010 & 2011 & 2012 & 2013 & 2014 & 2015 & 1 & 2\\\\\n",
       "\\hline\n",
       "\tV1 & 1-Jul & 98    & 86    & 91    & 84    & 89    & 84    & 90    & 73    & 82    & ...   & 85    & 95    & 87    & 92    & 105   & 82    & 90    & 85    & 91    & 91   \\\\\n",
       "\tV2 & 2-Jul & 97    & 90    & 88    & 82    & 91    & 87    & 90    & 81    & 81    & ...   & 87    & 90    & 84    & 94    &  93   & 85    & 93    & 87    & 91    & 90   \\\\\n",
       "\tV3 & 3-Jul & 97    & 93    & 91    & 87    & 93    & 87    & 87    & 87    & 86    & ...   & 91    & 89    & 83    & 95    &  99   & 76    & 87    & 79    & 85    & 85   \\\\\n",
       "\tV4 & 4-Jul & 90    & 91    & 91    & 88    & 95    & 84    & 89    & 86    & 88    & ...   & 90    & 91    & 85    & 92    &  98   & 77    & 84    & 85    & 87    & 86   \\\\\n",
       "\tV5 & 5-Jul & 89    & 84    & 91    & 90    & 96    & 86    & 93    & 80    & 90    & ...   & 88    & 80    & 88    & 90    & 100   & 83    & 86    & 84    & 86    & 86   \\\\\n",
       "\tV6 & 6-Jul & 93    & 84    & 89    & 91    & 96    & 87    & 93    & 84    & 90    & ...   & 82    & 87    & 89    & 90    &  98   & 83    & 87    & 84    & 85    & 84   \\\\\n",
       "\\end{tabular}\n"
      ],
      "text/markdown": [
       "\n",
       "| <!--/--> | DAY | 1996 | 1997 | 1998 | 1999 | 2000 | 2001 | 2002 | 2003 | 2004 | ... | 2008 | 2009 | 2010 | 2011 | 2012 | 2013 | 2014 | 2015 | 1 | 2 |\n",
       "|---|---|---|---|---|---|---|---|---|---|---|---|---|---|---|---|---|---|---|---|---|---|\n",
       "| V1 | 1-Jul | 98    | 86    | 91    | 84    | 89    | 84    | 90    | 73    | 82    | ...   | 85    | 95    | 87    | 92    | 105   | 82    | 90    | 85    | 91    | 91    |\n",
       "| V2 | 2-Jul | 97    | 90    | 88    | 82    | 91    | 87    | 90    | 81    | 81    | ...   | 87    | 90    | 84    | 94    |  93   | 85    | 93    | 87    | 91    | 90    |\n",
       "| V3 | 3-Jul | 97    | 93    | 91    | 87    | 93    | 87    | 87    | 87    | 86    | ...   | 91    | 89    | 83    | 95    |  99   | 76    | 87    | 79    | 85    | 85    |\n",
       "| V4 | 4-Jul | 90    | 91    | 91    | 88    | 95    | 84    | 89    | 86    | 88    | ...   | 90    | 91    | 85    | 92    |  98   | 77    | 84    | 85    | 87    | 86    |\n",
       "| V5 | 5-Jul | 89    | 84    | 91    | 90    | 96    | 86    | 93    | 80    | 90    | ...   | 88    | 80    | 88    | 90    | 100   | 83    | 86    | 84    | 86    | 86    |\n",
       "| V6 | 6-Jul | 93    | 84    | 89    | 91    | 96    | 87    | 93    | 84    | 90    | ...   | 82    | 87    | 89    | 90    |  98   | 83    | 87    | 84    | 85    | 84    |\n",
       "\n"
      ],
      "text/plain": [
       "   DAY   1996 1997 1998 1999 2000 2001 2002 2003 2004 ... 2008 2009 2010 2011\n",
       "V1 1-Jul 98   86   91   84   89   84   90   73   82   ... 85   95   87   92  \n",
       "V2 2-Jul 97   90   88   82   91   87   90   81   81   ... 87   90   84   94  \n",
       "V3 3-Jul 97   93   91   87   93   87   87   87   86   ... 91   89   83   95  \n",
       "V4 4-Jul 90   91   91   88   95   84   89   86   88   ... 90   91   85   92  \n",
       "V5 5-Jul 89   84   91   90   96   86   93   80   90   ... 88   80   88   90  \n",
       "V6 6-Jul 93   84   89   91   96   87   93   84   90   ... 82   87   89   90  \n",
       "   2012 2013 2014 2015 1  2 \n",
       "V1 105  82   90   85   91 91\n",
       "V2  93  85   93   87   91 90\n",
       "V3  99  76   87   79   85 85\n",
       "V4  98  77   84   85   87 86\n",
       "V5 100  83   86   84   86 86\n",
       "V6  98  83   87   84   85 84"
      ]
     },
     "metadata": {},
     "output_type": "display_data"
    }
   ],
   "source": [
    "head(temperature_data)"
   ]
  },
  {
   "cell_type": "code",
   "execution_count": 241,
   "metadata": {},
   "outputs": [],
   "source": [
    "names(temperature_data) <- c('DAY','X1996','X1997','X1998','X1999','X2000','X2001','X2002','X2003','X2004',\n",
    " 'X2005','X2006','X2007','X2008','X2009','X2010','X2011','X2012','X2013','X2014',\n",
    " 'X2015','X2016','X2017')"
   ]
  },
  {
   "cell_type": "code",
   "execution_count": 242,
   "metadata": {},
   "outputs": [
    {
     "data": {
      "text/html": [
       "<table>\n",
       "<thead><tr><th></th><th scope=col>DAY</th><th scope=col>X1996</th><th scope=col>X1997</th><th scope=col>X1998</th><th scope=col>X1999</th><th scope=col>X2000</th><th scope=col>X2001</th><th scope=col>X2002</th><th scope=col>X2003</th><th scope=col>X2004</th><th scope=col>...</th><th scope=col>X2008</th><th scope=col>X2009</th><th scope=col>X2010</th><th scope=col>X2011</th><th scope=col>X2012</th><th scope=col>X2013</th><th scope=col>X2014</th><th scope=col>X2015</th><th scope=col>X2016</th><th scope=col>X2017</th></tr></thead>\n",
       "<tbody>\n",
       "\t<tr><th scope=row>V1</th><td>1-Jul</td><td>98   </td><td>86   </td><td>91   </td><td>84   </td><td>89   </td><td>84   </td><td>90   </td><td>73   </td><td>82   </td><td>...  </td><td>85   </td><td>95   </td><td>87   </td><td>92   </td><td>105  </td><td>82   </td><td>90   </td><td>85   </td><td>91   </td><td>91   </td></tr>\n",
       "\t<tr><th scope=row>V2</th><td>2-Jul</td><td>97   </td><td>90   </td><td>88   </td><td>82   </td><td>91   </td><td>87   </td><td>90   </td><td>81   </td><td>81   </td><td>...  </td><td>87   </td><td>90   </td><td>84   </td><td>94   </td><td> 93  </td><td>85   </td><td>93   </td><td>87   </td><td>91   </td><td>90   </td></tr>\n",
       "\t<tr><th scope=row>V3</th><td>3-Jul</td><td>97   </td><td>93   </td><td>91   </td><td>87   </td><td>93   </td><td>87   </td><td>87   </td><td>87   </td><td>86   </td><td>...  </td><td>91   </td><td>89   </td><td>83   </td><td>95   </td><td> 99  </td><td>76   </td><td>87   </td><td>79   </td><td>85   </td><td>85   </td></tr>\n",
       "\t<tr><th scope=row>V4</th><td>4-Jul</td><td>90   </td><td>91   </td><td>91   </td><td>88   </td><td>95   </td><td>84   </td><td>89   </td><td>86   </td><td>88   </td><td>...  </td><td>90   </td><td>91   </td><td>85   </td><td>92   </td><td> 98  </td><td>77   </td><td>84   </td><td>85   </td><td>87   </td><td>86   </td></tr>\n",
       "\t<tr><th scope=row>V5</th><td>5-Jul</td><td>89   </td><td>84   </td><td>91   </td><td>90   </td><td>96   </td><td>86   </td><td>93   </td><td>80   </td><td>90   </td><td>...  </td><td>88   </td><td>80   </td><td>88   </td><td>90   </td><td>100  </td><td>83   </td><td>86   </td><td>84   </td><td>86   </td><td>86   </td></tr>\n",
       "\t<tr><th scope=row>V6</th><td>6-Jul</td><td>93   </td><td>84   </td><td>89   </td><td>91   </td><td>96   </td><td>87   </td><td>93   </td><td>84   </td><td>90   </td><td>...  </td><td>82   </td><td>87   </td><td>89   </td><td>90   </td><td> 98  </td><td>83   </td><td>87   </td><td>84   </td><td>85   </td><td>84   </td></tr>\n",
       "</tbody>\n",
       "</table>\n"
      ],
      "text/latex": [
       "\\begin{tabular}{r|lllllllllllllllllllllll}\n",
       "  & DAY & X1996 & X1997 & X1998 & X1999 & X2000 & X2001 & X2002 & X2003 & X2004 & ... & X2008 & X2009 & X2010 & X2011 & X2012 & X2013 & X2014 & X2015 & X2016 & X2017\\\\\n",
       "\\hline\n",
       "\tV1 & 1-Jul & 98    & 86    & 91    & 84    & 89    & 84    & 90    & 73    & 82    & ...   & 85    & 95    & 87    & 92    & 105   & 82    & 90    & 85    & 91    & 91   \\\\\n",
       "\tV2 & 2-Jul & 97    & 90    & 88    & 82    & 91    & 87    & 90    & 81    & 81    & ...   & 87    & 90    & 84    & 94    &  93   & 85    & 93    & 87    & 91    & 90   \\\\\n",
       "\tV3 & 3-Jul & 97    & 93    & 91    & 87    & 93    & 87    & 87    & 87    & 86    & ...   & 91    & 89    & 83    & 95    &  99   & 76    & 87    & 79    & 85    & 85   \\\\\n",
       "\tV4 & 4-Jul & 90    & 91    & 91    & 88    & 95    & 84    & 89    & 86    & 88    & ...   & 90    & 91    & 85    & 92    &  98   & 77    & 84    & 85    & 87    & 86   \\\\\n",
       "\tV5 & 5-Jul & 89    & 84    & 91    & 90    & 96    & 86    & 93    & 80    & 90    & ...   & 88    & 80    & 88    & 90    & 100   & 83    & 86    & 84    & 86    & 86   \\\\\n",
       "\tV6 & 6-Jul & 93    & 84    & 89    & 91    & 96    & 87    & 93    & 84    & 90    & ...   & 82    & 87    & 89    & 90    &  98   & 83    & 87    & 84    & 85    & 84   \\\\\n",
       "\\end{tabular}\n"
      ],
      "text/markdown": [
       "\n",
       "| <!--/--> | DAY | X1996 | X1997 | X1998 | X1999 | X2000 | X2001 | X2002 | X2003 | X2004 | ... | X2008 | X2009 | X2010 | X2011 | X2012 | X2013 | X2014 | X2015 | X2016 | X2017 |\n",
       "|---|---|---|---|---|---|---|---|---|---|---|---|---|---|---|---|---|---|---|---|---|---|\n",
       "| V1 | 1-Jul | 98    | 86    | 91    | 84    | 89    | 84    | 90    | 73    | 82    | ...   | 85    | 95    | 87    | 92    | 105   | 82    | 90    | 85    | 91    | 91    |\n",
       "| V2 | 2-Jul | 97    | 90    | 88    | 82    | 91    | 87    | 90    | 81    | 81    | ...   | 87    | 90    | 84    | 94    |  93   | 85    | 93    | 87    | 91    | 90    |\n",
       "| V3 | 3-Jul | 97    | 93    | 91    | 87    | 93    | 87    | 87    | 87    | 86    | ...   | 91    | 89    | 83    | 95    |  99   | 76    | 87    | 79    | 85    | 85    |\n",
       "| V4 | 4-Jul | 90    | 91    | 91    | 88    | 95    | 84    | 89    | 86    | 88    | ...   | 90    | 91    | 85    | 92    |  98   | 77    | 84    | 85    | 87    | 86    |\n",
       "| V5 | 5-Jul | 89    | 84    | 91    | 90    | 96    | 86    | 93    | 80    | 90    | ...   | 88    | 80    | 88    | 90    | 100   | 83    | 86    | 84    | 86    | 86    |\n",
       "| V6 | 6-Jul | 93    | 84    | 89    | 91    | 96    | 87    | 93    | 84    | 90    | ...   | 82    | 87    | 89    | 90    |  98   | 83    | 87    | 84    | 85    | 84    |\n",
       "\n"
      ],
      "text/plain": [
       "   DAY   X1996 X1997 X1998 X1999 X2000 X2001 X2002 X2003 X2004 ... X2008 X2009\n",
       "V1 1-Jul 98    86    91    84    89    84    90    73    82    ... 85    95   \n",
       "V2 2-Jul 97    90    88    82    91    87    90    81    81    ... 87    90   \n",
       "V3 3-Jul 97    93    91    87    93    87    87    87    86    ... 91    89   \n",
       "V4 4-Jul 90    91    91    88    95    84    89    86    88    ... 90    91   \n",
       "V5 5-Jul 89    84    91    90    96    86    93    80    90    ... 88    80   \n",
       "V6 6-Jul 93    84    89    91    96    87    93    84    90    ... 82    87   \n",
       "   X2010 X2011 X2012 X2013 X2014 X2015 X2016 X2017\n",
       "V1 87    92    105   82    90    85    91    91   \n",
       "V2 84    94     93   85    93    87    91    90   \n",
       "V3 83    95     99   76    87    79    85    85   \n",
       "V4 85    92     98   77    84    85    87    86   \n",
       "V5 88    90    100   83    86    84    86    86   \n",
       "V6 89    90     98   83    87    84    85    84   "
      ]
     },
     "metadata": {},
     "output_type": "display_data"
    }
   ],
   "source": [
    "head(temperature_data)"
   ]
  },
  {
   "cell_type": "markdown",
   "metadata": {},
   "source": [
    "# In this problem, I have used Holt Winters approach to exponentially smoothe data, and use the smoothed data to predict unofficial end of summer using CUSUM approach. In addition, I have also used the smoothed data to predict temperatures of each day (July1 to Oct 31) for the next two years.\n"
   ]
  },
  {
   "cell_type": "markdown",
   "metadata": {},
   "source": [
    "### CUSUM APPROCH"
   ]
  }
 ],
 "metadata": {
  "kernelspec": {
   "display_name": "R",
   "language": "R",
   "name": "ir"
  },
  "language_info": {
   "codemirror_mode": "r",
   "file_extension": ".r",
   "mimetype": "text/x-r-source",
   "name": "R",
   "pygments_lexer": "r",
   "version": "3.6.1"
  }
 },
 "nbformat": 4,
 "nbformat_minor": 4
}
