{
 "cells": [
  {
   "cell_type": "markdown",
   "metadata": {},
   "source": [
    "# Homework 2(Part 2) "
   ]
  },
  {
   "cell_type": "markdown",
   "metadata": {},
   "source": [
    "# Question 1: (A and B)\n",
    "\n",
    "PlantGrowth is a dataset in R that contains crop weights of a control group and two treatment groups."
   ]
  },
  {
   "cell_type": "code",
   "execution_count": 25,
   "metadata": {},
   "outputs": [],
   "source": [
    "#Code to Get Data\n",
    "\n",
    "library(datasets)\n",
    "\n",
    "data(PlantGrowth)\n",
    "\n",
    "library(tidyverse)"
   ]
  },
  {
   "cell_type": "code",
   "execution_count": 26,
   "metadata": {},
   "outputs": [],
   "source": [
    "PlantGrowth_df <- PlantGrowth"
   ]
  },
  {
   "cell_type": "code",
   "execution_count": 27,
   "metadata": {},
   "outputs": [
    {
     "data": {
      "text/html": [
       "<table>\n",
       "<thead><tr><th scope=col>weight</th><th scope=col>group</th></tr></thead>\n",
       "<tbody>\n",
       "\t<tr><td>4.17</td><td>ctrl</td></tr>\n",
       "\t<tr><td>5.58</td><td>ctrl</td></tr>\n",
       "\t<tr><td>5.18</td><td>ctrl</td></tr>\n",
       "\t<tr><td>6.11</td><td>ctrl</td></tr>\n",
       "\t<tr><td>4.50</td><td>ctrl</td></tr>\n",
       "\t<tr><td>4.61</td><td>ctrl</td></tr>\n",
       "\t<tr><td>5.17</td><td>ctrl</td></tr>\n",
       "\t<tr><td>4.53</td><td>ctrl</td></tr>\n",
       "\t<tr><td>5.33</td><td>ctrl</td></tr>\n",
       "\t<tr><td>5.14</td><td>ctrl</td></tr>\n",
       "\t<tr><td>4.81</td><td>trt1</td></tr>\n",
       "\t<tr><td>4.17</td><td>trt1</td></tr>\n",
       "\t<tr><td>4.41</td><td>trt1</td></tr>\n",
       "\t<tr><td>3.59</td><td>trt1</td></tr>\n",
       "\t<tr><td>5.87</td><td>trt1</td></tr>\n",
       "\t<tr><td>3.83</td><td>trt1</td></tr>\n",
       "\t<tr><td>6.03</td><td>trt1</td></tr>\n",
       "\t<tr><td>4.89</td><td>trt1</td></tr>\n",
       "\t<tr><td>4.32</td><td>trt1</td></tr>\n",
       "\t<tr><td>4.69</td><td>trt1</td></tr>\n",
       "\t<tr><td>6.31</td><td>trt2</td></tr>\n",
       "\t<tr><td>5.12</td><td>trt2</td></tr>\n",
       "\t<tr><td>5.54</td><td>trt2</td></tr>\n",
       "\t<tr><td>5.50</td><td>trt2</td></tr>\n",
       "\t<tr><td>5.37</td><td>trt2</td></tr>\n",
       "\t<tr><td>5.29</td><td>trt2</td></tr>\n",
       "\t<tr><td>4.92</td><td>trt2</td></tr>\n",
       "\t<tr><td>6.15</td><td>trt2</td></tr>\n",
       "\t<tr><td>5.80</td><td>trt2</td></tr>\n",
       "\t<tr><td>5.26</td><td>trt2</td></tr>\n",
       "</tbody>\n",
       "</table>\n"
      ],
      "text/latex": [
       "\\begin{tabular}{r|ll}\n",
       " weight & group\\\\\n",
       "\\hline\n",
       "\t 4.17 & ctrl\\\\\n",
       "\t 5.58 & ctrl\\\\\n",
       "\t 5.18 & ctrl\\\\\n",
       "\t 6.11 & ctrl\\\\\n",
       "\t 4.50 & ctrl\\\\\n",
       "\t 4.61 & ctrl\\\\\n",
       "\t 5.17 & ctrl\\\\\n",
       "\t 4.53 & ctrl\\\\\n",
       "\t 5.33 & ctrl\\\\\n",
       "\t 5.14 & ctrl\\\\\n",
       "\t 4.81 & trt1\\\\\n",
       "\t 4.17 & trt1\\\\\n",
       "\t 4.41 & trt1\\\\\n",
       "\t 3.59 & trt1\\\\\n",
       "\t 5.87 & trt1\\\\\n",
       "\t 3.83 & trt1\\\\\n",
       "\t 6.03 & trt1\\\\\n",
       "\t 4.89 & trt1\\\\\n",
       "\t 4.32 & trt1\\\\\n",
       "\t 4.69 & trt1\\\\\n",
       "\t 6.31 & trt2\\\\\n",
       "\t 5.12 & trt2\\\\\n",
       "\t 5.54 & trt2\\\\\n",
       "\t 5.50 & trt2\\\\\n",
       "\t 5.37 & trt2\\\\\n",
       "\t 5.29 & trt2\\\\\n",
       "\t 4.92 & trt2\\\\\n",
       "\t 6.15 & trt2\\\\\n",
       "\t 5.80 & trt2\\\\\n",
       "\t 5.26 & trt2\\\\\n",
       "\\end{tabular}\n"
      ],
      "text/markdown": [
       "\n",
       "| weight | group |\n",
       "|---|---|\n",
       "| 4.17 | ctrl |\n",
       "| 5.58 | ctrl |\n",
       "| 5.18 | ctrl |\n",
       "| 6.11 | ctrl |\n",
       "| 4.50 | ctrl |\n",
       "| 4.61 | ctrl |\n",
       "| 5.17 | ctrl |\n",
       "| 4.53 | ctrl |\n",
       "| 5.33 | ctrl |\n",
       "| 5.14 | ctrl |\n",
       "| 4.81 | trt1 |\n",
       "| 4.17 | trt1 |\n",
       "| 4.41 | trt1 |\n",
       "| 3.59 | trt1 |\n",
       "| 5.87 | trt1 |\n",
       "| 3.83 | trt1 |\n",
       "| 6.03 | trt1 |\n",
       "| 4.89 | trt1 |\n",
       "| 4.32 | trt1 |\n",
       "| 4.69 | trt1 |\n",
       "| 6.31 | trt2 |\n",
       "| 5.12 | trt2 |\n",
       "| 5.54 | trt2 |\n",
       "| 5.50 | trt2 |\n",
       "| 5.37 | trt2 |\n",
       "| 5.29 | trt2 |\n",
       "| 4.92 | trt2 |\n",
       "| 6.15 | trt2 |\n",
       "| 5.80 | trt2 |\n",
       "| 5.26 | trt2 |\n",
       "\n"
      ],
      "text/plain": [
       "   weight group\n",
       "1  4.17   ctrl \n",
       "2  5.58   ctrl \n",
       "3  5.18   ctrl \n",
       "4  6.11   ctrl \n",
       "5  4.50   ctrl \n",
       "6  4.61   ctrl \n",
       "7  5.17   ctrl \n",
       "8  4.53   ctrl \n",
       "9  5.33   ctrl \n",
       "10 5.14   ctrl \n",
       "11 4.81   trt1 \n",
       "12 4.17   trt1 \n",
       "13 4.41   trt1 \n",
       "14 3.59   trt1 \n",
       "15 5.87   trt1 \n",
       "16 3.83   trt1 \n",
       "17 6.03   trt1 \n",
       "18 4.89   trt1 \n",
       "19 4.32   trt1 \n",
       "20 4.69   trt1 \n",
       "21 6.31   trt2 \n",
       "22 5.12   trt2 \n",
       "23 5.54   trt2 \n",
       "24 5.50   trt2 \n",
       "25 5.37   trt2 \n",
       "26 5.29   trt2 \n",
       "27 4.92   trt2 \n",
       "28 6.15   trt2 \n",
       "29 5.80   trt2 \n",
       "30 5.26   trt2 "
      ]
     },
     "metadata": {},
     "output_type": "display_data"
    }
   ],
   "source": [
    "PlantGrowth_df"
   ]
  },
  {
   "cell_type": "markdown",
   "metadata": {},
   "source": [
    "**(i) Create two separate datasets, one with datapoints of treatment 1 group along with control group and other with datapoints of treatment 2 group with the control group.**"
   ]
  },
  {
   "cell_type": "code",
   "execution_count": 28,
   "metadata": {},
   "outputs": [],
   "source": [
    "PlantGrowth_df1 <- PlantGrowth_df[PlantGrowth_df$group %in% c(\"trt1\", \"ctrl\"), ]"
   ]
  },
  {
   "cell_type": "code",
   "execution_count": 44,
   "metadata": {},
   "outputs": [
    {
     "data": {
      "text/html": [
       "<table>\n",
       "<thead><tr><th scope=col>weight</th><th scope=col>group</th></tr></thead>\n",
       "<tbody>\n",
       "\t<tr><td>4.17</td><td>ctrl</td></tr>\n",
       "\t<tr><td>5.58</td><td>ctrl</td></tr>\n",
       "\t<tr><td>5.18</td><td>ctrl</td></tr>\n",
       "\t<tr><td>6.11</td><td>ctrl</td></tr>\n",
       "\t<tr><td>4.50</td><td>ctrl</td></tr>\n",
       "\t<tr><td>4.61</td><td>ctrl</td></tr>\n",
       "\t<tr><td>5.17</td><td>ctrl</td></tr>\n",
       "\t<tr><td>4.53</td><td>ctrl</td></tr>\n",
       "\t<tr><td>5.33</td><td>ctrl</td></tr>\n",
       "\t<tr><td>5.14</td><td>ctrl</td></tr>\n",
       "\t<tr><td>4.81</td><td>trt1</td></tr>\n",
       "\t<tr><td>4.17</td><td>trt1</td></tr>\n",
       "\t<tr><td>4.41</td><td>trt1</td></tr>\n",
       "\t<tr><td>3.59</td><td>trt1</td></tr>\n",
       "\t<tr><td>5.87</td><td>trt1</td></tr>\n",
       "\t<tr><td>3.83</td><td>trt1</td></tr>\n",
       "\t<tr><td>6.03</td><td>trt1</td></tr>\n",
       "\t<tr><td>4.89</td><td>trt1</td></tr>\n",
       "\t<tr><td>4.32</td><td>trt1</td></tr>\n",
       "\t<tr><td>4.69</td><td>trt1</td></tr>\n",
       "</tbody>\n",
       "</table>\n"
      ],
      "text/latex": [
       "\\begin{tabular}{r|ll}\n",
       " weight & group\\\\\n",
       "\\hline\n",
       "\t 4.17 & ctrl\\\\\n",
       "\t 5.58 & ctrl\\\\\n",
       "\t 5.18 & ctrl\\\\\n",
       "\t 6.11 & ctrl\\\\\n",
       "\t 4.50 & ctrl\\\\\n",
       "\t 4.61 & ctrl\\\\\n",
       "\t 5.17 & ctrl\\\\\n",
       "\t 4.53 & ctrl\\\\\n",
       "\t 5.33 & ctrl\\\\\n",
       "\t 5.14 & ctrl\\\\\n",
       "\t 4.81 & trt1\\\\\n",
       "\t 4.17 & trt1\\\\\n",
       "\t 4.41 & trt1\\\\\n",
       "\t 3.59 & trt1\\\\\n",
       "\t 5.87 & trt1\\\\\n",
       "\t 3.83 & trt1\\\\\n",
       "\t 6.03 & trt1\\\\\n",
       "\t 4.89 & trt1\\\\\n",
       "\t 4.32 & trt1\\\\\n",
       "\t 4.69 & trt1\\\\\n",
       "\\end{tabular}\n"
      ],
      "text/markdown": [
       "\n",
       "| weight | group |\n",
       "|---|---|\n",
       "| 4.17 | ctrl |\n",
       "| 5.58 | ctrl |\n",
       "| 5.18 | ctrl |\n",
       "| 6.11 | ctrl |\n",
       "| 4.50 | ctrl |\n",
       "| 4.61 | ctrl |\n",
       "| 5.17 | ctrl |\n",
       "| 4.53 | ctrl |\n",
       "| 5.33 | ctrl |\n",
       "| 5.14 | ctrl |\n",
       "| 4.81 | trt1 |\n",
       "| 4.17 | trt1 |\n",
       "| 4.41 | trt1 |\n",
       "| 3.59 | trt1 |\n",
       "| 5.87 | trt1 |\n",
       "| 3.83 | trt1 |\n",
       "| 6.03 | trt1 |\n",
       "| 4.89 | trt1 |\n",
       "| 4.32 | trt1 |\n",
       "| 4.69 | trt1 |\n",
       "\n"
      ],
      "text/plain": [
       "   weight group\n",
       "1  4.17   ctrl \n",
       "2  5.58   ctrl \n",
       "3  5.18   ctrl \n",
       "4  6.11   ctrl \n",
       "5  4.50   ctrl \n",
       "6  4.61   ctrl \n",
       "7  5.17   ctrl \n",
       "8  4.53   ctrl \n",
       "9  5.33   ctrl \n",
       "10 5.14   ctrl \n",
       "11 4.81   trt1 \n",
       "12 4.17   trt1 \n",
       "13 4.41   trt1 \n",
       "14 3.59   trt1 \n",
       "15 5.87   trt1 \n",
       "16 3.83   trt1 \n",
       "17 6.03   trt1 \n",
       "18 4.89   trt1 \n",
       "19 4.32   trt1 \n",
       "20 4.69   trt1 "
      ]
     },
     "metadata": {},
     "output_type": "display_data"
    }
   ],
   "source": [
    "PlantGrowth_df1"
   ]
  },
  {
   "cell_type": "code",
   "execution_count": 29,
   "metadata": {},
   "outputs": [],
   "source": [
    "PlantGrowth_df2 <- PlantGrowth_df[PlantGrowth_df$group %in% c(\"trt2\", \"ctrl\"), ]"
   ]
  },
  {
   "cell_type": "code",
   "execution_count": 43,
   "metadata": {},
   "outputs": [
    {
     "data": {
      "text/html": [
       "<table>\n",
       "<thead><tr><th></th><th scope=col>weight</th><th scope=col>group</th></tr></thead>\n",
       "<tbody>\n",
       "\t<tr><th scope=row>1</th><td>4.17</td><td>ctrl</td></tr>\n",
       "\t<tr><th scope=row>2</th><td>5.58</td><td>ctrl</td></tr>\n",
       "\t<tr><th scope=row>3</th><td>5.18</td><td>ctrl</td></tr>\n",
       "\t<tr><th scope=row>4</th><td>6.11</td><td>ctrl</td></tr>\n",
       "\t<tr><th scope=row>5</th><td>4.50</td><td>ctrl</td></tr>\n",
       "\t<tr><th scope=row>6</th><td>4.61</td><td>ctrl</td></tr>\n",
       "\t<tr><th scope=row>7</th><td>5.17</td><td>ctrl</td></tr>\n",
       "\t<tr><th scope=row>8</th><td>4.53</td><td>ctrl</td></tr>\n",
       "\t<tr><th scope=row>9</th><td>5.33</td><td>ctrl</td></tr>\n",
       "\t<tr><th scope=row>10</th><td>5.14</td><td>ctrl</td></tr>\n",
       "\t<tr><th scope=row>21</th><td>6.31</td><td>trt2</td></tr>\n",
       "\t<tr><th scope=row>22</th><td>5.12</td><td>trt2</td></tr>\n",
       "\t<tr><th scope=row>23</th><td>5.54</td><td>trt2</td></tr>\n",
       "\t<tr><th scope=row>24</th><td>5.50</td><td>trt2</td></tr>\n",
       "\t<tr><th scope=row>25</th><td>5.37</td><td>trt2</td></tr>\n",
       "\t<tr><th scope=row>26</th><td>5.29</td><td>trt2</td></tr>\n",
       "\t<tr><th scope=row>27</th><td>4.92</td><td>trt2</td></tr>\n",
       "\t<tr><th scope=row>28</th><td>6.15</td><td>trt2</td></tr>\n",
       "\t<tr><th scope=row>29</th><td>5.80</td><td>trt2</td></tr>\n",
       "\t<tr><th scope=row>30</th><td>5.26</td><td>trt2</td></tr>\n",
       "</tbody>\n",
       "</table>\n"
      ],
      "text/latex": [
       "\\begin{tabular}{r|ll}\n",
       "  & weight & group\\\\\n",
       "\\hline\n",
       "\t1 & 4.17 & ctrl\\\\\n",
       "\t2 & 5.58 & ctrl\\\\\n",
       "\t3 & 5.18 & ctrl\\\\\n",
       "\t4 & 6.11 & ctrl\\\\\n",
       "\t5 & 4.50 & ctrl\\\\\n",
       "\t6 & 4.61 & ctrl\\\\\n",
       "\t7 & 5.17 & ctrl\\\\\n",
       "\t8 & 4.53 & ctrl\\\\\n",
       "\t9 & 5.33 & ctrl\\\\\n",
       "\t10 & 5.14 & ctrl\\\\\n",
       "\t21 & 6.31 & trt2\\\\\n",
       "\t22 & 5.12 & trt2\\\\\n",
       "\t23 & 5.54 & trt2\\\\\n",
       "\t24 & 5.50 & trt2\\\\\n",
       "\t25 & 5.37 & trt2\\\\\n",
       "\t26 & 5.29 & trt2\\\\\n",
       "\t27 & 4.92 & trt2\\\\\n",
       "\t28 & 6.15 & trt2\\\\\n",
       "\t29 & 5.80 & trt2\\\\\n",
       "\t30 & 5.26 & trt2\\\\\n",
       "\\end{tabular}\n"
      ],
      "text/markdown": [
       "\n",
       "| <!--/--> | weight | group |\n",
       "|---|---|---|\n",
       "| 1 | 4.17 | ctrl |\n",
       "| 2 | 5.58 | ctrl |\n",
       "| 3 | 5.18 | ctrl |\n",
       "| 4 | 6.11 | ctrl |\n",
       "| 5 | 4.50 | ctrl |\n",
       "| 6 | 4.61 | ctrl |\n",
       "| 7 | 5.17 | ctrl |\n",
       "| 8 | 4.53 | ctrl |\n",
       "| 9 | 5.33 | ctrl |\n",
       "| 10 | 5.14 | ctrl |\n",
       "| 21 | 6.31 | trt2 |\n",
       "| 22 | 5.12 | trt2 |\n",
       "| 23 | 5.54 | trt2 |\n",
       "| 24 | 5.50 | trt2 |\n",
       "| 25 | 5.37 | trt2 |\n",
       "| 26 | 5.29 | trt2 |\n",
       "| 27 | 4.92 | trt2 |\n",
       "| 28 | 6.15 | trt2 |\n",
       "| 29 | 5.80 | trt2 |\n",
       "| 30 | 5.26 | trt2 |\n",
       "\n"
      ],
      "text/plain": [
       "   weight group\n",
       "1  4.17   ctrl \n",
       "2  5.58   ctrl \n",
       "3  5.18   ctrl \n",
       "4  6.11   ctrl \n",
       "5  4.50   ctrl \n",
       "6  4.61   ctrl \n",
       "7  5.17   ctrl \n",
       "8  4.53   ctrl \n",
       "9  5.33   ctrl \n",
       "10 5.14   ctrl \n",
       "21 6.31   trt2 \n",
       "22 5.12   trt2 \n",
       "23 5.54   trt2 \n",
       "24 5.50   trt2 \n",
       "25 5.37   trt2 \n",
       "26 5.29   trt2 \n",
       "27 4.92   trt2 \n",
       "28 6.15   trt2 \n",
       "29 5.80   trt2 \n",
       "30 5.26   trt2 "
      ]
     },
     "metadata": {},
     "output_type": "display_data"
    }
   ],
   "source": [
    "PlantGrowth_df2"
   ]
  },
  {
   "cell_type": "markdown",
   "metadata": {},
   "source": [
    "**A)**\n",
    "\n",
    "**Now compute the difference estimator for treatment 1 and treatment 2 datasets that were created, in comparison with the control group?**"
   ]
  },
  {
   "cell_type": "code",
   "execution_count": 30,
   "metadata": {},
   "outputs": [
    {
     "data": {
      "text/plain": [
       "\n",
       "Call:\n",
       "lm(formula = weight ~ group, data = PlantGrowth_df1)\n",
       "\n",
       "Residuals:\n",
       "    Min      1Q  Median      3Q     Max \n",
       "-1.0710 -0.4938  0.0685  0.2462  1.3690 \n",
       "\n",
       "Coefficients:\n",
       "            Estimate Std. Error t value Pr(>|t|)    \n",
       "(Intercept)   5.0320     0.2202  22.850 9.55e-15 ***\n",
       "grouptrt1    -0.3710     0.3114  -1.191    0.249    \n",
       "---\n",
       "Signif. codes:  0 '***' 0.001 '**' 0.01 '*' 0.05 '.' 0.1 ' ' 1\n",
       "\n",
       "Residual standard error: 0.6964 on 18 degrees of freedom\n",
       "Multiple R-squared:  0.07308,\tAdjusted R-squared:  0.02158 \n",
       "F-statistic: 1.419 on 1 and 18 DF,  p-value: 0.249\n"
      ]
     },
     "metadata": {},
     "output_type": "display_data"
    }
   ],
   "source": [
    "reg_all <- lm(weight ~  group, data = PlantGrowth_df1)\n",
    "summary(reg_all)"
   ]
  },
  {
   "cell_type": "markdown",
   "metadata": {},
   "source": [
    "**For control group average weight in intercept value as we can see above ~5**\n",
    "\n",
    "**For treatment 1 group avg weight is ~(5-0.3) = 4.7**\n",
    "\n",
    "### The value of \"difference estimator\" b1 is -0.37. So this is the weight on average that is added to a crop's weights if the group was selected as a treatment 1 to a control, if everything else was constant."
   ]
  },
  {
   "cell_type": "code",
   "execution_count": 31,
   "metadata": {},
   "outputs": [
    {
     "data": {
      "text/plain": [
       "\n",
       "Call:\n",
       "lm(formula = weight ~ group, data = PlantGrowth_df2)\n",
       "\n",
       "Residuals:\n",
       "   Min     1Q Median     3Q    Max \n",
       "-0.862 -0.410 -0.006  0.280  1.078 \n",
       "\n",
       "Coefficients:\n",
       "            Estimate Std. Error t value Pr(>|t|)    \n",
       "(Intercept)   5.0320     0.1637  30.742   <2e-16 ***\n",
       "grouptrt2     0.4940     0.2315   2.134   0.0469 *  \n",
       "---\n",
       "Signif. codes:  0 '***' 0.001 '**' 0.01 '*' 0.05 '.' 0.1 ' ' 1\n",
       "\n",
       "Residual standard error: 0.5176 on 18 degrees of freedom\n",
       "Multiple R-squared:  0.2019,\tAdjusted R-squared:  0.1576 \n",
       "F-statistic: 4.554 on 1 and 18 DF,  p-value: 0.04685\n"
      ]
     },
     "metadata": {},
     "output_type": "display_data"
    }
   ],
   "source": [
    "reg_all <- lm(weight ~  group, data = PlantGrowth_df2)\n",
    "summary(reg_all)"
   ]
  },
  {
   "cell_type": "markdown",
   "metadata": {},
   "source": [
    "**For control group average weight in intercept value as we can see above ~5**\n",
    "\n",
    "**For treatment 2 group avg weight is ~(5+0.49) = 5.49**\n",
    "\n",
    "### The value of \"difference estimator\" b1 is +0.49. So this is the weight on average that is added to a crop's weights if the group was selected as a treatment 2 to a control, if everything else was constant."
   ]
  },
  {
   "cell_type": "code",
   "execution_count": null,
   "metadata": {},
   "outputs": [],
   "source": []
  },
  {
   "cell_type": "markdown",
   "metadata": {},
   "source": [
    "**B)**\n",
    "\n",
    "**From the PlantGrowth dataset what is the average crop weight of the control group, treatment 1 group, and treatment 2 group, comment on which group has the highest average?**"
   ]
  },
  {
   "cell_type": "code",
   "execution_count": 37,
   "metadata": {},
   "outputs": [],
   "source": [
    "PlantGrowth_df_Control <- PlantGrowth_df[PlantGrowth_df$group %in% c(\"ctrl\"), ]"
   ]
  },
  {
   "cell_type": "code",
   "execution_count": 38,
   "metadata": {},
   "outputs": [],
   "source": [
    "PlantGrowth_df_trt1 <- PlantGrowth_df[PlantGrowth_df$group %in% c(\"trt1\"), ]"
   ]
  },
  {
   "cell_type": "code",
   "execution_count": 39,
   "metadata": {},
   "outputs": [],
   "source": [
    "PlantGrowth_df_trt2 <- PlantGrowth_df[PlantGrowth_df$group %in% c(\"trt2\"), ]"
   ]
  },
  {
   "cell_type": "code",
   "execution_count": 47,
   "metadata": {},
   "outputs": [
    {
     "name": "stdout",
     "output_type": "stream",
     "text": [
      "[1] \"Average crop weight of the control group is:  5.032\"\n",
      "[1] \"Average crop weight of the treatment 1 group is:  4.661\"\n",
      "[1] \"Average crop weight of the treatment 2 group is:  5.526\"\n"
     ]
    }
   ],
   "source": [
    "print(paste(\"Average crop weight of the control group is: \", mean(PlantGrowth_df_Control$weight)))\n",
    "print(paste(\"Average crop weight of the treatment 1 group is: \", mean(PlantGrowth_df_trt1$weight)))\n",
    "print(paste(\"Average crop weight of the treatment 2 group is: \", mean(PlantGrowth_df_trt2$weight)))"
   ]
  },
  {
   "cell_type": "markdown",
   "metadata": {},
   "source": [
    "***Treatment 2 Group has the highest average crop weight.***"
   ]
  },
  {
   "cell_type": "code",
   "execution_count": null,
   "metadata": {},
   "outputs": [],
   "source": []
  },
  {
   "cell_type": "markdown",
   "metadata": {},
   "source": [
    "# Question 1: (C, D and E)"
   ]
  },
  {
   "cell_type": "markdown",
   "metadata": {},
   "source": [
    "The Minimum Wage Law protects the right of workers to get a minimum wage. Consider a scenario where the law of minimum wage was changed just in the state of New Jersey (i.e., law has not been changed in other states). We want to use the data from company XYZ to observe the difference in hours worked by full time employees in New Jersey before and after the law was changed.\n",
    "\n",
    "Note: The variable 'State' indicates the citizenship of the worker, i.e., State = \"New Jersey\" indicates the worker is from NJ else the worker is not from NJ (is from Philadelphia).\n",
    "\n",
    "Note: The variable fte contains the number of hours worked by an employee.\n",
    "\n",
    "Note: The variable d indicates whether or not the data was collected before or after the law changed, i.e. d = 1 indicates the data was collected after the law was changed, and d = 0 indicates the data was collected before the law was changed."
   ]
  },
  {
   "cell_type": "code",
   "execution_count": 50,
   "metadata": {},
   "outputs": [],
   "source": [
    "library(\"readxl\")"
   ]
  },
  {
   "cell_type": "code",
   "execution_count": 52,
   "metadata": {},
   "outputs": [
    {
     "name": "stderr",
     "output_type": "stream",
     "text": [
      "Parsed with column specification:\n",
      "cols(\n",
      "  d = col_double(),\n",
      "  d_nj = col_double(),\n",
      "  fte = col_double(),\n",
      "  bk = col_double(),\n",
      "  kfc = col_double(),\n",
      "  roys = col_double(),\n",
      "  wendys = col_double(),\n",
      "  co_owned = col_double(),\n",
      "  centralj = col_double(),\n",
      "  southj = col_double(),\n",
      "  pa1 = col_double(),\n",
      "  pa2 = col_double(),\n",
      "  demp = col_double(),\n",
      "  State = col_character()\n",
      ")\n"
     ]
    }
   ],
   "source": [
    "Min_wage <- read_csv(\"Min_Wage.xls\")"
   ]
  },
  {
   "cell_type": "code",
   "execution_count": 54,
   "metadata": {},
   "outputs": [
    {
     "data": {
      "text/html": [
       "<table>\n",
       "<thead><tr><th scope=col>d</th><th scope=col>d_nj</th><th scope=col>fte</th><th scope=col>bk</th><th scope=col>kfc</th><th scope=col>roys</th><th scope=col>wendys</th><th scope=col>co_owned</th><th scope=col>centralj</th><th scope=col>southj</th><th scope=col>pa1</th><th scope=col>pa2</th><th scope=col>demp</th><th scope=col>State</th></tr></thead>\n",
       "<tbody>\n",
       "\t<tr><td>0         </td><td>0         </td><td>15.00     </td><td>1         </td><td>0         </td><td>0         </td><td>0         </td><td>0         </td><td>1         </td><td>0         </td><td>0         </td><td>0         </td><td>12.00     </td><td>New Jersey</td></tr>\n",
       "\t<tr><td>0         </td><td>0         </td><td>15.00     </td><td>1         </td><td>0         </td><td>0         </td><td>0         </td><td>0         </td><td>1         </td><td>0         </td><td>0         </td><td>0         </td><td> 6.50     </td><td>New Jersey</td></tr>\n",
       "\t<tr><td>0         </td><td>0         </td><td>24.00     </td><td>0         </td><td>0         </td><td>1         </td><td>0         </td><td>0         </td><td>1         </td><td>0         </td><td>0         </td><td>0         </td><td>-1.00     </td><td>New Jersey</td></tr>\n",
       "\t<tr><td>0         </td><td>0         </td><td>19.25     </td><td>0         </td><td>0         </td><td>1         </td><td>0         </td><td>1         </td><td>0         </td><td>0         </td><td>0         </td><td>0         </td><td> 2.25     </td><td>New Jersey</td></tr>\n",
       "\t<tr><td>0         </td><td>0         </td><td>21.50     </td><td>1         </td><td>0         </td><td>0         </td><td>0         </td><td>0         </td><td>0         </td><td>0         </td><td>0         </td><td>0         </td><td>13.00     </td><td>New Jersey</td></tr>\n",
       "\t<tr><td>0         </td><td>0         </td><td> 9.50     </td><td>0         </td><td>1         </td><td>0         </td><td>0         </td><td>0         </td><td>0         </td><td>0         </td><td>0         </td><td>0         </td><td> 1.00     </td><td>New Jersey</td></tr>\n",
       "</tbody>\n",
       "</table>\n"
      ],
      "text/latex": [
       "\\begin{tabular}{r|llllllllllllll}\n",
       " d & d\\_nj & fte & bk & kfc & roys & wendys & co\\_owned & centralj & southj & pa1 & pa2 & demp & State\\\\\n",
       "\\hline\n",
       "\t 0          & 0          & 15.00      & 1          & 0          & 0          & 0          & 0          & 1          & 0          & 0          & 0          & 12.00      & New Jersey\\\\\n",
       "\t 0          & 0          & 15.00      & 1          & 0          & 0          & 0          & 0          & 1          & 0          & 0          & 0          &  6.50      & New Jersey\\\\\n",
       "\t 0          & 0          & 24.00      & 0          & 0          & 1          & 0          & 0          & 1          & 0          & 0          & 0          & -1.00      & New Jersey\\\\\n",
       "\t 0          & 0          & 19.25      & 0          & 0          & 1          & 0          & 1          & 0          & 0          & 0          & 0          &  2.25      & New Jersey\\\\\n",
       "\t 0          & 0          & 21.50      & 1          & 0          & 0          & 0          & 0          & 0          & 0          & 0          & 0          & 13.00      & New Jersey\\\\\n",
       "\t 0          & 0          &  9.50      & 0          & 1          & 0          & 0          & 0          & 0          & 0          & 0          & 0          &  1.00      & New Jersey\\\\\n",
       "\\end{tabular}\n"
      ],
      "text/markdown": [
       "\n",
       "| d | d_nj | fte | bk | kfc | roys | wendys | co_owned | centralj | southj | pa1 | pa2 | demp | State |\n",
       "|---|---|---|---|---|---|---|---|---|---|---|---|---|---|\n",
       "| 0          | 0          | 15.00      | 1          | 0          | 0          | 0          | 0          | 1          | 0          | 0          | 0          | 12.00      | New Jersey |\n",
       "| 0          | 0          | 15.00      | 1          | 0          | 0          | 0          | 0          | 1          | 0          | 0          | 0          |  6.50      | New Jersey |\n",
       "| 0          | 0          | 24.00      | 0          | 0          | 1          | 0          | 0          | 1          | 0          | 0          | 0          | -1.00      | New Jersey |\n",
       "| 0          | 0          | 19.25      | 0          | 0          | 1          | 0          | 1          | 0          | 0          | 0          | 0          |  2.25      | New Jersey |\n",
       "| 0          | 0          | 21.50      | 1          | 0          | 0          | 0          | 0          | 0          | 0          | 0          | 0          | 13.00      | New Jersey |\n",
       "| 0          | 0          |  9.50      | 0          | 1          | 0          | 0          | 0          | 0          | 0          | 0          | 0          |  1.00      | New Jersey |\n",
       "\n"
      ],
      "text/plain": [
       "  d d_nj fte   bk kfc roys wendys co_owned centralj southj pa1 pa2 demp \n",
       "1 0 0    15.00 1  0   0    0      0        1        0      0   0   12.00\n",
       "2 0 0    15.00 1  0   0    0      0        1        0      0   0    6.50\n",
       "3 0 0    24.00 0  0   1    0      0        1        0      0   0   -1.00\n",
       "4 0 0    19.25 0  0   1    0      1        0        0      0   0    2.25\n",
       "5 0 0    21.50 1  0   0    0      0        0        0      0   0   13.00\n",
       "6 0 0     9.50 0  1   0    0      0        0        0      0   0    1.00\n",
       "  State     \n",
       "1 New Jersey\n",
       "2 New Jersey\n",
       "3 New Jersey\n",
       "4 New Jersey\n",
       "5 New Jersey\n",
       "6 New Jersey"
      ]
     },
     "metadata": {},
     "output_type": "display_data"
    },
    {
     "data": {
      "text/html": [
       "<ol class=list-inline>\n",
       "\t<li>768</li>\n",
       "\t<li>14</li>\n",
       "</ol>\n"
      ],
      "text/latex": [
       "\\begin{enumerate*}\n",
       "\\item 768\n",
       "\\item 14\n",
       "\\end{enumerate*}\n"
      ],
      "text/markdown": [
       "1. 768\n",
       "2. 14\n",
       "\n",
       "\n"
      ],
      "text/plain": [
       "[1] 768  14"
      ]
     },
     "metadata": {},
     "output_type": "display_data"
    }
   ],
   "source": [
    "head(Min_wage)\n",
    "dim(Min_wage)"
   ]
  },
  {
   "cell_type": "code",
   "execution_count": 55,
   "metadata": {},
   "outputs": [
    {
     "data": {
      "text/plain": [
       "\n",
       "  0   1 \n",
       "384 384 "
      ]
     },
     "metadata": {},
     "output_type": "display_data"
    }
   ],
   "source": [
    "table(Min_wage$d) # To understand the split of data pre and post the law change"
   ]
  },
  {
   "cell_type": "code",
   "execution_count": 56,
   "metadata": {},
   "outputs": [
    {
     "data": {
      "text/plain": [
       "\n",
       "  New Jersey Philadelphia \n",
       "         618          150 "
      ]
     },
     "metadata": {},
     "output_type": "display_data"
    }
   ],
   "source": [
    "table(Min_wage$State) # To understand the split of data of the employees"
   ]
  },
  {
   "cell_type": "markdown",
   "metadata": {},
   "source": [
    "**C)**\n",
    "\n",
    "**In the above problem, classify the workers into four groups and assign the corresponding group with the group title (A,B,C and D) (i.e., control group before change to the group A etc.). where the group titles are as follows:**\n",
    "\n",
    "               Before          After\n",
    "\n",
    "    Control      A                 C\n",
    "\n",
    "    Treated      B                 D"
   ]
  },
  {
   "cell_type": "code",
   "execution_count": 57,
   "metadata": {},
   "outputs": [
    {
     "data": {
      "text/plain": [
       "              \n",
       "                 0   1\n",
       "  New Jersey   309 309\n",
       "  Philadelphia  75  75"
      ]
     },
     "metadata": {},
     "output_type": "display_data"
    }
   ],
   "source": [
    "table(Min_wage$State,Min_wage$d)"
   ]
  },
  {
   "cell_type": "markdown",
   "metadata": {},
   "source": [
    "**d = 1 indicates the data was collected after the law was changed, and d = 0 indicates the data was collected before the law was changed.**\n",
    "\n",
    "**New Jersey is Treated and Philadelphia is Control**\n",
    "\n",
    "\n",
    "So,\n",
    "\n",
    "**A -> 75; \n",
    " B -> 309; \n",
    " C -> 75; \n",
    " D -> 309**"
   ]
  },
  {
   "cell_type": "code",
   "execution_count": null,
   "metadata": {},
   "outputs": [],
   "source": []
  },
  {
   "cell_type": "markdown",
   "metadata": {},
   "source": [
    "**D)**\n",
    "\n",
    "**To estimate the difference in difference we need four averages for the above categorized groups i.e., control group before change, control group after change, treatment group before change and treatment group after change. Compute the following**\n",
    "\n",
    "**(i) Calculate the mean of the ‘fte’ variable for each of the four groups in R and print them**\n",
    "\n",
    "**(ii) Using these averages estimate the value of the difference in difference**"
   ]
  },
  {
   "cell_type": "markdown",
   "metadata": {},
   "source": [
    "CG_BC <- control group before change\n",
    "\n",
    "CG_AC <- control group after change\n",
    "\n",
    "TG_BC <- treatment group before change\n",
    "\n",
    "TG_AC <- treatment group after change"
   ]
  },
  {
   "cell_type": "code",
   "execution_count": 61,
   "metadata": {},
   "outputs": [],
   "source": [
    "CG_BC <- filter(Min_wage, Min_wage$State == 'Philadelphia' & Min_wage$d == 0)\n",
    "CG_AC <- filter(Min_wage, Min_wage$State == 'Philadelphia' & Min_wage$d == 1)\n",
    "TG_BC <- filter(Min_wage, Min_wage$State == 'New Jersey' & Min_wage$d == 0)\n",
    "TG_AC <- filter(Min_wage, Min_wage$State == 'New Jersey' & Min_wage$d == 1)"
   ]
  },
  {
   "cell_type": "code",
   "execution_count": 62,
   "metadata": {},
   "outputs": [],
   "source": [
    "Mean_CG_BC <- mean(CG_BC$fte)\n",
    "Mean_CG_AC <- mean(CG_AC$fte)\n",
    "Mean_TG_BC <- mean(TG_BC$fte)\n",
    "Mean_TG_AC <- mean(TG_AC$fte)"
   ]
  },
  {
   "cell_type": "code",
   "execution_count": 67,
   "metadata": {},
   "outputs": [
    {
     "name": "stdout",
     "output_type": "stream",
     "text": [
      "[1] \"Mean of the ‘fte’ variable for control group before change:  23.38\"\n",
      "[1] \"Mean of the ‘fte’ variable for control group after change:  21.097\"\n",
      "[1] \"Mean of the ‘fte’ variable for treatment group before change:  20.431\"\n",
      "[1] \"Mean of the ‘fte’ variable for treatment group after change:  20.897\"\n"
     ]
    }
   ],
   "source": [
    "print(paste(\"Mean of the ‘fte’ variable for control group before change: \", round(Mean_CG_BC,3)))\n",
    "print(paste(\"Mean of the ‘fte’ variable for control group after change: \", round(Mean_CG_AC,3)))\n",
    "print(paste(\"Mean of the ‘fte’ variable for treatment group before change: \", round(Mean_TG_BC,3)))\n",
    "print(paste(\"Mean of the ‘fte’ variable for treatment group after change: \", round(Mean_TG_AC,3)))"
   ]
  },
  {
   "cell_type": "code",
   "execution_count": null,
   "metadata": {},
   "outputs": [],
   "source": []
  },
  {
   "cell_type": "markdown",
   "metadata": {},
   "source": [
    "### The Difference in Difference (D-in-D) estimater is calculated by:\n",
    "\n",
    "### \" (Mean_TG_AC - Mean_TG_BC) - (Mean_CG_AC - Mean_CG_BC) \"  = 2.75"
   ]
  },
  {
   "cell_type": "code",
   "execution_count": 68,
   "metadata": {},
   "outputs": [
    {
     "data": {
      "text/html": [
       "2.75"
      ],
      "text/latex": [
       "2.75"
      ],
      "text/markdown": [
       "2.75"
      ],
      "text/plain": [
       "[1] 2.75"
      ]
     },
     "metadata": {},
     "output_type": "display_data"
    }
   ],
   "source": [
    "(Mean_TG_AC - Mean_TG_BC) - (Mean_CG_AC - Mean_CG_BC)"
   ]
  },
  {
   "cell_type": "code",
   "execution_count": null,
   "metadata": {},
   "outputs": [],
   "source": []
  },
  {
   "cell_type": "markdown",
   "metadata": {},
   "source": [
    "**E)**\n",
    "\n",
    "**Estimate the DID (Difference in Difference) using regression model.**"
   ]
  },
  {
   "cell_type": "code",
   "execution_count": 231,
   "metadata": {},
   "outputs": [
    {
     "data": {
      "text/plain": [
       "\n",
       "Call:\n",
       "lm(formula = fte ~ State + d, data = Min_wage)\n",
       "\n",
       "Residuals:\n",
       "    Min      1Q  Median      3Q     Max \n",
       "-22.203  -6.699  -1.203   4.415  64.301 \n",
       "\n",
       "Coefficients:\n",
       "                  Estimate Std. Error t value Pr(>|t|)    \n",
       "(Intercept)       20.69914    0.51449  40.232   <2e-16 ***\n",
       "StatePhiladelphia  1.57442    0.86659   1.817   0.0696 .  \n",
       "d                 -0.07044    0.68710  -0.103   0.9184    \n",
       "---\n",
       "Signif. codes:  0 '***' 0.001 '**' 0.01 '*' 0.05 '.' 0.1 ' ' 1\n",
       "\n",
       "Residual standard error: 9.521 on 765 degrees of freedom\n",
       "Multiple R-squared:  0.00431,\tAdjusted R-squared:  0.001707 \n",
       "F-statistic: 1.656 on 2 and 765 DF,  p-value: 0.1917\n"
      ]
     },
     "metadata": {},
     "output_type": "display_data"
    }
   ],
   "source": [
    "reg_all <- lm(fte ~ State + d, data = Min_wage)\n",
    "summary(reg_all)"
   ]
  },
  {
   "cell_type": "code",
   "execution_count": null,
   "metadata": {},
   "outputs": [],
   "source": []
  },
  {
   "cell_type": "markdown",
   "metadata": {},
   "source": [
    "**This indicates that the number of hours worked by an employee (in the state of New Jersey) is ~20 hrs. Secondly, the number of hours worked by an employee (in the state of Philadelphia) is an addition of 1.6 hrd, that comes to ~21.6 hrs.**\n",
    "\n",
    "**So, the people in the State of New Jersey work ~1.6 hrs less than people in the State of Philadelphia.**"
   ]
  },
  {
   "cell_type": "markdown",
   "metadata": {},
   "source": [
    "WE NEED TO ADD AN INTERACTION TERM:\n",
    "\n",
    "Here you made a slight mistake in not including an interaction term. In short, with this regression you're trying to find the means for all four groups in order to be able to obtain the Diff-in-Diff, exactly like you did in the last problem. As it stands in your solution you're only ever going to get three b's including the intercept. In order to come up with the mean for the fourth group you need to add an interaction term. Why? Because we're looking for the effect of changing the minimum wage. This interaction term says that when both nj and d are equal to 1 something happens that should influence our dependent variable in some way. For a better explanation refer to the last video under the \"Treatment Effects\" module."
   ]
  },
  {
   "cell_type": "code",
   "execution_count": null,
   "metadata": {},
   "outputs": [],
   "source": []
  },
  {
   "cell_type": "markdown",
   "metadata": {},
   "source": [
    "# ANOTHER METHOD"
   ]
  },
  {
   "cell_type": "code",
   "execution_count": 236,
   "metadata": {},
   "outputs": [
    {
     "name": "stderr",
     "output_type": "stream",
     "text": [
      "Parsed with column specification:\n",
      "cols(\n",
      "  d = col_double(),\n",
      "  d_nj = col_double(),\n",
      "  fte = col_double(),\n",
      "  bk = col_double(),\n",
      "  kfc = col_double(),\n",
      "  roys = col_double(),\n",
      "  wendys = col_double(),\n",
      "  co_owned = col_double(),\n",
      "  centralj = col_double(),\n",
      "  southj = col_double(),\n",
      "  pa1 = col_double(),\n",
      "  pa2 = col_double(),\n",
      "  demp = col_double(),\n",
      "  State = col_character()\n",
      ")\n"
     ]
    }
   ],
   "source": [
    "min_wage2<-read_csv('Min_Wage.xls')"
   ]
  },
  {
   "cell_type": "code",
   "execution_count": 238,
   "metadata": {},
   "outputs": [],
   "source": [
    "#Adding indicator variables for if a worker is from New Jersey or other states\n",
    "min_wage2<-min_wage2%>%mutate(NewJersey = ifelse(State =='New Jersey',1,0))%>%\n",
    "mutate(NJAfter = NewJersey*d)"
   ]
  },
  {
   "cell_type": "code",
   "execution_count": 240,
   "metadata": {},
   "outputs": [
    {
     "data": {
      "text/plain": [
       "\n",
       "\n",
       "|        |   Before|    After| Difference|\n",
       "|:-------|--------:|--------:|----------:|\n",
       "|Control | 23.38000| 21.09667| -2.2833333|\n",
       "|Treated | 20.43058| 20.89725|  0.4666667|"
      ]
     },
     "metadata": {},
     "output_type": "display_data"
    }
   ],
   "source": [
    "#Linear model for Wage increase dataset with variable ’fte’ as the dependent variable\n",
    "#and New Jersey,\n",
    "#d and NJAfter as interaction variables.\n",
    "wage.lm<-lm(fte~NewJersey + d + NJAfter, data = min_wage2)\n",
    "b0<-summary(wage.lm)$coefficients[1,1]\n",
    "b1<-summary(wage.lm)$coefficients[2,1]\n",
    "b2<-summary(wage.lm)$coefficients[3,1]\n",
    "b3<-summary(wage.lm)$coefficients[4,1]\n",
    "wtable<-data.frame(Before = c(b0, b0+b1), After = c(b0+b2, b0+b1+b2+b3),\n",
    "Difference = c(b2, b2+b3), row.names = c('Control', 'Treated'))\n",
    "knitr::kable(wtable ,caption = \"Coeffient Table \")"
   ]
  },
  {
   "cell_type": "markdown",
   "metadata": {},
   "source": [
    "From the table above the diff in diff estimator is b2 + b3 - b2 = 2.75 which matches the results obtained above in part C."
   ]
  },
  {
   "cell_type": "code",
   "execution_count": null,
   "metadata": {},
   "outputs": [],
   "source": []
  },
  {
   "cell_type": "code",
   "execution_count": null,
   "metadata": {},
   "outputs": [],
   "source": []
  },
  {
   "cell_type": "markdown",
   "metadata": {},
   "source": [
    "# Question 2: (From A to I)"
   ]
  },
  {
   "cell_type": "markdown",
   "metadata": {},
   "source": [
    "For the following questions, use the dataset Berkshire.csv with the following variables: Berkshire\n",
    "\n",
    "· Column (1): Date, Calendar Date\n",
    "\n",
    "· Column (2): BRKret, Berkshire Hathaway’s monthly return\n",
    "\n",
    "· Column (3): MKT, the return on the aggregate stock market\n",
    "\n",
    "· Column (4): RF, the risk free rate of return\n",
    "\n",
    "You may/may not need the following dependencies:\n",
    "\n",
    "“PerformanceAnalytics” package\n",
    "\n",
    "“lubridate” package\n",
    "\n",
    "Round all answers to the nearest hundredth."
   ]
  },
  {
   "cell_type": "code",
   "execution_count": 82,
   "metadata": {},
   "outputs": [],
   "source": [
    "library(PerformanceAnalytics)\n",
    "library(xts)\n",
    "library(lubridate)"
   ]
  },
  {
   "cell_type": "code",
   "execution_count": 207,
   "metadata": {},
   "outputs": [],
   "source": [
    "Berkshire_df <- read.csv(\"Berkshire.xls\")"
   ]
  },
  {
   "cell_type": "code",
   "execution_count": 208,
   "metadata": {},
   "outputs": [
    {
     "data": {
      "text/html": [
       "<table>\n",
       "<thead><tr><th scope=col>Date</th><th scope=col>BrkRet</th><th scope=col>MKT</th><th scope=col>RF</th></tr></thead>\n",
       "<tbody>\n",
       "\t<tr><td>11/30/1976</td><td> 0.1544   </td><td> 0.0076   </td><td>0.0040    </td></tr>\n",
       "\t<tr><td>12/31/1976</td><td> 0.1465   </td><td> 0.0605   </td><td>0.0040    </td></tr>\n",
       "\t<tr><td>1/31/1977 </td><td> 0.0000   </td><td>-0.0369   </td><td>0.0036    </td></tr>\n",
       "\t<tr><td>2/28/1977 </td><td> 0.0000   </td><td>-0.0160   </td><td>0.0035    </td></tr>\n",
       "\t<tr><td>3/31/1977 </td><td> 0.0778   </td><td>-0.0099   </td><td>0.0038    </td></tr>\n",
       "\t<tr><td>4/30/1977 </td><td>-0.0103   </td><td> 0.0053   </td><td>0.0038    </td></tr>\n",
       "</tbody>\n",
       "</table>\n"
      ],
      "text/latex": [
       "\\begin{tabular}{r|llll}\n",
       " Date & BrkRet & MKT & RF\\\\\n",
       "\\hline\n",
       "\t 11/30/1976 &  0.1544    &  0.0076    & 0.0040    \\\\\n",
       "\t 12/31/1976 &  0.1465    &  0.0605    & 0.0040    \\\\\n",
       "\t 1/31/1977  &  0.0000    & -0.0369    & 0.0036    \\\\\n",
       "\t 2/28/1977  &  0.0000    & -0.0160    & 0.0035    \\\\\n",
       "\t 3/31/1977  &  0.0778    & -0.0099    & 0.0038    \\\\\n",
       "\t 4/30/1977  & -0.0103    &  0.0053    & 0.0038    \\\\\n",
       "\\end{tabular}\n"
      ],
      "text/markdown": [
       "\n",
       "| Date | BrkRet | MKT | RF |\n",
       "|---|---|---|---|\n",
       "| 11/30/1976 |  0.1544    |  0.0076    | 0.0040     |\n",
       "| 12/31/1976 |  0.1465    |  0.0605    | 0.0040     |\n",
       "| 1/31/1977  |  0.0000    | -0.0369    | 0.0036     |\n",
       "| 2/28/1977  |  0.0000    | -0.0160    | 0.0035     |\n",
       "| 3/31/1977  |  0.0778    | -0.0099    | 0.0038     |\n",
       "| 4/30/1977  | -0.0103    |  0.0053    | 0.0038     |\n",
       "\n"
      ],
      "text/plain": [
       "  Date       BrkRet  MKT     RF    \n",
       "1 11/30/1976  0.1544  0.0076 0.0040\n",
       "2 12/31/1976  0.1465  0.0605 0.0040\n",
       "3 1/31/1977   0.0000 -0.0369 0.0036\n",
       "4 2/28/1977   0.0000 -0.0160 0.0035\n",
       "5 3/31/1977   0.0778 -0.0099 0.0038\n",
       "6 4/30/1977  -0.0103  0.0053 0.0038"
      ]
     },
     "metadata": {},
     "output_type": "display_data"
    },
    {
     "data": {
      "text/html": [
       "<ol class=list-inline>\n",
       "\t<li>500</li>\n",
       "\t<li>4</li>\n",
       "</ol>\n"
      ],
      "text/latex": [
       "\\begin{enumerate*}\n",
       "\\item 500\n",
       "\\item 4\n",
       "\\end{enumerate*}\n"
      ],
      "text/markdown": [
       "1. 500\n",
       "2. 4\n",
       "\n",
       "\n"
      ],
      "text/plain": [
       "[1] 500   4"
      ]
     },
     "metadata": {},
     "output_type": "display_data"
    }
   ],
   "source": [
    "head(Berkshire_df)\n",
    "dim(Berkshire_df)"
   ]
  },
  {
   "cell_type": "code",
   "execution_count": 209,
   "metadata": {},
   "outputs": [],
   "source": [
    "Berkshire_df$Date<-mdy(Berkshire_df$Date)"
   ]
  },
  {
   "cell_type": "code",
   "execution_count": null,
   "metadata": {},
   "outputs": [],
   "source": []
  },
  {
   "cell_type": "markdown",
   "metadata": {},
   "source": [
    "**A)**\n",
    "\n",
    "**Find the standard deviation of Berkshire Hathaway over the sample period**"
   ]
  },
  {
   "cell_type": "code",
   "execution_count": 210,
   "metadata": {},
   "outputs": [
    {
     "name": "stdout",
     "output_type": "stream",
     "text": [
      "[1] \"Standard deviation of Berkshire Hathaway (BrkRet):  0.07\"\n"
     ]
    }
   ],
   "source": [
    "print(paste(\"Standard deviation of Berkshire Hathaway (BrkRet): \", round(sd(Berkshire_df$BrkRet),2)))"
   ]
  },
  {
   "cell_type": "code",
   "execution_count": null,
   "metadata": {},
   "outputs": [],
   "source": []
  },
  {
   "cell_type": "markdown",
   "metadata": {},
   "source": [
    "**B)** \n",
    "\n",
    "**Find Berkshire Hathaway’s average return over the sample period?**"
   ]
  },
  {
   "cell_type": "code",
   "execution_count": 211,
   "metadata": {},
   "outputs": [
    {
     "name": "stdout",
     "output_type": "stream",
     "text": [
      "[1] \"Average return (MKT):  0.01\"\n"
     ]
    }
   ],
   "source": [
    "print(paste(\"Average return (MKT): \", round(mean(Berkshire_df$MKT),2)))"
   ]
  },
  {
   "cell_type": "code",
   "execution_count": null,
   "metadata": {},
   "outputs": [],
   "source": []
  },
  {
   "cell_type": "markdown",
   "metadata": {},
   "source": [
    "**C)**\n",
    "\n",
    "**By what percentage per month on average has Berkshire Hathaway outperformed the market?**"
   ]
  },
  {
   "cell_type": "code",
   "execution_count": 212,
   "metadata": {},
   "outputs": [],
   "source": [
    "#create an xts dataset\n",
    "All.dat <- xts(Berkshire_df[,-1],order.by = Berkshire_df$Date,)"
   ]
  },
  {
   "cell_type": "code",
   "execution_count": 213,
   "metadata": {},
   "outputs": [
    {
     "data": {
      "text/html": [
       "<table>\n",
       "<thead><tr><th></th><th scope=col>BrkRet</th></tr></thead>\n",
       "<tbody>\n",
       "\t<tr><th scope=row>Observations</th><td>500.0000</td></tr>\n",
       "\t<tr><th scope=row>NAs</th><td>  0.0000</td></tr>\n",
       "\t<tr><th scope=row>Minimum</th><td> -0.2174</td></tr>\n",
       "\t<tr><th scope=row>Quartile 1</th><td> -0.0162</td></tr>\n",
       "\t<tr><th scope=row>Median</th><td>  0.0122</td></tr>\n",
       "\t<tr><th scope=row>Arithmetic Mean</th><td>  0.0190</td></tr>\n",
       "\t<tr><th scope=row>Geometric Mean</th><td>  0.0168</td></tr>\n",
       "\t<tr><th scope=row>Quartile 3</th><td>  0.0476</td></tr>\n",
       "\t<tr><th scope=row>Maximum</th><td>  0.3548</td></tr>\n",
       "\t<tr><th scope=row>SE Mean</th><td>  0.0030</td></tr>\n",
       "\t<tr><th scope=row>LCL Mean (0.95)</th><td>  0.0131</td></tr>\n",
       "\t<tr><th scope=row>UCL Mean (0.95)</th><td>  0.0249</td></tr>\n",
       "\t<tr><th scope=row>Variance</th><td>  0.0046</td></tr>\n",
       "\t<tr><th scope=row>Stdev</th><td>  0.0675</td></tr>\n",
       "\t<tr><th scope=row>Skewness</th><td>  0.6987</td></tr>\n",
       "\t<tr><th scope=row>Kurtosis</th><td>  2.8198</td></tr>\n",
       "</tbody>\n",
       "</table>\n"
      ],
      "text/latex": [
       "\\begin{tabular}{r|l}\n",
       "  & BrkRet\\\\\n",
       "\\hline\n",
       "\tObservations & 500.0000\\\\\n",
       "\tNAs &   0.0000\\\\\n",
       "\tMinimum &  -0.2174\\\\\n",
       "\tQuartile 1 &  -0.0162\\\\\n",
       "\tMedian &   0.0122\\\\\n",
       "\tArithmetic Mean &   0.0190\\\\\n",
       "\tGeometric Mean &   0.0168\\\\\n",
       "\tQuartile 3 &   0.0476\\\\\n",
       "\tMaximum &   0.3548\\\\\n",
       "\tSE Mean &   0.0030\\\\\n",
       "\tLCL Mean (0.95) &   0.0131\\\\\n",
       "\tUCL Mean (0.95) &   0.0249\\\\\n",
       "\tVariance &   0.0046\\\\\n",
       "\tStdev &   0.0675\\\\\n",
       "\tSkewness &   0.6987\\\\\n",
       "\tKurtosis &   2.8198\\\\\n",
       "\\end{tabular}\n"
      ],
      "text/markdown": [
       "\n",
       "| <!--/--> | BrkRet |\n",
       "|---|---|\n",
       "| Observations | 500.0000 |\n",
       "| NAs |   0.0000 |\n",
       "| Minimum |  -0.2174 |\n",
       "| Quartile 1 |  -0.0162 |\n",
       "| Median |   0.0122 |\n",
       "| Arithmetic Mean |   0.0190 |\n",
       "| Geometric Mean |   0.0168 |\n",
       "| Quartile 3 |   0.0476 |\n",
       "| Maximum |   0.3548 |\n",
       "| SE Mean |   0.0030 |\n",
       "| LCL Mean (0.95) |   0.0131 |\n",
       "| UCL Mean (0.95) |   0.0249 |\n",
       "| Variance |   0.0046 |\n",
       "| Stdev |   0.0675 |\n",
       "| Skewness |   0.6987 |\n",
       "| Kurtosis |   2.8198 |\n",
       "\n"
      ],
      "text/plain": [
       "                BrkRet  \n",
       "Observations    500.0000\n",
       "NAs               0.0000\n",
       "Minimum          -0.2174\n",
       "Quartile 1       -0.0162\n",
       "Median            0.0122\n",
       "Arithmetic Mean   0.0190\n",
       "Geometric Mean    0.0168\n",
       "Quartile 3        0.0476\n",
       "Maximum           0.3548\n",
       "SE Mean           0.0030\n",
       "LCL Mean (0.95)   0.0131\n",
       "UCL Mean (0.95)   0.0249\n",
       "Variance          0.0046\n",
       "Stdev             0.0675\n",
       "Skewness          0.6987\n",
       "Kurtosis          2.8198"
      ]
     },
     "metadata": {},
     "output_type": "display_data"
    }
   ],
   "source": [
    "table.Stats(All.dat$BrkRet)"
   ]
  },
  {
   "cell_type": "code",
   "execution_count": 214,
   "metadata": {},
   "outputs": [
    {
     "data": {
      "text/html": [
       "<table>\n",
       "<thead><tr><th></th><th scope=col>MKT</th></tr></thead>\n",
       "<tbody>\n",
       "\t<tr><th scope=row>Observations</th><td>500.0000</td></tr>\n",
       "\t<tr><th scope=row>NAs</th><td>  0.0000</td></tr>\n",
       "\t<tr><th scope=row>Minimum</th><td> -0.2264</td></tr>\n",
       "\t<tr><th scope=row>Quartile 1</th><td> -0.0156</td></tr>\n",
       "\t<tr><th scope=row>Median</th><td>  0.0136</td></tr>\n",
       "\t<tr><th scope=row>Arithmetic Mean</th><td>  0.0102</td></tr>\n",
       "\t<tr><th scope=row>Geometric Mean</th><td>  0.0092</td></tr>\n",
       "\t<tr><th scope=row>Quartile 3</th><td>  0.0389</td></tr>\n",
       "\t<tr><th scope=row>Maximum</th><td>  0.1289</td></tr>\n",
       "\t<tr><th scope=row>SE Mean</th><td>  0.0019</td></tr>\n",
       "\t<tr><th scope=row>LCL Mean (0.95)</th><td>  0.0063</td></tr>\n",
       "\t<tr><th scope=row>UCL Mean (0.95)</th><td>  0.0140</td></tr>\n",
       "\t<tr><th scope=row>Variance</th><td>  0.0019</td></tr>\n",
       "\t<tr><th scope=row>Stdev</th><td>  0.0436</td></tr>\n",
       "\t<tr><th scope=row>Skewness</th><td> -0.7281</td></tr>\n",
       "\t<tr><th scope=row>Kurtosis</th><td>  2.3473</td></tr>\n",
       "</tbody>\n",
       "</table>\n"
      ],
      "text/latex": [
       "\\begin{tabular}{r|l}\n",
       "  & MKT\\\\\n",
       "\\hline\n",
       "\tObservations & 500.0000\\\\\n",
       "\tNAs &   0.0000\\\\\n",
       "\tMinimum &  -0.2264\\\\\n",
       "\tQuartile 1 &  -0.0156\\\\\n",
       "\tMedian &   0.0136\\\\\n",
       "\tArithmetic Mean &   0.0102\\\\\n",
       "\tGeometric Mean &   0.0092\\\\\n",
       "\tQuartile 3 &   0.0389\\\\\n",
       "\tMaximum &   0.1289\\\\\n",
       "\tSE Mean &   0.0019\\\\\n",
       "\tLCL Mean (0.95) &   0.0063\\\\\n",
       "\tUCL Mean (0.95) &   0.0140\\\\\n",
       "\tVariance &   0.0019\\\\\n",
       "\tStdev &   0.0436\\\\\n",
       "\tSkewness &  -0.7281\\\\\n",
       "\tKurtosis &   2.3473\\\\\n",
       "\\end{tabular}\n"
      ],
      "text/markdown": [
       "\n",
       "| <!--/--> | MKT |\n",
       "|---|---|\n",
       "| Observations | 500.0000 |\n",
       "| NAs |   0.0000 |\n",
       "| Minimum |  -0.2264 |\n",
       "| Quartile 1 |  -0.0156 |\n",
       "| Median |   0.0136 |\n",
       "| Arithmetic Mean |   0.0102 |\n",
       "| Geometric Mean |   0.0092 |\n",
       "| Quartile 3 |   0.0389 |\n",
       "| Maximum |   0.1289 |\n",
       "| SE Mean |   0.0019 |\n",
       "| LCL Mean (0.95) |   0.0063 |\n",
       "| UCL Mean (0.95) |   0.0140 |\n",
       "| Variance |   0.0019 |\n",
       "| Stdev |   0.0436 |\n",
       "| Skewness |  -0.7281 |\n",
       "| Kurtosis |   2.3473 |\n",
       "\n"
      ],
      "text/plain": [
       "                MKT     \n",
       "Observations    500.0000\n",
       "NAs               0.0000\n",
       "Minimum          -0.2264\n",
       "Quartile 1       -0.0156\n",
       "Median            0.0136\n",
       "Arithmetic Mean   0.0102\n",
       "Geometric Mean    0.0092\n",
       "Quartile 3        0.0389\n",
       "Maximum           0.1289\n",
       "SE Mean           0.0019\n",
       "LCL Mean (0.95)   0.0063\n",
       "UCL Mean (0.95)   0.0140\n",
       "Variance          0.0019\n",
       "Stdev             0.0436\n",
       "Skewness         -0.7281\n",
       "Kurtosis          2.3473"
      ]
     },
     "metadata": {},
     "output_type": "display_data"
    }
   ],
   "source": [
    "table.Stats(All.dat$MKT)"
   ]
  },
  {
   "cell_type": "code",
   "execution_count": 215,
   "metadata": {},
   "outputs": [
    {
     "data": {
      "text/html": [
       "0.0088"
      ],
      "text/latex": [
       "0.0088"
      ],
      "text/markdown": [
       "0.0088"
      ],
      "text/plain": [
       "[1] 0.0088"
      ]
     },
     "metadata": {},
     "output_type": "display_data"
    }
   ],
   "source": [
    "0.0190 - 0.0102"
   ]
  },
  {
   "cell_type": "markdown",
   "metadata": {},
   "source": [
    "**So, on average permonth Berkshire Hathaway outperformed the market by 0.0088**"
   ]
  },
  {
   "cell_type": "code",
   "execution_count": 241,
   "metadata": {
    "scrolled": true
   },
   "outputs": [
    {
     "data": {
      "text/html": [
       "0.88286"
      ],
      "text/latex": [
       "0.88286"
      ],
      "text/markdown": [
       "0.88286"
      ],
      "text/plain": [
       "[1] 0.88286"
      ]
     },
     "metadata": {},
     "output_type": "display_data"
    }
   ],
   "source": [
    "mean(All.dat$BrkRet-All.dat$MKT)*100"
   ]
  },
  {
   "cell_type": "code",
   "execution_count": null,
   "metadata": {},
   "outputs": [],
   "source": []
  },
  {
   "cell_type": "code",
   "execution_count": null,
   "metadata": {},
   "outputs": [],
   "source": []
  },
  {
   "cell_type": "markdown",
   "metadata": {},
   "source": [
    "**D)**\n",
    "\n",
    "**$10,000 invested in Berkshire Hathaway at the start of the sample period would have grown to ____ by the end of the sample period**"
   ]
  },
  {
   "cell_type": "code",
   "execution_count": 218,
   "metadata": {},
   "outputs": [
    {
     "data": {
      "text/html": [
       "<table>\n",
       "<thead><tr><th></th><th scope=col>BrkRet</th></tr></thead>\n",
       "<tbody>\n",
       "\t<tr><th scope=row>Cumulative Return</th><td>4143.99</td></tr>\n",
       "</tbody>\n",
       "</table>\n"
      ],
      "text/latex": [
       "\\begin{tabular}{r|l}\n",
       "  & BrkRet\\\\\n",
       "\\hline\n",
       "\tCumulative Return & 4143.99\\\\\n",
       "\\end{tabular}\n"
      ],
      "text/markdown": [
       "\n",
       "| <!--/--> | BrkRet |\n",
       "|---|---|\n",
       "| Cumulative Return | 4143.99 |\n",
       "\n"
      ],
      "text/plain": [
       "                  BrkRet \n",
       "Cumulative Return 4143.99"
      ]
     },
     "metadata": {},
     "output_type": "display_data"
    }
   ],
   "source": [
    "Return.cumulative(All.dat$BrkRet,geometric = TRUE)"
   ]
  },
  {
   "cell_type": "code",
   "execution_count": 219,
   "metadata": {},
   "outputs": [
    {
     "data": {
      "image/png": "[encoded data removed]",
      "text/plain": [
       "plot without title"
      ]
     },
     "metadata": {},
     "output_type": "display_data"
    }
   ],
   "source": [
    "chart.CumReturns(All.dat, wealth.index =FALSE, geometric = TRUE, legend.loc = \"topleft\",main=\"Cumulative Returns\")"
   ]
  },
  {
   "cell_type": "code",
   "execution_count": 166,
   "metadata": {},
   "outputs": [],
   "source": [
    "Berkshire_df$BrkRet[Berkshire_df$BrkRet == 0.1544] <- 10000"
   ]
  },
  {
   "cell_type": "code",
   "execution_count": 216,
   "metadata": {},
   "outputs": [],
   "source": [
    "All.dat<-xts(Berkshire_df[,-1],order.by=Berkshire_df$Date,)"
   ]
  },
  {
   "cell_type": "code",
   "execution_count": 168,
   "metadata": {},
   "outputs": [
    {
     "data": {
      "text/html": [
       "<table>\n",
       "<thead><tr><th></th><th scope=col>BrkRet</th><th scope=col>MKT</th><th scope=col>RF</th></tr></thead>\n",
       "<tbody>\n",
       "\t<tr><th scope=row>Cumulative Return</th><td>35909598</td><td>96.22392</td><td>5.359804</td></tr>\n",
       "</tbody>\n",
       "</table>\n"
      ],
      "text/latex": [
       "\\begin{tabular}{r|lll}\n",
       "  & BrkRet & MKT & RF\\\\\n",
       "\\hline\n",
       "\tCumulative Return & 35909598 & 96.22392 & 5.359804\\\\\n",
       "\\end{tabular}\n"
      ],
      "text/markdown": [
       "\n",
       "| <!--/--> | BrkRet | MKT | RF |\n",
       "|---|---|---|---|\n",
       "| Cumulative Return | 35909598 | 96.22392 | 5.359804 |\n",
       "\n"
      ],
      "text/plain": [
       "                  BrkRet   MKT      RF      \n",
       "Cumulative Return 35909598 96.22392 5.359804"
      ]
     },
     "metadata": {},
     "output_type": "display_data"
    }
   ],
   "source": [
    "Return.cumulative(All.dat, geometric =TRUE)"
   ]
  },
  {
   "cell_type": "markdown",
   "metadata": {},
   "source": [
    "So, If 10,000 Dollars invested in Berkshire Hathaway at the start of the sample period would have grown to 35,909,598 Dollars by the end of the sample period.\n",
    "\n",
    "\n",
    "**If we consider the graph and if we consider the inetial value was 0 Dollars and it rose to 4143.99 Dollars, then if we start our investment at 10,000 Dollars then it will end up at approximately 41,439,900‬ Dollars**"
   ]
  },
  {
   "cell_type": "code",
   "execution_count": null,
   "metadata": {},
   "outputs": [],
   "source": []
  },
  {
   "cell_type": "code",
   "execution_count": 250,
   "metadata": {},
   "outputs": [
    {
     "data": {
      "text/html": [
       "<table>\n",
       "<thead><tr><th></th><th scope=col>BrkRet</th></tr></thead>\n",
       "<tbody>\n",
       "\t<tr><th scope=row>Cumulative Return</th><td>41439896</td></tr>\n",
       "</tbody>\n",
       "</table>\n"
      ],
      "text/latex": [
       "\\begin{tabular}{r|l}\n",
       "  & BrkRet\\\\\n",
       "\\hline\n",
       "\tCumulative Return & 41439896\\\\\n",
       "\\end{tabular}\n"
      ],
      "text/markdown": [
       "\n",
       "| <!--/--> | BrkRet |\n",
       "|---|---|\n",
       "| Cumulative Return | 41439896 |\n",
       "\n"
      ],
      "text/plain": [
       "                  BrkRet  \n",
       "Cumulative Return 41439896"
      ]
     },
     "metadata": {},
     "output_type": "display_data"
    }
   ],
   "source": [
    "10000 * Return.cumulative(All.dat$BrkRet,geometric = TRUE)"
   ]
  },
  {
   "cell_type": "markdown",
   "metadata": {},
   "source": [
    "# ANSWER:"
   ]
  },
  {
   "cell_type": "code",
   "execution_count": null,
   "metadata": {},
   "outputs": [],
   "source": []
  },
  {
   "cell_type": "code",
   "execution_count": 245,
   "metadata": {},
   "outputs": [],
   "source": [
    "data <- Berkshire_df"
   ]
  },
  {
   "cell_type": "code",
   "execution_count": 246,
   "metadata": {},
   "outputs": [
    {
     "name": "stderr",
     "output_type": "stream",
     "text": [
      "Warning message:\n",
      "\"All formats failed to parse. No formats found.\""
     ]
    },
    {
     "ename": "ERROR",
     "evalue": "Error in xts(data2[, -1], order.by = data2$Date): 'order.by' cannot contain 'NA', 'NaN', or 'Inf'\n",
     "output_type": "error",
     "traceback": [
      "Error in xts(data2[, -1], order.by = data2$Date): 'order.by' cannot contain 'NA', 'NaN', or 'Inf'\nTraceback:\n",
      "1. xts(data2[, -1], order.by = data2$Date)",
      "2. stop(\"'order.by' cannot contain 'NA', 'NaN', or 'Inf'\")"
     ]
    }
   ],
   "source": [
    "data$Date <- mdy(data$Date)\n",
    "#Sorting\tdata\tby\tdates\n",
    "data2<- data[order(data$Date),]\n",
    "#create\tan xts dataset\n",
    "All.dat\t<- xts(data2[,-1], order.by\t= data2$Date)\n",
    "#Calculate\tCompound\tReturn\tfor\tthe\tfund\tacross\tall\tthe\tdata\n",
    "Return.cumulative(All.dat$BrkRet,geometric =\tTRUE)\n",
    "cum_ret <- Return.cumulative(All.dat$BrkRet,geometric =\tTRUE)[1]\n",
    "#Cumulative\tReturns\tchart\tover\ttime\n",
    "#Check\tchart\tin\tPlots\tTab\ton\tbottom\tright\tin\tR\tStudio\n",
    "chart.CumReturns(All.dat$BrkRet,wealth.index =\tFALSE,\tgeometric\t=\tTRUE)\n",
    "10000*(1+cum_ret)"
   ]
  },
  {
   "cell_type": "code",
   "execution_count": null,
   "metadata": {},
   "outputs": [],
   "source": []
  },
  {
   "cell_type": "code",
   "execution_count": null,
   "metadata": {},
   "outputs": [],
   "source": []
  },
  {
   "cell_type": "code",
   "execution_count": null,
   "metadata": {},
   "outputs": [],
   "source": []
  },
  {
   "cell_type": "markdown",
   "metadata": {},
   "source": [
    "**E)**\n",
    "\n",
    "**Plot the cumulative return of Berkshire and Market across all years and include a legend. Describe your observation.**"
   ]
  },
  {
   "cell_type": "code",
   "execution_count": 221,
   "metadata": {},
   "outputs": [],
   "source": [
    "# Berkshire_df$Date<-mdy(Berkshire_df$Date)\n",
    "All.dat<-xts(Berkshire_df[,-1],order.by=Berkshire_df[,1],)"
   ]
  },
  {
   "cell_type": "code",
   "execution_count": 222,
   "metadata": {},
   "outputs": [
    {
     "data": {
      "text/html": [
       "<table>\n",
       "<thead><tr><th></th><th scope=col>BrkRet</th><th scope=col>MKT</th><th scope=col>RF</th></tr></thead>\n",
       "<tbody>\n",
       "\t<tr><th scope=row>Cumulative Return</th><td>4143.99 </td><td>96.22392</td><td>5.359804</td></tr>\n",
       "</tbody>\n",
       "</table>\n"
      ],
      "text/latex": [
       "\\begin{tabular}{r|lll}\n",
       "  & BrkRet & MKT & RF\\\\\n",
       "\\hline\n",
       "\tCumulative Return & 4143.99  & 96.22392 & 5.359804\\\\\n",
       "\\end{tabular}\n"
      ],
      "text/markdown": [
       "\n",
       "| <!--/--> | BrkRet | MKT | RF |\n",
       "|---|---|---|---|\n",
       "| Cumulative Return | 4143.99  | 96.22392 | 5.359804 |\n",
       "\n"
      ],
      "text/plain": [
       "                  BrkRet  MKT      RF      \n",
       "Cumulative Return 4143.99 96.22392 5.359804"
      ]
     },
     "metadata": {},
     "output_type": "display_data"
    },
    {
     "data": {
      "image/png": "[encoded data removed]",
      "text/plain": [
       "plot without title"
      ]
     },
     "metadata": {},
     "output_type": "display_data"
    }
   ],
   "source": [
    "Return.cumulative(All.dat, geometric =TRUE)\n",
    "chart.CumReturns(All.dat, wealth.index =FALSE, geometric = TRUE, legend.loc = \"topleft\",main=\"Cumulative Returns\")"
   ]
  },
  {
   "cell_type": "markdown",
   "metadata": {},
   "source": [
    "If you look at the data supporting this chart, the cumulative return for our fund is 4143.99, the benchmark return is only 96.22392.\n",
    "\n",
    "And by way of comparison, the risk free rate or the rate of return on a treasury bond is only 5.359804.\n",
    "\n",
    "So our fund has significantly, significantly outperformed this benchmark."
   ]
  },
  {
   "cell_type": "code",
   "execution_count": null,
   "metadata": {},
   "outputs": [],
   "source": []
  },
  {
   "cell_type": "markdown",
   "metadata": {},
   "source": [
    "**F)**\n",
    "\n",
    "**What is Berkshire Hathaway’s monthly Sharpe ratio?**"
   ]
  },
  {
   "cell_type": "code",
   "execution_count": 223,
   "metadata": {},
   "outputs": [
    {
     "data": {
      "text/html": [
       "<table>\n",
       "<thead><tr><th></th><th scope=col>BrkRet</th></tr></thead>\n",
       "<tbody>\n",
       "\t<tr><th scope=row>StdDev Sharpe (Rf=0.4%, p=95%):</th><td>0.2262115</td></tr>\n",
       "\t<tr><th scope=row>VaR Sharpe (Rf=0.4%, p=95%):</th><td>0.2060944</td></tr>\n",
       "\t<tr><th scope=row>ES Sharpe (Rf=0.4%, p=95%):</th><td>0.1728184</td></tr>\n",
       "</tbody>\n",
       "</table>\n"
      ],
      "text/latex": [
       "\\begin{tabular}{r|l}\n",
       "  & BrkRet\\\\\n",
       "\\hline\n",
       "\tStdDev Sharpe (Rf=0.4\\%, p=95\\%): & 0.2262115\\\\\n",
       "\tVaR Sharpe (Rf=0.4\\%, p=95\\%): & 0.2060944\\\\\n",
       "\tES Sharpe (Rf=0.4\\%, p=95\\%): & 0.1728184\\\\\n",
       "\\end{tabular}\n"
      ],
      "text/markdown": [
       "\n",
       "| <!--/--> | BrkRet |\n",
       "|---|---|\n",
       "| StdDev Sharpe (Rf=0.4%, p=95%): | 0.2262115 |\n",
       "| VaR Sharpe (Rf=0.4%, p=95%): | 0.2060944 |\n",
       "| ES Sharpe (Rf=0.4%, p=95%): | 0.1728184 |\n",
       "\n"
      ],
      "text/plain": [
       "                                BrkRet   \n",
       "StdDev Sharpe (Rf=0.4%, p=95%): 0.2262115\n",
       "VaR Sharpe (Rf=0.4%, p=95%):    0.2060944\n",
       "ES Sharpe (Rf=0.4%, p=95%):     0.1728184"
      ]
     },
     "metadata": {},
     "output_type": "display_data"
    }
   ],
   "source": [
    "SharpeRatio(All.dat$BrkRet,All.dat$RF)"
   ]
  },
  {
   "cell_type": "markdown",
   "metadata": {},
   "source": [
    "The output shows that the Sharpe ratio for the fund is 0.22. An higher ratio of Sharpe indicates higher reward per unit risk."
   ]
  },
  {
   "cell_type": "markdown",
   "metadata": {},
   "source": [
    "**G)**\n",
    "\n",
    "**What is the Sharpe Ratio for the market index? Comparing this value to Berkshire Hathaway’s Sharpe ratio, which one is higher and what does that mean?**"
   ]
  },
  {
   "cell_type": "code",
   "execution_count": 224,
   "metadata": {},
   "outputs": [
    {
     "data": {
      "text/html": [
       "<table>\n",
       "<thead><tr><th></th><th scope=col>MKT</th></tr></thead>\n",
       "<tbody>\n",
       "\t<tr><th scope=row>StdDev Sharpe (Rf=0.4%, p=95%):</th><td>0.14794528</td></tr>\n",
       "\t<tr><th scope=row>VaR Sharpe (Rf=0.4%, p=95%):</th><td>0.09486128</td></tr>\n",
       "\t<tr><th scope=row>ES Sharpe (Rf=0.4%, p=95%):</th><td>0.05677763</td></tr>\n",
       "</tbody>\n",
       "</table>\n"
      ],
      "text/latex": [
       "\\begin{tabular}{r|l}\n",
       "  & MKT\\\\\n",
       "\\hline\n",
       "\tStdDev Sharpe (Rf=0.4\\%, p=95\\%): & 0.14794528\\\\\n",
       "\tVaR Sharpe (Rf=0.4\\%, p=95\\%): & 0.09486128\\\\\n",
       "\tES Sharpe (Rf=0.4\\%, p=95\\%): & 0.05677763\\\\\n",
       "\\end{tabular}\n"
      ],
      "text/markdown": [
       "\n",
       "| <!--/--> | MKT |\n",
       "|---|---|\n",
       "| StdDev Sharpe (Rf=0.4%, p=95%): | 0.14794528 |\n",
       "| VaR Sharpe (Rf=0.4%, p=95%): | 0.09486128 |\n",
       "| ES Sharpe (Rf=0.4%, p=95%): | 0.05677763 |\n",
       "\n"
      ],
      "text/plain": [
       "                                MKT       \n",
       "StdDev Sharpe (Rf=0.4%, p=95%): 0.14794528\n",
       "VaR Sharpe (Rf=0.4%, p=95%):    0.09486128\n",
       "ES Sharpe (Rf=0.4%, p=95%):     0.05677763"
      ]
     },
     "metadata": {},
     "output_type": "display_data"
    }
   ],
   "source": [
    "SharpeRatio(All.dat$MKT,All.dat$RF)"
   ]
  },
  {
   "cell_type": "markdown",
   "metadata": {},
   "source": [
    "Our fund (BrkRet) has had really good performance, its Sharpe ratio of 0.22 is much higher than the Sharpe ratio of the benchmark index (MKT), which has Sharpe ratio of 0.14. It means that our fund has done really good compared to market index."
   ]
  },
  {
   "cell_type": "code",
   "execution_count": null,
   "metadata": {},
   "outputs": [],
   "source": []
  },
  {
   "cell_type": "markdown",
   "metadata": {},
   "source": [
    "**H)**\n",
    "\n",
    "**What is Berkshire Hathaway’s estimated beta?**"
   ]
  },
  {
   "cell_type": "code",
   "execution_count": 249,
   "metadata": {},
   "outputs": [
    {
     "data": {
      "text/html": [
       "0.244858117256507"
      ],
      "text/latex": [
       "0.244858117256507"
      ],
      "text/markdown": [
       "0.244858117256507"
      ],
      "text/plain": [
       "[1] 0.2448581"
      ]
     },
     "metadata": {},
     "output_type": "display_data"
    }
   ],
   "source": [
    "TreynorRatio(All.dat$BrkRet,All.dat$MKT,All.dat$RF)"
   ]
  },
  {
   "cell_type": "markdown",
   "metadata": {},
   "source": [
    "The Treynor ratio is also a reward to risk ratio, while here the risk is measured relative to beta.\n",
    "And so the interpretation is very similar to Sharpe ratio, a higher Treynor ratio indicates higher reward per unit risk."
   ]
  },
  {
   "cell_type": "markdown",
   "metadata": {},
   "source": [
    "### While Treynor's ratio is a function of beta, it's not analogous to beta. Where the former looks at risk-adjusted returns (relative to beta) the latter measures price fluctuations relative to the market."
   ]
  },
  {
   "cell_type": "markdown",
   "metadata": {},
   "source": [
    "# CORRECT ANSWER"
   ]
  },
  {
   "cell_type": "code",
   "execution_count": 248,
   "metadata": {},
   "outputs": [
    {
     "data": {
      "text/plain": [
       "\n",
       "Call:\n",
       "lm(formula = All.dat$BrkRet ~ All.dat$MKT)\n",
       "\n",
       "Residuals:\n",
       "     Min       1Q   Median       3Q      Max \n",
       "-0.17261 -0.03500 -0.00694  0.02680  0.33180 \n",
       "\n",
       "Coefficients:\n",
       "            Estimate Std. Error t value Pr(>|t|)    \n",
       "(Intercept) 0.011891   0.002771   4.291 2.13e-05 ***\n",
       "All.dat$MKT 0.698521   0.061983  11.270  < 2e-16 ***\n",
       "---\n",
       "Signif. codes:  0 '***' 0.001 '**' 0.01 '*' 0.05 '.' 0.1 ' ' 1\n",
       "\n",
       "Residual standard error: 0.06034 on 498 degrees of freedom\n",
       "Multiple R-squared:  0.2032,\tAdjusted R-squared:  0.2016 \n",
       "F-statistic:   127 on 1 and 498 DF,  p-value: < 2.2e-16\n"
      ]
     },
     "metadata": {},
     "output_type": "display_data"
    }
   ],
   "source": [
    "summary(lm(All.dat$BrkRet ~ All.dat$MKT))"
   ]
  },
  {
   "cell_type": "markdown",
   "metadata": {},
   "source": [
    "Beta is : ( All.dat$MKT 0.698521)"
   ]
  },
  {
   "cell_type": "code",
   "execution_count": null,
   "metadata": {},
   "outputs": [],
   "source": []
  },
  {
   "cell_type": "code",
   "execution_count": null,
   "metadata": {},
   "outputs": [],
   "source": []
  },
  {
   "cell_type": "markdown",
   "metadata": {},
   "source": [
    "**I)**\n",
    "\n",
    "**On a monthly basis, what is Jensen’s alpha for Berkshire Hathaway?**"
   ]
  },
  {
   "cell_type": "code",
   "execution_count": 203,
   "metadata": {},
   "outputs": [],
   "source": [
    "All.dat<-transform(All.dat,MktExcess=MKT-RF,FundExcess=BrkRet-RF)"
   ]
  },
  {
   "cell_type": "code",
   "execution_count": 204,
   "metadata": {},
   "outputs": [
    {
     "data": {
      "text/plain": [
       "\n",
       "Call:\n",
       "lm(formula = FundExcess ~ MktExcess, data = All.dat)\n",
       "\n",
       "Residuals:\n",
       "     Min       1Q   Median       3Q      Max \n",
       "-0.17263 -0.03475 -0.00688  0.02608  0.33062 \n",
       "\n",
       "Coefficients:\n",
       "            Estimate Std. Error t value Pr(>|t|)    \n",
       "(Intercept) 0.010829   0.002724   3.976 8.05e-05 ***\n",
       "MktExcess   0.689755   0.061777  11.165  < 2e-16 ***\n",
       "---\n",
       "Signif. codes:  0 '***' 0.001 '**' 0.01 '*' 0.05 '.' 0.1 ' ' 1\n",
       "\n",
       "Residual standard error: 0.06025 on 498 degrees of freedom\n",
       "Multiple R-squared:  0.2002,\tAdjusted R-squared:  0.1986 \n",
       "F-statistic: 124.7 on 1 and 498 DF,  p-value: < 2.2e-16\n"
      ]
     },
     "metadata": {},
     "output_type": "display_data"
    }
   ],
   "source": [
    "Alpha=lm(FundExcess~MktExcess,data=All.dat)\n",
    "summary(Alpha)"
   ]
  },
  {
   "cell_type": "markdown",
   "metadata": {},
   "source": [
    "The Alpha value(Intercept) is +0.0108 and it is statistically significant, the fund has outperformed.\n",
    "\n",
    "The other thing we can take a look at is R squared or adjusted R squared and that's ~0.20.\n",
    "This tells us a pretty high fraction of this funds return **can not** be explained by the overall market."
   ]
  },
  {
   "cell_type": "code",
   "execution_count": null,
   "metadata": {},
   "outputs": [],
   "source": []
  }
 ],
 "metadata": {
  "kernelspec": {
   "display_name": "R",
   "language": "R",
   "name": "ir"
  },
  "language_info": {
   "codemirror_mode": "r",
   "file_extension": ".r",
   "mimetype": "text/x-r-source",
   "name": "R",
   "pygments_lexer": "r",
   "version": "3.6.1"
  }
 },
 "nbformat": 4,
 "nbformat_minor": 4
}
