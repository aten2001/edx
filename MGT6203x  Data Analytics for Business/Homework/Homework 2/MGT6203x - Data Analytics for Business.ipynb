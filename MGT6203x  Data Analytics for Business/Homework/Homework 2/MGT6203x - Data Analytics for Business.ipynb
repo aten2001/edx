{
 "cells": [
  {
   "cell_type": "markdown",
   "metadata": {},
   "source": [
    "# MM: Midterm Exam, Part 2"
   ]
  },
  {
   "cell_type": "markdown",
   "metadata": {},
   "source": [
    "Instructions for Questions 1 and 2:\n",
    "\n",
    "Use the inbuilt dataset **\"longley\"** for questions 1 and 2. "
   ]
  },
  {
   "cell_type": "code",
   "execution_count": 4,
   "metadata": {},
   "outputs": [],
   "source": [
    "# install.packages('longley')"
   ]
  },
  {
   "cell_type": "code",
   "execution_count": 27,
   "metadata": {},
   "outputs": [],
   "source": [
    "library(Ecdat)"
   ]
  },
  {
   "cell_type": "code",
   "execution_count": 29,
   "metadata": {},
   "outputs": [],
   "source": [
    "data_df = longley"
   ]
  },
  {
   "cell_type": "code",
   "execution_count": 30,
   "metadata": {},
   "outputs": [
    {
     "data": {
      "text/html": [
       "<table>\n",
       "<thead><tr><th></th><th scope=col>GNP.deflator</th><th scope=col>GNP</th><th scope=col>Unemployed</th><th scope=col>Armed.Forces</th><th scope=col>Population</th><th scope=col>Year</th><th scope=col>Employed</th></tr></thead>\n",
       "<tbody>\n",
       "\t<tr><th scope=row>1947</th><td>83.0   </td><td>234.289</td><td>235.6  </td><td>159.0  </td><td>107.608</td><td>1947   </td><td>60.323 </td></tr>\n",
       "\t<tr><th scope=row>1948</th><td>88.5   </td><td>259.426</td><td>232.5  </td><td>145.6  </td><td>108.632</td><td>1948   </td><td>61.122 </td></tr>\n",
       "\t<tr><th scope=row>1949</th><td>88.2   </td><td>258.054</td><td>368.2  </td><td>161.6  </td><td>109.773</td><td>1949   </td><td>60.171 </td></tr>\n",
       "\t<tr><th scope=row>1950</th><td>89.5   </td><td>284.599</td><td>335.1  </td><td>165.0  </td><td>110.929</td><td>1950   </td><td>61.187 </td></tr>\n",
       "\t<tr><th scope=row>1951</th><td>96.2   </td><td>328.975</td><td>209.9  </td><td>309.9  </td><td>112.075</td><td>1951   </td><td>63.221 </td></tr>\n",
       "\t<tr><th scope=row>1952</th><td>98.1   </td><td>346.999</td><td>193.2  </td><td>359.4  </td><td>113.270</td><td>1952   </td><td>63.639 </td></tr>\n",
       "</tbody>\n",
       "</table>\n"
      ],
      "text/latex": [
       "\\begin{tabular}{r|lllllll}\n",
       "  & GNP.deflator & GNP & Unemployed & Armed.Forces & Population & Year & Employed\\\\\n",
       "\\hline\n",
       "\t1947 & 83.0    & 234.289 & 235.6   & 159.0   & 107.608 & 1947    & 60.323 \\\\\n",
       "\t1948 & 88.5    & 259.426 & 232.5   & 145.6   & 108.632 & 1948    & 61.122 \\\\\n",
       "\t1949 & 88.2    & 258.054 & 368.2   & 161.6   & 109.773 & 1949    & 60.171 \\\\\n",
       "\t1950 & 89.5    & 284.599 & 335.1   & 165.0   & 110.929 & 1950    & 61.187 \\\\\n",
       "\t1951 & 96.2    & 328.975 & 209.9   & 309.9   & 112.075 & 1951    & 63.221 \\\\\n",
       "\t1952 & 98.1    & 346.999 & 193.2   & 359.4   & 113.270 & 1952    & 63.639 \\\\\n",
       "\\end{tabular}\n"
      ],
      "text/markdown": [
       "\n",
       "| <!--/--> | GNP.deflator | GNP | Unemployed | Armed.Forces | Population | Year | Employed |\n",
       "|---|---|---|---|---|---|---|---|\n",
       "| 1947 | 83.0    | 234.289 | 235.6   | 159.0   | 107.608 | 1947    | 60.323  |\n",
       "| 1948 | 88.5    | 259.426 | 232.5   | 145.6   | 108.632 | 1948    | 61.122  |\n",
       "| 1949 | 88.2    | 258.054 | 368.2   | 161.6   | 109.773 | 1949    | 60.171  |\n",
       "| 1950 | 89.5    | 284.599 | 335.1   | 165.0   | 110.929 | 1950    | 61.187  |\n",
       "| 1951 | 96.2    | 328.975 | 209.9   | 309.9   | 112.075 | 1951    | 63.221  |\n",
       "| 1952 | 98.1    | 346.999 | 193.2   | 359.4   | 113.270 | 1952    | 63.639  |\n",
       "\n"
      ],
      "text/plain": [
       "     GNP.deflator GNP     Unemployed Armed.Forces Population Year Employed\n",
       "1947 83.0         234.289 235.6      159.0        107.608    1947 60.323  \n",
       "1948 88.5         259.426 232.5      145.6        108.632    1948 61.122  \n",
       "1949 88.2         258.054 368.2      161.6        109.773    1949 60.171  \n",
       "1950 89.5         284.599 335.1      165.0        110.929    1950 61.187  \n",
       "1951 96.2         328.975 209.9      309.9        112.075    1951 63.221  \n",
       "1952 98.1         346.999 193.2      359.4        113.270    1952 63.639  "
      ]
     },
     "metadata": {},
     "output_type": "display_data"
    },
    {
     "name": "stdout",
     "output_type": "stream",
     "text": [
      "'data.frame':\t16 obs. of  7 variables:\n",
      " $ GNP.deflator: num  83 88.5 88.2 89.5 96.2 ...\n",
      " $ GNP         : num  234 259 258 285 329 ...\n",
      " $ Unemployed  : num  236 232 368 335 210 ...\n",
      " $ Armed.Forces: num  159 146 162 165 310 ...\n",
      " $ Population  : num  108 109 110 111 112 ...\n",
      " $ Year        : int  1947 1948 1949 1950 1951 1952 1953 1954 1955 1956 ...\n",
      " $ Employed    : num  60.3 61.1 60.2 61.2 63.2 ...\n"
     ]
    },
    {
     "data": {
      "text/html": [
       "<ol class=list-inline>\n",
       "\t<li>16</li>\n",
       "\t<li>7</li>\n",
       "</ol>\n"
      ],
      "text/latex": [
       "\\begin{enumerate*}\n",
       "\\item 16\n",
       "\\item 7\n",
       "\\end{enumerate*}\n"
      ],
      "text/markdown": [
       "1. 16\n",
       "2. 7\n",
       "\n",
       "\n"
      ],
      "text/plain": [
       "[1] 16  7"
      ]
     },
     "metadata": {},
     "output_type": "display_data"
    }
   ],
   "source": [
    "head(data_df)\n",
    "str(data_df)\n",
    "dim(data_df)"
   ]
  },
  {
   "cell_type": "markdown",
   "metadata": {},
   "source": [
    "Question 1\n",
    "\n",
    "Fit a linear regression model with ‘Employed’ as the response variable and all other variables (except ‘Year’) as predictors. What are the significant predictors at 10% significance level?"
   ]
  },
  {
   "cell_type": "code",
   "execution_count": 31,
   "metadata": {},
   "outputs": [
    {
     "data": {
      "text/html": [
       "<ol class=list-inline>\n",
       "\t<li>'GNP.deflator'</li>\n",
       "\t<li>'GNP'</li>\n",
       "\t<li>'Unemployed'</li>\n",
       "\t<li>'Armed.Forces'</li>\n",
       "\t<li>'Population'</li>\n",
       "\t<li>'Year'</li>\n",
       "\t<li>'Employed'</li>\n",
       "</ol>\n"
      ],
      "text/latex": [
       "\\begin{enumerate*}\n",
       "\\item 'GNP.deflator'\n",
       "\\item 'GNP'\n",
       "\\item 'Unemployed'\n",
       "\\item 'Armed.Forces'\n",
       "\\item 'Population'\n",
       "\\item 'Year'\n",
       "\\item 'Employed'\n",
       "\\end{enumerate*}\n"
      ],
      "text/markdown": [
       "1. 'GNP.deflator'\n",
       "2. 'GNP'\n",
       "3. 'Unemployed'\n",
       "4. 'Armed.Forces'\n",
       "5. 'Population'\n",
       "6. 'Year'\n",
       "7. 'Employed'\n",
       "\n",
       "\n"
      ],
      "text/plain": [
       "[1] \"GNP.deflator\" \"GNP\"          \"Unemployed\"   \"Armed.Forces\" \"Population\"  \n",
       "[6] \"Year\"         \"Employed\"    "
      ]
     },
     "metadata": {},
     "output_type": "display_data"
    }
   ],
   "source": [
    "names(data_df)"
   ]
  },
  {
   "cell_type": "code",
   "execution_count": 32,
   "metadata": {},
   "outputs": [
    {
     "data": {
      "text/plain": [
       "\n",
       "Call:\n",
       "lm(formula = Employed ~ GNP.deflator + GNP + Unemployed + Armed.Forces + \n",
       "    Population, data = data_df)\n",
       "\n",
       "Residuals:\n",
       "     Min       1Q   Median       3Q      Max \n",
       "-0.55324 -0.36478  0.06106  0.20550  0.93359 \n",
       "\n",
       "Coefficients:\n",
       "              Estimate Std. Error t value Pr(>|t|)  \n",
       "(Intercept)  92.461308  35.169248   2.629   0.0252 *\n",
       "GNP.deflator -0.048463   0.132248  -0.366   0.7217  \n",
       "GNP           0.072004   0.031734   2.269   0.0467 *\n",
       "Unemployed   -0.004039   0.004385  -0.921   0.3788  \n",
       "Armed.Forces -0.005605   0.002838  -1.975   0.0765 .\n",
       "Population   -0.403509   0.330264  -1.222   0.2498  \n",
       "---\n",
       "Signif. codes:  0 '***' 0.001 '**' 0.01 '*' 0.05 '.' 0.1 ' ' 1\n",
       "\n",
       "Residual standard error: 0.4832 on 10 degrees of freedom\n",
       "Multiple R-squared:  0.9874,\tAdjusted R-squared:  0.9811 \n",
       "F-statistic: 156.4 on 5 and 10 DF,  p-value: 3.699e-09\n"
      ]
     },
     "metadata": {},
     "output_type": "display_data"
    },
    {
     "data": {
      "text/html": [
       "<table>\n",
       "<thead><tr><th></th><th scope=col>Df</th><th scope=col>Sum Sq</th><th scope=col>Mean Sq</th><th scope=col>F value</th><th scope=col>Pr(&gt;F)</th></tr></thead>\n",
       "<tbody>\n",
       "\t<tr><th scope=row>GNP.deflator</th><td> 1          </td><td>174.3974498 </td><td>174.3974498 </td><td>746.808191  </td><td>9.967273e-11</td></tr>\n",
       "\t<tr><th scope=row>GNP</th><td> 1          </td><td>  4.7871810 </td><td>  4.7871810 </td><td> 20.499761  </td><td>1.095322e-03</td></tr>\n",
       "\t<tr><th scope=row>Unemployed</th><td> 1          </td><td>  2.2639711 </td><td>  2.2639711 </td><td>  9.694822  </td><td>1.099214e-02</td></tr>\n",
       "\t<tr><th scope=row>Armed.Forces</th><td> 1          </td><td>  0.8763972 </td><td>  0.8763972 </td><td>  3.752925  </td><td>8.145149e-02</td></tr>\n",
       "\t<tr><th scope=row>Population</th><td> 1          </td><td>  0.3485894 </td><td>  0.3485894 </td><td>  1.492736  </td><td>2.498115e-01</td></tr>\n",
       "\t<tr><th scope=row>Residuals</th><td>10          </td><td>  2.3352375 </td><td>  0.2335238 </td><td>        NA  </td><td>          NA</td></tr>\n",
       "</tbody>\n",
       "</table>\n"
      ],
      "text/latex": [
       "\\begin{tabular}{r|lllll}\n",
       "  & Df & Sum Sq & Mean Sq & F value & Pr(>F)\\\\\n",
       "\\hline\n",
       "\tGNP.deflator &  1           & 174.3974498  & 174.3974498  & 746.808191   & 9.967273e-11\\\\\n",
       "\tGNP &  1           &   4.7871810  &   4.7871810  &  20.499761   & 1.095322e-03\\\\\n",
       "\tUnemployed &  1           &   2.2639711  &   2.2639711  &   9.694822   & 1.099214e-02\\\\\n",
       "\tArmed.Forces &  1           &   0.8763972  &   0.8763972  &   3.752925   & 8.145149e-02\\\\\n",
       "\tPopulation &  1           &   0.3485894  &   0.3485894  &   1.492736   & 2.498115e-01\\\\\n",
       "\tResiduals & 10           &   2.3352375  &   0.2335238  &         NA   &           NA\\\\\n",
       "\\end{tabular}\n"
      ],
      "text/markdown": [
       "\n",
       "| <!--/--> | Df | Sum Sq | Mean Sq | F value | Pr(>F) |\n",
       "|---|---|---|---|---|---|\n",
       "| GNP.deflator |  1           | 174.3974498  | 174.3974498  | 746.808191   | 9.967273e-11 |\n",
       "| GNP |  1           |   4.7871810  |   4.7871810  |  20.499761   | 1.095322e-03 |\n",
       "| Unemployed |  1           |   2.2639711  |   2.2639711  |   9.694822   | 1.099214e-02 |\n",
       "| Armed.Forces |  1           |   0.8763972  |   0.8763972  |   3.752925   | 8.145149e-02 |\n",
       "| Population |  1           |   0.3485894  |   0.3485894  |   1.492736   | 2.498115e-01 |\n",
       "| Residuals | 10           |   2.3352375  |   0.2335238  |         NA   |           NA |\n",
       "\n"
      ],
      "text/plain": [
       "             Df Sum Sq      Mean Sq     F value    Pr(>F)      \n",
       "GNP.deflator  1 174.3974498 174.3974498 746.808191 9.967273e-11\n",
       "GNP           1   4.7871810   4.7871810  20.499761 1.095322e-03\n",
       "Unemployed    1   2.2639711   2.2639711   9.694822 1.099214e-02\n",
       "Armed.Forces  1   0.8763972   0.8763972   3.752925 8.145149e-02\n",
       "Population    1   0.3485894   0.3485894   1.492736 2.498115e-01\n",
       "Residuals    10   2.3352375   0.2335238         NA           NA"
      ]
     },
     "metadata": {},
     "output_type": "display_data"
    }
   ],
   "source": [
    "a.lm <- lm(Employed ~ GNP.deflator + GNP + Unemployed + Armed.Forces + Population, data = data_df)\n",
    "summary(a.lm)\n",
    "anova(a.lm)"
   ]
  },
  {
   "cell_type": "markdown",
   "metadata": {},
   "source": [
    "Question 2\n",
    "\n",
    "What can you say about multicollinearity in this model?"
   ]
  },
  {
   "cell_type": "code",
   "execution_count": 33,
   "metadata": {},
   "outputs": [
    {
     "data": {
      "text/html": [
       "<table>\n",
       "<thead><tr><th></th><th scope=col>GNP.deflator</th><th scope=col>GNP</th><th scope=col>Unemployed</th><th scope=col>Armed.Forces</th><th scope=col>Population</th><th scope=col>Year</th><th scope=col>Employed</th></tr></thead>\n",
       "<tbody>\n",
       "\t<tr><th scope=row>GNP.deflator</th><td>1.0000000 </td><td>0.9915892 </td><td> 0.6206334</td><td> 0.4647442</td><td>0.9791634 </td><td>0.9911492 </td><td>0.9708985 </td></tr>\n",
       "\t<tr><th scope=row>GNP</th><td>0.9915892 </td><td>1.0000000 </td><td> 0.6042609</td><td> 0.4464368</td><td>0.9910901 </td><td>0.9952735 </td><td>0.9835516 </td></tr>\n",
       "\t<tr><th scope=row>Unemployed</th><td>0.6206334 </td><td>0.6042609 </td><td> 1.0000000</td><td>-0.1774206</td><td>0.6865515 </td><td>0.6682566 </td><td>0.5024981 </td></tr>\n",
       "\t<tr><th scope=row>Armed.Forces</th><td>0.4647442 </td><td>0.4464368 </td><td>-0.1774206</td><td> 1.0000000</td><td>0.3644163 </td><td>0.4172451 </td><td>0.4573074 </td></tr>\n",
       "\t<tr><th scope=row>Population</th><td>0.9791634 </td><td>0.9910901 </td><td> 0.6865515</td><td> 0.3644163</td><td>1.0000000 </td><td>0.9939528 </td><td>0.9603906 </td></tr>\n",
       "\t<tr><th scope=row>Year</th><td>0.9911492 </td><td>0.9952735 </td><td> 0.6682566</td><td> 0.4172451</td><td>0.9939528 </td><td>1.0000000 </td><td>0.9713295 </td></tr>\n",
       "\t<tr><th scope=row>Employed</th><td>0.9708985 </td><td>0.9835516 </td><td> 0.5024981</td><td> 0.4573074</td><td>0.9603906 </td><td>0.9713295 </td><td>1.0000000 </td></tr>\n",
       "</tbody>\n",
       "</table>\n"
      ],
      "text/latex": [
       "\\begin{tabular}{r|lllllll}\n",
       "  & GNP.deflator & GNP & Unemployed & Armed.Forces & Population & Year & Employed\\\\\n",
       "\\hline\n",
       "\tGNP.deflator & 1.0000000  & 0.9915892  &  0.6206334 &  0.4647442 & 0.9791634  & 0.9911492  & 0.9708985 \\\\\n",
       "\tGNP & 0.9915892  & 1.0000000  &  0.6042609 &  0.4464368 & 0.9910901  & 0.9952735  & 0.9835516 \\\\\n",
       "\tUnemployed & 0.6206334  & 0.6042609  &  1.0000000 & -0.1774206 & 0.6865515  & 0.6682566  & 0.5024981 \\\\\n",
       "\tArmed.Forces & 0.4647442  & 0.4464368  & -0.1774206 &  1.0000000 & 0.3644163  & 0.4172451  & 0.4573074 \\\\\n",
       "\tPopulation & 0.9791634  & 0.9910901  &  0.6865515 &  0.3644163 & 1.0000000  & 0.9939528  & 0.9603906 \\\\\n",
       "\tYear & 0.9911492  & 0.9952735  &  0.6682566 &  0.4172451 & 0.9939528  & 1.0000000  & 0.9713295 \\\\\n",
       "\tEmployed & 0.9708985  & 0.9835516  &  0.5024981 &  0.4573074 & 0.9603906  & 0.9713295  & 1.0000000 \\\\\n",
       "\\end{tabular}\n"
      ],
      "text/markdown": [
       "\n",
       "| <!--/--> | GNP.deflator | GNP | Unemployed | Armed.Forces | Population | Year | Employed |\n",
       "|---|---|---|---|---|---|---|---|\n",
       "| GNP.deflator | 1.0000000  | 0.9915892  |  0.6206334 |  0.4647442 | 0.9791634  | 0.9911492  | 0.9708985  |\n",
       "| GNP | 0.9915892  | 1.0000000  |  0.6042609 |  0.4464368 | 0.9910901  | 0.9952735  | 0.9835516  |\n",
       "| Unemployed | 0.6206334  | 0.6042609  |  1.0000000 | -0.1774206 | 0.6865515  | 0.6682566  | 0.5024981  |\n",
       "| Armed.Forces | 0.4647442  | 0.4464368  | -0.1774206 |  1.0000000 | 0.3644163  | 0.4172451  | 0.4573074  |\n",
       "| Population | 0.9791634  | 0.9910901  |  0.6865515 |  0.3644163 | 1.0000000  | 0.9939528  | 0.9603906  |\n",
       "| Year | 0.9911492  | 0.9952735  |  0.6682566 |  0.4172451 | 0.9939528  | 1.0000000  | 0.9713295  |\n",
       "| Employed | 0.9708985  | 0.9835516  |  0.5024981 |  0.4573074 | 0.9603906  | 0.9713295  | 1.0000000  |\n",
       "\n"
      ],
      "text/plain": [
       "             GNP.deflator GNP       Unemployed Armed.Forces Population\n",
       "GNP.deflator 1.0000000    0.9915892  0.6206334  0.4647442   0.9791634 \n",
       "GNP          0.9915892    1.0000000  0.6042609  0.4464368   0.9910901 \n",
       "Unemployed   0.6206334    0.6042609  1.0000000 -0.1774206   0.6865515 \n",
       "Armed.Forces 0.4647442    0.4464368 -0.1774206  1.0000000   0.3644163 \n",
       "Population   0.9791634    0.9910901  0.6865515  0.3644163   1.0000000 \n",
       "Year         0.9911492    0.9952735  0.6682566  0.4172451   0.9939528 \n",
       "Employed     0.9708985    0.9835516  0.5024981  0.4573074   0.9603906 \n",
       "             Year      Employed \n",
       "GNP.deflator 0.9911492 0.9708985\n",
       "GNP          0.9952735 0.9835516\n",
       "Unemployed   0.6682566 0.5024981\n",
       "Armed.Forces 0.4172451 0.4573074\n",
       "Population   0.9939528 0.9603906\n",
       "Year         1.0000000 0.9713295\n",
       "Employed     0.9713295 1.0000000"
      ]
     },
     "metadata": {},
     "output_type": "display_data"
    }
   ],
   "source": [
    "cor(data_df)"
   ]
  },
  {
   "cell_type": "code",
   "execution_count": null,
   "metadata": {},
   "outputs": [],
   "source": []
  },
  {
   "cell_type": "markdown",
   "metadata": {},
   "source": [
    "Instructions for Questions 3 - 6:\n",
    "\n",
    "\n",
    "The **\"trees\"** dataset contains the girth (diameter), height, and volume for black cherry trees. Download the dataset in R using the command **\"data(trees)\"**. Create two Linear-Linear models. The first model should use girth to predict volume, and the second model should use height to predict volume. "
   ]
  },
  {
   "cell_type": "code",
   "execution_count": 40,
   "metadata": {},
   "outputs": [],
   "source": [
    "data_trees = trees"
   ]
  },
  {
   "cell_type": "code",
   "execution_count": 42,
   "metadata": {},
   "outputs": [
    {
     "data": {
      "text/html": [
       "<table>\n",
       "<thead><tr><th scope=col>Girth</th><th scope=col>Height</th><th scope=col>Volume</th></tr></thead>\n",
       "<tbody>\n",
       "\t<tr><td> 8.3</td><td>70  </td><td>10.3</td></tr>\n",
       "\t<tr><td> 8.6</td><td>65  </td><td>10.3</td></tr>\n",
       "\t<tr><td> 8.8</td><td>63  </td><td>10.2</td></tr>\n",
       "\t<tr><td>10.5</td><td>72  </td><td>16.4</td></tr>\n",
       "\t<tr><td>10.7</td><td>81  </td><td>18.8</td></tr>\n",
       "\t<tr><td>10.8</td><td>83  </td><td>19.7</td></tr>\n",
       "</tbody>\n",
       "</table>\n"
      ],
      "text/latex": [
       "\\begin{tabular}{r|lll}\n",
       " Girth & Height & Volume\\\\\n",
       "\\hline\n",
       "\t  8.3 & 70   & 10.3\\\\\n",
       "\t  8.6 & 65   & 10.3\\\\\n",
       "\t  8.8 & 63   & 10.2\\\\\n",
       "\t 10.5 & 72   & 16.4\\\\\n",
       "\t 10.7 & 81   & 18.8\\\\\n",
       "\t 10.8 & 83   & 19.7\\\\\n",
       "\\end{tabular}\n"
      ],
      "text/markdown": [
       "\n",
       "| Girth | Height | Volume |\n",
       "|---|---|---|\n",
       "|  8.3 | 70   | 10.3 |\n",
       "|  8.6 | 65   | 10.3 |\n",
       "|  8.8 | 63   | 10.2 |\n",
       "| 10.5 | 72   | 16.4 |\n",
       "| 10.7 | 81   | 18.8 |\n",
       "| 10.8 | 83   | 19.7 |\n",
       "\n"
      ],
      "text/plain": [
       "  Girth Height Volume\n",
       "1  8.3  70     10.3  \n",
       "2  8.6  65     10.3  \n",
       "3  8.8  63     10.2  \n",
       "4 10.5  72     16.4  \n",
       "5 10.7  81     18.8  \n",
       "6 10.8  83     19.7  "
      ]
     },
     "metadata": {},
     "output_type": "display_data"
    },
    {
     "name": "stdout",
     "output_type": "stream",
     "text": [
      "'data.frame':\t31 obs. of  3 variables:\n",
      " $ Girth : num  8.3 8.6 8.8 10.5 10.7 10.8 11 11 11.1 11.2 ...\n",
      " $ Height: num  70 65 63 72 81 83 66 75 80 75 ...\n",
      " $ Volume: num  10.3 10.3 10.2 16.4 18.8 19.7 15.6 18.2 22.6 19.9 ...\n"
     ]
    },
    {
     "data": {
      "text/html": [
       "<ol class=list-inline>\n",
       "\t<li>31</li>\n",
       "\t<li>3</li>\n",
       "</ol>\n"
      ],
      "text/latex": [
       "\\begin{enumerate*}\n",
       "\\item 31\n",
       "\\item 3\n",
       "\\end{enumerate*}\n"
      ],
      "text/markdown": [
       "1. 31\n",
       "2. 3\n",
       "\n",
       "\n"
      ],
      "text/plain": [
       "[1] 31  3"
      ]
     },
     "metadata": {},
     "output_type": "display_data"
    }
   ],
   "source": [
    "head(data_trees)\n",
    "str(data_trees)\n",
    "dim(data_trees)"
   ]
  },
  {
   "cell_type": "code",
   "execution_count": 43,
   "metadata": {},
   "outputs": [
    {
     "data": {
      "text/plain": [
       "\n",
       "Call:\n",
       "lm(formula = Volume ~ Girth, data = data_trees)\n",
       "\n",
       "Residuals:\n",
       "   Min     1Q Median     3Q    Max \n",
       "-8.065 -3.107  0.152  3.495  9.587 \n",
       "\n",
       "Coefficients:\n",
       "            Estimate Std. Error t value Pr(>|t|)    \n",
       "(Intercept) -36.9435     3.3651  -10.98 7.62e-12 ***\n",
       "Girth         5.0659     0.2474   20.48  < 2e-16 ***\n",
       "---\n",
       "Signif. codes:  0 '***' 0.001 '**' 0.01 '*' 0.05 '.' 0.1 ' ' 1\n",
       "\n",
       "Residual standard error: 4.252 on 29 degrees of freedom\n",
       "Multiple R-squared:  0.9353,\tAdjusted R-squared:  0.9331 \n",
       "F-statistic: 419.4 on 1 and 29 DF,  p-value: < 2.2e-16\n"
      ]
     },
     "metadata": {},
     "output_type": "display_data"
    }
   ],
   "source": [
    "a.lm <- lm(Volume ~ Girth, data = data_trees)\n",
    "summary(a.lm)"
   ]
  },
  {
   "cell_type": "code",
   "execution_count": 44,
   "metadata": {},
   "outputs": [
    {
     "data": {
      "text/plain": [
       "\n",
       "Call:\n",
       "lm(formula = Volume ~ Height, data = data_trees)\n",
       "\n",
       "Residuals:\n",
       "    Min      1Q  Median      3Q     Max \n",
       "-21.274  -9.894  -2.894  12.068  29.852 \n",
       "\n",
       "Coefficients:\n",
       "            Estimate Std. Error t value Pr(>|t|)    \n",
       "(Intercept) -87.1236    29.2731  -2.976 0.005835 ** \n",
       "Height        1.5433     0.3839   4.021 0.000378 ***\n",
       "---\n",
       "Signif. codes:  0 '***' 0.001 '**' 0.01 '*' 0.05 '.' 0.1 ' ' 1\n",
       "\n",
       "Residual standard error: 13.4 on 29 degrees of freedom\n",
       "Multiple R-squared:  0.3579,\tAdjusted R-squared:  0.3358 \n",
       "F-statistic: 16.16 on 1 and 29 DF,  p-value: 0.0003784\n"
      ]
     },
     "metadata": {},
     "output_type": "display_data"
    }
   ],
   "source": [
    "a.lm <- lm(Volume ~ Height, data = data_trees)\n",
    "summary(a.lm)"
   ]
  },
  {
   "cell_type": "markdown",
   "metadata": {},
   "source": [
    "Question 3\n",
    "\n",
    "What is the Adjusted R-Squared for each model."
   ]
  },
  {
   "cell_type": "code",
   "execution_count": null,
   "metadata": {},
   "outputs": [],
   "source": []
  },
  {
   "cell_type": "markdown",
   "metadata": {},
   "source": [
    "Question 4\n",
    "\n",
    "Using girth as the independent variable and volume as the dependent variable, which of the following models has the WORST R-squared. Compare to four decimal places."
   ]
  },
  {
   "cell_type": "code",
   "execution_count": 48,
   "metadata": {},
   "outputs": [],
   "source": [
    "library(tidyverse)"
   ]
  },
  {
   "cell_type": "code",
   "execution_count": 51,
   "metadata": {},
   "outputs": [],
   "source": [
    "data_trees <- data_trees %>%\n",
    "    mutate(Ln_Volume = log(Volume)) %>%\n",
    "    mutate(Ln_Girth = log(Girth)) %>%\n",
    "    mutate(Ln_Height = log(Height))"
   ]
  },
  {
   "cell_type": "code",
   "execution_count": 52,
   "metadata": {},
   "outputs": [
    {
     "data": {
      "text/plain": [
       "\n",
       "Call:\n",
       "lm(formula = Volume ~ Girth, data = data_trees)\n",
       "\n",
       "Residuals:\n",
       "   Min     1Q Median     3Q    Max \n",
       "-8.065 -3.107  0.152  3.495  9.587 \n",
       "\n",
       "Coefficients:\n",
       "            Estimate Std. Error t value Pr(>|t|)    \n",
       "(Intercept) -36.9435     3.3651  -10.98 7.62e-12 ***\n",
       "Girth         5.0659     0.2474   20.48  < 2e-16 ***\n",
       "---\n",
       "Signif. codes:  0 '***' 0.001 '**' 0.01 '*' 0.05 '.' 0.1 ' ' 1\n",
       "\n",
       "Residual standard error: 4.252 on 29 degrees of freedom\n",
       "Multiple R-squared:  0.9353,\tAdjusted R-squared:  0.9331 \n",
       "F-statistic: 419.4 on 1 and 29 DF,  p-value: < 2.2e-16\n"
      ]
     },
     "metadata": {},
     "output_type": "display_data"
    }
   ],
   "source": [
    "# Linear-Linear \n",
    "a.lm <- lm(Volume ~ Girth, data = data_trees)\n",
    "summary(a.lm)"
   ]
  },
  {
   "cell_type": "code",
   "execution_count": 53,
   "metadata": {},
   "outputs": [
    {
     "data": {
      "text/plain": [
       "\n",
       "Call:\n",
       "lm(formula = Volume ~ Ln_Girth, data = data_trees)\n",
       "\n",
       "Residuals:\n",
       "    Min      1Q  Median      3Q     Max \n",
       "-9.7246 -3.5312 -0.9174  3.2154 15.8780 \n",
       "\n",
       "Coefficients:\n",
       "            Estimate Std. Error t value Pr(>|t|)    \n",
       "(Intercept) -138.973     11.439  -12.15 6.71e-13 ***\n",
       "Ln_Girth      66.141      4.455   14.85 4.38e-15 ***\n",
       "---\n",
       "Signif. codes:  0 '***' 0.001 '**' 0.01 '*' 0.05 '.' 0.1 ' ' 1\n",
       "\n",
       "Residual standard error: 5.701 on 29 degrees of freedom\n",
       "Multiple R-squared:  0.8837,\tAdjusted R-squared:  0.8797 \n",
       "F-statistic: 220.4 on 1 and 29 DF,  p-value: 4.381e-15\n"
      ]
     },
     "metadata": {},
     "output_type": "display_data"
    }
   ],
   "source": [
    "# Linear-Log \n",
    "a.lm <- lm(Volume ~ Ln_Girth, data = data_trees)\n",
    "summary(a.lm)"
   ]
  },
  {
   "cell_type": "code",
   "execution_count": 54,
   "metadata": {},
   "outputs": [
    {
     "data": {
      "text/plain": [
       "\n",
       "Call:\n",
       "lm(formula = Ln_Volume ~ Girth, data = data_trees)\n",
       "\n",
       "Residuals:\n",
       "     Min       1Q   Median       3Q      Max \n",
       "-0.22719 -0.11468  0.02889  0.07930  0.30436 \n",
       "\n",
       "Coefficients:\n",
       "            Estimate Std. Error t value Pr(>|t|)    \n",
       "(Intercept) 1.118997   0.104021   10.76 1.23e-11 ***\n",
       "Girth       0.162566   0.007647   21.26  < 2e-16 ***\n",
       "---\n",
       "Signif. codes:  0 '***' 0.001 '**' 0.01 '*' 0.05 '.' 0.1 ' ' 1\n",
       "\n",
       "Residual standard error: 0.1314 on 29 degrees of freedom\n",
       "Multiple R-squared:  0.9397,\tAdjusted R-squared:  0.9376 \n",
       "F-statistic:   452 on 1 and 29 DF,  p-value: < 2.2e-16\n"
      ]
     },
     "metadata": {},
     "output_type": "display_data"
    }
   ],
   "source": [
    "# Log-Linear \n",
    "a.lm <- lm(Ln_Volume ~ Girth, data = data_trees)\n",
    "summary(a.lm)"
   ]
  },
  {
   "cell_type": "code",
   "execution_count": 55,
   "metadata": {},
   "outputs": [
    {
     "data": {
      "text/plain": [
       "\n",
       "Call:\n",
       "lm(formula = Ln_Volume ~ Ln_Girth, data = data_trees)\n",
       "\n",
       "Residuals:\n",
       "      Min        1Q    Median        3Q       Max \n",
       "-0.205999 -0.068702  0.001011  0.072585  0.247963 \n",
       "\n",
       "Coefficients:\n",
       "            Estimate Std. Error t value Pr(>|t|)    \n",
       "(Intercept) -2.35332    0.23066  -10.20 4.18e-11 ***\n",
       "Ln_Girth     2.19997    0.08983   24.49  < 2e-16 ***\n",
       "---\n",
       "Signif. codes:  0 '***' 0.001 '**' 0.01 '*' 0.05 '.' 0.1 ' ' 1\n",
       "\n",
       "Residual standard error: 0.115 on 29 degrees of freedom\n",
       "Multiple R-squared:  0.9539,\tAdjusted R-squared:  0.9523 \n",
       "F-statistic: 599.7 on 1 and 29 DF,  p-value: < 2.2e-16\n"
      ]
     },
     "metadata": {},
     "output_type": "display_data"
    }
   ],
   "source": [
    "# Log-Log \n",
    "a.lm <- lm(Ln_Volume ~ Ln_Girth, data = data_trees)\n",
    "summary(a.lm)"
   ]
  },
  {
   "cell_type": "markdown",
   "metadata": {},
   "source": [
    "For questions 5 and 6:  Using Volume as the dependent variable and Girth and Height as the independent variables, fit the log-log model i.e., log(Volume) ~ log(Girth) + log(Height) "
   ]
  },
  {
   "cell_type": "markdown",
   "metadata": {},
   "source": [
    "Question 5\n",
    "\n",
    "Interpret the coefficient of the independent variable for the Log -Log model"
   ]
  },
  {
   "cell_type": "code",
   "execution_count": 56,
   "metadata": {},
   "outputs": [
    {
     "data": {
      "text/plain": [
       "\n",
       "Call:\n",
       "lm(formula = Ln_Volume ~ Ln_Girth + Ln_Height, data = data_trees)\n",
       "\n",
       "Residuals:\n",
       "      Min        1Q    Median        3Q       Max \n",
       "-0.168561 -0.048488  0.002431  0.063637  0.129223 \n",
       "\n",
       "Coefficients:\n",
       "            Estimate Std. Error t value Pr(>|t|)    \n",
       "(Intercept) -6.63162    0.79979  -8.292 5.06e-09 ***\n",
       "Ln_Girth     1.98265    0.07501  26.432  < 2e-16 ***\n",
       "Ln_Height    1.11712    0.20444   5.464 7.81e-06 ***\n",
       "---\n",
       "Signif. codes:  0 '***' 0.001 '**' 0.01 '*' 0.05 '.' 0.1 ' ' 1\n",
       "\n",
       "Residual standard error: 0.08139 on 28 degrees of freedom\n",
       "Multiple R-squared:  0.9777,\tAdjusted R-squared:  0.9761 \n",
       "F-statistic: 613.2 on 2 and 28 DF,  p-value: < 2.2e-16\n"
      ]
     },
     "metadata": {},
     "output_type": "display_data"
    }
   ],
   "source": [
    "# Log-Log \n",
    "a.lm <- lm(Ln_Volume ~ Ln_Girth + Ln_Height, data = data_trees)\n",
    "summary(a.lm)"
   ]
  },
  {
   "cell_type": "code",
   "execution_count": 57,
   "metadata": {},
   "outputs": [
    {
     "data": {
      "text/html": [
       "3.09977"
      ],
      "text/latex": [
       "3.09977"
      ],
      "text/markdown": [
       "3.09977"
      ],
      "text/plain": [
       "[1] 3.09977"
      ]
     },
     "metadata": {},
     "output_type": "display_data"
    }
   ],
   "source": [
    "1.98265 + 1.11712"
   ]
  },
  {
   "cell_type": "markdown",
   "metadata": {},
   "source": [
    "Instructions for Questions 7-9:\n",
    "\n",
    "\n",
    "An online company X had an advertising campaign for a subscription last week for its online users.  An analyst from the company wants to see whether the advertising campaign persuaded the users to purchase it or not. The advertising.csv data provided consists of 400 users along with the information of their gender, age and estimated salary. It says whether the user has purchased the subscription or not. The analyst wants to fit a logistic regression model of Purchased (Y) with the three predictor variables in first-order terms. Keep Female  Gender as the base class. \n",
    "\n",
    "  \n",
    "\n",
    "log(π/1−π) = β0 + β1xi1 + β2xi2 + β3xi3 \n",
    "\n",
    "where E[Y] = π and \n",
    "\n",
    "xi1 is Gender, xi2 is Age and xi3 is Estimated Salary variable. "
   ]
  },
  {
   "cell_type": "code",
   "execution_count": 58,
   "metadata": {},
   "outputs": [],
   "source": [
    "advertising_df = read.csv(\"advertising.csv\")"
   ]
  },
  {
   "cell_type": "code",
   "execution_count": 60,
   "metadata": {},
   "outputs": [
    {
     "data": {
      "text/html": [
       "<table>\n",
       "<thead><tr><th scope=col>User.ID</th><th scope=col>Gender</th><th scope=col>Age</th><th scope=col>EstimatedSalary</th><th scope=col>Purchased</th></tr></thead>\n",
       "<tbody>\n",
       "\t<tr><td>15624510</td><td>Male    </td><td>19      </td><td>19000   </td><td>0       </td></tr>\n",
       "\t<tr><td>15810944</td><td>Male    </td><td>35      </td><td>20000   </td><td>0       </td></tr>\n",
       "\t<tr><td>15668575</td><td>Female  </td><td>26      </td><td>43000   </td><td>0       </td></tr>\n",
       "\t<tr><td>15603246</td><td>Female  </td><td>27      </td><td>57000   </td><td>0       </td></tr>\n",
       "\t<tr><td>15804002</td><td>Male    </td><td>19      </td><td>76000   </td><td>0       </td></tr>\n",
       "\t<tr><td>15728773</td><td>Male    </td><td>27      </td><td>58000   </td><td>0       </td></tr>\n",
       "</tbody>\n",
       "</table>\n"
      ],
      "text/latex": [
       "\\begin{tabular}{r|lllll}\n",
       " User.ID & Gender & Age & EstimatedSalary & Purchased\\\\\n",
       "\\hline\n",
       "\t 15624510 & Male     & 19       & 19000    & 0       \\\\\n",
       "\t 15810944 & Male     & 35       & 20000    & 0       \\\\\n",
       "\t 15668575 & Female   & 26       & 43000    & 0       \\\\\n",
       "\t 15603246 & Female   & 27       & 57000    & 0       \\\\\n",
       "\t 15804002 & Male     & 19       & 76000    & 0       \\\\\n",
       "\t 15728773 & Male     & 27       & 58000    & 0       \\\\\n",
       "\\end{tabular}\n"
      ],
      "text/markdown": [
       "\n",
       "| User.ID | Gender | Age | EstimatedSalary | Purchased |\n",
       "|---|---|---|---|---|\n",
       "| 15624510 | Male     | 19       | 19000    | 0        |\n",
       "| 15810944 | Male     | 35       | 20000    | 0        |\n",
       "| 15668575 | Female   | 26       | 43000    | 0        |\n",
       "| 15603246 | Female   | 27       | 57000    | 0        |\n",
       "| 15804002 | Male     | 19       | 76000    | 0        |\n",
       "| 15728773 | Male     | 27       | 58000    | 0        |\n",
       "\n"
      ],
      "text/plain": [
       "  User.ID  Gender Age EstimatedSalary Purchased\n",
       "1 15624510 Male   19  19000           0        \n",
       "2 15810944 Male   35  20000           0        \n",
       "3 15668575 Female 26  43000           0        \n",
       "4 15603246 Female 27  57000           0        \n",
       "5 15804002 Male   19  76000           0        \n",
       "6 15728773 Male   27  58000           0        "
      ]
     },
     "metadata": {},
     "output_type": "display_data"
    },
    {
     "name": "stdout",
     "output_type": "stream",
     "text": [
      "'data.frame':\t400 obs. of  5 variables:\n",
      " $ User.ID        : int  15624510 15810944 15668575 15603246 15804002 15728773 15598044 15694829 15600575 15727311 ...\n",
      " $ Gender         : Factor w/ 2 levels \"Female\",\"Male\": 2 2 1 1 2 2 1 1 2 1 ...\n",
      " $ Age            : int  19 35 26 27 19 27 27 32 25 35 ...\n",
      " $ EstimatedSalary: int  19000 20000 43000 57000 76000 58000 84000 150000 33000 65000 ...\n",
      " $ Purchased      : int  0 0 0 0 0 0 0 1 0 0 ...\n"
     ]
    },
    {
     "data": {
      "text/html": [
       "<ol class=list-inline>\n",
       "\t<li>400</li>\n",
       "\t<li>5</li>\n",
       "</ol>\n"
      ],
      "text/latex": [
       "\\begin{enumerate*}\n",
       "\\item 400\n",
       "\\item 5\n",
       "\\end{enumerate*}\n"
      ],
      "text/markdown": [
       "1. 400\n",
       "2. 5\n",
       "\n",
       "\n"
      ],
      "text/plain": [
       "[1] 400   5"
      ]
     },
     "metadata": {},
     "output_type": "display_data"
    }
   ],
   "source": [
    "head(advertising_df)\n",
    "str(advertising_df)\n",
    "dim(advertising_df)"
   ]
  },
  {
   "cell_type": "code",
   "execution_count": 61,
   "metadata": {},
   "outputs": [],
   "source": [
    "advertising_df <- advertising_df %>%\n",
    "  mutate(Male = ifelse(Gender == \"Male\",1,0))"
   ]
  },
  {
   "cell_type": "code",
   "execution_count": 62,
   "metadata": {},
   "outputs": [
    {
     "data": {
      "text/html": [
       "<table>\n",
       "<thead><tr><th scope=col>User.ID</th><th scope=col>Gender</th><th scope=col>Age</th><th scope=col>EstimatedSalary</th><th scope=col>Purchased</th><th scope=col>Male</th></tr></thead>\n",
       "<tbody>\n",
       "\t<tr><td>15624510</td><td>Male    </td><td>19      </td><td>19000   </td><td>0       </td><td>1       </td></tr>\n",
       "\t<tr><td>15810944</td><td>Male    </td><td>35      </td><td>20000   </td><td>0       </td><td>1       </td></tr>\n",
       "\t<tr><td>15668575</td><td>Female  </td><td>26      </td><td>43000   </td><td>0       </td><td>0       </td></tr>\n",
       "\t<tr><td>15603246</td><td>Female  </td><td>27      </td><td>57000   </td><td>0       </td><td>0       </td></tr>\n",
       "\t<tr><td>15804002</td><td>Male    </td><td>19      </td><td>76000   </td><td>0       </td><td>1       </td></tr>\n",
       "\t<tr><td>15728773</td><td>Male    </td><td>27      </td><td>58000   </td><td>0       </td><td>1       </td></tr>\n",
       "</tbody>\n",
       "</table>\n"
      ],
      "text/latex": [
       "\\begin{tabular}{r|llllll}\n",
       " User.ID & Gender & Age & EstimatedSalary & Purchased & Male\\\\\n",
       "\\hline\n",
       "\t 15624510 & Male     & 19       & 19000    & 0        & 1       \\\\\n",
       "\t 15810944 & Male     & 35       & 20000    & 0        & 1       \\\\\n",
       "\t 15668575 & Female   & 26       & 43000    & 0        & 0       \\\\\n",
       "\t 15603246 & Female   & 27       & 57000    & 0        & 0       \\\\\n",
       "\t 15804002 & Male     & 19       & 76000    & 0        & 1       \\\\\n",
       "\t 15728773 & Male     & 27       & 58000    & 0        & 1       \\\\\n",
       "\\end{tabular}\n"
      ],
      "text/markdown": [
       "\n",
       "| User.ID | Gender | Age | EstimatedSalary | Purchased | Male |\n",
       "|---|---|---|---|---|---|\n",
       "| 15624510 | Male     | 19       | 19000    | 0        | 1        |\n",
       "| 15810944 | Male     | 35       | 20000    | 0        | 1        |\n",
       "| 15668575 | Female   | 26       | 43000    | 0        | 0        |\n",
       "| 15603246 | Female   | 27       | 57000    | 0        | 0        |\n",
       "| 15804002 | Male     | 19       | 76000    | 0        | 1        |\n",
       "| 15728773 | Male     | 27       | 58000    | 0        | 1        |\n",
       "\n"
      ],
      "text/plain": [
       "  User.ID  Gender Age EstimatedSalary Purchased Male\n",
       "1 15624510 Male   19  19000           0         1   \n",
       "2 15810944 Male   35  20000           0         1   \n",
       "3 15668575 Female 26  43000           0         0   \n",
       "4 15603246 Female 27  57000           0         0   \n",
       "5 15804002 Male   19  76000           0         1   \n",
       "6 15728773 Male   27  58000           0         1   "
      ]
     },
     "metadata": {},
     "output_type": "display_data"
    }
   ],
   "source": [
    "head(advertising_df)"
   ]
  },
  {
   "cell_type": "markdown",
   "metadata": {},
   "source": [
    "Question 7\n",
    "\n",
    "Find the maximum likelihood estimates of β0, β1, β2, and β3 and state the fitted response function."
   ]
  },
  {
   "cell_type": "code",
   "execution_count": 64,
   "metadata": {},
   "outputs": [
    {
     "data": {
      "text/plain": [
       "\n",
       "Call:\n",
       "glm(formula = Purchased ~ Gender + Age + EstimatedSalary, family = \"binomial\", \n",
       "    data = advertising_df)\n",
       "\n",
       "Deviance Residuals: \n",
       "    Min       1Q   Median       3Q      Max  \n",
       "-2.9109  -0.5218  -0.1406   0.3662   2.4254  \n",
       "\n",
       "Coefficients:\n",
       "                  Estimate Std. Error z value Pr(>|z|)    \n",
       "(Intercept)     -1.278e+01  1.359e+00  -9.405  < 2e-16 ***\n",
       "GenderMale       3.338e-01  3.052e-01   1.094    0.274    \n",
       "Age              2.370e-01  2.638e-02   8.984  < 2e-16 ***\n",
       "EstimatedSalary  3.644e-05  5.473e-06   6.659 2.77e-11 ***\n",
       "---\n",
       "Signif. codes:  0 '***' 0.001 '**' 0.01 '*' 0.05 '.' 0.1 ' ' 1\n",
       "\n",
       "(Dispersion parameter for binomial family taken to be 1)\n",
       "\n",
       "    Null deviance: 521.57  on 399  degrees of freedom\n",
       "Residual deviance: 275.84  on 396  degrees of freedom\n",
       "AIC: 283.84\n",
       "\n",
       "Number of Fisher Scoring iterations: 6\n"
      ]
     },
     "metadata": {},
     "output_type": "display_data"
    }
   ],
   "source": [
    "a.lm <- glm(Purchased ~ Gender + Age + EstimatedSalary, data = advertising_df, family = \"binomial\")\n",
    "summary(a.lm)"
   ]
  },
  {
   "cell_type": "code",
   "execution_count": 65,
   "metadata": {},
   "outputs": [
    {
     "data": {
      "text/plain": [
       "\n",
       "Call:\n",
       "glm(formula = Purchased ~ Age + EstimatedSalary, family = \"binomial\", \n",
       "    data = advertising_df)\n",
       "\n",
       "Deviance Residuals: \n",
       "    Min       1Q   Median       3Q      Max  \n",
       "-2.9444  -0.5480  -0.1444   0.3824   2.3449  \n",
       "\n",
       "Coefficients:\n",
       "                  Estimate Std. Error z value Pr(>|z|)    \n",
       "(Intercept)     -1.243e+01  1.300e+00  -9.566  < 2e-16 ***\n",
       "Age              2.335e-01  2.591e-02   9.013  < 2e-16 ***\n",
       "EstimatedSalary  3.590e-05  5.429e-06   6.613 3.77e-11 ***\n",
       "---\n",
       "Signif. codes:  0 '***' 0.001 '**' 0.01 '*' 0.05 '.' 0.1 ' ' 1\n",
       "\n",
       "(Dispersion parameter for binomial family taken to be 1)\n",
       "\n",
       "    Null deviance: 521.57  on 399  degrees of freedom\n",
       "Residual deviance: 277.05  on 397  degrees of freedom\n",
       "AIC: 283.05\n",
       "\n",
       "Number of Fisher Scoring iterations: 6\n"
      ]
     },
     "metadata": {},
     "output_type": "display_data"
    }
   ],
   "source": [
    "a.lm <- glm(Purchased ~ Age + EstimatedSalary, data = advertising_df, family = \"binomial\")\n",
    "summary(a.lm)"
   ]
  },
  {
   "cell_type": "code",
   "execution_count": 67,
   "metadata": {},
   "outputs": [
    {
     "data": {
      "text/html": [
       "-12.1965"
      ],
      "text/latex": [
       "-12.1965"
      ],
      "text/markdown": [
       "-12.1965"
      ],
      "text/plain": [
       "[1] -12.1965"
      ]
     },
     "metadata": {},
     "output_type": "display_data"
    }
   ],
   "source": [
    ".2335 - 12.43"
   ]
  },
  {
   "cell_type": "markdown",
   "metadata": {},
   "source": [
    "**Instructions for Questions 10 and 11:**\n",
    "\n",
    "The sleep dataset measures the extra amount of sleep received by individuals in two different groups.  Run the following command to download the dataset: data(sleep).  Regress the variable “extra” onto the variable “group”.  Make sure group 1 is your reference group. "
   ]
  },
  {
   "cell_type": "code",
   "execution_count": 68,
   "metadata": {},
   "outputs": [],
   "source": [
    "data_sleep <- sleep"
   ]
  },
  {
   "cell_type": "code",
   "execution_count": 70,
   "metadata": {},
   "outputs": [
    {
     "data": {
      "text/html": [
       "<table>\n",
       "<thead><tr><th scope=col>extra</th><th scope=col>group</th><th scope=col>ID</th></tr></thead>\n",
       "<tbody>\n",
       "\t<tr><td> 0.7</td><td>1   </td><td>1   </td></tr>\n",
       "\t<tr><td>-1.6</td><td>1   </td><td>2   </td></tr>\n",
       "\t<tr><td>-0.2</td><td>1   </td><td>3   </td></tr>\n",
       "\t<tr><td>-1.2</td><td>1   </td><td>4   </td></tr>\n",
       "\t<tr><td>-0.1</td><td>1   </td><td>5   </td></tr>\n",
       "\t<tr><td> 3.4</td><td>1   </td><td>6   </td></tr>\n",
       "</tbody>\n",
       "</table>\n"
      ],
      "text/latex": [
       "\\begin{tabular}{r|lll}\n",
       " extra & group & ID\\\\\n",
       "\\hline\n",
       "\t  0.7 & 1    & 1   \\\\\n",
       "\t -1.6 & 1    & 2   \\\\\n",
       "\t -0.2 & 1    & 3   \\\\\n",
       "\t -1.2 & 1    & 4   \\\\\n",
       "\t -0.1 & 1    & 5   \\\\\n",
       "\t  3.4 & 1    & 6   \\\\\n",
       "\\end{tabular}\n"
      ],
      "text/markdown": [
       "\n",
       "| extra | group | ID |\n",
       "|---|---|---|\n",
       "|  0.7 | 1    | 1    |\n",
       "| -1.6 | 1    | 2    |\n",
       "| -0.2 | 1    | 3    |\n",
       "| -1.2 | 1    | 4    |\n",
       "| -0.1 | 1    | 5    |\n",
       "|  3.4 | 1    | 6    |\n",
       "\n"
      ],
      "text/plain": [
       "  extra group ID\n",
       "1  0.7  1     1 \n",
       "2 -1.6  1     2 \n",
       "3 -0.2  1     3 \n",
       "4 -1.2  1     4 \n",
       "5 -0.1  1     5 \n",
       "6  3.4  1     6 "
      ]
     },
     "metadata": {},
     "output_type": "display_data"
    },
    {
     "name": "stdout",
     "output_type": "stream",
     "text": [
      "'data.frame':\t20 obs. of  3 variables:\n",
      " $ extra: num  0.7 -1.6 -0.2 -1.2 -0.1 3.4 3.7 0.8 0 2 ...\n",
      " $ group: Factor w/ 2 levels \"1\",\"2\": 1 1 1 1 1 1 1 1 1 1 ...\n",
      " $ ID   : Factor w/ 10 levels \"1\",\"2\",\"3\",\"4\",..: 1 2 3 4 5 6 7 8 9 10 ...\n"
     ]
    },
    {
     "data": {
      "text/html": [
       "<ol class=list-inline>\n",
       "\t<li>20</li>\n",
       "\t<li>3</li>\n",
       "</ol>\n"
      ],
      "text/latex": [
       "\\begin{enumerate*}\n",
       "\\item 20\n",
       "\\item 3\n",
       "\\end{enumerate*}\n"
      ],
      "text/markdown": [
       "1. 20\n",
       "2. 3\n",
       "\n",
       "\n"
      ],
      "text/plain": [
       "[1] 20  3"
      ]
     },
     "metadata": {},
     "output_type": "display_data"
    }
   ],
   "source": [
    "head(data_sleep)\n",
    "str(data_sleep)\n",
    "dim(data_sleep)"
   ]
  },
  {
   "cell_type": "code",
   "execution_count": 72,
   "metadata": {},
   "outputs": [
    {
     "data": {
      "text/plain": [
       "\n",
       " 1  2 \n",
       "10 10 "
      ]
     },
     "metadata": {},
     "output_type": "display_data"
    }
   ],
   "source": [
    "table(data_sleep$group)"
   ]
  },
  {
   "cell_type": "markdown",
   "metadata": {},
   "source": [
    "Question 10\n",
    "\n",
    "What is the difference estimator for the two groups? Is the estimator significant at 10% confidence interval?"
   ]
  },
  {
   "cell_type": "code",
   "execution_count": 73,
   "metadata": {},
   "outputs": [
    {
     "data": {
      "text/plain": [
       "\n",
       "Call:\n",
       "lm(formula = extra ~ group, data = data_sleep)\n",
       "\n",
       "Residuals:\n",
       "   Min     1Q Median     3Q    Max \n",
       "-2.430 -1.305 -0.580  1.455  3.170 \n",
       "\n",
       "Coefficients:\n",
       "            Estimate Std. Error t value Pr(>|t|)  \n",
       "(Intercept)   0.7500     0.6004   1.249   0.2276  \n",
       "group2        1.5800     0.8491   1.861   0.0792 .\n",
       "---\n",
       "Signif. codes:  0 '***' 0.001 '**' 0.01 '*' 0.05 '.' 0.1 ' ' 1\n",
       "\n",
       "Residual standard error: 1.899 on 18 degrees of freedom\n",
       "Multiple R-squared:  0.1613,\tAdjusted R-squared:  0.1147 \n",
       "F-statistic: 3.463 on 1 and 18 DF,  p-value: 0.07919\n"
      ]
     },
     "metadata": {},
     "output_type": "display_data"
    }
   ],
   "source": [
    "a.lm <- lm(extra ~  group, data = data_sleep)\n",
    "summary(a.lm)"
   ]
  },
  {
   "cell_type": "markdown",
   "metadata": {},
   "source": [
    "Question 11\n",
    "\n",
    "What is the Average extra sleep for both group 1 and group 2?"
   ]
  },
  {
   "cell_type": "code",
   "execution_count": 79,
   "metadata": {},
   "outputs": [],
   "source": [
    "data_sleep_df_group1 <- data_sleep[data_sleep$group %in% c(1), ]\n",
    "data_sleep_df_group2 <- data_sleep[data_sleep$group %in% c(2), ]"
   ]
  },
  {
   "cell_type": "code",
   "execution_count": 80,
   "metadata": {},
   "outputs": [
    {
     "name": "stdout",
     "output_type": "stream",
     "text": [
      "[1] \"Average extra sleep for both group 1 is:  0.75\"\n",
      "[1] \"Average extra sleep for both group 2 is:  2.33\"\n"
     ]
    }
   ],
   "source": [
    "print(paste(\"Average extra sleep for both group 1 is: \", mean(data_sleep_df_group1$extra)))\n",
    "print(paste(\"Average extra sleep for both group 2 is: \", mean(data_sleep_df_group2$extra)))"
   ]
  },
  {
   "cell_type": "markdown",
   "metadata": {},
   "source": [
    "**Instructions for Questions 12 and 13:**\n",
    "\n",
    "For Q12 and Q13, please consider the attached US States COVID cases dataset “us-counties.csv”:  us-counties.csv\n",
    "\n",
    "\n",
    "The WHO declared COVID-19 as a pandemic on April 11th 2020 only in the states of New York, New Jersey, California and Illinois and now you need to analyze the effect of this declaration on the number of cases in these states where this pandemic was declared.  \n",
    "For this question, you can assume that there was no effect of this declaration in other states and consider them as control group and take the states of New York, New Jersey, California and Illinois under the treatment group. "
   ]
  },
  {
   "cell_type": "code",
   "execution_count": 133,
   "metadata": {},
   "outputs": [],
   "source": [
    "data_uscounties_df <- read.csv(\"us-counties.csv\")"
   ]
  },
  {
   "cell_type": "code",
   "execution_count": 134,
   "metadata": {},
   "outputs": [
    {
     "data": {
      "text/html": [
       "<table>\n",
       "<thead><tr><th scope=col>date</th><th scope=col>county</th><th scope=col>state</th><th scope=col>fips</th><th scope=col>cases</th><th scope=col>deaths</th></tr></thead>\n",
       "<tbody>\n",
       "\t<tr><td>2020-01-21</td><td>Snohomish </td><td>Washington</td><td>53061     </td><td>1         </td><td>0         </td></tr>\n",
       "\t<tr><td>2020-01-22</td><td>Snohomish </td><td>Washington</td><td>53061     </td><td>1         </td><td>0         </td></tr>\n",
       "\t<tr><td>2020-01-23</td><td>Snohomish </td><td>Washington</td><td>53061     </td><td>1         </td><td>0         </td></tr>\n",
       "\t<tr><td>2020-01-24</td><td>Cook      </td><td>Illinois  </td><td>17031     </td><td>1         </td><td>0         </td></tr>\n",
       "\t<tr><td>2020-01-24</td><td>Snohomish </td><td>Washington</td><td>53061     </td><td>1         </td><td>0         </td></tr>\n",
       "\t<tr><td>2020-01-25</td><td>Orange    </td><td>California</td><td> 6059     </td><td>1         </td><td>0         </td></tr>\n",
       "</tbody>\n",
       "</table>\n"
      ],
      "text/latex": [
       "\\begin{tabular}{r|llllll}\n",
       " date & county & state & fips & cases & deaths\\\\\n",
       "\\hline\n",
       "\t 2020-01-21 & Snohomish  & Washington & 53061      & 1          & 0         \\\\\n",
       "\t 2020-01-22 & Snohomish  & Washington & 53061      & 1          & 0         \\\\\n",
       "\t 2020-01-23 & Snohomish  & Washington & 53061      & 1          & 0         \\\\\n",
       "\t 2020-01-24 & Cook       & Illinois   & 17031      & 1          & 0         \\\\\n",
       "\t 2020-01-24 & Snohomish  & Washington & 53061      & 1          & 0         \\\\\n",
       "\t 2020-01-25 & Orange     & California &  6059      & 1          & 0         \\\\\n",
       "\\end{tabular}\n"
      ],
      "text/markdown": [
       "\n",
       "| date | county | state | fips | cases | deaths |\n",
       "|---|---|---|---|---|---|\n",
       "| 2020-01-21 | Snohomish  | Washington | 53061      | 1          | 0          |\n",
       "| 2020-01-22 | Snohomish  | Washington | 53061      | 1          | 0          |\n",
       "| 2020-01-23 | Snohomish  | Washington | 53061      | 1          | 0          |\n",
       "| 2020-01-24 | Cook       | Illinois   | 17031      | 1          | 0          |\n",
       "| 2020-01-24 | Snohomish  | Washington | 53061      | 1          | 0          |\n",
       "| 2020-01-25 | Orange     | California |  6059      | 1          | 0          |\n",
       "\n"
      ],
      "text/plain": [
       "  date       county    state      fips  cases deaths\n",
       "1 2020-01-21 Snohomish Washington 53061 1     0     \n",
       "2 2020-01-22 Snohomish Washington 53061 1     0     \n",
       "3 2020-01-23 Snohomish Washington 53061 1     0     \n",
       "4 2020-01-24 Cook      Illinois   17031 1     0     \n",
       "5 2020-01-24 Snohomish Washington 53061 1     0     \n",
       "6 2020-01-25 Orange    California  6059 1     0     "
      ]
     },
     "metadata": {},
     "output_type": "display_data"
    },
    {
     "name": "stdout",
     "output_type": "stream",
     "text": [
      "'data.frame':\t218627 obs. of  6 variables:\n",
      " $ date  : Factor w/ 140 levels \"2020-01-21\",\"2020-01-22\",..: 1 2 3 4 4 5 5 5 6 6 ...\n",
      " $ county: Factor w/ 1774 levels \"Abbeville\",\"Acadia\",..: 1468 1468 1468 379 1468 1178 379 1468 979 942 ...\n",
      " $ state : Factor w/ 55 levels \"Alabama\",\"Alaska\",..: 52 52 52 15 52 5 15 52 3 5 ...\n",
      " $ fips  : int  53061 53061 53061 17031 53061 6059 17031 53061 4013 6037 ...\n",
      " $ cases : int  1 1 1 1 1 1 1 1 1 1 ...\n",
      " $ deaths: int  0 0 0 0 0 0 0 0 0 0 ...\n"
     ]
    },
    {
     "data": {
      "text/html": [
       "<ol class=list-inline>\n",
       "\t<li>218627</li>\n",
       "\t<li>6</li>\n",
       "</ol>\n"
      ],
      "text/latex": [
       "\\begin{enumerate*}\n",
       "\\item 218627\n",
       "\\item 6\n",
       "\\end{enumerate*}\n"
      ],
      "text/markdown": [
       "1. 218627\n",
       "2. 6\n",
       "\n",
       "\n"
      ],
      "text/plain": [
       "[1] 218627      6"
      ]
     },
     "metadata": {},
     "output_type": "display_data"
    }
   ],
   "source": [
    "head(data_uscounties_df)\n",
    "str(data_uscounties_df)\n",
    "dim(data_uscounties_df)"
   ]
  },
  {
   "cell_type": "code",
   "execution_count": 135,
   "metadata": {},
   "outputs": [],
   "source": [
    "data_uscounties_df <- data_uscounties_df %>%\n",
    "  mutate(Group = ifelse(state==\"New York\"|state==\"New Jersey\"|state==\"California\"|state==\"Illinois\" ,1,0))"
   ]
  },
  {
   "cell_type": "code",
   "execution_count": 136,
   "metadata": {},
   "outputs": [
    {
     "data": {
      "text/html": [
       "<table>\n",
       "<thead><tr><th scope=col>date</th><th scope=col>county</th><th scope=col>state</th><th scope=col>fips</th><th scope=col>cases</th><th scope=col>deaths</th><th scope=col>Group</th></tr></thead>\n",
       "<tbody>\n",
       "\t<tr><td>2020-01-21</td><td>Snohomish </td><td>Washington</td><td>53061     </td><td>1         </td><td>0         </td><td>0         </td></tr>\n",
       "\t<tr><td>2020-01-22</td><td>Snohomish </td><td>Washington</td><td>53061     </td><td>1         </td><td>0         </td><td>0         </td></tr>\n",
       "\t<tr><td>2020-01-23</td><td>Snohomish </td><td>Washington</td><td>53061     </td><td>1         </td><td>0         </td><td>0         </td></tr>\n",
       "\t<tr><td>2020-01-24</td><td>Cook      </td><td>Illinois  </td><td>17031     </td><td>1         </td><td>0         </td><td>1         </td></tr>\n",
       "\t<tr><td>2020-01-24</td><td>Snohomish </td><td>Washington</td><td>53061     </td><td>1         </td><td>0         </td><td>0         </td></tr>\n",
       "\t<tr><td>2020-01-25</td><td>Orange    </td><td>California</td><td> 6059     </td><td>1         </td><td>0         </td><td>1         </td></tr>\n",
       "</tbody>\n",
       "</table>\n"
      ],
      "text/latex": [
       "\\begin{tabular}{r|lllllll}\n",
       " date & county & state & fips & cases & deaths & Group\\\\\n",
       "\\hline\n",
       "\t 2020-01-21 & Snohomish  & Washington & 53061      & 1          & 0          & 0         \\\\\n",
       "\t 2020-01-22 & Snohomish  & Washington & 53061      & 1          & 0          & 0         \\\\\n",
       "\t 2020-01-23 & Snohomish  & Washington & 53061      & 1          & 0          & 0         \\\\\n",
       "\t 2020-01-24 & Cook       & Illinois   & 17031      & 1          & 0          & 1         \\\\\n",
       "\t 2020-01-24 & Snohomish  & Washington & 53061      & 1          & 0          & 0         \\\\\n",
       "\t 2020-01-25 & Orange     & California &  6059      & 1          & 0          & 1         \\\\\n",
       "\\end{tabular}\n"
      ],
      "text/markdown": [
       "\n",
       "| date | county | state | fips | cases | deaths | Group |\n",
       "|---|---|---|---|---|---|---|\n",
       "| 2020-01-21 | Snohomish  | Washington | 53061      | 1          | 0          | 0          |\n",
       "| 2020-01-22 | Snohomish  | Washington | 53061      | 1          | 0          | 0          |\n",
       "| 2020-01-23 | Snohomish  | Washington | 53061      | 1          | 0          | 0          |\n",
       "| 2020-01-24 | Cook       | Illinois   | 17031      | 1          | 0          | 1          |\n",
       "| 2020-01-24 | Snohomish  | Washington | 53061      | 1          | 0          | 0          |\n",
       "| 2020-01-25 | Orange     | California |  6059      | 1          | 0          | 1          |\n",
       "\n"
      ],
      "text/plain": [
       "  date       county    state      fips  cases deaths Group\n",
       "1 2020-01-21 Snohomish Washington 53061 1     0      0    \n",
       "2 2020-01-22 Snohomish Washington 53061 1     0      0    \n",
       "3 2020-01-23 Snohomish Washington 53061 1     0      0    \n",
       "4 2020-01-24 Cook      Illinois   17031 1     0      1    \n",
       "5 2020-01-24 Snohomish Washington 53061 1     0      0    \n",
       "6 2020-01-25 Orange    California  6059 1     0      1    "
      ]
     },
     "metadata": {},
     "output_type": "display_data"
    }
   ],
   "source": [
    "head(data_uscounties_df)"
   ]
  },
  {
   "cell_type": "code",
   "execution_count": 137,
   "metadata": {},
   "outputs": [
    {
     "data": {
      "text/plain": [
       "\n",
       "     0      1 \n",
       "199828  18799 "
      ]
     },
     "metadata": {},
     "output_type": "display_data"
    }
   ],
   "source": [
    "table(data_uscounties_df$Group)"
   ]
  },
  {
   "cell_type": "code",
   "execution_count": 138,
   "metadata": {},
   "outputs": [],
   "source": [
    "data_uscounties_df$date <- as.Date(data_uscounties_df$date) "
   ]
  },
  {
   "cell_type": "code",
   "execution_count": 139,
   "metadata": {},
   "outputs": [
    {
     "data": {
      "text/html": [
       "<table>\n",
       "<thead><tr><th scope=col>date</th><th scope=col>county</th><th scope=col>state</th><th scope=col>fips</th><th scope=col>cases</th><th scope=col>deaths</th><th scope=col>Group</th></tr></thead>\n",
       "<tbody>\n",
       "\t<tr><td>2020-01-21</td><td>Snohomish </td><td>Washington</td><td>53061     </td><td>1         </td><td>0         </td><td>0         </td></tr>\n",
       "\t<tr><td>2020-01-22</td><td>Snohomish </td><td>Washington</td><td>53061     </td><td>1         </td><td>0         </td><td>0         </td></tr>\n",
       "\t<tr><td>2020-01-23</td><td>Snohomish </td><td>Washington</td><td>53061     </td><td>1         </td><td>0         </td><td>0         </td></tr>\n",
       "\t<tr><td>2020-01-24</td><td>Cook      </td><td>Illinois  </td><td>17031     </td><td>1         </td><td>0         </td><td>1         </td></tr>\n",
       "\t<tr><td>2020-01-24</td><td>Snohomish </td><td>Washington</td><td>53061     </td><td>1         </td><td>0         </td><td>0         </td></tr>\n",
       "\t<tr><td>2020-01-25</td><td>Orange    </td><td>California</td><td> 6059     </td><td>1         </td><td>0         </td><td>1         </td></tr>\n",
       "</tbody>\n",
       "</table>\n"
      ],
      "text/latex": [
       "\\begin{tabular}{r|lllllll}\n",
       " date & county & state & fips & cases & deaths & Group\\\\\n",
       "\\hline\n",
       "\t 2020-01-21 & Snohomish  & Washington & 53061      & 1          & 0          & 0         \\\\\n",
       "\t 2020-01-22 & Snohomish  & Washington & 53061      & 1          & 0          & 0         \\\\\n",
       "\t 2020-01-23 & Snohomish  & Washington & 53061      & 1          & 0          & 0         \\\\\n",
       "\t 2020-01-24 & Cook       & Illinois   & 17031      & 1          & 0          & 1         \\\\\n",
       "\t 2020-01-24 & Snohomish  & Washington & 53061      & 1          & 0          & 0         \\\\\n",
       "\t 2020-01-25 & Orange     & California &  6059      & 1          & 0          & 1         \\\\\n",
       "\\end{tabular}\n"
      ],
      "text/markdown": [
       "\n",
       "| date | county | state | fips | cases | deaths | Group |\n",
       "|---|---|---|---|---|---|---|\n",
       "| 2020-01-21 | Snohomish  | Washington | 53061      | 1          | 0          | 0          |\n",
       "| 2020-01-22 | Snohomish  | Washington | 53061      | 1          | 0          | 0          |\n",
       "| 2020-01-23 | Snohomish  | Washington | 53061      | 1          | 0          | 0          |\n",
       "| 2020-01-24 | Cook       | Illinois   | 17031      | 1          | 0          | 1          |\n",
       "| 2020-01-24 | Snohomish  | Washington | 53061      | 1          | 0          | 0          |\n",
       "| 2020-01-25 | Orange     | California |  6059      | 1          | 0          | 1          |\n",
       "\n"
      ],
      "text/plain": [
       "  date       county    state      fips  cases deaths Group\n",
       "1 2020-01-21 Snohomish Washington 53061 1     0      0    \n",
       "2 2020-01-22 Snohomish Washington 53061 1     0      0    \n",
       "3 2020-01-23 Snohomish Washington 53061 1     0      0    \n",
       "4 2020-01-24 Cook      Illinois   17031 1     0      1    \n",
       "5 2020-01-24 Snohomish Washington 53061 1     0      0    \n",
       "6 2020-01-25 Orange    California  6059 1     0      1    "
      ]
     },
     "metadata": {},
     "output_type": "display_data"
    }
   ],
   "source": [
    "head(data_uscounties_df)"
   ]
  },
  {
   "cell_type": "code",
   "execution_count": 140,
   "metadata": {},
   "outputs": [],
   "source": [
    "data_uscounties_df <- data_uscounties_df %>%\n",
    "  mutate(d = ifelse(date>=c(\"2020-4-11\") ,1,0))"
   ]
  },
  {
   "cell_type": "code",
   "execution_count": 141,
   "metadata": {},
   "outputs": [],
   "source": [
    "# lpo <- split(data_uscounties_df,data_uscounties_df$date<as.Date(\"2020-4-11\"))"
   ]
  },
  {
   "cell_type": "code",
   "execution_count": 142,
   "metadata": {},
   "outputs": [
    {
     "data": {
      "text/html": [
       "<table>\n",
       "<thead><tr><th scope=col>date</th><th scope=col>county</th><th scope=col>state</th><th scope=col>fips</th><th scope=col>cases</th><th scope=col>deaths</th><th scope=col>Group</th><th scope=col>d</th></tr></thead>\n",
       "<tbody>\n",
       "\t<tr><td>2020-01-21</td><td>Snohomish </td><td>Washington</td><td>53061     </td><td>1         </td><td>0         </td><td>0         </td><td>0         </td></tr>\n",
       "\t<tr><td>2020-01-22</td><td>Snohomish </td><td>Washington</td><td>53061     </td><td>1         </td><td>0         </td><td>0         </td><td>0         </td></tr>\n",
       "\t<tr><td>2020-01-23</td><td>Snohomish </td><td>Washington</td><td>53061     </td><td>1         </td><td>0         </td><td>0         </td><td>0         </td></tr>\n",
       "\t<tr><td>2020-01-24</td><td>Cook      </td><td>Illinois  </td><td>17031     </td><td>1         </td><td>0         </td><td>1         </td><td>0         </td></tr>\n",
       "\t<tr><td>2020-01-24</td><td>Snohomish </td><td>Washington</td><td>53061     </td><td>1         </td><td>0         </td><td>0         </td><td>0         </td></tr>\n",
       "\t<tr><td>2020-01-25</td><td>Orange    </td><td>California</td><td> 6059     </td><td>1         </td><td>0         </td><td>1         </td><td>0         </td></tr>\n",
       "</tbody>\n",
       "</table>\n"
      ],
      "text/latex": [
       "\\begin{tabular}{r|llllllll}\n",
       " date & county & state & fips & cases & deaths & Group & d\\\\\n",
       "\\hline\n",
       "\t 2020-01-21 & Snohomish  & Washington & 53061      & 1          & 0          & 0          & 0         \\\\\n",
       "\t 2020-01-22 & Snohomish  & Washington & 53061      & 1          & 0          & 0          & 0         \\\\\n",
       "\t 2020-01-23 & Snohomish  & Washington & 53061      & 1          & 0          & 0          & 0         \\\\\n",
       "\t 2020-01-24 & Cook       & Illinois   & 17031      & 1          & 0          & 1          & 0         \\\\\n",
       "\t 2020-01-24 & Snohomish  & Washington & 53061      & 1          & 0          & 0          & 0         \\\\\n",
       "\t 2020-01-25 & Orange     & California &  6059      & 1          & 0          & 1          & 0         \\\\\n",
       "\\end{tabular}\n"
      ],
      "text/markdown": [
       "\n",
       "| date | county | state | fips | cases | deaths | Group | d |\n",
       "|---|---|---|---|---|---|---|---|\n",
       "| 2020-01-21 | Snohomish  | Washington | 53061      | 1          | 0          | 0          | 0          |\n",
       "| 2020-01-22 | Snohomish  | Washington | 53061      | 1          | 0          | 0          | 0          |\n",
       "| 2020-01-23 | Snohomish  | Washington | 53061      | 1          | 0          | 0          | 0          |\n",
       "| 2020-01-24 | Cook       | Illinois   | 17031      | 1          | 0          | 1          | 0          |\n",
       "| 2020-01-24 | Snohomish  | Washington | 53061      | 1          | 0          | 0          | 0          |\n",
       "| 2020-01-25 | Orange     | California |  6059      | 1          | 0          | 1          | 0          |\n",
       "\n"
      ],
      "text/plain": [
       "  date       county    state      fips  cases deaths Group d\n",
       "1 2020-01-21 Snohomish Washington 53061 1     0      0     0\n",
       "2 2020-01-22 Snohomish Washington 53061 1     0      0     0\n",
       "3 2020-01-23 Snohomish Washington 53061 1     0      0     0\n",
       "4 2020-01-24 Cook      Illinois   17031 1     0      1     0\n",
       "5 2020-01-24 Snohomish Washington 53061 1     0      0     0\n",
       "6 2020-01-25 Orange    California  6059 1     0      1     0"
      ]
     },
     "metadata": {},
     "output_type": "display_data"
    }
   ],
   "source": [
    "head(data_uscounties_df)"
   ]
  },
  {
   "cell_type": "code",
   "execution_count": 143,
   "metadata": {},
   "outputs": [
    {
     "data": {
      "text/plain": [
       "\n",
       "     0      1 \n",
       " 48386 170241 "
      ]
     },
     "metadata": {},
     "output_type": "display_data"
    }
   ],
   "source": [
    "table(data_uscounties_df$d)"
   ]
  },
  {
   "cell_type": "code",
   "execution_count": 144,
   "metadata": {},
   "outputs": [
    {
     "data": {
      "text/plain": [
       "   \n",
       "         0      1\n",
       "  0  43317 156511\n",
       "  1   5069  13730"
      ]
     },
     "metadata": {},
     "output_type": "display_data"
    }
   ],
   "source": [
    "table(data_uscounties_df$Group,data_uscounties_df$d)"
   ]
  },
  {
   "cell_type": "code",
   "execution_count": 145,
   "metadata": {},
   "outputs": [],
   "source": [
    "CG_BC <- filter(data_uscounties_df, data_uscounties_df$Group == 0 & data_uscounties_df$d == 0)\n",
    "CG_AC <- filter(data_uscounties_df, data_uscounties_df$Group == 0 & data_uscounties_df$d == 1)\n",
    "TG_BC <- filter(data_uscounties_df, data_uscounties_df$Group == 1 & data_uscounties_df$d == 0)\n",
    "TG_AC <- filter(data_uscounties_df, data_uscounties_df$Group == 1 & data_uscounties_df$d == 1)"
   ]
  },
  {
   "cell_type": "code",
   "execution_count": 147,
   "metadata": {},
   "outputs": [],
   "source": [
    "Mean_CG_BC <- mean(CG_BC$cases)\n",
    "Mean_CG_AC <- mean(CG_AC$cases)\n",
    "Mean_TG_BC <- mean(TG_BC$cases)\n",
    "Mean_TG_AC <- mean(TG_AC$cases)"
   ]
  },
  {
   "cell_type": "code",
   "execution_count": 148,
   "metadata": {},
   "outputs": [
    {
     "name": "stdout",
     "output_type": "stream",
     "text": [
      "[1] \"Mean of the ‘cases’ variable for control group before change:  47.392\"\n",
      "[1] \"Mean of the ‘cases’ variable for control group after change:  264.925\"\n",
      "[1] \"Mean of the ‘cases’ variable for treatment group before change:  512.377\"\n",
      "[1] \"Mean of the ‘cases’ variable for treatment group after change:  2564.019\"\n"
     ]
    }
   ],
   "source": [
    "print(paste(\"Mean of the ‘cases’ variable for control group before change: \", round(Mean_CG_BC,3)))\n",
    "print(paste(\"Mean of the ‘cases’ variable for control group after change: \", round(Mean_CG_AC,3)))\n",
    "print(paste(\"Mean of the ‘cases’ variable for treatment group before change: \", round(Mean_TG_BC,3)))\n",
    "print(paste(\"Mean of the ‘cases’ variable for treatment group after change: \", round(Mean_TG_AC,3)))"
   ]
  },
  {
   "cell_type": "code",
   "execution_count": 149,
   "metadata": {},
   "outputs": [
    {
     "data": {
      "text/html": [
       "1834.10972496049"
      ],
      "text/latex": [
       "1834.10972496049"
      ],
      "text/markdown": [
       "1834.10972496049"
      ],
      "text/plain": [
       "[1] 1834.11"
      ]
     },
     "metadata": {},
     "output_type": "display_data"
    }
   ],
   "source": [
    "(Mean_TG_AC - Mean_TG_BC) - (Mean_CG_AC - Mean_CG_BC)"
   ]
  },
  {
   "cell_type": "markdown",
   "metadata": {},
   "source": [
    "Question 12\n",
    "\n",
    "After this announcement find the DID estimator in the no of cases using regression model?"
   ]
  },
  {
   "cell_type": "code",
   "execution_count": 150,
   "metadata": {},
   "outputs": [],
   "source": [
    "data_uscounties_df <- data_uscounties_df %>%\n",
    "  mutate(totalvalue = (data_uscounties_df$Group == 1)* data_uscounties_df$d)"
   ]
  },
  {
   "cell_type": "code",
   "execution_count": 151,
   "metadata": {},
   "outputs": [
    {
     "data": {
      "text/plain": [
       "\n",
       "Call:\n",
       "lm(formula = cases ~ Group + d + totalvalue, data = data_uscounties_df)\n",
       "\n",
       "Residuals:\n",
       "   Min     1Q Median     3Q    Max \n",
       " -2564   -259   -222    -44 209558 \n",
       "\n",
       "Coefficients:\n",
       "            Estimate Std. Error t value Pr(>|t|)    \n",
       "(Intercept)    47.39      16.88   2.807    0.005 ** \n",
       "Group         464.98      52.16   8.915   <2e-16 ***\n",
       "d             217.53      19.08  11.403   <2e-16 ***\n",
       "totalvalue   1834.11      60.82  30.158   <2e-16 ***\n",
       "---\n",
       "Signif. codes:  0 '***' 0.001 '**' 0.01 '*' 0.05 '.' 0.1 ' ' 1\n",
       "\n",
       "Residual standard error: 3514 on 218623 degrees of freedom\n",
       "Multiple R-squared:  0.02613,\tAdjusted R-squared:  0.02612 \n",
       "F-statistic:  1956 on 3 and 218623 DF,  p-value: < 2.2e-16\n"
      ]
     },
     "metadata": {},
     "output_type": "display_data"
    }
   ],
   "source": [
    "reg_all <- lm(cases ~ Group + d + totalvalue, data = data_uscounties_df)\n",
    "summary(reg_all)"
   ]
  },
  {
   "cell_type": "markdown",
   "metadata": {},
   "source": [
    "Question 13\n",
    "\n",
    "Find the average cases for treatment group and control group before and after the announcement in the order of treatment group before change, treatment group after change, control group before change and control group after change?"
   ]
  },
  {
   "cell_type": "markdown",
   "metadata": {},
   "source": [
    "**Instructions for Questions 14 - 17:**\n",
    "\n",
    "For Questions 14-17 you will use the dataset “managers” from the PerformanceAnalytics package in R. This dataset is already in XTS format and contains the following variables: \n",
    "\n",
    "HAM1-HAM6: Columns of monthly returns for six hypothetical asset managers \n",
    "\n",
    "EDHEC LS EQ: EDHEC Long-Short Equity hedge fund index \n",
    "\n",
    "SP500 TR: S&P 500 total returns \n",
    "\n",
    "US 10YR TR: Total return series for US Treasury 10-year bond \n",
    "\n",
    "US 3m TR: Total return series for US Treasure 3-month bill \n",
    "\n",
    " \n",
    "\n",
    "The dataset \"managers” can be found by using the following code: \n",
    "\n",
    "if (!require(PerformanceAnalytics)) install.packages(\"PerformanceAnalytics\") \n",
    "\n",
    "library(PerformanceAnalytics) \n",
    "\n",
    "data(managers) \n",
    "\n",
    " \n",
    "\n",
    "Note: You may/may not need the following dependencies: \n",
    "\n",
    "lubridate package "
   ]
  },
  {
   "cell_type": "code",
   "execution_count": 218,
   "metadata": {},
   "outputs": [],
   "source": [
    "library(PerformanceAnalytics)\n",
    "library(xts)\n",
    "library(lubridate)"
   ]
  },
  {
   "cell_type": "code",
   "execution_count": 379,
   "metadata": {},
   "outputs": [],
   "source": [
    "data_managers = data.frame(managers)"
   ]
  },
  {
   "cell_type": "code",
   "execution_count": 380,
   "metadata": {},
   "outputs": [
    {
     "data": {
      "text/html": [
       "<table>\n",
       "<thead><tr><th></th><th scope=col>HAM1</th><th scope=col>HAM2</th><th scope=col>HAM3</th><th scope=col>HAM4</th><th scope=col>HAM5</th><th scope=col>HAM6</th><th scope=col>EDHEC.LS.EQ</th><th scope=col>SP500.TR</th><th scope=col>US.10Y.TR</th><th scope=col>US.3m.TR</th></tr></thead>\n",
       "<tbody>\n",
       "\t<tr><th scope=row>1996-01-31</th><td> 0.0074 </td><td>NA      </td><td> 0.0349 </td><td> 0.0222 </td><td>NA      </td><td>NA      </td><td>NA      </td><td>0.0340  </td><td> 0.00380</td><td>0.00456 </td></tr>\n",
       "\t<tr><th scope=row>1996-02-29</th><td> 0.0193 </td><td>NA      </td><td> 0.0351 </td><td> 0.0195 </td><td>NA      </td><td>NA      </td><td>NA      </td><td>0.0093  </td><td>-0.03532</td><td>0.00398 </td></tr>\n",
       "\t<tr><th scope=row>1996-03-31</th><td> 0.0155 </td><td>NA      </td><td> 0.0258 </td><td>-0.0098 </td><td>NA      </td><td>NA      </td><td>NA      </td><td>0.0096  </td><td>-0.01057</td><td>0.00371 </td></tr>\n",
       "\t<tr><th scope=row>1996-04-30</th><td>-0.0091 </td><td>NA      </td><td> 0.0449 </td><td> 0.0236 </td><td>NA      </td><td>NA      </td><td>NA      </td><td>0.0147  </td><td>-0.01739</td><td>0.00428 </td></tr>\n",
       "\t<tr><th scope=row>1996-05-31</th><td> 0.0076 </td><td>NA      </td><td> 0.0353 </td><td> 0.0028 </td><td>NA      </td><td>NA      </td><td>NA      </td><td>0.0258  </td><td>-0.00543</td><td>0.00443 </td></tr>\n",
       "\t<tr><th scope=row>1996-06-30</th><td>-0.0039 </td><td>NA      </td><td>-0.0303 </td><td>-0.0019 </td><td>NA      </td><td>NA      </td><td>NA      </td><td>0.0038  </td><td> 0.01507</td><td>0.00412 </td></tr>\n",
       "</tbody>\n",
       "</table>\n"
      ],
      "text/latex": [
       "\\begin{tabular}{r|llllllllll}\n",
       "  & HAM1 & HAM2 & HAM3 & HAM4 & HAM5 & HAM6 & EDHEC.LS.EQ & SP500.TR & US.10Y.TR & US.3m.TR\\\\\n",
       "\\hline\n",
       "\t1996-01-31 &  0.0074  & NA       &  0.0349  &  0.0222  & NA       & NA       & NA       & 0.0340   &  0.00380 & 0.00456 \\\\\n",
       "\t1996-02-29 &  0.0193  & NA       &  0.0351  &  0.0195  & NA       & NA       & NA       & 0.0093   & -0.03532 & 0.00398 \\\\\n",
       "\t1996-03-31 &  0.0155  & NA       &  0.0258  & -0.0098  & NA       & NA       & NA       & 0.0096   & -0.01057 & 0.00371 \\\\\n",
       "\t1996-04-30 & -0.0091  & NA       &  0.0449  &  0.0236  & NA       & NA       & NA       & 0.0147   & -0.01739 & 0.00428 \\\\\n",
       "\t1996-05-31 &  0.0076  & NA       &  0.0353  &  0.0028  & NA       & NA       & NA       & 0.0258   & -0.00543 & 0.00443 \\\\\n",
       "\t1996-06-30 & -0.0039  & NA       & -0.0303  & -0.0019  & NA       & NA       & NA       & 0.0038   &  0.01507 & 0.00412 \\\\\n",
       "\\end{tabular}\n"
      ],
      "text/markdown": [
       "\n",
       "| <!--/--> | HAM1 | HAM2 | HAM3 | HAM4 | HAM5 | HAM6 | EDHEC.LS.EQ | SP500.TR | US.10Y.TR | US.3m.TR |\n",
       "|---|---|---|---|---|---|---|---|---|---|---|\n",
       "| 1996-01-31 |  0.0074  | NA       |  0.0349  |  0.0222  | NA       | NA       | NA       | 0.0340   |  0.00380 | 0.00456  |\n",
       "| 1996-02-29 |  0.0193  | NA       |  0.0351  |  0.0195  | NA       | NA       | NA       | 0.0093   | -0.03532 | 0.00398  |\n",
       "| 1996-03-31 |  0.0155  | NA       |  0.0258  | -0.0098  | NA       | NA       | NA       | 0.0096   | -0.01057 | 0.00371  |\n",
       "| 1996-04-30 | -0.0091  | NA       |  0.0449  |  0.0236  | NA       | NA       | NA       | 0.0147   | -0.01739 | 0.00428  |\n",
       "| 1996-05-31 |  0.0076  | NA       |  0.0353  |  0.0028  | NA       | NA       | NA       | 0.0258   | -0.00543 | 0.00443  |\n",
       "| 1996-06-30 | -0.0039  | NA       | -0.0303  | -0.0019  | NA       | NA       | NA       | 0.0038   |  0.01507 | 0.00412  |\n",
       "\n"
      ],
      "text/plain": [
       "           HAM1    HAM2 HAM3    HAM4    HAM5 HAM6 EDHEC.LS.EQ SP500.TR\n",
       "1996-01-31  0.0074 NA    0.0349  0.0222 NA   NA   NA          0.0340  \n",
       "1996-02-29  0.0193 NA    0.0351  0.0195 NA   NA   NA          0.0093  \n",
       "1996-03-31  0.0155 NA    0.0258 -0.0098 NA   NA   NA          0.0096  \n",
       "1996-04-30 -0.0091 NA    0.0449  0.0236 NA   NA   NA          0.0147  \n",
       "1996-05-31  0.0076 NA    0.0353  0.0028 NA   NA   NA          0.0258  \n",
       "1996-06-30 -0.0039 NA   -0.0303 -0.0019 NA   NA   NA          0.0038  \n",
       "           US.10Y.TR US.3m.TR\n",
       "1996-01-31  0.00380  0.00456 \n",
       "1996-02-29 -0.03532  0.00398 \n",
       "1996-03-31 -0.01057  0.00371 \n",
       "1996-04-30 -0.01739  0.00428 \n",
       "1996-05-31 -0.00543  0.00443 \n",
       "1996-06-30  0.01507  0.00412 "
      ]
     },
     "metadata": {},
     "output_type": "display_data"
    },
    {
     "name": "stdout",
     "output_type": "stream",
     "text": [
      "'data.frame':\t132 obs. of  10 variables:\n",
      " $ HAM1       : num  0.0074 0.0193 0.0155 -0.0091 0.0076 -0.0039 -0.0231 0.0395 0.0147 0.0288 ...\n",
      " $ HAM2       : num  NA NA NA NA NA ...\n",
      " $ HAM3       : num  0.0349 0.0351 0.0258 0.0449 0.0353 -0.0303 -0.0337 0.0461 0.0653 0.0395 ...\n",
      " $ HAM4       : num  0.0222 0.0195 -0.0098 0.0236 0.0028 -0.0019 -0.0446 0.0351 0.0757 -0.018 ...\n",
      " $ HAM5       : num  NA NA NA NA NA NA NA NA NA NA ...\n",
      " $ HAM6       : num  NA NA NA NA NA NA NA NA NA NA ...\n",
      " $ EDHEC.LS.EQ: num  NA NA NA NA NA NA NA NA NA NA ...\n",
      " $ SP500.TR   : num  0.034 0.0093 0.0096 0.0147 0.0258 0.0038 -0.0442 0.0211 0.0563 0.0276 ...\n",
      " $ US.10Y.TR  : num  0.0038 -0.03532 -0.01057 -0.01739 -0.00543 ...\n",
      " $ US.3m.TR   : num  0.00456 0.00398 0.00371 0.00428 0.00443 0.00412 0.00454 0.00451 0.0047 0.00428 ...\n"
     ]
    },
    {
     "data": {
      "text/html": [
       "<ol class=list-inline>\n",
       "\t<li>132</li>\n",
       "\t<li>10</li>\n",
       "</ol>\n"
      ],
      "text/latex": [
       "\\begin{enumerate*}\n",
       "\\item 132\n",
       "\\item 10\n",
       "\\end{enumerate*}\n"
      ],
      "text/markdown": [
       "1. 132\n",
       "2. 10\n",
       "\n",
       "\n"
      ],
      "text/plain": [
       "[1] 132  10"
      ]
     },
     "metadata": {},
     "output_type": "display_data"
    }
   ],
   "source": [
    "head(data_managers)\n",
    "str(data_managers)\n",
    "dim(data_managers)"
   ]
  },
  {
   "cell_type": "code",
   "execution_count": null,
   "metadata": {},
   "outputs": [],
   "source": []
  },
  {
   "cell_type": "markdown",
   "metadata": {},
   "source": [
    "Question 14\n",
    "\n",
    "Find the standard deviation of HAM1 over the entire period given by the data set."
   ]
  },
  {
   "cell_type": "code",
   "execution_count": 381,
   "metadata": {},
   "outputs": [
    {
     "data": {
      "text/html": [
       "2.56288083102974"
      ],
      "text/latex": [
       "2.56288083102974"
      ],
      "text/markdown": [
       "2.56288083102974"
      ],
      "text/plain": [
       "[1] 2.562881"
      ]
     },
     "metadata": {},
     "output_type": "display_data"
    }
   ],
   "source": [
    "(sd(data_managers$HAM1))*100"
   ]
  },
  {
   "cell_type": "markdown",
   "metadata": {},
   "source": [
    "Question 15\n",
    "\n",
    "Over the entire period presented in data set, was HAM1 underperformed or overperformed the SP 500 and by what percentage per month on average?"
   ]
  },
  {
   "cell_type": "code",
   "execution_count": 382,
   "metadata": {},
   "outputs": [
    {
     "data": {
      "text/html": [
       "1.11"
      ],
      "text/latex": [
       "1.11"
      ],
      "text/markdown": [
       "1.11"
      ],
      "text/plain": [
       "[1] 1.11"
      ]
     },
     "metadata": {},
     "output_type": "display_data"
    }
   ],
   "source": [
    "round(mean(data_managers$HAM1)*100,2) "
   ]
  },
  {
   "cell_type": "code",
   "execution_count": 383,
   "metadata": {},
   "outputs": [
    {
     "data": {
      "text/html": [
       "0.87"
      ],
      "text/latex": [
       "0.87"
      ],
      "text/markdown": [
       "0.87"
      ],
      "text/plain": [
       "[1] 0.87"
      ]
     },
     "metadata": {},
     "output_type": "display_data"
    }
   ],
   "source": [
    "round(mean(data_managers$SP500.TR)*100,2)"
   ]
  },
  {
   "cell_type": "code",
   "execution_count": 384,
   "metadata": {},
   "outputs": [
    {
     "data": {
      "text/html": [
       "0.24"
      ],
      "text/latex": [
       "0.24"
      ],
      "text/markdown": [
       "0.24"
      ],
      "text/plain": [
       "[1] 0.24"
      ]
     },
     "metadata": {},
     "output_type": "display_data"
    }
   ],
   "source": [
    "1.11 - 0.87"
   ]
  },
  {
   "cell_type": "markdown",
   "metadata": {},
   "source": [
    "Question 16\n",
    "\n",
    "$50,000 invested in HAM4 at the start of the sample period would have grown to ____ by the end of the period."
   ]
  },
  {
   "cell_type": "code",
   "execution_count": 385,
   "metadata": {},
   "outputs": [
    {
     "data": {
      "text/html": [
       "2.52944016235183"
      ],
      "text/latex": [
       "2.52944016235183"
      ],
      "text/markdown": [
       "2.52944016235183"
      ],
      "text/plain": [
       "[1] 2.52944"
      ]
     },
     "metadata": {},
     "output_type": "display_data"
    }
   ],
   "source": [
    "Return.cumulative(data_managers$HAM4,geometric = TRUE)"
   ]
  },
  {
   "cell_type": "code",
   "execution_count": 386,
   "metadata": {},
   "outputs": [
    {
     "data": {
      "text/html": [
       "126472.008117591"
      ],
      "text/latex": [
       "126472.008117591"
      ],
      "text/markdown": [
       "126472.008117591"
      ],
      "text/plain": [
       "[1] 126472"
      ]
     },
     "metadata": {},
     "output_type": "display_data"
    }
   ],
   "source": [
    "50000 * Return.cumulative(data_managers$HAM4,geometric = TRUE)"
   ]
  },
  {
   "cell_type": "code",
   "execution_count": 201,
   "metadata": {},
   "outputs": [
    {
     "data": {
      "image/png": "[encoded data removed]",
      "text/plain": [
       "plot without title"
      ]
     },
     "metadata": {},
     "output_type": "display_data"
    }
   ],
   "source": [
    "chart.CumReturns(data_managers, wealth.index =FALSE, geometric = TRUE, legend.loc = \"topleft\",main=\"Cumulative Returns\")"
   ]
  },
  {
   "cell_type": "code",
   "execution_count": 388,
   "metadata": {},
   "outputs": [
    {
     "data": {
      "text/html": [
       "176472.008117591"
      ],
      "text/latex": [
       "176472.008117591"
      ],
      "text/markdown": [
       "176472.008117591"
      ],
      "text/plain": [
       "[1] 176472"
      ]
     },
     "metadata": {},
     "output_type": "display_data"
    }
   ],
   "source": [
    "50000 + (50000*2.52944016235183)"
   ]
  },
  {
   "cell_type": "markdown",
   "metadata": {},
   "source": [
    "Question 17\n",
    "\n",
    "Find the monthly Sharpe Ratio for both HAM3 and the market index? Comparing these values which one is lower and what does that mean? Use US Treasure 3-month bill as risk free rate."
   ]
  },
  {
   "cell_type": "code",
   "execution_count": 346,
   "metadata": {},
   "outputs": [],
   "source": [
    "data_managers <- cbind(Date = rownames(data_managers), data_managers)\n",
    "rownames(data_managers) <- 1:nrow(data_managers)"
   ]
  },
  {
   "cell_type": "code",
   "execution_count": 315,
   "metadata": {},
   "outputs": [
    {
     "data": {
      "text/html": [
       "<table>\n",
       "<thead><tr><th scope=col>Date</th><th scope=col>HAM1</th><th scope=col>HAM2</th><th scope=col>HAM3</th><th scope=col>HAM4</th><th scope=col>HAM5</th><th scope=col>HAM6</th><th scope=col>EDHEC.LS.EQ</th><th scope=col>SP500.TR</th><th scope=col>US.10Y.TR</th><th scope=col>US.3m.TR</th></tr></thead>\n",
       "<tbody>\n",
       "\t<tr><td>1996-01-31</td><td> 0.0074   </td><td>NA        </td><td> 0.0349   </td><td> 0.0222   </td><td>NA        </td><td>NA        </td><td>NA        </td><td>0.0340    </td><td> 0.00380  </td><td>0.00456   </td></tr>\n",
       "\t<tr><td>1996-02-29</td><td> 0.0193   </td><td>NA        </td><td> 0.0351   </td><td> 0.0195   </td><td>NA        </td><td>NA        </td><td>NA        </td><td>0.0093    </td><td>-0.03532  </td><td>0.00398   </td></tr>\n",
       "\t<tr><td>1996-03-31</td><td> 0.0155   </td><td>NA        </td><td> 0.0258   </td><td>-0.0098   </td><td>NA        </td><td>NA        </td><td>NA        </td><td>0.0096    </td><td>-0.01057  </td><td>0.00371   </td></tr>\n",
       "\t<tr><td>1996-04-30</td><td>-0.0091   </td><td>NA        </td><td> 0.0449   </td><td> 0.0236   </td><td>NA        </td><td>NA        </td><td>NA        </td><td>0.0147    </td><td>-0.01739  </td><td>0.00428   </td></tr>\n",
       "\t<tr><td>1996-05-31</td><td> 0.0076   </td><td>NA        </td><td> 0.0353   </td><td> 0.0028   </td><td>NA        </td><td>NA        </td><td>NA        </td><td>0.0258    </td><td>-0.00543  </td><td>0.00443   </td></tr>\n",
       "\t<tr><td>1996-06-30</td><td>-0.0039   </td><td>NA        </td><td>-0.0303   </td><td>-0.0019   </td><td>NA        </td><td>NA        </td><td>NA        </td><td>0.0038    </td><td> 0.01507  </td><td>0.00412   </td></tr>\n",
       "</tbody>\n",
       "</table>\n"
      ],
      "text/latex": [
       "\\begin{tabular}{r|lllllllllll}\n",
       " Date & HAM1 & HAM2 & HAM3 & HAM4 & HAM5 & HAM6 & EDHEC.LS.EQ & SP500.TR & US.10Y.TR & US.3m.TR\\\\\n",
       "\\hline\n",
       "\t 1996-01-31 &  0.0074    & NA         &  0.0349    &  0.0222    & NA         & NA         & NA         & 0.0340     &  0.00380   & 0.00456   \\\\\n",
       "\t 1996-02-29 &  0.0193    & NA         &  0.0351    &  0.0195    & NA         & NA         & NA         & 0.0093     & -0.03532   & 0.00398   \\\\\n",
       "\t 1996-03-31 &  0.0155    & NA         &  0.0258    & -0.0098    & NA         & NA         & NA         & 0.0096     & -0.01057   & 0.00371   \\\\\n",
       "\t 1996-04-30 & -0.0091    & NA         &  0.0449    &  0.0236    & NA         & NA         & NA         & 0.0147     & -0.01739   & 0.00428   \\\\\n",
       "\t 1996-05-31 &  0.0076    & NA         &  0.0353    &  0.0028    & NA         & NA         & NA         & 0.0258     & -0.00543   & 0.00443   \\\\\n",
       "\t 1996-06-30 & -0.0039    & NA         & -0.0303    & -0.0019    & NA         & NA         & NA         & 0.0038     &  0.01507   & 0.00412   \\\\\n",
       "\\end{tabular}\n"
      ],
      "text/markdown": [
       "\n",
       "| Date | HAM1 | HAM2 | HAM3 | HAM4 | HAM5 | HAM6 | EDHEC.LS.EQ | SP500.TR | US.10Y.TR | US.3m.TR |\n",
       "|---|---|---|---|---|---|---|---|---|---|---|\n",
       "| 1996-01-31 |  0.0074    | NA         |  0.0349    |  0.0222    | NA         | NA         | NA         | 0.0340     |  0.00380   | 0.00456    |\n",
       "| 1996-02-29 |  0.0193    | NA         |  0.0351    |  0.0195    | NA         | NA         | NA         | 0.0093     | -0.03532   | 0.00398    |\n",
       "| 1996-03-31 |  0.0155    | NA         |  0.0258    | -0.0098    | NA         | NA         | NA         | 0.0096     | -0.01057   | 0.00371    |\n",
       "| 1996-04-30 | -0.0091    | NA         |  0.0449    |  0.0236    | NA         | NA         | NA         | 0.0147     | -0.01739   | 0.00428    |\n",
       "| 1996-05-31 |  0.0076    | NA         |  0.0353    |  0.0028    | NA         | NA         | NA         | 0.0258     | -0.00543   | 0.00443    |\n",
       "| 1996-06-30 | -0.0039    | NA         | -0.0303    | -0.0019    | NA         | NA         | NA         | 0.0038     |  0.01507   | 0.00412    |\n",
       "\n"
      ],
      "text/plain": [
       "  Date       HAM1    HAM2 HAM3    HAM4    HAM5 HAM6 EDHEC.LS.EQ SP500.TR\n",
       "1 1996-01-31  0.0074 NA    0.0349  0.0222 NA   NA   NA          0.0340  \n",
       "2 1996-02-29  0.0193 NA    0.0351  0.0195 NA   NA   NA          0.0093  \n",
       "3 1996-03-31  0.0155 NA    0.0258 -0.0098 NA   NA   NA          0.0096  \n",
       "4 1996-04-30 -0.0091 NA    0.0449  0.0236 NA   NA   NA          0.0147  \n",
       "5 1996-05-31  0.0076 NA    0.0353  0.0028 NA   NA   NA          0.0258  \n",
       "6 1996-06-30 -0.0039 NA   -0.0303 -0.0019 NA   NA   NA          0.0038  \n",
       "  US.10Y.TR US.3m.TR\n",
       "1  0.00380  0.00456 \n",
       "2 -0.03532  0.00398 \n",
       "3 -0.01057  0.00371 \n",
       "4 -0.01739  0.00428 \n",
       "5 -0.00543  0.00443 \n",
       "6  0.01507  0.00412 "
      ]
     },
     "metadata": {},
     "output_type": "display_data"
    }
   ],
   "source": [
    "head(data_managers)"
   ]
  },
  {
   "cell_type": "code",
   "execution_count": 316,
   "metadata": {},
   "outputs": [
    {
     "data": {
      "text/html": [
       "<ol class=list-inline>\n",
       "\t<li>132</li>\n",
       "\t<li>11</li>\n",
       "</ol>\n"
      ],
      "text/latex": [
       "\\begin{enumerate*}\n",
       "\\item 132\n",
       "\\item 11\n",
       "\\end{enumerate*}\n"
      ],
      "text/markdown": [
       "1. 132\n",
       "2. 11\n",
       "\n",
       "\n"
      ],
      "text/plain": [
       "[1] 132  11"
      ]
     },
     "metadata": {},
     "output_type": "display_data"
    }
   ],
   "source": [
    "dim(data_managers)"
   ]
  },
  {
   "cell_type": "code",
   "execution_count": 317,
   "metadata": {},
   "outputs": [
    {
     "data": {
      "text/html": [
       "<dl class=dl-horizontal>\n",
       "\t<dt>Date</dt>\n",
       "\t\t<dd>0</dd>\n",
       "\t<dt>HAM1</dt>\n",
       "\t\t<dd>0</dd>\n",
       "\t<dt>HAM2</dt>\n",
       "\t\t<dd>7</dd>\n",
       "\t<dt>HAM3</dt>\n",
       "\t\t<dd>0</dd>\n",
       "\t<dt>HAM4</dt>\n",
       "\t\t<dd>0</dd>\n",
       "\t<dt>HAM5</dt>\n",
       "\t\t<dd>55</dd>\n",
       "\t<dt>HAM6</dt>\n",
       "\t\t<dd>68</dd>\n",
       "\t<dt>EDHEC.LS.EQ</dt>\n",
       "\t\t<dd>12</dd>\n",
       "\t<dt>SP500.TR</dt>\n",
       "\t\t<dd>0</dd>\n",
       "\t<dt>US.10Y.TR</dt>\n",
       "\t\t<dd>0</dd>\n",
       "\t<dt>US.3m.TR</dt>\n",
       "\t\t<dd>0</dd>\n",
       "</dl>\n"
      ],
      "text/latex": [
       "\\begin{description*}\n",
       "\\item[Date] 0\n",
       "\\item[HAM1] 0\n",
       "\\item[HAM2] 7\n",
       "\\item[HAM3] 0\n",
       "\\item[HAM4] 0\n",
       "\\item[HAM5] 55\n",
       "\\item[HAM6] 68\n",
       "\\item[EDHEC.LS.EQ] 12\n",
       "\\item[SP500.TR] 0\n",
       "\\item[US.10Y.TR] 0\n",
       "\\item[US.3m.TR] 0\n",
       "\\end{description*}\n"
      ],
      "text/markdown": [
       "Date\n",
       ":   0HAM1\n",
       ":   0HAM2\n",
       ":   7HAM3\n",
       ":   0HAM4\n",
       ":   0HAM5\n",
       ":   55HAM6\n",
       ":   68EDHEC.LS.EQ\n",
       ":   12SP500.TR\n",
       ":   0US.10Y.TR\n",
       ":   0US.3m.TR\n",
       ":   0\n",
       "\n"
      ],
      "text/plain": [
       "       Date        HAM1        HAM2        HAM3        HAM4        HAM5 \n",
       "          0           0           7           0           0          55 \n",
       "       HAM6 EDHEC.LS.EQ    SP500.TR   US.10Y.TR    US.3m.TR \n",
       "         68          12           0           0           0 "
      ]
     },
     "metadata": {},
     "output_type": "display_data"
    }
   ],
   "source": [
    "sapply(data_managers, function(x) sum(is.na(x)))"
   ]
  },
  {
   "cell_type": "code",
   "execution_count": 357,
   "metadata": {},
   "outputs": [],
   "source": [
    "data_managers <- select(data_managers, HAM1, HAM3, HAM4, EDHEC.LS.EQ, SP500.TR, US.10Y.TR, US.3m.TR)"
   ]
  },
  {
   "cell_type": "code",
   "execution_count": null,
   "metadata": {},
   "outputs": [],
   "source": []
  },
  {
   "cell_type": "code",
   "execution_count": 358,
   "metadata": {},
   "outputs": [],
   "source": [
    "data_managers <- data_managers[complete.cases(data_managers), ]"
   ]
  },
  {
   "cell_type": "code",
   "execution_count": 359,
   "metadata": {},
   "outputs": [
    {
     "data": {
      "text/html": [
       "<ol class=list-inline>\n",
       "\t<li>120</li>\n",
       "\t<li>7</li>\n",
       "</ol>\n"
      ],
      "text/latex": [
       "\\begin{enumerate*}\n",
       "\\item 120\n",
       "\\item 7\n",
       "\\end{enumerate*}\n"
      ],
      "text/markdown": [
       "1. 120\n",
       "2. 7\n",
       "\n",
       "\n"
      ],
      "text/plain": [
       "[1] 120   7"
      ]
     },
     "metadata": {},
     "output_type": "display_data"
    }
   ],
   "source": [
    "dim(data_managers)"
   ]
  },
  {
   "cell_type": "code",
   "execution_count": 360,
   "metadata": {},
   "outputs": [
    {
     "data": {
      "text/html": [
       "<table>\n",
       "<thead><tr><th></th><th scope=col>HAM1</th><th scope=col>HAM3</th><th scope=col>HAM4</th><th scope=col>EDHEC.LS.EQ</th><th scope=col>SP500.TR</th><th scope=col>US.10Y.TR</th><th scope=col>US.3m.TR</th></tr></thead>\n",
       "<tbody>\n",
       "\t<tr><th scope=row>1997-01-31</th><td>0.0212  </td><td> 0.0771 </td><td>0.0437  </td><td> 0.0281 </td><td> 0.0625 </td><td>-0.00055</td><td>0.00457 </td></tr>\n",
       "\t<tr><th scope=row>1997-02-28</th><td>0.0022  </td><td>-0.0374 </td><td>0.0312  </td><td>-0.0006 </td><td> 0.0078 </td><td>-0.00167</td><td>0.00390 </td></tr>\n",
       "\t<tr><th scope=row>1997-03-31</th><td>0.0094  </td><td>-0.0336 </td><td>0.0113  </td><td>-0.0084 </td><td>-0.0411 </td><td>-0.01958</td><td>0.00422 </td></tr>\n",
       "\t<tr><th scope=row>1997-04-30</th><td>0.0126  </td><td> 0.0286 </td><td>0.0354  </td><td> 0.0084 </td><td> 0.0597 </td><td> 0.01954</td><td>0.00477 </td></tr>\n",
       "\t<tr><th scope=row>1997-05-31</th><td>0.0438  </td><td> 0.0759 </td><td>0.0789  </td><td> 0.0394 </td><td> 0.0609 </td><td> 0.01033</td><td>0.00513 </td></tr>\n",
       "\t<tr><th scope=row>1997-06-30</th><td>0.0231  </td><td> 0.0054 </td><td>0.0412  </td><td> 0.0223 </td><td> 0.0448 </td><td> 0.01665</td><td>0.00365 </td></tr>\n",
       "</tbody>\n",
       "</table>\n"
      ],
      "text/latex": [
       "\\begin{tabular}{r|lllllll}\n",
       "  & HAM1 & HAM3 & HAM4 & EDHEC.LS.EQ & SP500.TR & US.10Y.TR & US.3m.TR\\\\\n",
       "\\hline\n",
       "\t1997-01-31 & 0.0212   &  0.0771  & 0.0437   &  0.0281  &  0.0625  & -0.00055 & 0.00457 \\\\\n",
       "\t1997-02-28 & 0.0022   & -0.0374  & 0.0312   & -0.0006  &  0.0078  & -0.00167 & 0.00390 \\\\\n",
       "\t1997-03-31 & 0.0094   & -0.0336  & 0.0113   & -0.0084  & -0.0411  & -0.01958 & 0.00422 \\\\\n",
       "\t1997-04-30 & 0.0126   &  0.0286  & 0.0354   &  0.0084  &  0.0597  &  0.01954 & 0.00477 \\\\\n",
       "\t1997-05-31 & 0.0438   &  0.0759  & 0.0789   &  0.0394  &  0.0609  &  0.01033 & 0.00513 \\\\\n",
       "\t1997-06-30 & 0.0231   &  0.0054  & 0.0412   &  0.0223  &  0.0448  &  0.01665 & 0.00365 \\\\\n",
       "\\end{tabular}\n"
      ],
      "text/markdown": [
       "\n",
       "| <!--/--> | HAM1 | HAM3 | HAM4 | EDHEC.LS.EQ | SP500.TR | US.10Y.TR | US.3m.TR |\n",
       "|---|---|---|---|---|---|---|---|\n",
       "| 1997-01-31 | 0.0212   |  0.0771  | 0.0437   |  0.0281  |  0.0625  | -0.00055 | 0.00457  |\n",
       "| 1997-02-28 | 0.0022   | -0.0374  | 0.0312   | -0.0006  |  0.0078  | -0.00167 | 0.00390  |\n",
       "| 1997-03-31 | 0.0094   | -0.0336  | 0.0113   | -0.0084  | -0.0411  | -0.01958 | 0.00422  |\n",
       "| 1997-04-30 | 0.0126   |  0.0286  | 0.0354   |  0.0084  |  0.0597  |  0.01954 | 0.00477  |\n",
       "| 1997-05-31 | 0.0438   |  0.0759  | 0.0789   |  0.0394  |  0.0609  |  0.01033 | 0.00513  |\n",
       "| 1997-06-30 | 0.0231   |  0.0054  | 0.0412   |  0.0223  |  0.0448  |  0.01665 | 0.00365  |\n",
       "\n"
      ],
      "text/plain": [
       "           HAM1   HAM3    HAM4   EDHEC.LS.EQ SP500.TR US.10Y.TR US.3m.TR\n",
       "1997-01-31 0.0212  0.0771 0.0437  0.0281      0.0625  -0.00055  0.00457 \n",
       "1997-02-28 0.0022 -0.0374 0.0312 -0.0006      0.0078  -0.00167  0.00390 \n",
       "1997-03-31 0.0094 -0.0336 0.0113 -0.0084     -0.0411  -0.01958  0.00422 \n",
       "1997-04-30 0.0126  0.0286 0.0354  0.0084      0.0597   0.01954  0.00477 \n",
       "1997-05-31 0.0438  0.0759 0.0789  0.0394      0.0609   0.01033  0.00513 \n",
       "1997-06-30 0.0231  0.0054 0.0412  0.0223      0.0448   0.01665  0.00365 "
      ]
     },
     "metadata": {},
     "output_type": "display_data"
    }
   ],
   "source": [
    "head(data_managers)"
   ]
  },
  {
   "cell_type": "code",
   "execution_count": 361,
   "metadata": {},
   "outputs": [
    {
     "name": "stdout",
     "output_type": "stream",
     "text": [
      "'data.frame':\t120 obs. of  7 variables:\n",
      " $ HAM1       : num  0.0212 0.0022 0.0094 0.0126 0.0438 0.0231 0.0154 0.0237 0.0219 -0.0207 ...\n",
      " $ HAM3       : num  0.0771 -0.0374 -0.0336 0.0286 0.0759 ...\n",
      " $ HAM4       : num  0.0437 0.0312 0.0113 0.0354 0.0789 0.0412 0.0794 0.0143 0.0217 0.0056 ...\n",
      " $ EDHEC.LS.EQ: num  0.0281 -0.0006 -0.0084 0.0084 0.0394 0.0223 0.0454 0.0107 0.0429 0.001 ...\n",
      " $ SP500.TR   : num  0.0625 0.0078 -0.0411 0.0597 0.0609 0.0448 0.0796 -0.056 0.0548 -0.0334 ...\n",
      " $ US.10Y.TR  : num  -0.00055 -0.00167 -0.01958 0.01954 0.01033 ...\n",
      " $ US.3m.TR   : num  0.00457 0.0039 0.00422 0.00477 0.00513 0.00365 0.0045 0.00428 0.00458 0.00427 ...\n"
     ]
    }
   ],
   "source": [
    "str(data_managers)"
   ]
  },
  {
   "cell_type": "code",
   "execution_count": 352,
   "metadata": {},
   "outputs": [],
   "source": [
    "library(PerformanceAnalytics)\n",
    "library(xts)\n",
    "library(lubridate)"
   ]
  },
  {
   "cell_type": "code",
   "execution_count": 353,
   "metadata": {},
   "outputs": [],
   "source": [
    "# data_managers$Date<-mdy(data_managers$Date)"
   ]
  },
  {
   "cell_type": "code",
   "execution_count": 354,
   "metadata": {},
   "outputs": [
    {
     "data": {
      "text/html": [
       "<table>\n",
       "<thead><tr><th></th><th scope=col>Date</th><th scope=col>HAM1</th><th scope=col>HAM3</th><th scope=col>HAM4</th><th scope=col>EDHEC.LS.EQ</th><th scope=col>SP500.TR</th><th scope=col>US.10Y.TR</th><th scope=col>US.3m.TR</th></tr></thead>\n",
       "<tbody>\n",
       "\t<tr><th scope=row>13</th><td>1997-01-31</td><td>0.0212    </td><td> 0.0771   </td><td>0.0437    </td><td> 0.0281   </td><td> 0.0625   </td><td>-0.00055  </td><td>0.00457   </td></tr>\n",
       "\t<tr><th scope=row>14</th><td>1997-02-28</td><td>0.0022    </td><td>-0.0374   </td><td>0.0312    </td><td>-0.0006   </td><td> 0.0078   </td><td>-0.00167  </td><td>0.00390   </td></tr>\n",
       "\t<tr><th scope=row>15</th><td>1997-03-31</td><td>0.0094    </td><td>-0.0336   </td><td>0.0113    </td><td>-0.0084   </td><td>-0.0411   </td><td>-0.01958  </td><td>0.00422   </td></tr>\n",
       "\t<tr><th scope=row>16</th><td>1997-04-30</td><td>0.0126    </td><td> 0.0286   </td><td>0.0354    </td><td> 0.0084   </td><td> 0.0597   </td><td> 0.01954  </td><td>0.00477   </td></tr>\n",
       "\t<tr><th scope=row>17</th><td>1997-05-31</td><td>0.0438    </td><td> 0.0759   </td><td>0.0789    </td><td> 0.0394   </td><td> 0.0609   </td><td> 0.01033  </td><td>0.00513   </td></tr>\n",
       "\t<tr><th scope=row>18</th><td>1997-06-30</td><td>0.0231    </td><td> 0.0054   </td><td>0.0412    </td><td> 0.0223   </td><td> 0.0448   </td><td> 0.01665  </td><td>0.00365   </td></tr>\n",
       "</tbody>\n",
       "</table>\n"
      ],
      "text/latex": [
       "\\begin{tabular}{r|llllllll}\n",
       "  & Date & HAM1 & HAM3 & HAM4 & EDHEC.LS.EQ & SP500.TR & US.10Y.TR & US.3m.TR\\\\\n",
       "\\hline\n",
       "\t13 & 1997-01-31 & 0.0212     &  0.0771    & 0.0437     &  0.0281    &  0.0625    & -0.00055   & 0.00457   \\\\\n",
       "\t14 & 1997-02-28 & 0.0022     & -0.0374    & 0.0312     & -0.0006    &  0.0078    & -0.00167   & 0.00390   \\\\\n",
       "\t15 & 1997-03-31 & 0.0094     & -0.0336    & 0.0113     & -0.0084    & -0.0411    & -0.01958   & 0.00422   \\\\\n",
       "\t16 & 1997-04-30 & 0.0126     &  0.0286    & 0.0354     &  0.0084    &  0.0597    &  0.01954   & 0.00477   \\\\\n",
       "\t17 & 1997-05-31 & 0.0438     &  0.0759    & 0.0789     &  0.0394    &  0.0609    &  0.01033   & 0.00513   \\\\\n",
       "\t18 & 1997-06-30 & 0.0231     &  0.0054    & 0.0412     &  0.0223    &  0.0448    &  0.01665   & 0.00365   \\\\\n",
       "\\end{tabular}\n"
      ],
      "text/markdown": [
       "\n",
       "| <!--/--> | Date | HAM1 | HAM3 | HAM4 | EDHEC.LS.EQ | SP500.TR | US.10Y.TR | US.3m.TR |\n",
       "|---|---|---|---|---|---|---|---|---|\n",
       "| 13 | 1997-01-31 | 0.0212     |  0.0771    | 0.0437     |  0.0281    |  0.0625    | -0.00055   | 0.00457    |\n",
       "| 14 | 1997-02-28 | 0.0022     | -0.0374    | 0.0312     | -0.0006    |  0.0078    | -0.00167   | 0.00390    |\n",
       "| 15 | 1997-03-31 | 0.0094     | -0.0336    | 0.0113     | -0.0084    | -0.0411    | -0.01958   | 0.00422    |\n",
       "| 16 | 1997-04-30 | 0.0126     |  0.0286    | 0.0354     |  0.0084    |  0.0597    |  0.01954   | 0.00477    |\n",
       "| 17 | 1997-05-31 | 0.0438     |  0.0759    | 0.0789     |  0.0394    |  0.0609    |  0.01033   | 0.00513    |\n",
       "| 18 | 1997-06-30 | 0.0231     |  0.0054    | 0.0412     |  0.0223    |  0.0448    |  0.01665   | 0.00365    |\n",
       "\n"
      ],
      "text/plain": [
       "   Date       HAM1   HAM3    HAM4   EDHEC.LS.EQ SP500.TR US.10Y.TR US.3m.TR\n",
       "13 1997-01-31 0.0212  0.0771 0.0437  0.0281      0.0625  -0.00055  0.00457 \n",
       "14 1997-02-28 0.0022 -0.0374 0.0312 -0.0006      0.0078  -0.00167  0.00390 \n",
       "15 1997-03-31 0.0094 -0.0336 0.0113 -0.0084     -0.0411  -0.01958  0.00422 \n",
       "16 1997-04-30 0.0126  0.0286 0.0354  0.0084      0.0597   0.01954  0.00477 \n",
       "17 1997-05-31 0.0438  0.0759 0.0789  0.0394      0.0609   0.01033  0.00513 \n",
       "18 1997-06-30 0.0231  0.0054 0.0412  0.0223      0.0448   0.01665  0.00365 "
      ]
     },
     "metadata": {},
     "output_type": "display_data"
    }
   ],
   "source": [
    "# data_managers$Date<-mdy(data_managers$Date)\n",
    "fund2<-data_managers[order(data_managers$Date),]\n",
    "head(fund2)"
   ]
  },
  {
   "cell_type": "code",
   "execution_count": 362,
   "metadata": {},
   "outputs": [
    {
     "ename": "ERROR",
     "evalue": "Error in xts(data_managers[, -1], order.by = data_managers$Date, ): order.by requires an appropriate time-based object\n",
     "output_type": "error",
     "traceback": [
      "Error in xts(data_managers[, -1], order.by = data_managers$Date, ): order.by requires an appropriate time-based object\nTraceback:\n",
      "1. xts(data_managers[, -1], order.by = data_managers$Date, )",
      "2. stop(\"order.by requires an appropriate time-based object\")"
     ]
    }
   ],
   "source": [
    "#create an xts dataset\n",
    "All.dat<-xts(data_managers[,-1],order.by=data_managers$,)"
   ]
  },
  {
   "cell_type": "code",
   "execution_count": 364,
   "metadata": {},
   "outputs": [
    {
     "ename": "ERROR",
     "evalue": "Error in checkData(R): The data cannot be converted into a time series.  If you are trying to pass in names from a data object with one column, you should use the form 'data[rows, columns, drop = FALSE]'.  Rownames should have standard date formats, such as '1985-03-15'. \n",
     "output_type": "error",
     "traceback": [
      "Error in checkData(R): The data cannot be converted into a time series.  If you are trying to pass in names from a data object with one column, you should use the form 'data[rows, columns, drop = FALSE]'.  Rownames should have standard date formats, such as '1985-03-15'. \nTraceback:\n",
      "1. SharpeRatio(data_managers$HAM3, data_managers$US.3m.TR)",
      "2. sapply(R, FUN = srm, Rf = Rf, p = p, FUNC = FUNCT, ...)",
      "3. lapply(X = X, FUN = FUN, ...)",
      "4. FUN(X[[i]], ...)",
      "5. Return.excess(R, Rf)",
      "6. checkData(R)",
      "7. stop(\"The data cannot be converted into a time series.  If you are trying to pass in names from a data object with one column, you should use the form 'data[rows, columns, drop = FALSE]'.  Rownames should have standard date formats, such as '1985-03-15'. \")"
     ]
    }
   ],
   "source": [
    "SharpeRatio(data_managers$HAM3, data_managers$US.3m.TR)"
   ]
  },
  {
   "cell_type": "code",
   "execution_count": null,
   "metadata": {},
   "outputs": [],
   "source": []
  },
  {
   "cell_type": "markdown",
   "metadata": {},
   "source": [
    "**Instructions for Questions 18 - 20:**\n",
    "\n",
    "For Questions 18,19 & 20 use the provided data-set factors.csv to construct three factor regression models for AAPL, BA, and M. \n",
    "\n",
    "Date: 01-02-2019 ~ 04/30/2020 (must convert to date form) \n",
    "\n",
    "Mkt-RF: The daily return factor attributed to the market (Mkt return – RF) \n",
    "\n",
    "SMB: The daily return factor attributed to the size factor \n",
    "\n",
    "HML: The daily return factor attributed to the value factor \n",
    "\n",
    "RF: The daily risk-free rate  \n",
    "\n",
    "AAPL: The daily arithmetic return for Apple Stock \n",
    "\n",
    "BA: The daily arithmetic return for Boeing Stock \n",
    "\n",
    "M: The daily arithmetic return of Macy’s Stock \n",
    "\n",
    " \n",
    "\n",
    "Use the output of these three factor models to answer the following: \n",
    "\n",
    " "
   ]
  },
  {
   "cell_type": "code",
   "execution_count": 365,
   "metadata": {},
   "outputs": [],
   "source": [
    "factors_data <- read.csv(\"factors.xls\")"
   ]
  },
  {
   "cell_type": "code",
   "execution_count": 366,
   "metadata": {},
   "outputs": [
    {
     "data": {
      "text/html": [
       "<table>\n",
       "<thead><tr><th scope=col>Date</th><th scope=col>Mkt.RF</th><th scope=col>SMB</th><th scope=col>HML</th><th scope=col>RF</th><th scope=col>AAPL</th><th scope=col>BA</th><th scope=col>M</th></tr></thead>\n",
       "<tbody>\n",
       "\t<tr><td>1/2/2019</td><td> 0.23   </td><td>0.73    </td><td> 1.15   </td><td>0.01    </td><td>-0.0006 </td><td>-0.0049 </td><td>-0.0622 </td></tr>\n",
       "\t<tr><td>1/3/2019</td><td>-2.45   </td><td>0.52    </td><td> 1.23   </td><td>0.01    </td><td>-0.0320 </td><td>-0.0544 </td><td>-0.1323 </td></tr>\n",
       "\t<tr><td>1/4/2019</td><td> 3.55   </td><td>0.39    </td><td>-0.74   </td><td>0.01    </td><td> 0.0055 </td><td> 0.0036 </td><td>-0.1369 </td></tr>\n",
       "\t<tr><td>1/7/2019</td><td> 0.94   </td><td>0.82    </td><td>-0.67   </td><td>0.01    </td><td>-0.0249 </td><td>-0.0354 </td><td>-0.0928 </td></tr>\n",
       "\t<tr><td>1/8/2019</td><td> 1.01   </td><td>0.44    </td><td>-0.53   </td><td>0.01    </td><td>-0.0120 </td><td>-0.0096 </td><td>-0.1005 </td></tr>\n",
       "\t<tr><td>1/9/2019</td><td> 0.56   </td><td>0.51    </td><td>-0.04   </td><td>0.01    </td><td>-0.0067 </td><td>-0.0258 </td><td>-0.0931 </td></tr>\n",
       "</tbody>\n",
       "</table>\n"
      ],
      "text/latex": [
       "\\begin{tabular}{r|llllllll}\n",
       " Date & Mkt.RF & SMB & HML & RF & AAPL & BA & M\\\\\n",
       "\\hline\n",
       "\t 1/2/2019 &  0.23    & 0.73     &  1.15    & 0.01     & -0.0006  & -0.0049  & -0.0622 \\\\\n",
       "\t 1/3/2019 & -2.45    & 0.52     &  1.23    & 0.01     & -0.0320  & -0.0544  & -0.1323 \\\\\n",
       "\t 1/4/2019 &  3.55    & 0.39     & -0.74    & 0.01     &  0.0055  &  0.0036  & -0.1369 \\\\\n",
       "\t 1/7/2019 &  0.94    & 0.82     & -0.67    & 0.01     & -0.0249  & -0.0354  & -0.0928 \\\\\n",
       "\t 1/8/2019 &  1.01    & 0.44     & -0.53    & 0.01     & -0.0120  & -0.0096  & -0.1005 \\\\\n",
       "\t 1/9/2019 &  0.56    & 0.51     & -0.04    & 0.01     & -0.0067  & -0.0258  & -0.0931 \\\\\n",
       "\\end{tabular}\n"
      ],
      "text/markdown": [
       "\n",
       "| Date | Mkt.RF | SMB | HML | RF | AAPL | BA | M |\n",
       "|---|---|---|---|---|---|---|---|\n",
       "| 1/2/2019 |  0.23    | 0.73     |  1.15    | 0.01     | -0.0006  | -0.0049  | -0.0622  |\n",
       "| 1/3/2019 | -2.45    | 0.52     |  1.23    | 0.01     | -0.0320  | -0.0544  | -0.1323  |\n",
       "| 1/4/2019 |  3.55    | 0.39     | -0.74    | 0.01     |  0.0055  |  0.0036  | -0.1369  |\n",
       "| 1/7/2019 |  0.94    | 0.82     | -0.67    | 0.01     | -0.0249  | -0.0354  | -0.0928  |\n",
       "| 1/8/2019 |  1.01    | 0.44     | -0.53    | 0.01     | -0.0120  | -0.0096  | -0.1005  |\n",
       "| 1/9/2019 |  0.56    | 0.51     | -0.04    | 0.01     | -0.0067  | -0.0258  | -0.0931  |\n",
       "\n"
      ],
      "text/plain": [
       "  Date     Mkt.RF SMB  HML   RF   AAPL    BA      M      \n",
       "1 1/2/2019  0.23  0.73  1.15 0.01 -0.0006 -0.0049 -0.0622\n",
       "2 1/3/2019 -2.45  0.52  1.23 0.01 -0.0320 -0.0544 -0.1323\n",
       "3 1/4/2019  3.55  0.39 -0.74 0.01  0.0055  0.0036 -0.1369\n",
       "4 1/7/2019  0.94  0.82 -0.67 0.01 -0.0249 -0.0354 -0.0928\n",
       "5 1/8/2019  1.01  0.44 -0.53 0.01 -0.0120 -0.0096 -0.1005\n",
       "6 1/9/2019  0.56  0.51 -0.04 0.01 -0.0067 -0.0258 -0.0931"
      ]
     },
     "metadata": {},
     "output_type": "display_data"
    },
    {
     "name": "stdout",
     "output_type": "stream",
     "text": [
      "'data.frame':\t335 obs. of  8 variables:\n",
      " $ Date  : Factor w/ 335 levels \"1/10/2019\",\"1/10/2020\",..: 14 29 35 37 39 41 1 3 5 7 ...\n",
      " $ Mkt.RF: num  0.23 -2.45 3.55 0.94 1.01 0.56 0.42 -0.01 -0.6 1.06 ...\n",
      " $ SMB   : num  0.73 0.52 0.39 0.82 0.44 0.51 -0.02 0.2 -0.46 -0.13 ...\n",
      " $ HML   : num  1.15 1.23 -0.74 -0.67 -0.53 -0.04 -0.41 0.29 0.88 -0.88 ...\n",
      " $ RF    : num  0.01 0.01 0.01 0.01 0.01 0.01 0.01 0.01 0.01 0.01 ...\n",
      " $ AAPL  : num  -0.0006 -0.032 0.0055 -0.0249 -0.012 -0.0067 -0.0114 -0.0236 -0.0253 -0.0015 ...\n",
      " $ BA    : num  -0.0049 -0.0544 0.0036 -0.0354 -0.0096 -0.0258 -0.0112 -0.0162 -0.0223 -0.0276 ...\n",
      " $ M     : num  -0.0622 -0.1323 -0.1369 -0.0928 -0.1005 ...\n"
     ]
    },
    {
     "data": {
      "text/html": [
       "<ol class=list-inline>\n",
       "\t<li>335</li>\n",
       "\t<li>8</li>\n",
       "</ol>\n"
      ],
      "text/latex": [
       "\\begin{enumerate*}\n",
       "\\item 335\n",
       "\\item 8\n",
       "\\end{enumerate*}\n"
      ],
      "text/markdown": [
       "1. 335\n",
       "2. 8\n",
       "\n",
       "\n"
      ],
      "text/plain": [
       "[1] 335   8"
      ]
     },
     "metadata": {},
     "output_type": "display_data"
    }
   ],
   "source": [
    "head(factors_data)\n",
    "str(factors_data)\n",
    "dim(factors_data)"
   ]
  },
  {
   "cell_type": "code",
   "execution_count": 367,
   "metadata": {},
   "outputs": [
    {
     "data": {
      "text/html": [
       "<table>\n",
       "<thead><tr><th scope=col>Date</th><th scope=col>Mkt.RF</th><th scope=col>SMB</th><th scope=col>HML</th><th scope=col>RF</th><th scope=col>AAPL</th><th scope=col>BA</th><th scope=col>M</th></tr></thead>\n",
       "<tbody>\n",
       "\t<tr><td>2019-01-02</td><td> 0.23     </td><td>0.73      </td><td> 1.15     </td><td>0.01      </td><td>-0.0006   </td><td>-0.0049   </td><td>-0.0622   </td></tr>\n",
       "\t<tr><td>2019-01-03</td><td>-2.45     </td><td>0.52      </td><td> 1.23     </td><td>0.01      </td><td>-0.0320   </td><td>-0.0544   </td><td>-0.1323   </td></tr>\n",
       "\t<tr><td>2019-01-04</td><td> 3.55     </td><td>0.39      </td><td>-0.74     </td><td>0.01      </td><td> 0.0055   </td><td> 0.0036   </td><td>-0.1369   </td></tr>\n",
       "\t<tr><td>2019-01-07</td><td> 0.94     </td><td>0.82      </td><td>-0.67     </td><td>0.01      </td><td>-0.0249   </td><td>-0.0354   </td><td>-0.0928   </td></tr>\n",
       "\t<tr><td>2019-01-08</td><td> 1.01     </td><td>0.44      </td><td>-0.53     </td><td>0.01      </td><td>-0.0120   </td><td>-0.0096   </td><td>-0.1005   </td></tr>\n",
       "\t<tr><td>2019-01-09</td><td> 0.56     </td><td>0.51      </td><td>-0.04     </td><td>0.01      </td><td>-0.0067   </td><td>-0.0258   </td><td>-0.0931   </td></tr>\n",
       "</tbody>\n",
       "</table>\n"
      ],
      "text/latex": [
       "\\begin{tabular}{r|llllllll}\n",
       " Date & Mkt.RF & SMB & HML & RF & AAPL & BA & M\\\\\n",
       "\\hline\n",
       "\t 2019-01-02 &  0.23      & 0.73       &  1.15      & 0.01       & -0.0006    & -0.0049    & -0.0622   \\\\\n",
       "\t 2019-01-03 & -2.45      & 0.52       &  1.23      & 0.01       & -0.0320    & -0.0544    & -0.1323   \\\\\n",
       "\t 2019-01-04 &  3.55      & 0.39       & -0.74      & 0.01       &  0.0055    &  0.0036    & -0.1369   \\\\\n",
       "\t 2019-01-07 &  0.94      & 0.82       & -0.67      & 0.01       & -0.0249    & -0.0354    & -0.0928   \\\\\n",
       "\t 2019-01-08 &  1.01      & 0.44       & -0.53      & 0.01       & -0.0120    & -0.0096    & -0.1005   \\\\\n",
       "\t 2019-01-09 &  0.56      & 0.51       & -0.04      & 0.01       & -0.0067    & -0.0258    & -0.0931   \\\\\n",
       "\\end{tabular}\n"
      ],
      "text/markdown": [
       "\n",
       "| Date | Mkt.RF | SMB | HML | RF | AAPL | BA | M |\n",
       "|---|---|---|---|---|---|---|---|\n",
       "| 2019-01-02 |  0.23      | 0.73       |  1.15      | 0.01       | -0.0006    | -0.0049    | -0.0622    |\n",
       "| 2019-01-03 | -2.45      | 0.52       |  1.23      | 0.01       | -0.0320    | -0.0544    | -0.1323    |\n",
       "| 2019-01-04 |  3.55      | 0.39       | -0.74      | 0.01       |  0.0055    |  0.0036    | -0.1369    |\n",
       "| 2019-01-07 |  0.94      | 0.82       | -0.67      | 0.01       | -0.0249    | -0.0354    | -0.0928    |\n",
       "| 2019-01-08 |  1.01      | 0.44       | -0.53      | 0.01       | -0.0120    | -0.0096    | -0.1005    |\n",
       "| 2019-01-09 |  0.56      | 0.51       | -0.04      | 0.01       | -0.0067    | -0.0258    | -0.0931    |\n",
       "\n"
      ],
      "text/plain": [
       "  Date       Mkt.RF SMB  HML   RF   AAPL    BA      M      \n",
       "1 2019-01-02  0.23  0.73  1.15 0.01 -0.0006 -0.0049 -0.0622\n",
       "2 2019-01-03 -2.45  0.52  1.23 0.01 -0.0320 -0.0544 -0.1323\n",
       "3 2019-01-04  3.55  0.39 -0.74 0.01  0.0055  0.0036 -0.1369\n",
       "4 2019-01-07  0.94  0.82 -0.67 0.01 -0.0249 -0.0354 -0.0928\n",
       "5 2019-01-08  1.01  0.44 -0.53 0.01 -0.0120 -0.0096 -0.1005\n",
       "6 2019-01-09  0.56  0.51 -0.04 0.01 -0.0067 -0.0258 -0.0931"
      ]
     },
     "metadata": {},
     "output_type": "display_data"
    }
   ],
   "source": [
    "factors_data$Date<-mdy(factors_data$Date)\n",
    "fund2<-factors_data[order(factors_data$Date),]\n",
    "head(fund2)"
   ]
  },
  {
   "cell_type": "code",
   "execution_count": 368,
   "metadata": {},
   "outputs": [
    {
     "name": "stdout",
     "output_type": "stream",
     "text": [
      "'data.frame':\t335 obs. of  8 variables:\n",
      " $ Date  : Date, format: \"2019-01-02\" \"2019-01-03\" ...\n",
      " $ Mkt.RF: num  0.23 -2.45 3.55 0.94 1.01 0.56 0.42 -0.01 -0.6 1.06 ...\n",
      " $ SMB   : num  0.73 0.52 0.39 0.82 0.44 0.51 -0.02 0.2 -0.46 -0.13 ...\n",
      " $ HML   : num  1.15 1.23 -0.74 -0.67 -0.53 -0.04 -0.41 0.29 0.88 -0.88 ...\n",
      " $ RF    : num  0.01 0.01 0.01 0.01 0.01 0.01 0.01 0.01 0.01 0.01 ...\n",
      " $ AAPL  : num  -0.0006 -0.032 0.0055 -0.0249 -0.012 -0.0067 -0.0114 -0.0236 -0.0253 -0.0015 ...\n",
      " $ BA    : num  -0.0049 -0.0544 0.0036 -0.0354 -0.0096 -0.0258 -0.0112 -0.0162 -0.0223 -0.0276 ...\n",
      " $ M     : num  -0.0622 -0.1323 -0.1369 -0.0928 -0.1005 ...\n"
     ]
    }
   ],
   "source": [
    "str(fund2)"
   ]
  },
  {
   "cell_type": "markdown",
   "metadata": {},
   "source": [
    "**Question 18**\n",
    "\n",
    "Out of the three factor regression models built for each stock which stock MOST favoured the positive return premium on the small size factor?"
   ]
  },
  {
   "cell_type": "code",
   "execution_count": 369,
   "metadata": {},
   "outputs": [],
   "source": [
    "library(stargazer)"
   ]
  },
  {
   "cell_type": "code",
   "execution_count": 376,
   "metadata": {},
   "outputs": [
    {
     "data": {
      "text/plain": [
       "\n",
       "Call:\n",
       "lm(formula = AAPL ~ Mkt.RF + SMB + HML, data = fund2)\n",
       "\n",
       "Residuals:\n",
       "      Min        1Q    Median        3Q       Max \n",
       "-0.049560 -0.007223 -0.000570  0.007439  0.068773 \n",
       "\n",
       "Coefficients:\n",
       "              Estimate Std. Error t value Pr(>|t|)    \n",
       "(Intercept) -0.0082046  0.0007106 -11.545  < 2e-16 ***\n",
       "Mkt.RF       0.0049528  0.0004118  12.027  < 2e-16 ***\n",
       "SMB         -0.0023180  0.0010280  -2.255   0.0248 *  \n",
       "HML         -0.0040175  0.0009060  -4.434 1.26e-05 ***\n",
       "---\n",
       "Signif. codes:  0 '***' 0.001 '**' 0.01 '*' 0.05 '.' 0.1 ' ' 1\n",
       "\n",
       "Residual standard error: 0.01288 on 331 degrees of freedom\n",
       "Multiple R-squared:  0.315,\tAdjusted R-squared:  0.3088 \n",
       "F-statistic: 50.75 on 3 and 331 DF,  p-value: < 2.2e-16\n"
      ]
     },
     "metadata": {},
     "output_type": "display_data"
    }
   ],
   "source": [
    "apple.lm <- lm(AAPL ~ Mkt.RF + SMB + HML, data = fund2)\n",
    "\n",
    "summary(apple.lm)"
   ]
  },
  {
   "cell_type": "code",
   "execution_count": 377,
   "metadata": {},
   "outputs": [
    {
     "data": {
      "text/plain": [
       "\n",
       "Call:\n",
       "lm(formula = BA ~ Mkt.RF + SMB + HML, data = fund2)\n",
       "\n",
       "Residuals:\n",
       "      Min        1Q    Median        3Q       Max \n",
       "-0.110133 -0.009975 -0.000495  0.010005  0.089728 \n",
       "\n",
       "Coefficients:\n",
       "              Estimate Std. Error t value Pr(>|t|)    \n",
       "(Intercept) -0.0158507  0.0011888 -13.333  < 2e-16 ***\n",
       "Mkt.RF       0.0050718  0.0006889   7.362 1.45e-12 ***\n",
       "SMB          0.0031547  0.0017197   1.834   0.0675 .  \n",
       "HML         -0.0031563  0.0015157  -2.082   0.0381 *  \n",
       "---\n",
       "Signif. codes:  0 '***' 0.001 '**' 0.01 '*' 0.05 '.' 0.1 ' ' 1\n",
       "\n",
       "Residual standard error: 0.02154 on 331 degrees of freedom\n",
       "Multiple R-squared:  0.1531,\tAdjusted R-squared:  0.1454 \n",
       "F-statistic: 19.94 on 3 and 331 DF,  p-value: 6.617e-12\n"
      ]
     },
     "metadata": {},
     "output_type": "display_data"
    }
   ],
   "source": [
    "Boeing.lm <- lm(BA ~ Mkt.RF + SMB + HML, data = fund2)\n",
    "summary(Boeing.lm)"
   ]
  },
  {
   "cell_type": "code",
   "execution_count": 378,
   "metadata": {},
   "outputs": [
    {
     "data": {
      "text/plain": [
       "\n",
       "Call:\n",
       "lm(formula = M ~ Mkt.RF + SMB + HML, data = fund2)\n",
       "\n",
       "Residuals:\n",
       "      Min        1Q    Median        3Q       Max \n",
       "-0.101000 -0.027546 -0.004632  0.022089  0.152406 \n",
       "\n",
       "Coefficients:\n",
       "             Estimate Std. Error t value Pr(>|t|)    \n",
       "(Intercept) -0.072537   0.002218 -32.702   <2e-16 ***\n",
       "Mkt.RF       0.003008   0.001285   2.340   0.0199 *  \n",
       "SMB          0.005322   0.003209   1.659   0.0981 .  \n",
       "HML          0.005170   0.002828   1.828   0.0684 .  \n",
       "---\n",
       "Signif. codes:  0 '***' 0.001 '**' 0.01 '*' 0.05 '.' 0.1 ' ' 1\n",
       "\n",
       "Residual standard error: 0.04019 on 331 degrees of freedom\n",
       "Multiple R-squared:  0.06451,\tAdjusted R-squared:  0.05603 \n",
       "F-statistic: 7.608 on 3 and 331 DF,  p-value: 6.205e-05\n"
      ]
     },
     "metadata": {},
     "output_type": "display_data"
    }
   ],
   "source": [
    "Macy.lm <- lm(M ~ Mkt.RF + SMB + HML, data = fund2)\n",
    "summary(Macy.lm)"
   ]
  },
  {
   "cell_type": "code",
   "execution_count": 374,
   "metadata": {},
   "outputs": [
    {
     "name": "stdout",
     "output_type": "stream",
     "text": [
      "\n",
      "<table style=\"text-align:center\"><tr><td colspan=\"4\" style=\"border-bottom: 1px solid black\"></td></tr><tr><td style=\"text-align:left\"></td><td colspan=\"3\"><em>Dependent variable:</em></td></tr>\n",
      "<tr><td></td><td colspan=\"3\" style=\"border-bottom: 1px solid black\"></td></tr>\n",
      "<tr><td style=\"text-align:left\"></td><td>AAPL</td><td>BA</td><td>M</td></tr>\n",
      "<tr><td style=\"text-align:left\"></td><td>(1)</td><td>(2)</td><td>(3)</td></tr>\n",
      "<tr><td colspan=\"4\" style=\"border-bottom: 1px solid black\"></td></tr><tr><td style=\"text-align:left\">Mkt.RF</td><td>0.005<sup>***</sup></td><td>0.005<sup>***</sup></td><td>0.003<sup>**</sup></td></tr>\n",
      "<tr><td style=\"text-align:left\"></td><td>t = 12.027</td><td>t = 7.362</td><td>t = 2.340</td></tr>\n",
      "<tr><td style=\"text-align:left\"></td><td></td><td></td><td></td></tr>\n",
      "<tr><td style=\"text-align:left\">SMB</td><td>-0.002<sup>**</sup></td><td>0.003<sup>*</sup></td><td>0.005<sup>*</sup></td></tr>\n",
      "<tr><td style=\"text-align:left\"></td><td>t = -2.255</td><td>t = 1.834</td><td>t = 1.659</td></tr>\n",
      "<tr><td style=\"text-align:left\"></td><td></td><td></td><td></td></tr>\n",
      "<tr><td style=\"text-align:left\">HML</td><td>-0.004<sup>***</sup></td><td>-0.003<sup>**</sup></td><td>0.005<sup>*</sup></td></tr>\n",
      "<tr><td style=\"text-align:left\"></td><td>t = -4.434</td><td>t = -2.082</td><td>t = 1.828</td></tr>\n",
      "<tr><td style=\"text-align:left\"></td><td></td><td></td><td></td></tr>\n",
      "<tr><td style=\"text-align:left\">Constant</td><td>-0.008<sup>***</sup></td><td>-0.016<sup>***</sup></td><td>-0.073<sup>***</sup></td></tr>\n",
      "<tr><td style=\"text-align:left\"></td><td>t = -11.545</td><td>t = -13.333</td><td>t = -32.702</td></tr>\n",
      "<tr><td style=\"text-align:left\"></td><td></td><td></td><td></td></tr>\n",
      "<tr><td colspan=\"4\" style=\"border-bottom: 1px solid black\"></td></tr><tr><td style=\"text-align:left\">Observations</td><td>335</td><td>335</td><td>335</td></tr>\n",
      "<tr><td style=\"text-align:left\">R<sup>2</sup></td><td>0.315</td><td>0.153</td><td>0.065</td></tr>\n",
      "<tr><td style=\"text-align:left\">Adjusted R<sup>2</sup></td><td>0.309</td><td>0.145</td><td>0.056</td></tr>\n",
      "<tr><td style=\"text-align:left\">Residual Std. Error (df = 331)</td><td>0.013</td><td>0.022</td><td>0.040</td></tr>\n",
      "<tr><td style=\"text-align:left\">F Statistic (df = 3; 331)</td><td>50.748<sup>***</sup></td><td>19.942<sup>***</sup></td><td>7.608<sup>***</sup></td></tr>\n",
      "<tr><td colspan=\"4\" style=\"border-bottom: 1px solid black\"></td></tr><tr><td style=\"text-align:left\"><em>Note:</em></td><td colspan=\"3\" style=\"text-align:right\"><sup>*</sup>p<0.1; <sup>**</sup>p<0.05; <sup>***</sup>p<0.01</td></tr>\n",
      "</table>\n"
     ]
    }
   ],
   "source": [
    "stargazer(apple.lm, Boeing.lm, Macy.lm, align = TRUE, type = \"html\", out = \"factorModelFull.html\", report=\"vc*t\")"
   ]
  },
  {
   "cell_type": "code",
   "execution_count": null,
   "metadata": {},
   "outputs": [],
   "source": []
  },
  {
   "cell_type": "code",
   "execution_count": null,
   "metadata": {},
   "outputs": [],
   "source": []
  },
  {
   "cell_type": "code",
   "execution_count": null,
   "metadata": {},
   "outputs": [],
   "source": []
  },
  {
   "cell_type": "code",
   "execution_count": null,
   "metadata": {},
   "outputs": [],
   "source": []
  },
  {
   "cell_type": "code",
   "execution_count": null,
   "metadata": {},
   "outputs": [],
   "source": []
  },
  {
   "cell_type": "code",
   "execution_count": null,
   "metadata": {},
   "outputs": [],
   "source": []
  },
  {
   "cell_type": "code",
   "execution_count": null,
   "metadata": {},
   "outputs": [],
   "source": []
  },
  {
   "cell_type": "code",
   "execution_count": null,
   "metadata": {},
   "outputs": [],
   "source": []
  },
  {
   "cell_type": "code",
   "execution_count": null,
   "metadata": {},
   "outputs": [],
   "source": []
  },
  {
   "cell_type": "code",
   "execution_count": null,
   "metadata": {},
   "outputs": [],
   "source": []
  },
  {
   "cell_type": "code",
   "execution_count": null,
   "metadata": {},
   "outputs": [],
   "source": []
  }
 ],
 "metadata": {
  "kernelspec": {
   "display_name": "R",
   "language": "R",
   "name": "ir"
  },
  "language_info": {
   "codemirror_mode": "r",
   "file_extension": ".r",
   "mimetype": "text/x-r-source",
   "name": "R",
   "pygments_lexer": "r",
   "version": "3.6.1"
  }
 },
 "nbformat": 4,
 "nbformat_minor": 4
}
